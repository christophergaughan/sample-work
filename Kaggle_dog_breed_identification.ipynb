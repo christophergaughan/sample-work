{
  "nbformat": 4,
  "nbformat_minor": 0,
  "metadata": {
    "colab": {
      "name": "Kaggle-dog-breed-identification.ipynb",
      "provenance": [],
      "collapsed_sections": [],
      "machine_shape": "hm",
      "authorship_tag": "ABX9TyN8HTkuXoqww8p1oX0doGoC",
      "include_colab_link": true
    },
    "kernelspec": {
      "name": "python3",
      "display_name": "Python 3"
    },
    "language_info": {
      "name": "python"
    },
    "accelerator": "GPU"
  },
  "cells": [
    {
      "cell_type": "markdown",
      "metadata": {
        "id": "view-in-github",
        "colab_type": "text"
      },
      "source": [
        "<a href=\"https://colab.research.google.com/github/christophergaughan/sample-work/blob/master/Kaggle_dog_breed_identification.ipynb\" target=\"_parent\"><img src=\"https://colab.research.google.com/assets/colab-badge.svg\" alt=\"Open In Colab\"/></a>"
      ]
    },
    {
      "cell_type": "code",
      "metadata": {
        "id": "yn2k4XwCVIwN"
      },
      "source": [
        ""
      ],
      "execution_count": null,
      "outputs": []
    },
    {
      "cell_type": "markdown",
      "metadata": {
        "id": "rEvidre-XVOC"
      },
      "source": [
        "# Dog Breed Classification from Images Using TensorFlow\n",
        "***This notebook builds an end-to-end multi-class image classifier from Tensorflow 2.0 and  TensorFlow Hub***\n",
        "\n",
        "## 1. Problem\n",
        "\n",
        "Identifying a breed of a dog given the image of a dog.\n",
        "\n",
        "If I take a picture of a dog, can I use this program to identfy its breed??\n",
        "\n",
        "## 2. Data\n",
        "\n",
        "The data we're using comes from the Kaggle data set from the Dog Breed Identificstion Competitition: https://www.kaggle.com/c/dog-breed-identification\n",
        "\n",
        "## 3. Evaluation\n",
        "\n",
        "Classification (think of accuracy): Specifically the Kaggle competition was looking at \"Mult-Class_Log_Loss\"\n",
        "\n",
        "L_{\\log}(y, p) = -(y \\log (p) + (1 - y) \\log (1 - p))\n",
        "\n",
        "For each image in the test set, you must predict a probability for each of the different breeds. The file should contain a header and have the following format:\n",
        "\n",
        "> id,affenpinscher,afghan_hound,..,yorkshire_terrier\n",
        "000621fb3cbb32d8935728e48679680e,0.0083,0.0,...,0.0083\n",
        "etc.\n",
        "\n",
        "So the evaluation is a file with prediction probabilities for each dog breed of each test image.\n",
        "\n",
        "see:    \n",
        "https://www.kaggle.com/c/dog-breed-identification/overview/evaluation\n",
        "\n",
        "## 4. Features\n",
        "\n",
        "Some information about the data:\n",
        "\n",
        "* We're dealing with images (i.e. unstructured data). So it's probably best that we are using deep-learning/transfer learning\n",
        "* 120 breeds of dogs (i.e. 120 different classes)\n",
        "* There are 10222 unique values or training images (these images have labels) and 10358 images in the test set (i.e. images with NO LABELS b/c we'll want to predict them)\n",
        "\n",
        "\n",
        "\n"
      ]
    },
    {
      "cell_type": "code",
      "metadata": {
        "colab": {
          "base_uri": "https://localhost:8080/"
        },
        "id": "LIRCxaKTVM4D",
        "outputId": "1465a3cb-8fa0-42da-cf07-45d872ae6f2c"
      },
      "source": [
        "from google.colab import drive\n",
        "drive.mount('/gdrive')"
      ],
      "execution_count": 1,
      "outputs": [
        {
          "output_type": "stream",
          "name": "stdout",
          "text": [
            "Mounted at /gdrive\n"
          ]
        }
      ]
    },
    {
      "cell_type": "code",
      "metadata": {
        "colab": {
          "base_uri": "https://localhost:8080/"
        },
        "id": "ZNuxO83cVM4G",
        "outputId": "3fd4f73b-e042-40e6-fd97-feaed7cbce34"
      },
      "source": [
        "ls -la\n"
      ],
      "execution_count": 2,
      "outputs": [
        {
          "output_type": "stream",
          "name": "stdout",
          "text": [
            "total 16\n",
            "drwxr-xr-x 1 root root 4096 Nov 18 14:36 \u001b[0m\u001b[01;34m.\u001b[0m/\n",
            "drwxr-xr-x 1 root root 4096 Dec  1 02:22 \u001b[01;34m..\u001b[0m/\n",
            "drwxr-xr-x 4 root root 4096 Nov 18 14:35 \u001b[01;34m.config\u001b[0m/\n",
            "drwxr-xr-x 1 root root 4096 Nov 18 14:36 \u001b[01;34msample_data\u001b[0m/\n"
          ]
        }
      ]
    },
    {
      "cell_type": "code",
      "metadata": {
        "colab": {
          "base_uri": "https://localhost:8080/"
        },
        "id": "XZJPaENjVduZ",
        "outputId": "a0afbda4-7f57-4234-df80-49f6004861b8"
      },
      "source": [
        "cd ../"
      ],
      "execution_count": 3,
      "outputs": [
        {
          "output_type": "stream",
          "name": "stdout",
          "text": [
            "/\n"
          ]
        }
      ]
    },
    {
      "cell_type": "code",
      "metadata": {
        "colab": {
          "base_uri": "https://localhost:8080/"
        },
        "id": "rHJYm80oVnyu",
        "outputId": "33fc70f3-cf23-4cca-a01a-4a5303c27832"
      },
      "source": [
        "ls -la\n"
      ],
      "execution_count": 4,
      "outputs": [
        {
          "output_type": "stream",
          "name": "stdout",
          "text": [
            "total 116\n",
            "drwxr-xr-x   1 root root 4096 Dec  1 02:22 \u001b[0m\u001b[01;34m.\u001b[0m/\n",
            "drwxr-xr-x   1 root root 4096 Dec  1 02:22 \u001b[01;34m..\u001b[0m/\n",
            "drwxr-xr-x   1 root root 4096 Nov 18 14:27 \u001b[01;34mbin\u001b[0m/\n",
            "drwxr-xr-x   2 root root 4096 Apr 24  2018 \u001b[01;34mboot\u001b[0m/\n",
            "drwxr-xr-x   1 root root 4096 Nov 18 14:36 \u001b[01;34mcontent\u001b[0m/\n",
            "drwxr-xr-x   1 root root 4096 Nov 29 17:59 \u001b[01;34mdatalab\u001b[0m/\n",
            "drwxr-xr-x   6 root root  460 Dec  1 02:22 \u001b[01;34mdev\u001b[0m/\n",
            "-rwxr-xr-x   1 root root    0 Dec  1 02:01 \u001b[01;32m.dockerenv\u001b[0m*\n",
            "drwxr-xr-x   1 root root 4096 Dec  1 02:01 \u001b[01;34metc\u001b[0m/\n",
            "drwx------   5 root root 4096 Dec  1 02:22 \u001b[01;34mgdrive\u001b[0m/\n",
            "drwxr-xr-x   2 root root 4096 Apr 24  2018 \u001b[01;34mhome\u001b[0m/\n",
            "drwxr-xr-x   1 root root 4096 Nov 18 14:28 \u001b[01;34mlib\u001b[0m/\n",
            "drwxr-xr-x   2 root root 4096 Nov 18 14:15 \u001b[01;34mlib32\u001b[0m/\n",
            "drwxr-xr-x   1 root root 4096 Nov 18 14:15 \u001b[01;34mlib64\u001b[0m/\n",
            "drwxr-xr-x   2 root root 4096 Nov 19  2020 \u001b[01;34mmedia\u001b[0m/\n",
            "drwxr-xr-x   2 root root 4096 Nov 19  2020 \u001b[01;34mmnt\u001b[0m/\n",
            "drwxr-xr-x   1 root root 4096 Dec  1 02:01 \u001b[01;34mopt\u001b[0m/\n",
            "dr-xr-xr-x 205 root root    0 Dec  1 02:01 \u001b[01;34mproc\u001b[0m/\n",
            "drwxr-xr-x  14 root root 4096 Nov 18 14:29 \u001b[01;34mpython-apt\u001b[0m/\n",
            "drwx------   1 root root 4096 Dec  1 02:01 \u001b[01;34mroot\u001b[0m/\n",
            "drwxr-xr-x   1 root root 4096 Nov 18 14:18 \u001b[01;34mrun\u001b[0m/\n",
            "drwxr-xr-x   1 root root 4096 Dec  1 02:01 \u001b[01;34msbin\u001b[0m/\n",
            "drwxr-xr-x   2 root root 4096 Nov 19  2020 \u001b[01;34msrv\u001b[0m/\n",
            "dr-xr-xr-x  12 root root    0 Dec  1 02:01 \u001b[01;34msys\u001b[0m/\n",
            "drwxr-xr-x   3 root root 4096 Nov 29 17:56 \u001b[01;34mtensorflow-1.15.2\u001b[0m/\n",
            "drwxrwxrwt   1 root root 4096 Dec  1 02:22 \u001b[30;42mtmp\u001b[0m/\n",
            "drwxr-xr-x   1 root root 4096 Nov 29 17:59 \u001b[01;34mtools\u001b[0m/\n",
            "drwxr-xr-x   1 root root 4096 Dec  1 02:01 \u001b[01;34musr\u001b[0m/\n",
            "drwxr-xr-x   1 root root 4096 Dec  1 02:01 \u001b[01;34mvar\u001b[0m/\n"
          ]
        }
      ]
    },
    {
      "cell_type": "code",
      "metadata": {
        "colab": {
          "base_uri": "https://localhost:8080/"
        },
        "id": "y3lztpgXVpOA",
        "outputId": "377dd4a8-bf6c-4dac-cb19-a449734bc194"
      },
      "source": [
        "cd gdrive/"
      ],
      "execution_count": 5,
      "outputs": [
        {
          "output_type": "stream",
          "name": "stdout",
          "text": [
            "/gdrive\n"
          ]
        }
      ]
    },
    {
      "cell_type": "code",
      "metadata": {
        "colab": {
          "base_uri": "https://localhost:8080/"
        },
        "id": "E4pi0RI2Vus8",
        "outputId": "ff3000c8-e199-4828-f5aa-73feb18f1257"
      },
      "source": [
        "ls -ltr"
      ],
      "execution_count": 6,
      "outputs": [
        {
          "output_type": "stream",
          "name": "stdout",
          "text": [
            "total 4\n",
            "drwx------ 15 root root 4096 Dec  1 02:22 \u001b[0m\u001b[01;34mMyDrive\u001b[0m/\n"
          ]
        }
      ]
    },
    {
      "cell_type": "code",
      "metadata": {
        "colab": {
          "base_uri": "https://localhost:8080/"
        },
        "id": "YLY_o2fKVwG6",
        "outputId": "b3e22444-1138-4f12-890a-ba6f437bcbb8"
      },
      "source": [
        "cd MyDrive/"
      ],
      "execution_count": 7,
      "outputs": [
        {
          "output_type": "stream",
          "name": "stdout",
          "text": [
            "/gdrive/MyDrive\n"
          ]
        }
      ]
    },
    {
      "cell_type": "code",
      "metadata": {
        "colab": {
          "base_uri": "https://localhost:8080/"
        },
        "id": "hLavWEgnVyoD",
        "outputId": "b173c611-bc80-4c7a-e390-b96e049eb87c"
      },
      "source": [
        "ls -la\n"
      ],
      "execution_count": 8,
      "outputs": [
        {
          "output_type": "stream",
          "name": "stdout",
          "text": [
            "total 228341\n",
            "-rw------- 1 root root   257215 Nov  7  2014 '2014-07-03 11.26.24.jpg'\n",
            "-rw------- 1 root root  7462037 Jun 20  2017  321AA485-724B-4214-BC7B-E8397CD418E3-d94c3902-3536-4bc1-96e9-6d615b34a99b.mov\n",
            "-rw------- 1 root root  9704223 Jun 20  2017  42D58BA5-132D-4A56-AD0B-28C9DDB71A7D-5fab10bb-a7a6-457a-a62e-1984b579937f.mov\n",
            "-rw------- 1 root root  9609389 Jun 20  2017  42D58BA5-132D-4A56-AD0B-28C9DDB71A7D-8298803d-4113-4fc2-8224-d7029a51c504.mov\n",
            "-rw------- 1 root root  8018612 Jun 20  2017  90DB1D42-9616-46D4-B8E9-807F9F779FEE-8298803d-4113-4fc2-8224-d7029a51c504.mov\n",
            "-rw------- 1 root root  7926493 Jun 20  2017  90DB1D42-9616-46D4-B8E9-807F9F779FEE-d94c3902-3536-4bc1-96e9-6d615b34a99b.mov\n",
            "-rw------- 1 root root      151 May 31  2010  AccountSetupInfo_Chris.gdoc\n",
            "-rw------- 1 root root      162 Feb 20  2014 '~$ail this.docx'\n",
            "-rw------- 1 root root   131115 Jul  4 03:03  Albany_avocado.ipynb\n",
            "-rw------- 1 root root   189960 Oct 28 23:09 'Assay Design Take Home.pdf'\n",
            "-rw------- 1 root root  1989197 Oct  1  2019  avocado.csv\n",
            "drwx------ 2 root root     4096 Oct 24 19:24  \u001b[0m\u001b[01;34mBigHospital\u001b[0m/\n",
            "drwx------ 2 root root     4096 Feb 11  2021  \u001b[01;34mBioinformatics\u001b[0m/\n",
            "-rw------- 1 root root  1438422 Nov  5 18:22  Bio_rad_Process.zip\n",
            "drwx------ 2 root root     4096 Nov  6 03:15 \u001b[01;34m'Bio_rad_Process.zip (Unzipped Files)'\u001b[0m/\n",
            "-rw------- 1 root root   393858 Jul  4 04:11  BLM_cities.csv\n",
            "-rw------- 1 root root   115109 Aug  5  2019 'Boston Housing -- Introduction.ipynb'\n",
            "-rw------- 1 root root    99482 Jul 31 03:33 'Boston Housing -- Regularization.ipynb'\n",
            "-rw------- 1 root root    65054 Aug  5  2019 'Boston Housing -- Standardizing + Cross Validation.ipynb'\n",
            "-rw------- 1 root root    24199 Jun  9 19:57 'Cancer Genomics II: Exploring biomarkers of liver cancer in gene expression data using Python.ipynb'\n",
            "-rw------- 1 root root    16556 Feb 17  2021 'Chapter 3- Classification.ipynb'\n",
            "-rw------- 1 root root      151 Dec  9  2009  chris_250_v1.gdoc\n",
            "-rw------- 1 root root    50176 Dec  4  2014 'Chris_NIH biosketch Aug 2013.doc'\n",
            "-rw------- 1 root root      151 Sep  8  2009  Christopher_Gaughan_CV_Latest.gdoc\n",
            "-rw------- 1 root root   172591 May 20  2017  CHRISTOPHER_GAUGHAN.docx\n",
            "-rw------- 1 root root      151 Dec 18  2016  CHRISTOPHER_GAUGHAN.docx.gdoc\n",
            "-rw------- 1 root root    47616 Sep 15  2014  christopher_gaughan_phd.doc\n",
            "-rw------- 1 root root      151 Oct 19  2018  christopher_gaughan_phd.doc.gdoc\n",
            "-rw------- 1 root root    22380 Feb 12  2018 'Christopher Gaughan_Resume_Feb_2018.docx'\n",
            "-rw------- 1 root root    47063 May 19  2017 'C_L_Gaughan__May_Updated copy.docx'\n",
            "drwx------ 2 root root     4096 Aug  3  2019  \u001b[01;34mCode_Acad\u001b[0m/\n",
            "-rw------- 1 root root  7901872 Mar 10  2021  CoffeeBreakPythonSlicing.html\n",
            "-rw------- 1 root root  3653102 Mar 10  2021  CoffeeBreakPythonSlicing.pdf\n",
            "-rw------- 1 root root  1238703 May 15  2016  coi_disclosure.pdf\n",
            "drwx------ 2 root root     4096 May 15  2019 \u001b[01;34m'Colab Notebooks'\u001b[0m/\n",
            "-rw------- 1 root root    38189 May 23  2017 'Copy of C_L_Gaughan__May_Updated copy.docx'\n",
            "-rw------- 1 root root      151 Jul  3 21:22 'Copy of CT Town Geonames (go to File > Make a Copy).gsheet'\n",
            "-rw------- 1 root root      151 Jul 28  2009 'Copy of Scientific Article.gdoc'\n",
            "-rw------- 1 root root      151 Jul  3 21:09 'Copy of Smart Cleanup sample data (go to File > Make a Copy).gsheet'\n",
            "-rw------- 1 root root      151 Jul 27  2009 'Copy of to-do-list.gsheet'\n",
            "-rw------- 1 root root      151 Jul  3 22:20 'Copy of Transpose sample data (go to File > Make a Copy).gsheet'\n",
            "-rw------- 1 root root      151 Sep 21  2009 'Copy of Vaxinnate - Sr. Research Associate, Molecular Biology and.gdoc'\n",
            "-rw------- 1 root root     1517 Sep  7 19:16  covid_19_statewise.csv\n",
            "-rw------- 1 root root    25900 Sep  7 20:45 'Covid_in _India_by State.ipynb'\n",
            "-rw------- 1 root root 34709209 Feb  6  2016 'dane idea.band.zip'\n",
            "-rw------- 1 root root   930626 Aug  3  2019  Data_Cortex_Nuclear.xlsx\n",
            "-rw------- 1 root root      151 Mar 26  2020  Data.gsheet\n",
            "-rw------- 1 root root      151 Aug  4  2020  Dibyendu_code.gsheet\n",
            "-rw------- 1 root root    12100 Aug  4  2020  Dibyendu_code.xlsx\n",
            "-rw------- 1 root root    23452 Jan  2  2021  Fermi.ipynb\n",
            "-rw------- 1 root root      392 Sep  2 01:13 'First Steps with TensorFlow: Programming Exercises.ipynb'\n",
            "-rw------- 1 root root       19 Apr  5  2021  foo.txt\n",
            "-rw------- 1 root root      151 Jan 26  2018 'Gaughan_Christopher_RESUME_January_2018 (1).docx.gdoc'\n",
            "-rw------- 1 root root    34429 Jan 26  2018  Gaughan_Christopher_RESUME_January_2018.docx\n",
            "-rw------- 1 root root      151 Dec 15  2018  Gaughan_Christopher_RESUME_January_2018.docx.gdoc\n",
            "-rw------- 1 root root   165375 Dec 20  2019 'Helix Consultant Agreement Christopher Gaughan Dec 18 2019.pdf'\n",
            "-rw------- 1 root root    80286 Aug  3  2019  his_plots_pie_plots_etc.ipynb\n",
            "-rw------- 1 root root    72374 Nov  8  2014  holy_mackerel.jpg\n",
            "-rw------- 1 root root    27886 May  4  2021  HOML_Classification.ipynb\n",
            "-rw------- 1 root root   853324 Dec 27  2020  Housing.ipynb\n",
            "-rw------- 1 root root   436266 Aug 10  2020  Image_209.pdf\n",
            "-rw------- 1 root root  1139008 Jul  4  2020  IMG_0004.JPG\n",
            "-rw------- 1 root root   244980 Oct 10  2020 'IMG-0985 (1).jpeg'\n",
            "-rw------- 1 root root   244980 Oct 10  2020 'IMG-0985 (2).jpeg'\n",
            "-rw------- 1 root root   244980 Oct 10  2020  IMG-0985.jpeg\n",
            "drwx------ 2 root root     4096 Mar 10  2021  \u001b[01;34mIntermediate_Python\u001b[0m/\n",
            "-rw------- 1 root root     2326 Aug 30 20:52  Intermediate_Python_beyond.ipynb\n",
            "-rw------- 1 root root    32793 Jul  8  2014  Intuit.pdf\n",
            "-rw------- 1 root root      151 May 11  2019 'Invoice_INVJBA1110554 (1).gdoc'\n",
            "-rw------- 1 root root      151 May 11  2019  Invoice_INVJBA1110554.gdoc\n",
            "-rw------- 1 root root   111678 May 11  2019  Invoice_INVJBA1110554.pdf\n",
            "-rw------- 1 root root  1558695 Apr  3  2017 'IPM Np Packet.pdf'\n",
            "drwx------ 2 root root     4096 Nov  5 06:34  \u001b[01;34m.ipynb_checkpoints\u001b[0m/\n",
            "-rw------- 1 root root   107328 Jul 16  2015 'JJ Candidate Rep Agreement--Christopher Gaughan.docx'\n",
            "-rw------- 1 root root      151 Jul 16  2015 'JJ Candidate Rep Agreement--Christopher Gaughan.docx.gdoc'\n",
            "-rw------- 1 root root    11049 Nov 28 04:20 'Kaggle Dog_Breeds.ipynb'\n",
            "-rw------- 1 root root      151 Jul  3 18:05 'Kidnapped!.gdoc'\n",
            "-rw------- 1 root root      151 Jul 28  2009  man2v2.gdoc\n",
            "-rw------- 1 root root      151 Mar 16  2010  March17_Program1.gdoc\n",
            "-rw------- 1 root root   508489 Mar  7  2016 'Membrane proteins.docx'\n",
            "-rw------- 1 root root   267901 Aug  5  2019  ml-notebook-day-2-messy.ipynb\n",
            "-rw------- 1 root root   255850 Aug  5  2019  ml-notebook-messy.ipynb\n",
            "-rw------- 1 root root    24000 Nov 28 20:59 'MNIST- ANALYZE HANDWRITTEN DIGITS.ipynb'\n",
            "-rw------- 1 root root    98205 Jul  2 04:07  MNIST.ipynb\n",
            "-rw------- 1 root root   463850 Sep 29  2014 'Molecular Biology Research Associate Position.pdf'\n",
            "-rw------- 1 root root 12930302 Mar 14  2018 'MTF debridements.key'\n",
            "drwx------ 2 root root     4096 Mar 10  2021  \u001b[01;34mMy_WAR\u001b[0m/\n",
            "-rw------- 1 root root  2114840 Dec  7  2020  National_Poverty_Data_1607328804170.zip\n",
            "drwx------ 2 root root     4096 Jan 19  2021  \u001b[01;34mnotebooks\u001b[0m/\n",
            "-rw------- 1 root root    17068 Nov 18  2014  Order_Form_8498-DN.html\n",
            "-rw------- 1 root root     2875 Jul 19 05:26  pandas_merging_files.ipynb\n",
            "-rw------- 1 root root     3676 Dec 28  2020  Pandas_Notebook_Lambdas_change_columns.ipynb\n",
            "-rw------- 1 root root   337946 Jul 23  2014  photo.JPG\n",
            "-rw------- 1 root root      151 Aug  3  2019  photo.JPG.gdoc\n",
            "-rw------- 1 root root     1113 May 15  2019  PipelineOpt.ipynb\n",
            "-rw------- 1 root root     3132 Jul  9  2018 'PLAN OF ACTION.txt'\n",
            "-rw------- 1 root root      151 Nov 27  2014 'PLAN OF ACTION.txt.gdoc'\n",
            "-rw------- 1 root root   227696 Dec 10  2020  plot_linear_model_coefficient_interpretation.ipynb\n",
            "-rw------- 1 root root    92071 Aug  3  2019 'plotting 2.ipynb'\n",
            "-rw------- 1 root root      151 Dec  8  2009 'Position Profile - Assoc Medical Strategist Final.gdoc'\n",
            "-rw------- 1 root root    13660 Aug  3  2019  power_generated.png\n",
            "-rw------- 1 root root    28064 Jun  3 05:48  Python_data_Cleaning.ipynb\n",
            "-rw------- 1 root root   988337 Aug  5  2019 'Python Numpy-Pandas Intro.ipynb'\n",
            "-rw------- 1 root root      151 Jan 26  2019 'Resume (1).gdoc'\n",
            "-rw------- 1 root root      151 Jan 26  2019 'Resume (2).gdoc'\n",
            "-rw------- 1 root root   108763 Mar 20  2019  Resume320_C_Gaughan.docx\n",
            "-rw------- 1 root root      151 Mar 20  2019  Resume320_C_Gaughan.gdoc\n",
            "-rw------- 1 root root      151 Jan 26  2019 'Resume (3).gdoc'\n",
            "-rw------- 1 root root      151 Jan 26  2019  Resume.gdoc\n",
            "-rw------- 1 root root   493738 Jun  9 19:42  RTCGA_1.22.0.tgz\n",
            "-rw------- 1 root root      151 Dec  4  2014 'SBIR_Phase I_BBB_2014_Introduction.gdoc'\n",
            "-rw------- 1 root root      151 May  4  2021 'Script I.gdoc'\n",
            "-rw------- 1 root root  3429690 Jul 17  2020  seaweed.mp3\n",
            "-rw------- 1 root root 18883662 Sep 27  2020  seaweed.wav\n",
            "-rw------- 1 root root      151 Oct  1 04:44  Story.gdoc\n",
            "-rw------- 1 root root      574 Dec  8  2020  student.zip\n",
            "-rw------- 1 root root      151 Jan 22  2021  summ_eptot.gsheet\n",
            "drwx------ 2 root root     4096 Oct  8 04:52  \u001b[01;34msupervised-learning-w-python-master\u001b[0m/\n",
            "-rw------- 1 root root  5099794 Apr  1  2021  supervised-learning-w-python-master.zip\n",
            "drwx------ 2 root root     4096 Apr  1  2021 \u001b[01;34m'supervised-learning-w-python-master.zip (Unzipped Files)'\u001b[0m/\n",
            "-rw------- 1 root root   190679 Jul  6 01:22  SVM_partial.ipynb\n",
            "-rw------- 1 root root      151 Aug  3  2019 'the lord.gdoc'\n",
            "-rw------- 1 root root   723014 Dec 18  2018 'the lord.htm'\n",
            "-rw------- 1 root root   386731 Oct 20  2020  The_Modern_Python_Challenge.ipynb\n",
            "-rw------- 1 root root  2478951 Oct 19  2018  thing.ogg\n",
            "-rw------- 1 root root      151 May 27  2010 'Timesheet - Lab Support - Piscataway ju14.05.gdoc'\n",
            "-rw------- 1 root root   102400 Jun  7  2020  Titanic_data.tar\n",
            "drwx------ 2 root root     4096 Jun  7  2020 \u001b[01;34m'Titanic_data.zip (Unzipped Files)'\u001b[0m/\n",
            "-rw------- 1 root root   574809 Dec 20  2020  titanic.ipynb\n",
            "-rw------- 1 root root   177722 Aug  5  2019  titanic-notebook-messy.ipynb\n",
            "-rw------- 1 root root    75120 Oct 25 02:03 'Titanic Survivors.ipynb'\n",
            "-rw------- 1 root root  2621357 Feb 10  2016 'train - 2:10:16, 3.26 PM (1).mp3'\n",
            "-rw------- 1 root root  2621357 Feb 18  2016 'train - 2:10:16, 3.26 PM.mp3'\n",
            "drwx------ 2 root root     4096 Feb 19  2021  \u001b[01;34mUDEMY_Nerual_Networks_Deep_learning\u001b[0m/\n",
            "-rw------- 1 root root   775807 Feb 19  2021  UDEMY_OOP.ipynb\n",
            "-rw------- 1 root root    15194 Jul  4 02:30  Untitled10.ipynb\n",
            "-rw------- 1 root root     2567 Jul  4 03:16  Untitled11.ipynb\n",
            "-rw------- 1 root root     4622 Feb 18  2016 'untitled-[1.2].html'\n",
            "-rw------- 1 root root    13985 Jul 15 03:44  Untitled13.ipynb\n",
            "-rw------- 1 root root    42571 Jul 15 07:28  Untitled14.ipynb\n",
            "-rw------- 1 root root     4650 Jul 19 03:05  Untitled15.ipynb\n",
            "-rw------- 1 root root      352 Aug 27 00:32  Untitled16.ipynb\n",
            "-rw------- 1 root root       89 Aug  3  2019  untitled-1.py\n",
            "-rw------- 1 root root      317 Feb 23  2021  Untitled4.ipynb\n",
            "-rw------- 1 root root     3637 Mar 31  2021  Untitled5.ipynb\n",
            "-rw------- 1 root root    19572 Apr 21  2021  Untitled6.ipynb\n",
            "-rw------- 1 root root    73779 May  3  2021  Untitled7.ipynb\n",
            "-rw------- 1 root root    76479 May 28  2021  Untitled8.ipynb\n",
            "-rw------- 1 root root    42497 Jun 29 07:12  Untitled9.ipynb\n",
            "-rw------- 1 root root      151 Jun 14  2020 'Untitled document.gdoc'\n",
            "-rw------- 1 root root      151 Feb 22  2021 'Untitled Jam.gjam'\n",
            "-rw------- 1 root root      151 Mar 26  2020 'Untitled spreadsheet.gsheet'\n",
            "-rw------- 1 root root      151 Sep 21  2009 'Vaxinnate - Sr. Research Associate, Molecular Biology and Protein.gdoc'\n",
            "-rw------- 1 root root   119331 Jan 11  2017 'W9 Form.pdf'\n",
            "-rw------- 1 root root      151 Feb  8  2010 'What are we trying to accomplish rec.gdoc'\n",
            "-rw------- 1 root root    14227 Aug  3  2019  winning_word_lengths.png\n",
            "-rw------- 1 root root 37238757 Sep 29  2017 'wsayyyyyy out (1).band.zip'\n",
            "-rw------- 1 root root 37238757 Oct 14  2018 'wsayyyyyy out.band.zip'\n"
          ]
        }
      ]
    },
    {
      "cell_type": "code",
      "metadata": {
        "colab": {
          "base_uri": "https://localhost:8080/"
        },
        "id": "_8lVutWiV0Bm",
        "outputId": "f2da95c3-ecb0-4a8e-8e0d-d973b85ece26"
      },
      "source": [
        "cd UDEMY_Nerual_Networks_Deep_learning/"
      ],
      "execution_count": 9,
      "outputs": [
        {
          "output_type": "stream",
          "name": "stdout",
          "text": [
            "/gdrive/MyDrive/UDEMY_Nerual_Networks_Deep_learning\n"
          ]
        }
      ]
    },
    {
      "cell_type": "code",
      "metadata": {
        "colab": {
          "base_uri": "https://localhost:8080/"
        },
        "id": "yXRdNU4KV4pO",
        "outputId": "8e3c60af-9c02-477a-9ef2-37119116090a"
      },
      "source": [
        "ls -la"
      ],
      "execution_count": 10,
      "outputs": [
        {
          "output_type": "stream",
          "name": "stdout",
          "text": [
            "total 1137\n",
            "-rw------- 1 root root 289424 Feb 24  2021 'Copy of TF2.0 Loading Data.ipynb'\n",
            "-rw------- 1 root root  55849 Feb 22  2021  daily-minimum-temperatures-in-me.csv\n",
            "drwx------ 2 root root   4096 Nov 28 21:29  \u001b[0m\u001b[01;34mdog_test\u001b[0m/\n",
            "drwx------ 2 root root   4096 Nov 28 20:31  \u001b[01;34mdog_train\u001b[0m/\n",
            "-rw------- 1 root root 298986 Dec  1 02:22  Kaggle-dog-breed-identification.ipynb\n",
            "-rw------- 1 root root 482063 Nov 28 03:14  labels_Kaggle_dog.csv\n",
            "-rw------- 1 root root  28023 Feb 19  2021  TF2.0Intro.ipynb\n"
          ]
        }
      ]
    },
    {
      "cell_type": "code",
      "metadata": {
        "colab": {
          "base_uri": "https://localhost:8080/"
        },
        "id": "1cqSgQfOV50w",
        "outputId": "c42bb7bf-a34f-4c82-a9f9-48fcabbc1e6b"
      },
      "source": [
        "cd dog_test/"
      ],
      "execution_count": 11,
      "outputs": [
        {
          "output_type": "stream",
          "name": "stdout",
          "text": [
            "/gdrive/MyDrive/UDEMY_Nerual_Networks_Deep_learning/dog_test\n"
          ]
        }
      ]
    },
    {
      "cell_type": "code",
      "metadata": {
        "colab": {
          "base_uri": "https://localhost:8080/"
        },
        "id": "N40htFH5V-av",
        "outputId": "e1bdccc7-1fba-4957-bc0c-505f4812fd82"
      },
      "source": [
        "cd .."
      ],
      "execution_count": 12,
      "outputs": [
        {
          "output_type": "stream",
          "name": "stdout",
          "text": [
            "/gdrive/MyDrive/UDEMY_Nerual_Networks_Deep_learning\n"
          ]
        }
      ]
    },
    {
      "cell_type": "code",
      "metadata": {
        "colab": {
          "base_uri": "https://localhost:8080/"
        },
        "id": "SekR9p1sWKkK",
        "outputId": "344c7f14-7449-41fc-ecc4-3e2f1eec735e"
      },
      "source": [
        "ls -la"
      ],
      "execution_count": 13,
      "outputs": [
        {
          "output_type": "stream",
          "name": "stdout",
          "text": [
            "total 1137\n",
            "-rw------- 1 root root 289424 Feb 24  2021 'Copy of TF2.0 Loading Data.ipynb'\n",
            "-rw------- 1 root root  55849 Feb 22  2021  daily-minimum-temperatures-in-me.csv\n",
            "drwx------ 2 root root   4096 Nov 28 21:29  \u001b[0m\u001b[01;34mdog_test\u001b[0m/\n",
            "drwx------ 2 root root   4096 Nov 28 20:31  \u001b[01;34mdog_train\u001b[0m/\n",
            "-rw------- 1 root root 298986 Dec  1 02:22  Kaggle-dog-breed-identification.ipynb\n",
            "-rw------- 1 root root 482063 Nov 28 03:14  labels_Kaggle_dog.csv\n",
            "-rw------- 1 root root  28023 Feb 19  2021  TF2.0Intro.ipynb\n"
          ]
        }
      ]
    },
    {
      "cell_type": "code",
      "metadata": {
        "id": "EGnLjy0sgON5"
      },
      "source": [
        ""
      ],
      "execution_count": 13,
      "outputs": []
    },
    {
      "cell_type": "markdown",
      "metadata": {
        "id": "Gu4Jldn3gQW7"
      },
      "source": [
        "# Get our workspace ready\n",
        "* Import TensorFlow 2.x\n",
        "* Import TensorFlow Hub\n",
        "* Make sure we're using a GPU "
      ]
    },
    {
      "cell_type": "code",
      "metadata": {
        "colab": {
          "base_uri": "https://localhost:8080/"
        },
        "id": "-ucpNcHHWL1v",
        "outputId": "35fd4d29-28a7-493a-ff57-4f4aea086b81"
      },
      "source": [
        "# Import necessary tools \n",
        "import tensorflow as tf\n",
        "import tensorflow_hub as hub\n",
        "print(\"TF Version: \", tf.__version__)\n",
        "print(\"TF_Hub Version: \", hub.__version__)"
      ],
      "execution_count": 14,
      "outputs": [
        {
          "output_type": "stream",
          "name": "stdout",
          "text": [
            "TF Version:  2.7.0\n",
            "TF_Hub Version:  0.12.0\n"
          ]
        }
      ]
    },
    {
      "cell_type": "markdown",
      "metadata": {
        "id": "X8wQ84rcW_Op"
      },
      "source": [
        "# "
      ]
    },
    {
      "cell_type": "code",
      "metadata": {
        "colab": {
          "base_uri": "https://localhost:8080/"
        },
        "id": "TpaA9y8JjrSS",
        "outputId": "9baf6395-4036-4eb8-c3d1-568f9358d813"
      },
      "source": [
        "# check for GPU availability\n",
        "print(\"GPU\", \"available!\" if tf.config.list_physical_devices(\"GPU\") else \"not available\")"
      ],
      "execution_count": 15,
      "outputs": [
        {
          "output_type": "stream",
          "name": "stdout",
          "text": [
            "GPU available!\n"
          ]
        }
      ]
    },
    {
      "cell_type": "code",
      "metadata": {
        "colab": {
          "base_uri": "https://localhost:8080/"
        },
        "id": "3Wuzk5BllQ-8",
        "outputId": "a477e62b-7ff3-408d-db1b-32f8b380c352"
      },
      "source": [
        "ls -la"
      ],
      "execution_count": 16,
      "outputs": [
        {
          "output_type": "stream",
          "name": "stdout",
          "text": [
            "total 1137\n",
            "-rw------- 1 root root 289424 Feb 24  2021 'Copy of TF2.0 Loading Data.ipynb'\n",
            "-rw------- 1 root root  55849 Feb 22  2021  daily-minimum-temperatures-in-me.csv\n",
            "drwx------ 2 root root   4096 Nov 28 21:29  \u001b[0m\u001b[01;34mdog_test\u001b[0m/\n",
            "drwx------ 2 root root   4096 Nov 28 20:31  \u001b[01;34mdog_train\u001b[0m/\n",
            "-rw------- 1 root root 298986 Dec  1 02:22  Kaggle-dog-breed-identification.ipynb\n",
            "-rw------- 1 root root 482063 Nov 28 03:14  labels_Kaggle_dog.csv\n",
            "-rw------- 1 root root  28023 Feb 19  2021  TF2.0Intro.ipynb\n"
          ]
        }
      ]
    },
    {
      "cell_type": "code",
      "metadata": {
        "id": "-oTQA1KwnOvv"
      },
      "source": [
        "\n"
      ],
      "execution_count": 16,
      "outputs": []
    },
    {
      "cell_type": "markdown",
      "metadata": {
        "id": "JX13y4owrHwz"
      },
      "source": [
        "## Gettting our data ready (turning it into tensors)\n",
        "With all machine learning models, our data has to be in numerical format. Turning our data into tensors (numerical format).\n",
        "\n",
        "Let's start by accessing our data and checking the labels."
      ]
    },
    {
      "cell_type": "code",
      "metadata": {
        "id": "ZddtEGPxsoOX"
      },
      "source": [
        "import pandas as pd\n",
        "labels_csv = pd.read_csv(\"labels_Kaggle_dog.csv\")"
      ],
      "execution_count": 17,
      "outputs": []
    },
    {
      "cell_type": "code",
      "metadata": {
        "colab": {
          "base_uri": "https://localhost:8080/",
          "height": 206
        },
        "id": "66pg21Pps_Nr",
        "outputId": "efd56520-5334-44db-abef-4e35a808de56"
      },
      "source": [
        "labels_csv.head()"
      ],
      "execution_count": 18,
      "outputs": [
        {
          "output_type": "execute_result",
          "data": {
            "text/html": [
              "<div>\n",
              "<style scoped>\n",
              "    .dataframe tbody tr th:only-of-type {\n",
              "        vertical-align: middle;\n",
              "    }\n",
              "\n",
              "    .dataframe tbody tr th {\n",
              "        vertical-align: top;\n",
              "    }\n",
              "\n",
              "    .dataframe thead th {\n",
              "        text-align: right;\n",
              "    }\n",
              "</style>\n",
              "<table border=\"1\" class=\"dataframe\">\n",
              "  <thead>\n",
              "    <tr style=\"text-align: right;\">\n",
              "      <th></th>\n",
              "      <th>id</th>\n",
              "      <th>breed</th>\n",
              "    </tr>\n",
              "  </thead>\n",
              "  <tbody>\n",
              "    <tr>\n",
              "      <th>0</th>\n",
              "      <td>000bec180eb18c7604dcecc8fe0dba07</td>\n",
              "      <td>boston_bull</td>\n",
              "    </tr>\n",
              "    <tr>\n",
              "      <th>1</th>\n",
              "      <td>001513dfcb2ffafc82cccf4d8bbaba97</td>\n",
              "      <td>dingo</td>\n",
              "    </tr>\n",
              "    <tr>\n",
              "      <th>2</th>\n",
              "      <td>001cdf01b096e06d78e9e5112d419397</td>\n",
              "      <td>pekinese</td>\n",
              "    </tr>\n",
              "    <tr>\n",
              "      <th>3</th>\n",
              "      <td>00214f311d5d2247d5dfe4fe24b2303d</td>\n",
              "      <td>bluetick</td>\n",
              "    </tr>\n",
              "    <tr>\n",
              "      <th>4</th>\n",
              "      <td>0021f9ceb3235effd7fcde7f7538ed62</td>\n",
              "      <td>golden_retriever</td>\n",
              "    </tr>\n",
              "  </tbody>\n",
              "</table>\n",
              "</div>"
            ],
            "text/plain": [
              "                                 id             breed\n",
              "0  000bec180eb18c7604dcecc8fe0dba07       boston_bull\n",
              "1  001513dfcb2ffafc82cccf4d8bbaba97             dingo\n",
              "2  001cdf01b096e06d78e9e5112d419397          pekinese\n",
              "3  00214f311d5d2247d5dfe4fe24b2303d          bluetick\n",
              "4  0021f9ceb3235effd7fcde7f7538ed62  golden_retriever"
            ]
          },
          "metadata": {},
          "execution_count": 18
        }
      ]
    },
    {
      "cell_type": "code",
      "metadata": {
        "colab": {
          "base_uri": "https://localhost:8080/",
          "height": 174
        },
        "id": "conlkbuPtKB7",
        "outputId": "67ba3788-5adb-4754-fcc0-1039bf312066"
      },
      "source": [
        "labels_csv.describe()"
      ],
      "execution_count": 19,
      "outputs": [
        {
          "output_type": "execute_result",
          "data": {
            "text/html": [
              "<div>\n",
              "<style scoped>\n",
              "    .dataframe tbody tr th:only-of-type {\n",
              "        vertical-align: middle;\n",
              "    }\n",
              "\n",
              "    .dataframe tbody tr th {\n",
              "        vertical-align: top;\n",
              "    }\n",
              "\n",
              "    .dataframe thead th {\n",
              "        text-align: right;\n",
              "    }\n",
              "</style>\n",
              "<table border=\"1\" class=\"dataframe\">\n",
              "  <thead>\n",
              "    <tr style=\"text-align: right;\">\n",
              "      <th></th>\n",
              "      <th>id</th>\n",
              "      <th>breed</th>\n",
              "    </tr>\n",
              "  </thead>\n",
              "  <tbody>\n",
              "    <tr>\n",
              "      <th>count</th>\n",
              "      <td>10222</td>\n",
              "      <td>10222</td>\n",
              "    </tr>\n",
              "    <tr>\n",
              "      <th>unique</th>\n",
              "      <td>10222</td>\n",
              "      <td>120</td>\n",
              "    </tr>\n",
              "    <tr>\n",
              "      <th>top</th>\n",
              "      <td>625ff10f472290f567bc57641c8409dc</td>\n",
              "      <td>scottish_deerhound</td>\n",
              "    </tr>\n",
              "    <tr>\n",
              "      <th>freq</th>\n",
              "      <td>1</td>\n",
              "      <td>126</td>\n",
              "    </tr>\n",
              "  </tbody>\n",
              "</table>\n",
              "</div>"
            ],
            "text/plain": [
              "                                      id               breed\n",
              "count                              10222               10222\n",
              "unique                             10222                 120\n",
              "top     625ff10f472290f567bc57641c8409dc  scottish_deerhound\n",
              "freq                                   1                 126"
            ]
          },
          "metadata": {},
          "execution_count": 19
        }
      ]
    },
    {
      "cell_type": "code",
      "metadata": {
        "colab": {
          "base_uri": "https://localhost:8080/",
          "height": 750
        },
        "id": "5EwiDtGTtbTp",
        "outputId": "d75c5bf4-b41b-42bc-d09c-e76f95644cee"
      },
      "source": [
        " # How many images are there of each breed\n",
        " labels_csv[\"breed\"].value_counts().plot.bar(figsize=(20,10))"
      ],
      "execution_count": 20,
      "outputs": [
        {
          "output_type": "execute_result",
          "data": {
            "text/plain": [
              "<matplotlib.axes._subplots.AxesSubplot at 0x7fdd425b0950>"
            ]
          },
          "metadata": {},
          "execution_count": 20
        },
        {
          "output_type": "display_data",
          "data": {
            "image/png": "[encoded data removed]",
            "text/plain": [
              "<Figure size 1440x720 with 1 Axes>"
            ]
          },
          "metadata": {
            "needs_background": "light"
          }
        }
      ]
    },
    {
      "cell_type": "code",
      "metadata": {
        "colab": {
          "base_uri": "https://localhost:8080/"
        },
        "id": "QoKMu-fouZo9",
        "outputId": "d0c317d7-dc7b-4a54-b62e-07510dbee74d"
      },
      "source": [
        "labels_csv[\"breed\"].value_counts().median()"
      ],
      "execution_count": 21,
      "outputs": [
        {
          "output_type": "execute_result",
          "data": {
            "text/plain": [
              "82.0"
            ]
          },
          "metadata": {},
          "execution_count": 21
        }
      ]
    },
    {
      "cell_type": "code",
      "metadata": {
        "colab": {
          "base_uri": "https://localhost:8080/"
        },
        "id": "UquJn2njq5AK",
        "outputId": "20e02603-ec4a-480d-e7b7-65ed1f610348"
      },
      "source": [
        "# Create pathnames from image ID's\n",
        "filenames = [\"dog_train/\" + fname +\".jpg\" for fname in labels_csv[\"id\"]]\n",
        "\n",
        "# check the first 10\n",
        "filenames[:10]"
      ],
      "execution_count": 22,
      "outputs": [
        {
          "output_type": "execute_result",
          "data": {
            "text/plain": [
              "['dog_train/000bec180eb18c7604dcecc8fe0dba07.jpg',\n",
              " 'dog_train/001513dfcb2ffafc82cccf4d8bbaba97.jpg',\n",
              " 'dog_train/001cdf01b096e06d78e9e5112d419397.jpg',\n",
              " 'dog_train/00214f311d5d2247d5dfe4fe24b2303d.jpg',\n",
              " 'dog_train/0021f9ceb3235effd7fcde7f7538ed62.jpg',\n",
              " 'dog_train/002211c81b498ef88e1b40b9abf84e1d.jpg',\n",
              " 'dog_train/00290d3e1fdd27226ba27a8ce248ce85.jpg',\n",
              " 'dog_train/002a283a315af96eaea0e28e7163b21b.jpg',\n",
              " 'dog_train/003df8b8a8b05244b1d920bb6cf451f9.jpg',\n",
              " 'dog_train/0042188c895a2f14ef64a918ed9c7b64.jpg']"
            ]
          },
          "metadata": {},
          "execution_count": 22
        }
      ]
    },
    {
      "cell_type": "code",
      "metadata": {
        "colab": {
          "base_uri": "https://localhost:8080/"
        },
        "id": "d2pMBokGsr6k",
        "outputId": "4a6f3732-f09c-4774-9995-85a6bef02065"
      },
      "source": [
        "len(filenames)"
      ],
      "execution_count": 23,
      "outputs": [
        {
          "output_type": "execute_result",
          "data": {
            "text/plain": [
              "10222"
            ]
          },
          "metadata": {},
          "execution_count": 23
        }
      ]
    },
    {
      "cell_type": "code",
      "metadata": {
        "colab": {
          "base_uri": "https://localhost:8080/",
          "height": 392
        },
        "id": "OIyLVC5uvTBO",
        "outputId": "eacd087f-bab7-4969-b26d-b5517b4ad0d8"
      },
      "source": [
        " # Let's view an image\n",
        " from IPython.display import Image\n",
        " Image(\"dog_train/001513dfcb2ffafc82cccf4d8bbaba97.jpg\")"
      ],
      "execution_count": 24,
      "outputs": [
        {
          "output_type": "execute_result",
          "data": {
            "image/jpeg": "[encoded data removed]",
            "text/plain": [
              "<IPython.core.display.Image object>"
            ]
          },
          "metadata": {},
          "execution_count": 24
        }
      ]
    },
    {
      "cell_type": "code",
      "metadata": {
        "id": "fl1EZMrDw0br",
        "colab": {
          "base_uri": "https://localhost:8080/"
        },
        "outputId": "c107c359-cf6f-4b8f-b995-f6122c6711bd"
      },
      "source": [
        "import os\n",
        "if len(os.listdir(\"dog_train/\")) == len(filenames):\n",
        "    print(\"Filenames match actual amount of files. Proceed\")\n",
        "else:\n",
        "    print(\"Filenames do not match actual amount of files. Check target directory\")"
      ],
      "execution_count": 25,
      "outputs": [
        {
          "output_type": "stream",
          "name": "stdout",
          "text": [
            "Filenames do not match actual amount of files. Check target directory\n"
          ]
        }
      ]
    },
    {
      "cell_type": "markdown",
      "metadata": {
        "id": "ZSWb2kQpx-yt"
      },
      "source": [
        "### Getting Images and their labels\n",
        "\n",
        "Let's get a list of all our image file pathnames"
      ]
    },
    {
      "cell_type": "code",
      "metadata": {
        "colab": {
          "base_uri": "https://localhost:8080/",
          "height": 206
        },
        "id": "MK6hW8mWyTui",
        "outputId": "b95b9e7b-04a0-4947-d4b2-eeb2b672edc6"
      },
      "source": [
        "labels_csv.head()"
      ],
      "execution_count": 26,
      "outputs": [
        {
          "output_type": "execute_result",
          "data": {
            "text/html": [
              "<div>\n",
              "<style scoped>\n",
              "    .dataframe tbody tr th:only-of-type {\n",
              "        vertical-align: middle;\n",
              "    }\n",
              "\n",
              "    .dataframe tbody tr th {\n",
              "        vertical-align: top;\n",
              "    }\n",
              "\n",
              "    .dataframe thead th {\n",
              "        text-align: right;\n",
              "    }\n",
              "</style>\n",
              "<table border=\"1\" class=\"dataframe\">\n",
              "  <thead>\n",
              "    <tr style=\"text-align: right;\">\n",
              "      <th></th>\n",
              "      <th>id</th>\n",
              "      <th>breed</th>\n",
              "    </tr>\n",
              "  </thead>\n",
              "  <tbody>\n",
              "    <tr>\n",
              "      <th>0</th>\n",
              "      <td>000bec180eb18c7604dcecc8fe0dba07</td>\n",
              "      <td>boston_bull</td>\n",
              "    </tr>\n",
              "    <tr>\n",
              "      <th>1</th>\n",
              "      <td>001513dfcb2ffafc82cccf4d8bbaba97</td>\n",
              "      <td>dingo</td>\n",
              "    </tr>\n",
              "    <tr>\n",
              "      <th>2</th>\n",
              "      <td>001cdf01b096e06d78e9e5112d419397</td>\n",
              "      <td>pekinese</td>\n",
              "    </tr>\n",
              "    <tr>\n",
              "      <th>3</th>\n",
              "      <td>00214f311d5d2247d5dfe4fe24b2303d</td>\n",
              "      <td>bluetick</td>\n",
              "    </tr>\n",
              "    <tr>\n",
              "      <th>4</th>\n",
              "      <td>0021f9ceb3235effd7fcde7f7538ed62</td>\n",
              "      <td>golden_retriever</td>\n",
              "    </tr>\n",
              "  </tbody>\n",
              "</table>\n",
              "</div>"
            ],
            "text/plain": [
              "                                 id             breed\n",
              "0  000bec180eb18c7604dcecc8fe0dba07       boston_bull\n",
              "1  001513dfcb2ffafc82cccf4d8bbaba97             dingo\n",
              "2  001cdf01b096e06d78e9e5112d419397          pekinese\n",
              "3  00214f311d5d2247d5dfe4fe24b2303d          bluetick\n",
              "4  0021f9ceb3235effd7fcde7f7538ed62  golden_retriever"
            ]
          },
          "metadata": {},
          "execution_count": 26
        }
      ]
    },
    {
      "cell_type": "code",
      "metadata": {
        "colab": {
          "base_uri": "https://localhost:8080/"
        },
        "id": "1RCd_W_Lygv3",
        "outputId": "96cd38ae-4a0d-40e8-9026-cc4838b589eb"
      },
      "source": [
        "# Create pathnames from image ID's\n",
        "filenames = [\"dog_train/\"+ fname+\".jpg\" for fname in labels_csv[\"id\"]]\n",
        "\n",
        "# Check the first ten\n",
        "filenames[:10]"
      ],
      "execution_count": 27,
      "outputs": [
        {
          "output_type": "execute_result",
          "data": {
            "text/plain": [
              "['dog_train/000bec180eb18c7604dcecc8fe0dba07.jpg',\n",
              " 'dog_train/001513dfcb2ffafc82cccf4d8bbaba97.jpg',\n",
              " 'dog_train/001cdf01b096e06d78e9e5112d419397.jpg',\n",
              " 'dog_train/00214f311d5d2247d5dfe4fe24b2303d.jpg',\n",
              " 'dog_train/0021f9ceb3235effd7fcde7f7538ed62.jpg',\n",
              " 'dog_train/002211c81b498ef88e1b40b9abf84e1d.jpg',\n",
              " 'dog_train/00290d3e1fdd27226ba27a8ce248ce85.jpg',\n",
              " 'dog_train/002a283a315af96eaea0e28e7163b21b.jpg',\n",
              " 'dog_train/003df8b8a8b05244b1d920bb6cf451f9.jpg',\n",
              " 'dog_train/0042188c895a2f14ef64a918ed9c7b64.jpg']"
            ]
          },
          "metadata": {},
          "execution_count": 27
        }
      ]
    },
    {
      "cell_type": "code",
      "metadata": {
        "id": "15rgeMyjzdLf",
        "colab": {
          "base_uri": "https://localhost:8080/"
        },
        "outputId": "2fbe75f6-8327-40d0-a572-c8a779394a3e"
      },
      "source": [
        "len(\"dog_train/\")"
      ],
      "execution_count": 28,
      "outputs": [
        {
          "output_type": "execute_result",
          "data": {
            "text/plain": [
              "10"
            ]
          },
          "metadata": {},
          "execution_count": 28
        }
      ]
    },
    {
      "cell_type": "code",
      "metadata": {
        "colab": {
          "base_uri": "https://localhost:8080/"
        },
        "id": "MeN-FeZfaFdu",
        "outputId": "276c0260-969e-4d99-d715-119d1beb253f"
      },
      "source": [
        "len(filenames)"
      ],
      "execution_count": 29,
      "outputs": [
        {
          "output_type": "execute_result",
          "data": {
            "text/plain": [
              "10222"
            ]
          },
          "metadata": {},
          "execution_count": 29
        }
      ]
    },
    {
      "cell_type": "code",
      "metadata": {
        "colab": {
          "base_uri": "https://localhost:8080/"
        },
        "id": "qiGN3PsjaR9i",
        "outputId": "a7e92369-a1d3-45a0-d688-a6baecc8234a"
      },
      "source": [
        "# Check whether number of files matches number of actual image files\n",
        "import os\n",
        "if len(os.listdir(\"dog_train/\")) == len(filenames):\n",
        "    print(\"filenames match actual amount of files. You may proceed with your useless life.\")\n",
        "else:\n",
        "    print(\"Filenames do not match actual amount of files, check the target directory\")"
      ],
      "execution_count": 30,
      "outputs": [
        {
          "output_type": "stream",
          "name": "stdout",
          "text": [
            "Filenames do not match actual amount of files, check the target directory\n"
          ]
        }
      ]
    },
    {
      "cell_type": "code",
      "metadata": {
        "colab": {
          "base_uri": "https://localhost:8080/",
          "height": 516
        },
        "id": "qLAogOmDgXnb",
        "outputId": "aa3aea04-7c67-4e7e-8c0a-1c1cd5452fef"
      },
      "source": [
        "# One more check\n",
        "Image(filenames[9001])"
      ],
      "execution_count": 31,
      "outputs": [
        {
          "output_type": "execute_result",
          "data": {
            "image/jpeg": "[encoded data removed]",
            "text/plain": [
              "<IPython.core.display.Image object>"
            ]
          },
          "metadata": {},
          "execution_count": 31
        }
      ]
    },
    {
      "cell_type": "code",
      "metadata": {
        "colab": {
          "base_uri": "https://localhost:8080/"
        },
        "id": "oHapmAnlwuoB",
        "outputId": "1392dee6-4710-4afe-d57b-83e60602c760"
      },
      "source": [
        "from IPython.display import Image\n",
        "print(labels_csv[\"breed\"][9001])\n"
      ],
      "execution_count": 32,
      "outputs": [
        {
          "output_type": "stream",
          "name": "stdout",
          "text": [
            "doberman\n"
          ]
        }
      ]
    },
    {
      "cell_type": "code",
      "metadata": {
        "colab": {
          "base_uri": "https://localhost:8080/"
        },
        "id": "7-0JKnN2zMQj",
        "outputId": "daff2972-7740-492a-933c-02aa6a61d63b"
      },
      "source": [
        "len(os.listdir(\"dog_train/\"))"
      ],
      "execution_count": 33,
      "outputs": [
        {
          "output_type": "execute_result",
          "data": {
            "text/plain": [
              "10242"
            ]
          },
          "metadata": {},
          "execution_count": 33
        }
      ]
    },
    {
      "cell_type": "code",
      "metadata": {
        "id": "Pf10EumM3ubt"
      },
      "source": [
        ""
      ],
      "execution_count": 33,
      "outputs": []
    },
    {
      "cell_type": "markdown",
      "metadata": {
        "id": "CbR_tUF9GavW"
      },
      "source": [
        "## Now we must turn the labels into numbers\n",
        "all the labels are in the form labels.csv\n"
      ]
    },
    {
      "cell_type": "code",
      "metadata": {
        "colab": {
          "base_uri": "https://localhost:8080/"
        },
        "id": "dSCQuhIPGgqj",
        "outputId": "62f631c4-bce4-445d-f522-190e75e19f7d"
      },
      "source": [
        "import numpy as np\n",
        "\n",
        "labels = labels_csv[\"breed\"].to_numpy()\n",
        "# labels = np.array(labels) #does same thing as above\n",
        "labels"
      ],
      "execution_count": 34,
      "outputs": [
        {
          "output_type": "execute_result",
          "data": {
            "text/plain": [
              "array(['boston_bull', 'dingo', 'pekinese', ..., 'airedale',\n",
              "       'miniature_pinscher', 'chesapeake_bay_retriever'], dtype=object)"
            ]
          },
          "metadata": {},
          "execution_count": 34
        }
      ]
    },
    {
      "cell_type": "code",
      "metadata": {
        "colab": {
          "base_uri": "https://localhost:8080/"
        },
        "id": "5GbjCb34HICb",
        "outputId": "f373b4ff-9e7d-43f2-9814-bf657ad68c70"
      },
      "source": [
        "len(labels)"
      ],
      "execution_count": 35,
      "outputs": [
        {
          "output_type": "execute_result",
          "data": {
            "text/plain": [
              "10222"
            ]
          },
          "metadata": {},
          "execution_count": 35
        }
      ]
    },
    {
      "cell_type": "code",
      "metadata": {
        "colab": {
          "base_uri": "https://localhost:8080/"
        },
        "id": "mdfluu8eHreD",
        "outputId": "e56b3835-31f6-4a61-a110-f6e1b52e5380"
      },
      "source": [
        "# See if number of labels matxhes the number of filenames\n",
        "if len(labels) == len(filenames):\n",
        "    print(\"Number of labels matches number of filenames\")\n",
        "else:\n",
        "    print(\"Number of labels does not match number of filenames, check data directories\")"
      ],
      "execution_count": 36,
      "outputs": [
        {
          "output_type": "stream",
          "name": "stdout",
          "text": [
            "Number of labels matches number of filenames\n"
          ]
        }
      ]
    },
    {
      "cell_type": "code",
      "metadata": {
        "id": "G_2l41DbJMS4"
      },
      "source": [
        ""
      ],
      "execution_count": 36,
      "outputs": []
    },
    {
      "cell_type": "markdown",
      "metadata": {
        "id": "4TvzcZYUJVoo"
      },
      "source": [
        "## Remember: Strings are not accepted in machine learning models. How do we find the unique labels??"
      ]
    },
    {
      "cell_type": "code",
      "metadata": {
        "colab": {
          "base_uri": "https://localhost:8080/"
        },
        "id": "hVhK1xSVJc6g",
        "outputId": "fcd10918-fc87-47a1-cd58-21ef74ecf080"
      },
      "source": [
        "# Find the unique labels\n",
        "unique_breeds = np.unique(labels)\n",
        "unique_breeds "
      ],
      "execution_count": 37,
      "outputs": [
        {
          "output_type": "execute_result",
          "data": {
            "text/plain": [
              "array(['affenpinscher', 'afghan_hound', 'african_hunting_dog', 'airedale',\n",
              "       'american_staffordshire_terrier', 'appenzeller',\n",
              "       'australian_terrier', 'basenji', 'basset', 'beagle',\n",
              "       'bedlington_terrier', 'bernese_mountain_dog',\n",
              "       'black-and-tan_coonhound', 'blenheim_spaniel', 'bloodhound',\n",
              "       'bluetick', 'border_collie', 'border_terrier', 'borzoi',\n",
              "       'boston_bull', 'bouvier_des_flandres', 'boxer',\n",
              "       'brabancon_griffon', 'briard', 'brittany_spaniel', 'bull_mastiff',\n",
              "       'cairn', 'cardigan', 'chesapeake_bay_retriever', 'chihuahua',\n",
              "       'chow', 'clumber', 'cocker_spaniel', 'collie',\n",
              "       'curly-coated_retriever', 'dandie_dinmont', 'dhole', 'dingo',\n",
              "       'doberman', 'english_foxhound', 'english_setter',\n",
              "       'english_springer', 'entlebucher', 'eskimo_dog',\n",
              "       'flat-coated_retriever', 'french_bulldog', 'german_shepherd',\n",
              "       'german_short-haired_pointer', 'giant_schnauzer',\n",
              "       'golden_retriever', 'gordon_setter', 'great_dane',\n",
              "       'great_pyrenees', 'greater_swiss_mountain_dog', 'groenendael',\n",
              "       'ibizan_hound', 'irish_setter', 'irish_terrier',\n",
              "       'irish_water_spaniel', 'irish_wolfhound', 'italian_greyhound',\n",
              "       'japanese_spaniel', 'keeshond', 'kelpie', 'kerry_blue_terrier',\n",
              "       'komondor', 'kuvasz', 'labrador_retriever', 'lakeland_terrier',\n",
              "       'leonberg', 'lhasa', 'malamute', 'malinois', 'maltese_dog',\n",
              "       'mexican_hairless', 'miniature_pinscher', 'miniature_poodle',\n",
              "       'miniature_schnauzer', 'newfoundland', 'norfolk_terrier',\n",
              "       'norwegian_elkhound', 'norwich_terrier', 'old_english_sheepdog',\n",
              "       'otterhound', 'papillon', 'pekinese', 'pembroke', 'pomeranian',\n",
              "       'pug', 'redbone', 'rhodesian_ridgeback', 'rottweiler',\n",
              "       'saint_bernard', 'saluki', 'samoyed', 'schipperke',\n",
              "       'scotch_terrier', 'scottish_deerhound', 'sealyham_terrier',\n",
              "       'shetland_sheepdog', 'shih-tzu', 'siberian_husky', 'silky_terrier',\n",
              "       'soft-coated_wheaten_terrier', 'staffordshire_bullterrier',\n",
              "       'standard_poodle', 'standard_schnauzer', 'sussex_spaniel',\n",
              "       'tibetan_mastiff', 'tibetan_terrier', 'toy_poodle', 'toy_terrier',\n",
              "       'vizsla', 'walker_hound', 'weimaraner', 'welsh_springer_spaniel',\n",
              "       'west_highland_white_terrier', 'whippet',\n",
              "       'wire-haired_fox_terrier', 'yorkshire_terrier'], dtype=object)"
            ]
          },
          "metadata": {},
          "execution_count": 37
        }
      ]
    },
    {
      "cell_type": "code",
      "metadata": {
        "colab": {
          "base_uri": "https://localhost:8080/"
        },
        "id": "ql8DznOAKTdy",
        "outputId": "53116b61-13cf-4500-c4bd-14f77d151312"
      },
      "source": [
        "len(unique_breeds)"
      ],
      "execution_count": 38,
      "outputs": [
        {
          "output_type": "execute_result",
          "data": {
            "text/plain": [
              "120"
            ]
          },
          "metadata": {},
          "execution_count": 38
        }
      ]
    },
    {
      "cell_type": "markdown",
      "metadata": {
        "id": "ol265lt7KsVO"
      },
      "source": [
        "## How would we turn a single array into an array of booleans?"
      ]
    },
    {
      "cell_type": "code",
      "metadata": {
        "colab": {
          "base_uri": "https://localhost:8080/"
        },
        "id": "6SAkWX9aKi_R",
        "outputId": "5e31669d-c3ac-4fd7-c94d-2f3a3d9a0fc4"
      },
      "source": [
        "print(labels[0])\n",
        "labels[0] == unique_breeds"
      ],
      "execution_count": 39,
      "outputs": [
        {
          "output_type": "stream",
          "name": "stdout",
          "text": [
            "boston_bull\n"
          ]
        },
        {
          "output_type": "execute_result",
          "data": {
            "text/plain": [
              "array([False, False, False, False, False, False, False, False, False,\n",
              "       False, False, False, False, False, False, False, False, False,\n",
              "       False,  True, False, False, False, False, False, False, False,\n",
              "       False, False, False, False, False, False, False, False, False,\n",
              "       False, False, False, False, False, False, False, False, False,\n",
              "       False, False, False, False, False, False, False, False, False,\n",
              "       False, False, False, False, False, False, False, False, False,\n",
              "       False, False, False, False, False, False, False, False, False,\n",
              "       False, False, False, False, False, False, False, False, False,\n",
              "       False, False, False, False, False, False, False, False, False,\n",
              "       False, False, False, False, False, False, False, False, False,\n",
              "       False, False, False, False, False, False, False, False, False,\n",
              "       False, False, False, False, False, False, False, False, False,\n",
              "       False, False, False])"
            ]
          },
          "metadata": {},
          "execution_count": 39
        }
      ]
    },
    {
      "cell_type": "code",
      "metadata": {
        "id": "IJgb-Ep_MqsX"
      },
      "source": [
        ""
      ],
      "execution_count": 39,
      "outputs": []
    },
    {
      "cell_type": "markdown",
      "metadata": {
        "id": "AfTWTP0ANBwg"
      },
      "source": [
        "### Turn every label into a boolean array (seems computationally expenasive?)"
      ]
    },
    {
      "cell_type": "code",
      "metadata": {
        "colab": {
          "base_uri": "https://localhost:8080/"
        },
        "id": "ncewNLFrNJ4s",
        "outputId": "bbc8c907-74f4-48ed-e389-d71baa752a15"
      },
      "source": [
        "boolean_labels = [label == unique_breeds for label in labels]\n",
        "boolean_labels[:2]"
      ],
      "execution_count": 40,
      "outputs": [
        {
          "output_type": "execute_result",
          "data": {
            "text/plain": [
              "[array([False, False, False, False, False, False, False, False, False,\n",
              "        False, False, False, False, False, False, False, False, False,\n",
              "        False,  True, False, False, False, False, False, False, False,\n",
              "        False, False, False, False, False, False, False, False, False,\n",
              "        False, False, False, False, False, False, False, False, False,\n",
              "        False, False, False, False, False, False, False, False, False,\n",
              "        False, False, False, False, False, False, False, False, False,\n",
              "        False, False, False, False, False, False, False, False, False,\n",
              "        False, False, False, False, False, False, False, False, False,\n",
              "        False, False, False, False, False, False, False, False, False,\n",
              "        False, False, False, False, False, False, False, False, False,\n",
              "        False, False, False, False, False, False, False, False, False,\n",
              "        False, False, False, False, False, False, False, False, False,\n",
              "        False, False, False]),\n",
              " array([False, False, False, False, False, False, False, False, False,\n",
              "        False, False, False, False, False, False, False, False, False,\n",
              "        False, False, False, False, False, False, False, False, False,\n",
              "        False, False, False, False, False, False, False, False, False,\n",
              "        False,  True, False, False, False, False, False, False, False,\n",
              "        False, False, False, False, False, False, False, False, False,\n",
              "        False, False, False, False, False, False, False, False, False,\n",
              "        False, False, False, False, False, False, False, False, False,\n",
              "        False, False, False, False, False, False, False, False, False,\n",
              "        False, False, False, False, False, False, False, False, False,\n",
              "        False, False, False, False, False, False, False, False, False,\n",
              "        False, False, False, False, False, False, False, False, False,\n",
              "        False, False, False, False, False, False, False, False, False,\n",
              "        False, False, False])]"
            ]
          },
          "metadata": {},
          "execution_count": 40
        }
      ]
    },
    {
      "cell_type": "code",
      "metadata": {
        "colab": {
          "base_uri": "https://localhost:8080/"
        },
        "id": "7yZ_VIPtNr3Z",
        "outputId": "46db02d4-2bb6-465e-9a42-e7e554fda67a"
      },
      "source": [
        "len(boolean_labels)"
      ],
      "execution_count": 41,
      "outputs": [
        {
          "output_type": "execute_result",
          "data": {
            "text/plain": [
              "10222"
            ]
          },
          "metadata": {},
          "execution_count": 41
        }
      ]
    },
    {
      "cell_type": "code",
      "metadata": {
        "id": "V4PxZNuROZbB"
      },
      "source": [
        ""
      ],
      "execution_count": 41,
      "outputs": []
    },
    {
      "cell_type": "markdown",
      "metadata": {
        "id": "kkj-Pk-rOv2Z"
      },
      "source": [
        "### Turning Boolean Arrays into Integers"
      ]
    },
    {
      "cell_type": "code",
      "metadata": {
        "colab": {
          "base_uri": "https://localhost:8080/"
        },
        "id": "LiHvK5gsO0EV",
        "outputId": "b2f0b023-e832-404a-e911-c8a216ad7846"
      },
      "source": [
        "print(labels[0]) # original labels"
      ],
      "execution_count": 42,
      "outputs": [
        {
          "output_type": "stream",
          "name": "stdout",
          "text": [
            "boston_bull\n"
          ]
        }
      ]
    },
    {
      "cell_type": "code",
      "metadata": {
        "colab": {
          "base_uri": "https://localhost:8080/"
        },
        "id": "BeOtfE23O9QD",
        "outputId": "5b82e72a-2c2a-4b1d-828a-f104691c6cd5"
      },
      "source": [
        "print(np.where(unique_breeds == labels[0])) # index where label occurs"
      ],
      "execution_count": 43,
      "outputs": [
        {
          "output_type": "stream",
          "name": "stdout",
          "text": [
            "(array([19]),)\n"
          ]
        }
      ]
    },
    {
      "cell_type": "code",
      "metadata": {
        "colab": {
          "base_uri": "https://localhost:8080/"
        },
        "id": "5KqAZjkSPSeg",
        "outputId": "1da32c11-acbc-4f35-c823-c80c0aec2f66"
      },
      "source": [
        "print(boolean_labels[0].argmax()) # index where label occurs in boolean array"
      ],
      "execution_count": 44,
      "outputs": [
        {
          "output_type": "stream",
          "name": "stdout",
          "text": [
            "19\n"
          ]
        }
      ]
    },
    {
      "cell_type": "code",
      "metadata": {
        "colab": {
          "base_uri": "https://localhost:8080/"
        },
        "id": "QHYN8kYdP1j-",
        "outputId": "784bbec4-9af7-431b-fba3-a1d36cd646d8"
      },
      "source": [
        "print(boolean_labels[0].astype(int)) # there should be a 1 where the sample label is"
      ],
      "execution_count": 45,
      "outputs": [
        {
          "output_type": "stream",
          "name": "stdout",
          "text": [
            "[0 0 0 0 0 0 0 0 0 0 0 0 0 0 0 0 0 0 0 1 0 0 0 0 0 0 0 0 0 0 0 0 0 0 0 0 0\n",
            " 0 0 0 0 0 0 0 0 0 0 0 0 0 0 0 0 0 0 0 0 0 0 0 0 0 0 0 0 0 0 0 0 0 0 0 0 0\n",
            " 0 0 0 0 0 0 0 0 0 0 0 0 0 0 0 0 0 0 0 0 0 0 0 0 0 0 0 0 0 0 0 0 0 0 0 0 0\n",
            " 0 0 0 0 0 0 0 0 0]\n"
          ]
        }
      ]
    },
    {
      "cell_type": "code",
      "metadata": {
        "colab": {
          "base_uri": "https://localhost:8080/"
        },
        "id": "F8Gnu8DlQPKg",
        "outputId": "1e2d6a1f-e8d2-42f0-b5d4-f728a4267475"
      },
      "source": [
        "print(labels[2])\n",
        "print(boolean_labels[2].astype(int))"
      ],
      "execution_count": 46,
      "outputs": [
        {
          "output_type": "stream",
          "name": "stdout",
          "text": [
            "pekinese\n",
            "[0 0 0 0 0 0 0 0 0 0 0 0 0 0 0 0 0 0 0 0 0 0 0 0 0 0 0 0 0 0 0 0 0 0 0 0 0\n",
            " 0 0 0 0 0 0 0 0 0 0 0 0 0 0 0 0 0 0 0 0 0 0 0 0 0 0 0 0 0 0 0 0 0 0 0 0 0\n",
            " 0 0 0 0 0 0 0 0 0 0 0 1 0 0 0 0 0 0 0 0 0 0 0 0 0 0 0 0 0 0 0 0 0 0 0 0 0\n",
            " 0 0 0 0 0 0 0 0 0]\n"
          ]
        }
      ]
    },
    {
      "cell_type": "code",
      "metadata": {
        "id": "UbVEluBsRKM5"
      },
      "source": [
        ""
      ],
      "execution_count": 46,
      "outputs": []
    },
    {
      "cell_type": "markdown",
      "metadata": {
        "id": "banMeTbbRV4B"
      },
      "source": [
        "## Now that we have our data in a workable format, we can work on our training and testing sets\n",
        "> It might seem rather computationally expensive to have >10,000 arrays to represent the boolean data-type tht we are representing, however, one must rememeber that we are working with NumPy calls, which are written in C, ad thus much faster than python calls. Furthermore, the data are arrays of numbers. This also enhances computational speed. Finally, we are working with a GPU. These are orders of magnitude faster than CPU's."
      ]
    },
    {
      "cell_type": "markdown",
      "metadata": {
        "id": "Yt7YF12x5QT5"
      },
      "source": [
        ""
      ]
    },
    {
      "cell_type": "code",
      "metadata": {
        "id": "H0fgDTjcReR7"
      },
      "source": [
        ""
      ],
      "execution_count": 46,
      "outputs": []
    },
    {
      "cell_type": "markdown",
      "metadata": {
        "id": "00sMWTQJ5Vym"
      },
      "source": [
        "## Creating Our own Validation Set\n",
        "> Keep in mind that Kaggle generally gives us only a training and test set. We must create our own validation set. Keep in mind:    \n",
        "* The training set is used to train a given model\n",
        "* The validation set is used to choose between models (for instance, does a random forest or a neural net work better for your problem? do you want a random forest with 40 trees or 50 trees?)\n",
        "* The test set tells you how you’ve done. If you’ve tried out a lot of different models, you may get one that does well on your validation set just by chance, and having a test set helps make sure that is not the case."
      ]
    },
    {
      "cell_type": "markdown",
      "metadata": {
        "id": "-dLF-7jj5OHW"
      },
      "source": [
        ""
      ]
    },
    {
      "cell_type": "markdown",
      "metadata": {
        "id": "j9WKiGFM5MXc"
      },
      "source": [
        ""
      ]
    },
    {
      "cell_type": "code",
      "metadata": {
        "id": "a6VTsD6M6c4S"
      },
      "source": [
        "# Set up X, y variables\n",
        "X = filenames\n",
        "y = boolean_labels"
      ],
      "execution_count": 47,
      "outputs": []
    },
    {
      "cell_type": "markdown",
      "metadata": {
        "id": "5n-1njyd6car"
      },
      "source": [
        "### Since we're working with over 10,000 images, maybe we could start by scaling down the number of images that we work with for now. We'll start off with 100 images and scale-up as needed"
      ]
    },
    {
      "cell_type": "code",
      "metadata": {
        "id": "LxnKAsWb7_J1"
      },
      "source": [
        "# set up number of images to use for experimenting\n",
        "NUM_IMAGES = 1000 #@param{type:\"slider\", min:1000, max:10000, step:1000}"
      ],
      "execution_count": 48,
      "outputs": []
    },
    {
      "cell_type": "code",
      "metadata": {
        "colab": {
          "base_uri": "https://localhost:8080/"
        },
        "id": "2FixZ5e-A_am",
        "outputId": "8dde4f6a-92c9-41d5-9426-a3cf4b7c1223"
      },
      "source": [
        "# Split data into training set and validation sets\n",
        "from sklearn.model_selection import train_test_split\n",
        "\n",
        "# Slit into training and validation of total size NUM_IMAGES\n",
        "X_train, X_val, y_train, y_val = train_test_split(X[:NUM_IMAGES],\n",
        "                                                  y[:NUM_IMAGES],\n",
        "                                                  test_size=0.2,\n",
        "                                                  random_state=42)\n",
        "\n",
        "len(X_train), len(y_train), len(X_val), len(y_val)"
      ],
      "execution_count": 49,
      "outputs": [
        {
          "output_type": "execute_result",
          "data": {
            "text/plain": [
              "(800, 800, 200, 200)"
            ]
          },
          "metadata": {},
          "execution_count": 49
        }
      ]
    },
    {
      "cell_type": "code",
      "metadata": {
        "id": "S1zH18wLESUv"
      },
      "source": [
        ""
      ],
      "execution_count": 49,
      "outputs": []
    },
    {
      "cell_type": "markdown",
      "metadata": {
        "id": "xTh17F-2Ekfj"
      },
      "source": [
        "### NOTE: we have set a total sample size of 1000, and we have a test-size set at 20%. \n",
        "**Thus we have traing sizes at 800 pics, and our validation at 200 pics** "
      ]
    },
    {
      "cell_type": "code",
      "metadata": {
        "colab": {
          "base_uri": "https://localhost:8080/"
        },
        "id": "RTft8APCFEJK",
        "outputId": "35a077c9-cbd9-4496-a238-790ba1b53bfd"
      },
      "source": [
        "# Look at the training data\n",
        "X_train[:5], y_train[:5]"
      ],
      "execution_count": 50,
      "outputs": [
        {
          "output_type": "execute_result",
          "data": {
            "text/plain": [
              "(['dog_train/00bee065dcec471f26394855c5c2f3de.jpg',\n",
              "  'dog_train/0d2f9e12a2611d911d91a339074c8154.jpg',\n",
              "  'dog_train/1108e48ce3e2d7d7fb527ae6e40ab486.jpg',\n",
              "  'dog_train/0dc3196b4213a2733d7f4bdcd41699d3.jpg',\n",
              "  'dog_train/146fbfac6b5b1f0de83a5d0c1b473377.jpg'],\n",
              " [array([False, False, False, False, False, False, False, False, False,\n",
              "         False, False, False, False, False, False, False, False, False,\n",
              "         False, False, False, False, False, False, False, False,  True,\n",
              "         False, False, False, False, False, False, False, False, False,\n",
              "         False, False, False, False, False, False, False, False, False,\n",
              "         False, False, False, False, False, False, False, False, False,\n",
              "         False, False, False, False, False, False, False, False, False,\n",
              "         False, False, False, False, False, False, False, False, False,\n",
              "         False, False, False, False, False, False, False, False, False,\n",
              "         False, False, False, False, False, False, False, False, False,\n",
              "         False, False, False, False, False, False, False, False, False,\n",
              "         False, False, False, False, False, False, False, False, False,\n",
              "         False, False, False, False, False, False, False, False, False,\n",
              "         False, False, False]),\n",
              "  array([False, False, False, False, False, False, False, False, False,\n",
              "         False, False, False, False, False, False, False, False, False,\n",
              "         False, False,  True, False, False, False, False, False, False,\n",
              "         False, False, False, False, False, False, False, False, False,\n",
              "         False, False, False, False, False, False, False, False, False,\n",
              "         False, False, False, False, False, False, False, False, False,\n",
              "         False, False, False, False, False, False, False, False, False,\n",
              "         False, False, False, False, False, False, False, False, False,\n",
              "         False, False, False, False, False, False, False, False, False,\n",
              "         False, False, False, False, False, False, False, False, False,\n",
              "         False, False, False, False, False, False, False, False, False,\n",
              "         False, False, False, False, False, False, False, False, False,\n",
              "         False, False, False, False, False, False, False, False, False,\n",
              "         False, False, False]),\n",
              "  array([False, False, False, False, False, False, False, False, False,\n",
              "         False, False, False, False, False, False, False, False, False,\n",
              "         False, False, False, False, False, False, False, False, False,\n",
              "         False, False, False, False, False, False, False, False, False,\n",
              "         False, False, False, False, False, False, False, False, False,\n",
              "         False, False, False, False, False, False, False, False, False,\n",
              "         False, False, False, False, False, False, False, False, False,\n",
              "         False, False, False, False, False, False, False, False, False,\n",
              "         False,  True, False, False, False, False, False, False, False,\n",
              "         False, False, False, False, False, False, False, False, False,\n",
              "         False, False, False, False, False, False, False, False, False,\n",
              "         False, False, False, False, False, False, False, False, False,\n",
              "         False, False, False, False, False, False, False, False, False,\n",
              "         False, False, False]),\n",
              "  array([False, False, False, False, False, False, False, False, False,\n",
              "         False, False, False, False, False, False, False, False, False,\n",
              "         False, False, False, False, False, False, False, False, False,\n",
              "         False, False, False, False, False,  True, False, False, False,\n",
              "         False, False, False, False, False, False, False, False, False,\n",
              "         False, False, False, False, False, False, False, False, False,\n",
              "         False, False, False, False, False, False, False, False, False,\n",
              "         False, False, False, False, False, False, False, False, False,\n",
              "         False, False, False, False, False, False, False, False, False,\n",
              "         False, False, False, False, False, False, False, False, False,\n",
              "         False, False, False, False, False, False, False, False, False,\n",
              "         False, False, False, False, False, False, False, False, False,\n",
              "         False, False, False, False, False, False, False, False, False,\n",
              "         False, False, False]),\n",
              "  array([False, False, False, False, False, False, False, False, False,\n",
              "         False, False, False, False, False, False, False, False, False,\n",
              "         False, False, False, False, False, False, False, False, False,\n",
              "         False, False, False, False, False, False, False, False, False,\n",
              "         False, False, False, False, False, False, False, False, False,\n",
              "         False, False, False, False, False, False, False, False, False,\n",
              "         False, False, False,  True, False, False, False, False, False,\n",
              "         False, False, False, False, False, False, False, False, False,\n",
              "         False, False, False, False, False, False, False, False, False,\n",
              "         False, False, False, False, False, False, False, False, False,\n",
              "         False, False, False, False, False, False, False, False, False,\n",
              "         False, False, False, False, False, False, False, False, False,\n",
              "         False, False, False, False, False, False, False, False, False,\n",
              "         False, False, False])])"
            ]
          },
          "metadata": {},
          "execution_count": 50
        }
      ]
    },
    {
      "cell_type": "markdown",
      "metadata": {
        "id": "R2QefUrv6kM3"
      },
      "source": [
        "## Preprocessing Images- i.e. turning images into tensors\n",
        "> to preprocess our images we need to write a function that\n",
        "1. Take an image filepath as input\n",
        "2. Use TensorFlow to read the file and save it to a variable `image`\n",
        "3. Turn `image` (a jpg) into Tensors\n",
        "4. Normalize the color channel values from 0-255 to 0-1 values\n",
        "5. Resize the `image` to be a shape of (224, 224)\n",
        "6. return the modified image\n",
        "\n",
        "**Remember images are easilt converted into NumPy arrays"
      ]
    },
    {
      "cell_type": "code",
      "metadata": {
        "id": "j9GlYoxbGJln",
        "colab": {
          "base_uri": "https://localhost:8080/"
        },
        "outputId": "29594fb2-479a-4a71-9cf3-a7fd8c0135f0"
      },
      "source": [
        "# convert an image to a NumPy array\n",
        "from matplotlib.pyplot import imread\n",
        "image = imread(filenames[42])\n",
        "image.shape # h,w,cc"
      ],
      "execution_count": 51,
      "outputs": [
        {
          "output_type": "execute_result",
          "data": {
            "text/plain": [
              "(257, 350, 3)"
            ]
          },
          "metadata": {},
          "execution_count": 51
        }
      ]
    },
    {
      "cell_type": "code",
      "metadata": {
        "id": "1OfcKR3t-nCr"
      },
      "source": [
        ""
      ],
      "execution_count": null,
      "outputs": []
    },
    {
      "cell_type": "code",
      "metadata": {
        "colab": {
          "base_uri": "https://localhost:8080/"
        },
        "id": "NichhngF9TD7",
        "outputId": "e6daf0f0-8879-4e79-b951-2bb4c589b9b8"
      },
      "source": [
        "image.max(), image.min()"
      ],
      "execution_count": 54,
      "outputs": [
        {
          "output_type": "execute_result",
          "data": {
            "text/plain": [
              "(255, 0)"
            ]
          },
          "metadata": {},
          "execution_count": 54
        }
      ]
    },
    {
      "cell_type": "code",
      "metadata": {
        "colab": {
          "base_uri": "https://localhost:8080/"
        },
        "id": "vpe4ZGv6-oJQ",
        "outputId": "622628ce-0d70-45c3-b7c1-ad7699e7b56a"
      },
      "source": [
        "# This is all very well, but nonsense for our purposes\n",
        "image[:2]"
      ],
      "execution_count": 56,
      "outputs": [
        {
          "output_type": "execute_result",
          "data": {
            "text/plain": [
              "array([[[ 89, 137,  87],\n",
              "        [ 76, 124,  74],\n",
              "        [ 63, 111,  59],\n",
              "        ...,\n",
              "        [ 76, 134,  86],\n",
              "        [ 76, 134,  86],\n",
              "        [ 76, 134,  86]],\n",
              "\n",
              "       [[ 72, 119,  73],\n",
              "        [ 67, 114,  68],\n",
              "        [ 63, 111,  63],\n",
              "        ...,\n",
              "        [ 75, 131,  84],\n",
              "        [ 74, 132,  84],\n",
              "        [ 74, 131,  86]]], dtype=uint8)"
            ]
          },
          "metadata": {},
          "execution_count": 56
        }
      ]
    },
    {
      "cell_type": "code",
      "metadata": {
        "colab": {
          "base_uri": "https://localhost:8080/"
        },
        "id": "IPDeP9_297qB",
        "outputId": "828d3061-b902-4b55-8a6d-d1269de145ad"
      },
      "source": [
        "# now we see the tensor- we can use this; we've turned our image into a tensor\n",
        "tf.constant(image)[:2]"
      ],
      "execution_count": 57,
      "outputs": [
        {
          "output_type": "execute_result",
          "data": {
            "text/plain": [
              "<tf.Tensor: shape=(2, 350, 3), dtype=uint8, numpy=\n",
              "array([[[ 89, 137,  87],\n",
              "        [ 76, 124,  74],\n",
              "        [ 63, 111,  59],\n",
              "        ...,\n",
              "        [ 76, 134,  86],\n",
              "        [ 76, 134,  86],\n",
              "        [ 76, 134,  86]],\n",
              "\n",
              "       [[ 72, 119,  73],\n",
              "        [ 67, 114,  68],\n",
              "        [ 63, 111,  63],\n",
              "        ...,\n",
              "        [ 75, 131,  84],\n",
              "        [ 74, 132,  84],\n",
              "        [ 74, 131,  86]]], dtype=uint8)>"
            ]
          },
          "metadata": {},
          "execution_count": 57
        }
      ]
    },
    {
      "cell_type": "markdown",
      "metadata": {
        "id": "QOkdRSjH__z-"
      },
      "source": [
        "## Now that we've seen what an image lookslike as a Tensor, let's make a function to pre-process them."
      ]
    },
    {
      "cell_type": "code",
      "metadata": {
        "id": "n0mXSxWL99tt"
      },
      "source": [
        "# Let us define the image size\n",
        "IMG_SIZE = 224\n",
        "\n",
        "# create a function that preprocesses images\n",
        "def process_image(image_path, img_size=IMG_SIZE):\n",
        "    \"\"\"\n",
        "    Takes an image file and turns it into a Tensor\n",
        "    \"\"\"\n",
        "    # Read in an image file (Look at the docs)\n",
        "    image = tf.io.read_file(image_path)\n",
        "    # Turn the jpg image into a Tensor with 3 color channels\n",
        "    image = tf.image.decode_jpeg(image, channels=3)\n",
        "    # Normalize the color channel values from 0-255 to 0-1 values\n",
        "    image = tf.image.convert_image_dtype(image, tf.float32)\n",
        "\n",
        "    return image\n",
        "    \n"
      ],
      "execution_count": 58,
      "outputs": []
    },
    {
      "cell_type": "code",
      "metadata": {
        "id": "0Ppdk4akCIeQ"
      },
      "source": [
        ""
      ],
      "execution_count": 61,
      "outputs": []
    },
    {
      "cell_type": "code",
      "metadata": {
        "id": "vEGfLTriCRN8"
      },
      "source": [
        ""
      ],
      "execution_count": 61,
      "outputs": []
    },
    {
      "cell_type": "code",
      "metadata": {
        "id": "0fbQhUsBDeaN"
      },
      "source": [
        ""
      ],
      "execution_count": null,
      "outputs": []
    }
  ]
}