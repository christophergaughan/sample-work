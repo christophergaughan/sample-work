{
  "nbformat": 4,
  "nbformat_minor": 0,
  "metadata": {
    "colab": {
      "name": "Kaggle-dog-breed-identification.ipynb",
      "provenance": [],
      "collapsed_sections": [],
      "machine_shape": "hm",
      "authorship_tag": "ABX9TyNjLi+ogKW7GUkUwSVdU5Ap",
      "include_colab_link": true
    },
    "kernelspec": {
      "name": "python3",
      "display_name": "Python 3"
    },
    "language_info": {
      "name": "python"
    },
    "accelerator": "GPU"
  },
  "cells": [
    {
      "cell_type": "markdown",
      "metadata": {
        "id": "view-in-github",
        "colab_type": "text"
      },
      "source": [
        "<a href=\"https://colab.research.google.com/github/christophergaughan/sample-work/blob/master/Kaggle_dog_breed_identification.ipynb\" target=\"_parent\"><img src=\"https://colab.research.google.com/assets/colab-badge.svg\" alt=\"Open In Colab\"/></a>"
      ]
    },
    {
      "cell_type": "code",
      "metadata": {
        "id": "yn2k4XwCVIwN"
      },
      "source": [
        ""
      ],
      "execution_count": null,
      "outputs": []
    },
    {
      "cell_type": "markdown",
      "metadata": {
        "id": "rEvidre-XVOC"
      },
      "source": [
        "# Dog Breed Classification from Images Using TensorFlow\n",
        "***This notebook builds an end-to-end multi-class image classifier from Tensorflow 2.0 and  TensorFlow Hub***\n",
        "\n",
        "## 1. Problem\n",
        "\n",
        "Identifying a breed of a dog given the image of a dog.\n",
        "\n",
        "If I take a picture of a dog, can I use this program to identfy its breed??\n",
        "\n",
        "## 2. Data\n",
        "\n",
        "The data we're using comes from the Kaggle data set from the Dog Breed Identificstion Competitition: https://www.kaggle.com/c/dog-breed-identification\n",
        "\n",
        "## 3. Evaluation\n",
        "\n",
        "Classification (think of accuracy): Specifically the Kaggle competition was looking at \"Mult-Class_Log_Loss\"\n",
        "\n",
        "L_{\\log}(y, p) = -(y \\log (p) + (1 - y) \\log (1 - p))\n",
        "\n",
        "For each image in the test set, you must predict a probability for each of the different breeds. The file should contain a header and have the following format:\n",
        "\n",
        "> id,affenpinscher,afghan_hound,..,yorkshire_terrier\n",
        "000621fb3cbb32d8935728e48679680e,0.0083,0.0,...,0.0083\n",
        "etc.\n",
        "\n",
        "So the evaluation is a file with prediction probabilities for each dog breed of each test image.\n",
        "\n",
        "see:    \n",
        "https://www.kaggle.com/c/dog-breed-identification/overview/evaluation\n",
        "\n",
        "## 4. Features\n",
        "\n",
        "Some information about the data:\n",
        "\n",
        "* We're dealing with images (i.e. unstructured data). So it's probably best that we are using deep-learning/transfer learning\n",
        "* 120 breeds of dogs (i.e. 120 different classes)\n",
        "* There are 10222 unique values or training images (these images have labels) and 10358 images in the test set (i.e. images with NO LABELS b/c we'll want to predict them)\n",
        "\n",
        "\n",
        "\n"
      ]
    },
    {
      "cell_type": "code",
      "metadata": {
        "colab": {
          "base_uri": "https://localhost:8080/"
        },
        "id": "LIRCxaKTVM4D",
        "outputId": "1465a3cb-8fa0-42da-cf07-45d872ae6f2c"
      },
      "source": [
        "from google.colab import drive\n",
        "drive.mount('/gdrive')"
      ],
      "execution_count": 1,
      "outputs": [
        {
          "output_type": "stream",
          "name": "stdout",
          "text": [
            "Mounted at /gdrive\n"
          ]
        }
      ]
    },
    {
      "cell_type": "code",
      "metadata": {
        "colab": {
          "base_uri": "https://localhost:8080/"
        },
        "id": "ZNuxO83cVM4G",
        "outputId": "3fd4f73b-e042-40e6-fd97-feaed7cbce34"
      },
      "source": [
        "ls -la\n"
      ],
      "execution_count": 2,
      "outputs": [
        {
          "output_type": "stream",
          "name": "stdout",
          "text": [
            "total 16\n",
            "drwxr-xr-x 1 root root 4096 Nov 18 14:36 \u001b[0m\u001b[01;34m.\u001b[0m/\n",
            "drwxr-xr-x 1 root root 4096 Dec  1 02:22 \u001b[01;34m..\u001b[0m/\n",
            "drwxr-xr-x 4 root root 4096 Nov 18 14:35 \u001b[01;34m.config\u001b[0m/\n",
            "drwxr-xr-x 1 root root 4096 Nov 18 14:36 \u001b[01;34msample_data\u001b[0m/\n"
          ]
        }
      ]
    },
    {
      "cell_type": "code",
      "metadata": {
        "colab": {
          "base_uri": "https://localhost:8080/"
        },
        "id": "XZJPaENjVduZ",
        "outputId": "a0afbda4-7f57-4234-df80-49f6004861b8"
      },
      "source": [
        "cd ../"
      ],
      "execution_count": 3,
      "outputs": [
        {
          "output_type": "stream",
          "name": "stdout",
          "text": [
            "/\n"
          ]
        }
      ]
    },
    {
      "cell_type": "code",
      "metadata": {
        "colab": {
          "base_uri": "https://localhost:8080/"
        },
        "id": "rHJYm80oVnyu",
        "outputId": "33fc70f3-cf23-4cca-a01a-4a5303c27832"
      },
      "source": [
        "ls -la\n"
      ],
      "execution_count": 4,
      "outputs": [
        {
          "output_type": "stream",
          "name": "stdout",
          "text": [
            "total 116\n",
            "drwxr-xr-x   1 root root 4096 Dec  1 02:22 \u001b[0m\u001b[01;34m.\u001b[0m/\n",
            "drwxr-xr-x   1 root root 4096 Dec  1 02:22 \u001b[01;34m..\u001b[0m/\n",
            "drwxr-xr-x   1 root root 4096 Nov 18 14:27 \u001b[01;34mbin\u001b[0m/\n",
            "drwxr-xr-x   2 root root 4096 Apr 24  2018 \u001b[01;34mboot\u001b[0m/\n",
            "drwxr-xr-x   1 root root 4096 Nov 18 14:36 \u001b[01;34mcontent\u001b[0m/\n",
            "drwxr-xr-x   1 root root 4096 Nov 29 17:59 \u001b[01;34mdatalab\u001b[0m/\n",
            "drwxr-xr-x   6 root root  460 Dec  1 02:22 \u001b[01;34mdev\u001b[0m/\n",
            "-rwxr-xr-x   1 root root    0 Dec  1 02:01 \u001b[01;32m.dockerenv\u001b[0m*\n",
            "drwxr-xr-x   1 root root 4096 Dec  1 02:01 \u001b[01;34metc\u001b[0m/\n",
            "drwx------   5 root root 4096 Dec  1 02:22 \u001b[01;34mgdrive\u001b[0m/\n",
            "drwxr-xr-x   2 root root 4096 Apr 24  2018 \u001b[01;34mhome\u001b[0m/\n",
            "drwxr-xr-x   1 root root 4096 Nov 18 14:28 \u001b[01;34mlib\u001b[0m/\n",
            "drwxr-xr-x   2 root root 4096 Nov 18 14:15 \u001b[01;34mlib32\u001b[0m/\n",
            "drwxr-xr-x   1 root root 4096 Nov 18 14:15 \u001b[01;34mlib64\u001b[0m/\n",
            "drwxr-xr-x   2 root root 4096 Nov 19  2020 \u001b[01;34mmedia\u001b[0m/\n",
            "drwxr-xr-x   2 root root 4096 Nov 19  2020 \u001b[01;34mmnt\u001b[0m/\n",
            "drwxr-xr-x   1 root root 4096 Dec  1 02:01 \u001b[01;34mopt\u001b[0m/\n",
            "dr-xr-xr-x 205 root root    0 Dec  1 02:01 \u001b[01;34mproc\u001b[0m/\n",
            "drwxr-xr-x  14 root root 4096 Nov 18 14:29 \u001b[01;34mpython-apt\u001b[0m/\n",
            "drwx------   1 root root 4096 Dec  1 02:01 \u001b[01;34mroot\u001b[0m/\n",
            "drwxr-xr-x   1 root root 4096 Nov 18 14:18 \u001b[01;34mrun\u001b[0m/\n",
            "drwxr-xr-x   1 root root 4096 Dec  1 02:01 \u001b[01;34msbin\u001b[0m/\n",
            "drwxr-xr-x   2 root root 4096 Nov 19  2020 \u001b[01;34msrv\u001b[0m/\n",
            "dr-xr-xr-x  12 root root    0 Dec  1 02:01 \u001b[01;34msys\u001b[0m/\n",
            "drwxr-xr-x   3 root root 4096 Nov 29 17:56 \u001b[01;34mtensorflow-1.15.2\u001b[0m/\n",
            "drwxrwxrwt   1 root root 4096 Dec  1 02:22 \u001b[30;42mtmp\u001b[0m/\n",
            "drwxr-xr-x   1 root root 4096 Nov 29 17:59 \u001b[01;34mtools\u001b[0m/\n",
            "drwxr-xr-x   1 root root 4096 Dec  1 02:01 \u001b[01;34musr\u001b[0m/\n",
            "drwxr-xr-x   1 root root 4096 Dec  1 02:01 \u001b[01;34mvar\u001b[0m/\n"
          ]
        }
      ]
    },
    {
      "cell_type": "code",
      "metadata": {
        "colab": {
          "base_uri": "https://localhost:8080/"
        },
        "id": "y3lztpgXVpOA",
        "outputId": "377dd4a8-bf6c-4dac-cb19-a449734bc194"
      },
      "source": [
        "cd gdrive/"
      ],
      "execution_count": 5,
      "outputs": [
        {
          "output_type": "stream",
          "name": "stdout",
          "text": [
            "/gdrive\n"
          ]
        }
      ]
    },
    {
      "cell_type": "code",
      "metadata": {
        "colab": {
          "base_uri": "https://localhost:8080/"
        },
        "id": "E4pi0RI2Vus8",
        "outputId": "ff3000c8-e199-4828-f5aa-73feb18f1257"
      },
      "source": [
        "ls -ltr"
      ],
      "execution_count": 6,
      "outputs": [
        {
          "output_type": "stream",
          "name": "stdout",
          "text": [
            "total 4\n",
            "drwx------ 15 root root 4096 Dec  1 02:22 \u001b[0m\u001b[01;34mMyDrive\u001b[0m/\n"
          ]
        }
      ]
    },
    {
      "cell_type": "code",
      "metadata": {
        "colab": {
          "base_uri": "https://localhost:8080/"
        },
        "id": "YLY_o2fKVwG6",
        "outputId": "b3e22444-1138-4f12-890a-ba6f437bcbb8"
      },
      "source": [
        "cd MyDrive/"
      ],
      "execution_count": 7,
      "outputs": [
        {
          "output_type": "stream",
          "name": "stdout",
          "text": [
            "/gdrive/MyDrive\n"
          ]
        }
      ]
    },
    {
      "cell_type": "code",
      "metadata": {
        "colab": {
          "base_uri": "https://localhost:8080/"
        },
        "id": "hLavWEgnVyoD",
        "outputId": "b173c611-bc80-4c7a-e390-b96e049eb87c"
      },
      "source": [
        "ls -la\n"
      ],
      "execution_count": 8,
      "outputs": [
        {
          "output_type": "stream",
          "name": "stdout",
          "text": [
            "total 228341\n",
            "-rw------- 1 root root   257215 Nov  7  2014 '2014-07-03 11.26.24.jpg'\n",
            "-rw------- 1 root root  7462037 Jun 20  2017  321AA485-724B-4214-BC7B-E8397CD418E3-d94c3902-3536-4bc1-96e9-6d615b34a99b.mov\n",
            "-rw------- 1 root root  9704223 Jun 20  2017  42D58BA5-132D-4A56-AD0B-28C9DDB71A7D-5fab10bb-a7a6-457a-a62e-1984b579937f.mov\n",
            "-rw------- 1 root root  9609389 Jun 20  2017  42D58BA5-132D-4A56-AD0B-28C9DDB71A7D-8298803d-4113-4fc2-8224-d7029a51c504.mov\n",
            "-rw------- 1 root root  8018612 Jun 20  2017  90DB1D42-9616-46D4-B8E9-807F9F779FEE-8298803d-4113-4fc2-8224-d7029a51c504.mov\n",
            "-rw------- 1 root root  7926493 Jun 20  2017  90DB1D42-9616-46D4-B8E9-807F9F779FEE-d94c3902-3536-4bc1-96e9-6d615b34a99b.mov\n",
            "-rw------- 1 root root      151 May 31  2010  AccountSetupInfo_Chris.gdoc\n",
            "-rw------- 1 root root      162 Feb 20  2014 '~$ail this.docx'\n",
            "-rw------- 1 root root   131115 Jul  4 03:03  Albany_avocado.ipynb\n",
            "-rw------- 1 root root   189960 Oct 28 23:09 'Assay Design Take Home.pdf'\n",
            "-rw------- 1 root root  1989197 Oct  1  2019  avocado.csv\n",
            "drwx------ 2 root root     4096 Oct 24 19:24  \u001b[0m\u001b[01;34mBigHospital\u001b[0m/\n",
            "drwx------ 2 root root     4096 Feb 11  2021  \u001b[01;34mBioinformatics\u001b[0m/\n",
            "-rw------- 1 root root  1438422 Nov  5 18:22  Bio_rad_Process.zip\n",
            "drwx------ 2 root root     4096 Nov  6 03:15 \u001b[01;34m'Bio_rad_Process.zip (Unzipped Files)'\u001b[0m/\n",
            "-rw------- 1 root root   393858 Jul  4 04:11  BLM_cities.csv\n",
            "-rw------- 1 root root   115109 Aug  5  2019 'Boston Housing -- Introduction.ipynb'\n",
            "-rw------- 1 root root    99482 Jul 31 03:33 'Boston Housing -- Regularization.ipynb'\n",
            "-rw------- 1 root root    65054 Aug  5  2019 'Boston Housing -- Standardizing + Cross Validation.ipynb'\n",
            "-rw------- 1 root root    24199 Jun  9 19:57 'Cancer Genomics II: Exploring biomarkers of liver cancer in gene expression data using Python.ipynb'\n",
            "-rw------- 1 root root    16556 Feb 17  2021 'Chapter 3- Classification.ipynb'\n",
            "-rw------- 1 root root      151 Dec  9  2009  chris_250_v1.gdoc\n",
            "-rw------- 1 root root    50176 Dec  4  2014 'Chris_NIH biosketch Aug 2013.doc'\n",
            "-rw------- 1 root root      151 Sep  8  2009  Christopher_Gaughan_CV_Latest.gdoc\n",
            "-rw------- 1 root root   172591 May 20  2017  CHRISTOPHER_GAUGHAN.docx\n",
            "-rw------- 1 root root      151 Dec 18  2016  CHRISTOPHER_GAUGHAN.docx.gdoc\n",
            "-rw------- 1 root root    47616 Sep 15  2014  christopher_gaughan_phd.doc\n",
            "-rw------- 1 root root      151 Oct 19  2018  christopher_gaughan_phd.doc.gdoc\n",
            "-rw------- 1 root root    22380 Feb 12  2018 'Christopher Gaughan_Resume_Feb_2018.docx'\n",
            "-rw------- 1 root root    47063 May 19  2017 'C_L_Gaughan__May_Updated copy.docx'\n",
            "drwx------ 2 root root     4096 Aug  3  2019  \u001b[01;34mCode_Acad\u001b[0m/\n",
            "-rw------- 1 root root  7901872 Mar 10  2021  CoffeeBreakPythonSlicing.html\n",
            "-rw------- 1 root root  3653102 Mar 10  2021  CoffeeBreakPythonSlicing.pdf\n",
            "-rw------- 1 root root  1238703 May 15  2016  coi_disclosure.pdf\n",
            "drwx------ 2 root root     4096 May 15  2019 \u001b[01;34m'Colab Notebooks'\u001b[0m/\n",
            "-rw------- 1 root root    38189 May 23  2017 'Copy of C_L_Gaughan__May_Updated copy.docx'\n",
            "-rw------- 1 root root      151 Jul  3 21:22 'Copy of CT Town Geonames (go to File > Make a Copy).gsheet'\n",
            "-rw------- 1 root root      151 Jul 28  2009 'Copy of Scientific Article.gdoc'\n",
            "-rw------- 1 root root      151 Jul  3 21:09 'Copy of Smart Cleanup sample data (go to File > Make a Copy).gsheet'\n",
            "-rw------- 1 root root      151 Jul 27  2009 'Copy of to-do-list.gsheet'\n",
            "-rw------- 1 root root      151 Jul  3 22:20 'Copy of Transpose sample data (go to File > Make a Copy).gsheet'\n",
            "-rw------- 1 root root      151 Sep 21  2009 'Copy of Vaxinnate - Sr. Research Associate, Molecular Biology and.gdoc'\n",
            "-rw------- 1 root root     1517 Sep  7 19:16  covid_19_statewise.csv\n",
            "-rw------- 1 root root    25900 Sep  7 20:45 'Covid_in _India_by State.ipynb'\n",
            "-rw------- 1 root root 34709209 Feb  6  2016 'dane idea.band.zip'\n",
            "-rw------- 1 root root   930626 Aug  3  2019  Data_Cortex_Nuclear.xlsx\n",
            "-rw------- 1 root root      151 Mar 26  2020  Data.gsheet\n",
            "-rw------- 1 root root      151 Aug  4  2020  Dibyendu_code.gsheet\n",
            "-rw------- 1 root root    12100 Aug  4  2020  Dibyendu_code.xlsx\n",
            "-rw------- 1 root root    23452 Jan  2  2021  Fermi.ipynb\n",
            "-rw------- 1 root root      392 Sep  2 01:13 'First Steps with TensorFlow: Programming Exercises.ipynb'\n",
            "-rw------- 1 root root       19 Apr  5  2021  foo.txt\n",
            "-rw------- 1 root root      151 Jan 26  2018 'Gaughan_Christopher_RESUME_January_2018 (1).docx.gdoc'\n",
            "-rw------- 1 root root    34429 Jan 26  2018  Gaughan_Christopher_RESUME_January_2018.docx\n",
            "-rw------- 1 root root      151 Dec 15  2018  Gaughan_Christopher_RESUME_January_2018.docx.gdoc\n",
            "-rw------- 1 root root   165375 Dec 20  2019 'Helix Consultant Agreement Christopher Gaughan Dec 18 2019.pdf'\n",
            "-rw------- 1 root root    80286 Aug  3  2019  his_plots_pie_plots_etc.ipynb\n",
            "-rw------- 1 root root    72374 Nov  8  2014  holy_mackerel.jpg\n",
            "-rw------- 1 root root    27886 May  4  2021  HOML_Classification.ipynb\n",
            "-rw------- 1 root root   853324 Dec 27  2020  Housing.ipynb\n",
            "-rw------- 1 root root   436266 Aug 10  2020  Image_209.pdf\n",
            "-rw------- 1 root root  1139008 Jul  4  2020  IMG_0004.JPG\n",
            "-rw------- 1 root root   244980 Oct 10  2020 'IMG-0985 (1).jpeg'\n",
            "-rw------- 1 root root   244980 Oct 10  2020 'IMG-0985 (2).jpeg'\n",
            "-rw------- 1 root root   244980 Oct 10  2020  IMG-0985.jpeg\n",
            "drwx------ 2 root root     4096 Mar 10  2021  \u001b[01;34mIntermediate_Python\u001b[0m/\n",
            "-rw------- 1 root root     2326 Aug 30 20:52  Intermediate_Python_beyond.ipynb\n",
            "-rw------- 1 root root    32793 Jul  8  2014  Intuit.pdf\n",
            "-rw------- 1 root root      151 May 11  2019 'Invoice_INVJBA1110554 (1).gdoc'\n",
            "-rw------- 1 root root      151 May 11  2019  Invoice_INVJBA1110554.gdoc\n",
            "-rw------- 1 root root   111678 May 11  2019  Invoice_INVJBA1110554.pdf\n",
            "-rw------- 1 root root  1558695 Apr  3  2017 'IPM Np Packet.pdf'\n",
            "drwx------ 2 root root     4096 Nov  5 06:34  \u001b[01;34m.ipynb_checkpoints\u001b[0m/\n",
            "-rw------- 1 root root   107328 Jul 16  2015 'JJ Candidate Rep Agreement--Christopher Gaughan.docx'\n",
            "-rw------- 1 root root      151 Jul 16  2015 'JJ Candidate Rep Agreement--Christopher Gaughan.docx.gdoc'\n",
            "-rw------- 1 root root    11049 Nov 28 04:20 'Kaggle Dog_Breeds.ipynb'\n",
            "-rw------- 1 root root      151 Jul  3 18:05 'Kidnapped!.gdoc'\n",
            "-rw------- 1 root root      151 Jul 28  2009  man2v2.gdoc\n",
            "-rw------- 1 root root      151 Mar 16  2010  March17_Program1.gdoc\n",
            "-rw------- 1 root root   508489 Mar  7  2016 'Membrane proteins.docx'\n",
            "-rw------- 1 root root   267901 Aug  5  2019  ml-notebook-day-2-messy.ipynb\n",
            "-rw------- 1 root root   255850 Aug  5  2019  ml-notebook-messy.ipynb\n",
            "-rw------- 1 root root    24000 Nov 28 20:59 'MNIST- ANALYZE HANDWRITTEN DIGITS.ipynb'\n",
            "-rw------- 1 root root    98205 Jul  2 04:07  MNIST.ipynb\n",
            "-rw------- 1 root root   463850 Sep 29  2014 'Molecular Biology Research Associate Position.pdf'\n",
            "-rw------- 1 root root 12930302 Mar 14  2018 'MTF debridements.key'\n",
            "drwx------ 2 root root     4096 Mar 10  2021  \u001b[01;34mMy_WAR\u001b[0m/\n",
            "-rw------- 1 root root  2114840 Dec  7  2020  National_Poverty_Data_1607328804170.zip\n",
            "drwx------ 2 root root     4096 Jan 19  2021  \u001b[01;34mnotebooks\u001b[0m/\n",
            "-rw------- 1 root root    17068 Nov 18  2014  Order_Form_8498-DN.html\n",
            "-rw------- 1 root root     2875 Jul 19 05:26  pandas_merging_files.ipynb\n",
            "-rw------- 1 root root     3676 Dec 28  2020  Pandas_Notebook_Lambdas_change_columns.ipynb\n",
            "-rw------- 1 root root   337946 Jul 23  2014  photo.JPG\n",
            "-rw------- 1 root root      151 Aug  3  2019  photo.JPG.gdoc\n",
            "-rw------- 1 root root     1113 May 15  2019  PipelineOpt.ipynb\n",
            "-rw------- 1 root root     3132 Jul  9  2018 'PLAN OF ACTION.txt'\n",
            "-rw------- 1 root root      151 Nov 27  2014 'PLAN OF ACTION.txt.gdoc'\n",
            "-rw------- 1 root root   227696 Dec 10  2020  plot_linear_model_coefficient_interpretation.ipynb\n",
            "-rw------- 1 root root    92071 Aug  3  2019 'plotting 2.ipynb'\n",
            "-rw------- 1 root root      151 Dec  8  2009 'Position Profile - Assoc Medical Strategist Final.gdoc'\n",
            "-rw------- 1 root root    13660 Aug  3  2019  power_generated.png\n",
            "-rw------- 1 root root    28064 Jun  3 05:48  Python_data_Cleaning.ipynb\n",
            "-rw------- 1 root root   988337 Aug  5  2019 'Python Numpy-Pandas Intro.ipynb'\n",
            "-rw------- 1 root root      151 Jan 26  2019 'Resume (1).gdoc'\n",
            "-rw------- 1 root root      151 Jan 26  2019 'Resume (2).gdoc'\n",
            "-rw------- 1 root root   108763 Mar 20  2019  Resume320_C_Gaughan.docx\n",
            "-rw------- 1 root root      151 Mar 20  2019  Resume320_C_Gaughan.gdoc\n",
            "-rw------- 1 root root      151 Jan 26  2019 'Resume (3).gdoc'\n",
            "-rw------- 1 root root      151 Jan 26  2019  Resume.gdoc\n",
            "-rw------- 1 root root   493738 Jun  9 19:42  RTCGA_1.22.0.tgz\n",
            "-rw------- 1 root root      151 Dec  4  2014 'SBIR_Phase I_BBB_2014_Introduction.gdoc'\n",
            "-rw------- 1 root root      151 May  4  2021 'Script I.gdoc'\n",
            "-rw------- 1 root root  3429690 Jul 17  2020  seaweed.mp3\n",
            "-rw------- 1 root root 18883662 Sep 27  2020  seaweed.wav\n",
            "-rw------- 1 root root      151 Oct  1 04:44  Story.gdoc\n",
            "-rw------- 1 root root      574 Dec  8  2020  student.zip\n",
            "-rw------- 1 root root      151 Jan 22  2021  summ_eptot.gsheet\n",
            "drwx------ 2 root root     4096 Oct  8 04:52  \u001b[01;34msupervised-learning-w-python-master\u001b[0m/\n",
            "-rw------- 1 root root  5099794 Apr  1  2021  supervised-learning-w-python-master.zip\n",
            "drwx------ 2 root root     4096 Apr  1  2021 \u001b[01;34m'supervised-learning-w-python-master.zip (Unzipped Files)'\u001b[0m/\n",
            "-rw------- 1 root root   190679 Jul  6 01:22  SVM_partial.ipynb\n",
            "-rw------- 1 root root      151 Aug  3  2019 'the lord.gdoc'\n",
            "-rw------- 1 root root   723014 Dec 18  2018 'the lord.htm'\n",
            "-rw------- 1 root root   386731 Oct 20  2020  The_Modern_Python_Challenge.ipynb\n",
            "-rw------- 1 root root  2478951 Oct 19  2018  thing.ogg\n",
            "-rw------- 1 root root      151 May 27  2010 'Timesheet - Lab Support - Piscataway ju14.05.gdoc'\n",
            "-rw------- 1 root root   102400 Jun  7  2020  Titanic_data.tar\n",
            "drwx------ 2 root root     4096 Jun  7  2020 \u001b[01;34m'Titanic_data.zip (Unzipped Files)'\u001b[0m/\n",
            "-rw------- 1 root root   574809 Dec 20  2020  titanic.ipynb\n",
            "-rw------- 1 root root   177722 Aug  5  2019  titanic-notebook-messy.ipynb\n",
            "-rw------- 1 root root    75120 Oct 25 02:03 'Titanic Survivors.ipynb'\n",
            "-rw------- 1 root root  2621357 Feb 10  2016 'train - 2:10:16, 3.26 PM (1).mp3'\n",
            "-rw------- 1 root root  2621357 Feb 18  2016 'train - 2:10:16, 3.26 PM.mp3'\n",
            "drwx------ 2 root root     4096 Feb 19  2021  \u001b[01;34mUDEMY_Nerual_Networks_Deep_learning\u001b[0m/\n",
            "-rw------- 1 root root   775807 Feb 19  2021  UDEMY_OOP.ipynb\n",
            "-rw------- 1 root root    15194 Jul  4 02:30  Untitled10.ipynb\n",
            "-rw------- 1 root root     2567 Jul  4 03:16  Untitled11.ipynb\n",
            "-rw------- 1 root root     4622 Feb 18  2016 'untitled-[1.2].html'\n",
            "-rw------- 1 root root    13985 Jul 15 03:44  Untitled13.ipynb\n",
            "-rw------- 1 root root    42571 Jul 15 07:28  Untitled14.ipynb\n",
            "-rw------- 1 root root     4650 Jul 19 03:05  Untitled15.ipynb\n",
            "-rw------- 1 root root      352 Aug 27 00:32  Untitled16.ipynb\n",
            "-rw------- 1 root root       89 Aug  3  2019  untitled-1.py\n",
            "-rw------- 1 root root      317 Feb 23  2021  Untitled4.ipynb\n",
            "-rw------- 1 root root     3637 Mar 31  2021  Untitled5.ipynb\n",
            "-rw------- 1 root root    19572 Apr 21  2021  Untitled6.ipynb\n",
            "-rw------- 1 root root    73779 May  3  2021  Untitled7.ipynb\n",
            "-rw------- 1 root root    76479 May 28  2021  Untitled8.ipynb\n",
            "-rw------- 1 root root    42497 Jun 29 07:12  Untitled9.ipynb\n",
            "-rw------- 1 root root      151 Jun 14  2020 'Untitled document.gdoc'\n",
            "-rw------- 1 root root      151 Feb 22  2021 'Untitled Jam.gjam'\n",
            "-rw------- 1 root root      151 Mar 26  2020 'Untitled spreadsheet.gsheet'\n",
            "-rw------- 1 root root      151 Sep 21  2009 'Vaxinnate - Sr. Research Associate, Molecular Biology and Protein.gdoc'\n",
            "-rw------- 1 root root   119331 Jan 11  2017 'W9 Form.pdf'\n",
            "-rw------- 1 root root      151 Feb  8  2010 'What are we trying to accomplish rec.gdoc'\n",
            "-rw------- 1 root root    14227 Aug  3  2019  winning_word_lengths.png\n",
            "-rw------- 1 root root 37238757 Sep 29  2017 'wsayyyyyy out (1).band.zip'\n",
            "-rw------- 1 root root 37238757 Oct 14  2018 'wsayyyyyy out.band.zip'\n"
          ]
        }
      ]
    },
    {
      "cell_type": "code",
      "metadata": {
        "colab": {
          "base_uri": "https://localhost:8080/"
        },
        "id": "_8lVutWiV0Bm",
        "outputId": "f2da95c3-ecb0-4a8e-8e0d-d973b85ece26"
      },
      "source": [
        "cd UDEMY_Nerual_Networks_Deep_learning/"
      ],
      "execution_count": 9,
      "outputs": [
        {
          "output_type": "stream",
          "name": "stdout",
          "text": [
            "/gdrive/MyDrive/UDEMY_Nerual_Networks_Deep_learning\n"
          ]
        }
      ]
    },
    {
      "cell_type": "code",
      "metadata": {
        "colab": {
          "base_uri": "https://localhost:8080/"
        },
        "id": "yXRdNU4KV4pO",
        "outputId": "8e3c60af-9c02-477a-9ef2-37119116090a"
      },
      "source": [
        "ls -la"
      ],
      "execution_count": 10,
      "outputs": [
        {
          "output_type": "stream",
          "name": "stdout",
          "text": [
            "total 1137\n",
            "-rw------- 1 root root 289424 Feb 24  2021 'Copy of TF2.0 Loading Data.ipynb'\n",
            "-rw------- 1 root root  55849 Feb 22  2021  daily-minimum-temperatures-in-me.csv\n",
            "drwx------ 2 root root   4096 Nov 28 21:29  \u001b[0m\u001b[01;34mdog_test\u001b[0m/\n",
            "drwx------ 2 root root   4096 Nov 28 20:31  \u001b[01;34mdog_train\u001b[0m/\n",
            "-rw------- 1 root root 298986 Dec  1 02:22  Kaggle-dog-breed-identification.ipynb\n",
            "-rw------- 1 root root 482063 Nov 28 03:14  labels_Kaggle_dog.csv\n",
            "-rw------- 1 root root  28023 Feb 19  2021  TF2.0Intro.ipynb\n"
          ]
        }
      ]
    },
    {
      "cell_type": "code",
      "metadata": {
        "colab": {
          "base_uri": "https://localhost:8080/"
        },
        "id": "1cqSgQfOV50w",
        "outputId": "c42bb7bf-a34f-4c82-a9f9-48fcabbc1e6b"
      },
      "source": [
        "cd dog_test/"
      ],
      "execution_count": 11,
      "outputs": [
        {
          "output_type": "stream",
          "name": "stdout",
          "text": [
            "/gdrive/MyDrive/UDEMY_Nerual_Networks_Deep_learning/dog_test\n"
          ]
        }
      ]
    },
    {
      "cell_type": "code",
      "metadata": {
        "colab": {
          "base_uri": "https://localhost:8080/"
        },
        "id": "N40htFH5V-av",
        "outputId": "e1bdccc7-1fba-4957-bc0c-505f4812fd82"
      },
      "source": [
        "cd .."
      ],
      "execution_count": 12,
      "outputs": [
        {
          "output_type": "stream",
          "name": "stdout",
          "text": [
            "/gdrive/MyDrive/UDEMY_Nerual_Networks_Deep_learning\n"
          ]
        }
      ]
    },
    {
      "cell_type": "code",
      "metadata": {
        "colab": {
          "base_uri": "https://localhost:8080/"
        },
        "id": "SekR9p1sWKkK",
        "outputId": "344c7f14-7449-41fc-ecc4-3e2f1eec735e"
      },
      "source": [
        "ls -la"
      ],
      "execution_count": 13,
      "outputs": [
        {
          "output_type": "stream",
          "name": "stdout",
          "text": [
            "total 1137\n",
            "-rw------- 1 root root 289424 Feb 24  2021 'Copy of TF2.0 Loading Data.ipynb'\n",
            "-rw------- 1 root root  55849 Feb 22  2021  daily-minimum-temperatures-in-me.csv\n",
            "drwx------ 2 root root   4096 Nov 28 21:29  \u001b[0m\u001b[01;34mdog_test\u001b[0m/\n",
            "drwx------ 2 root root   4096 Nov 28 20:31  \u001b[01;34mdog_train\u001b[0m/\n",
            "-rw------- 1 root root 298986 Dec  1 02:22  Kaggle-dog-breed-identification.ipynb\n",
            "-rw------- 1 root root 482063 Nov 28 03:14  labels_Kaggle_dog.csv\n",
            "-rw------- 1 root root  28023 Feb 19  2021  TF2.0Intro.ipynb\n"
          ]
        }
      ]
    },
    {
      "cell_type": "code",
      "metadata": {
        "id": "EGnLjy0sgON5"
      },
      "source": [
        ""
      ],
      "execution_count": 13,
      "outputs": []
    },
    {
      "cell_type": "markdown",
      "metadata": {
        "id": "Gu4Jldn3gQW7"
      },
      "source": [
        "# Get our workspace ready\n",
        "* Import TensorFlow 2.x\n",
        "* Import TensorFlow Hub\n",
        "* Make sure we're using a GPU "
      ]
    },
    {
      "cell_type": "code",
      "metadata": {
        "colab": {
          "base_uri": "https://localhost:8080/"
        },
        "id": "-ucpNcHHWL1v",
        "outputId": "35fd4d29-28a7-493a-ff57-4f4aea086b81"
      },
      "source": [
        "# Import necessary tools \n",
        "import tensorflow as tf\n",
        "import tensorflow_hub as hub\n",
        "print(\"TF Version: \", tf.__version__)\n",
        "print(\"TF_Hub Version: \", hub.__version__)"
      ],
      "execution_count": 14,
      "outputs": [
        {
          "output_type": "stream",
          "name": "stdout",
          "text": [
            "TF Version:  2.7.0\n",
            "TF_Hub Version:  0.12.0\n"
          ]
        }
      ]
    },
    {
      "cell_type": "markdown",
      "metadata": {
        "id": "X8wQ84rcW_Op"
      },
      "source": [
        "# "
      ]
    },
    {
      "cell_type": "code",
      "metadata": {
        "colab": {
          "base_uri": "https://localhost:8080/"
        },
        "id": "TpaA9y8JjrSS",
        "outputId": "9baf6395-4036-4eb8-c3d1-568f9358d813"
      },
      "source": [
        "# check for GPU availability\n",
        "print(\"GPU\", \"available!\" if tf.config.list_physical_devices(\"GPU\") else \"not available\")"
      ],
      "execution_count": 15,
      "outputs": [
        {
          "output_type": "stream",
          "name": "stdout",
          "text": [
            "GPU available!\n"
          ]
        }
      ]
    },
    {
      "cell_type": "code",
      "metadata": {
        "colab": {
          "base_uri": "https://localhost:8080/"
        },
        "id": "3Wuzk5BllQ-8",
        "outputId": "a477e62b-7ff3-408d-db1b-32f8b380c352"
      },
      "source": [
        "ls -la"
      ],
      "execution_count": 16,
      "outputs": [
        {
          "output_type": "stream",
          "name": "stdout",
          "text": [
            "total 1137\n",
            "-rw------- 1 root root 289424 Feb 24  2021 'Copy of TF2.0 Loading Data.ipynb'\n",
            "-rw------- 1 root root  55849 Feb 22  2021  daily-minimum-temperatures-in-me.csv\n",
            "drwx------ 2 root root   4096 Nov 28 21:29  \u001b[0m\u001b[01;34mdog_test\u001b[0m/\n",
            "drwx------ 2 root root   4096 Nov 28 20:31  \u001b[01;34mdog_train\u001b[0m/\n",
            "-rw------- 1 root root 298986 Dec  1 02:22  Kaggle-dog-breed-identification.ipynb\n",
            "-rw------- 1 root root 482063 Nov 28 03:14  labels_Kaggle_dog.csv\n",
            "-rw------- 1 root root  28023 Feb 19  2021  TF2.0Intro.ipynb\n"
          ]
        }
      ]
    },
    {
      "cell_type": "code",
      "metadata": {
        "id": "-oTQA1KwnOvv"
      },
      "source": [
        "\n"
      ],
      "execution_count": 16,
      "outputs": []
    },
    {
      "cell_type": "markdown",
      "metadata": {
        "id": "JX13y4owrHwz"
      },
      "source": [
        "## Gettting our data ready (turning it into tensors)\n",
        "With all machine learning models, our data has to be in numerical format. Turning our data into tensors (numerical format).\n",
        "\n",
        "Let's start by accessing our data and checking the labels."
      ]
    },
    {
      "cell_type": "code",
      "metadata": {
        "id": "ZddtEGPxsoOX"
      },
      "source": [
        "import pandas as pd\n",
        "labels_csv = pd.read_csv(\"labels_Kaggle_dog.csv\")"
      ],
      "execution_count": 17,
      "outputs": []
    },
    {
      "cell_type": "code",
      "metadata": {
        "colab": {
          "base_uri": "https://localhost:8080/",
          "height": 206
        },
        "id": "66pg21Pps_Nr",
        "outputId": "efd56520-5334-44db-abef-4e35a808de56"
      },
      "source": [
        "labels_csv.head()"
      ],
      "execution_count": 18,
      "outputs": [
        {
          "output_type": "execute_result",
          "data": {
            "text/html": [
              "<div>\n",
              "<style scoped>\n",
              "    .dataframe tbody tr th:only-of-type {\n",
              "        vertical-align: middle;\n",
              "    }\n",
              "\n",
              "    .dataframe tbody tr th {\n",
              "        vertical-align: top;\n",
              "    }\n",
              "\n",
              "    .dataframe thead th {\n",
              "        text-align: right;\n",
              "    }\n",
              "</style>\n",
              "<table border=\"1\" class=\"dataframe\">\n",
              "  <thead>\n",
              "    <tr style=\"text-align: right;\">\n",
              "      <th></th>\n",
              "      <th>id</th>\n",
              "      <th>breed</th>\n",
              "    </tr>\n",
              "  </thead>\n",
              "  <tbody>\n",
              "    <tr>\n",
              "      <th>0</th>\n",
              "      <td>000bec180eb18c7604dcecc8fe0dba07</td>\n",
              "      <td>boston_bull</td>\n",
              "    </tr>\n",
              "    <tr>\n",
              "      <th>1</th>\n",
              "      <td>001513dfcb2ffafc82cccf4d8bbaba97</td>\n",
              "      <td>dingo</td>\n",
              "    </tr>\n",
              "    <tr>\n",
              "      <th>2</th>\n",
              "      <td>001cdf01b096e06d78e9e5112d419397</td>\n",
              "      <td>pekinese</td>\n",
              "    </tr>\n",
              "    <tr>\n",
              "      <th>3</th>\n",
              "      <td>00214f311d5d2247d5dfe4fe24b2303d</td>\n",
              "      <td>bluetick</td>\n",
              "    </tr>\n",
              "    <tr>\n",
              "      <th>4</th>\n",
              "      <td>0021f9ceb3235effd7fcde7f7538ed62</td>\n",
              "      <td>golden_retriever</td>\n",
              "    </tr>\n",
              "  </tbody>\n",
              "</table>\n",
              "</div>"
            ],
            "text/plain": [
              "                                 id             breed\n",
              "0  000bec180eb18c7604dcecc8fe0dba07       boston_bull\n",
              "1  001513dfcb2ffafc82cccf4d8bbaba97             dingo\n",
              "2  001cdf01b096e06d78e9e5112d419397          pekinese\n",
              "3  00214f311d5d2247d5dfe4fe24b2303d          bluetick\n",
              "4  0021f9ceb3235effd7fcde7f7538ed62  golden_retriever"
            ]
          },
          "metadata": {},
          "execution_count": 18
        }
      ]
    },
    {
      "cell_type": "code",
      "metadata": {
        "colab": {
          "base_uri": "https://localhost:8080/",
          "height": 174
        },
        "id": "conlkbuPtKB7",
        "outputId": "67ba3788-5adb-4754-fcc0-1039bf312066"
      },
      "source": [
        "labels_csv.describe()"
      ],
      "execution_count": 19,
      "outputs": [
        {
          "output_type": "execute_result",
          "data": {
            "text/html": [
              "<div>\n",
              "<style scoped>\n",
              "    .dataframe tbody tr th:only-of-type {\n",
              "        vertical-align: middle;\n",
              "    }\n",
              "\n",
              "    .dataframe tbody tr th {\n",
              "        vertical-align: top;\n",
              "    }\n",
              "\n",
              "    .dataframe thead th {\n",
              "        text-align: right;\n",
              "    }\n",
              "</style>\n",
              "<table border=\"1\" class=\"dataframe\">\n",
              "  <thead>\n",
              "    <tr style=\"text-align: right;\">\n",
              "      <th></th>\n",
              "      <th>id</th>\n",
              "      <th>breed</th>\n",
              "    </tr>\n",
              "  </thead>\n",
              "  <tbody>\n",
              "    <tr>\n",
              "      <th>count</th>\n",
              "      <td>10222</td>\n",
              "      <td>10222</td>\n",
              "    </tr>\n",
              "    <tr>\n",
              "      <th>unique</th>\n",
              "      <td>10222</td>\n",
              "      <td>120</td>\n",
              "    </tr>\n",
              "    <tr>\n",
              "      <th>top</th>\n",
              "      <td>625ff10f472290f567bc57641c8409dc</td>\n",
              "      <td>scottish_deerhound</td>\n",
              "    </tr>\n",
              "    <tr>\n",
              "      <th>freq</th>\n",
              "      <td>1</td>\n",
              "      <td>126</td>\n",
              "    </tr>\n",
              "  </tbody>\n",
              "</table>\n",
              "</div>"
            ],
            "text/plain": [
              "                                      id               breed\n",
              "count                              10222               10222\n",
              "unique                             10222                 120\n",
              "top     625ff10f472290f567bc57641c8409dc  scottish_deerhound\n",
              "freq                                   1                 126"
            ]
          },
          "metadata": {},
          "execution_count": 19
        }
      ]
    },
    {
      "cell_type": "code",
      "metadata": {
        "colab": {
          "base_uri": "https://localhost:8080/",
          "height": 750
        },
        "id": "5EwiDtGTtbTp",
        "outputId": "d75c5bf4-b41b-42bc-d09c-e76f95644cee"
      },
      "source": [
        " # How many images are there of each breed\n",
        " labels_csv[\"breed\"].value_counts().plot.bar(figsize=(20,10))"
      ],
      "execution_count": 20,
      "outputs": [
        {
          "output_type": "execute_result",
          "data": {
            "text/plain": [
              "<matplotlib.axes._subplots.AxesSubplot at 0x7fdd425b0950>"
            ]
          },
          "metadata": {},
          "execution_count": 20
        },
        {
          "output_type": "display_data",
          "data": {
            "image/png": "[encoded data removed]",
            "text/plain": [
              "<Figure size 1440x720 with 1 Axes>"
            ]
          },
          "metadata": {
            "needs_background": "light"
          }
        }
      ]
    },
    {
      "cell_type": "code",
      "metadata": {
        "colab": {
          "base_uri": "https://localhost:8080/"
        },
        "id": "QoKMu-fouZo9",
        "outputId": "d0c317d7-dc7b-4a54-b62e-07510dbee74d"
      },
      "source": [
        "labels_csv[\"breed\"].value_counts().median()"
      ],
      "execution_count": 21,
      "outputs": [
        {
          "output_type": "execute_result",
          "data": {
            "text/plain": [
              "82.0"
            ]
          },
          "metadata": {},
          "execution_count": 21
        }
      ]
    },
    {
      "cell_type": "code",
      "metadata": {
        "colab": {
          "base_uri": "https://localhost:8080/"
        },
        "id": "UquJn2njq5AK",
        "outputId": "20e02603-ec4a-480d-e7b7-65ed1f610348"
      },
      "source": [
        "# Create pathnames from image ID's\n",
        "filenames = [\"dog_train/\" + fname +\".jpg\" for fname in labels_csv[\"id\"]]\n",
        "\n",
        "# check the first 10\n",
        "filenames[:10]"
      ],
      "execution_count": 22,
      "outputs": [
        {
          "output_type": "execute_result",
          "data": {
            "text/plain": [
              "['dog_train/000bec180eb18c7604dcecc8fe0dba07.jpg',\n",
              " 'dog_train/001513dfcb2ffafc82cccf4d8bbaba97.jpg',\n",
              " 'dog_train/001cdf01b096e06d78e9e5112d419397.jpg',\n",
              " 'dog_train/00214f311d5d2247d5dfe4fe24b2303d.jpg',\n",
              " 'dog_train/0021f9ceb3235effd7fcde7f7538ed62.jpg',\n",
              " 'dog_train/002211c81b498ef88e1b40b9abf84e1d.jpg',\n",
              " 'dog_train/00290d3e1fdd27226ba27a8ce248ce85.jpg',\n",
              " 'dog_train/002a283a315af96eaea0e28e7163b21b.jpg',\n",
              " 'dog_train/003df8b8a8b05244b1d920bb6cf451f9.jpg',\n",
              " 'dog_train/0042188c895a2f14ef64a918ed9c7b64.jpg']"
            ]
          },
          "metadata": {},
          "execution_count": 22
        }
      ]
    },
    {
      "cell_type": "code",
      "metadata": {
        "colab": {
          "base_uri": "https://localhost:8080/"
        },
        "id": "d2pMBokGsr6k",
        "outputId": "4a6f3732-f09c-4774-9995-85a6bef02065"
      },
      "source": [
        "len(filenames)"
      ],
      "execution_count": 23,
      "outputs": [
        {
          "output_type": "execute_result",
          "data": {
            "text/plain": [
              "10222"
            ]
          },
          "metadata": {},
          "execution_count": 23
        }
      ]
    },
    {
      "cell_type": "code",
      "metadata": {
        "colab": {
          "base_uri": "https://localhost:8080/",
          "height": 392
        },
        "id": "OIyLVC5uvTBO",
        "outputId": "eacd087f-bab7-4969-b26d-b5517b4ad0d8"
      },
      "source": [
        " # Let's view an image\n",
        " from IPython.display import Image\n",
        " Image(\"dog_train/001513dfcb2ffafc82cccf4d8bbaba97.jpg\")"
      ],
      "execution_count": 24,
      "outputs": [
        {
          "output_type": "execute_result",
          "data": {
            "image/jpeg": "[encoded data removed]",
            "text/plain": [
              "<IPython.core.display.Image object>"
            ]
          },
          "metadata": {},
          "execution_count": 24
        }
      ]
    },
    {
      "cell_type": "code",
      "metadata": {
        "id": "fl1EZMrDw0br",
        "colab": {
          "base_uri": "https://localhost:8080/"
        },
        "outputId": "c107c359-cf6f-4b8f-b995-f6122c6711bd"
      },
      "source": [
        "import os\n",
        "if len(os.listdir(\"dog_train/\")) == len(filenames):\n",
        "    print(\"Filenames match actual amount of files. Proceed\")\n",
        "else:\n",
        "    print(\"Filenames do not match actual amount of files. Check target directory\")"
      ],
      "execution_count": 25,
      "outputs": [
        {
          "output_type": "stream",
          "name": "stdout",
          "text": [
            "Filenames do not match actual amount of files. Check target directory\n"
          ]
        }
      ]
    },
    {
      "cell_type": "markdown",
      "metadata": {
        "id": "ZSWb2kQpx-yt"
      },
      "source": [
        "### Getting Images and their labels\n",
        "\n",
        "Let's get a list of all our image file pathnames"
      ]
    },
    {
      "cell_type": "code",
      "metadata": {
        "colab": {
          "base_uri": "https://localhost:8080/",
          "height": 206
        },
        "id": "MK6hW8mWyTui",
        "outputId": "b95b9e7b-04a0-4947-d4b2-eeb2b672edc6"
      },
      "source": [
        "labels_csv.head()"
      ],
      "execution_count": 26,
      "outputs": [
        {
          "output_type": "execute_result",
          "data": {
            "text/html": [
              "<div>\n",
              "<style scoped>\n",
              "    .dataframe tbody tr th:only-of-type {\n",
              "        vertical-align: middle;\n",
              "    }\n",
              "\n",
              "    .dataframe tbody tr th {\n",
              "        vertical-align: top;\n",
              "    }\n",
              "\n",
              "    .dataframe thead th {\n",
              "        text-align: right;\n",
              "    }\n",
              "</style>\n",
              "<table border=\"1\" class=\"dataframe\">\n",
              "  <thead>\n",
              "    <tr style=\"text-align: right;\">\n",
              "      <th></th>\n",
              "      <th>id</th>\n",
              "      <th>breed</th>\n",
              "    </tr>\n",
              "  </thead>\n",
              "  <tbody>\n",
              "    <tr>\n",
              "      <th>0</th>\n",
              "      <td>000bec180eb18c7604dcecc8fe0dba07</td>\n",
              "      <td>boston_bull</td>\n",
              "    </tr>\n",
              "    <tr>\n",
              "      <th>1</th>\n",
              "      <td>001513dfcb2ffafc82cccf4d8bbaba97</td>\n",
              "      <td>dingo</td>\n",
              "    </tr>\n",
              "    <tr>\n",
              "      <th>2</th>\n",
              "      <td>001cdf01b096e06d78e9e5112d419397</td>\n",
              "      <td>pekinese</td>\n",
              "    </tr>\n",
              "    <tr>\n",
              "      <th>3</th>\n",
              "      <td>00214f311d5d2247d5dfe4fe24b2303d</td>\n",
              "      <td>bluetick</td>\n",
              "    </tr>\n",
              "    <tr>\n",
              "      <th>4</th>\n",
              "      <td>0021f9ceb3235effd7fcde7f7538ed62</td>\n",
              "      <td>golden_retriever</td>\n",
              "    </tr>\n",
              "  </tbody>\n",
              "</table>\n",
              "</div>"
            ],
            "text/plain": [
              "                                 id             breed\n",
              "0  000bec180eb18c7604dcecc8fe0dba07       boston_bull\n",
              "1  001513dfcb2ffafc82cccf4d8bbaba97             dingo\n",
              "2  001cdf01b096e06d78e9e5112d419397          pekinese\n",
              "3  00214f311d5d2247d5dfe4fe24b2303d          bluetick\n",
              "4  0021f9ceb3235effd7fcde7f7538ed62  golden_retriever"
            ]
          },
          "metadata": {},
          "execution_count": 26
        }
      ]
    },
    {
      "cell_type": "code",
      "metadata": {
        "colab": {
          "base_uri": "https://localhost:8080/"
        },
        "id": "1RCd_W_Lygv3",
        "outputId": "96cd38ae-4a0d-40e8-9026-cc4838b589eb"
      },
      "source": [
        "# Create pathnames from image ID's\n",
        "filenames = [\"dog_train/\"+ fname+\".jpg\" for fname in labels_csv[\"id\"]]\n",
        "\n",
        "# Check the first ten\n",
        "filenames[:10]"
      ],
      "execution_count": 27,
      "outputs": [
        {
          "output_type": "execute_result",
          "data": {
            "text/plain": [
              "['dog_train/000bec180eb18c7604dcecc8fe0dba07.jpg',\n",
              " 'dog_train/001513dfcb2ffafc82cccf4d8bbaba97.jpg',\n",
              " 'dog_train/001cdf01b096e06d78e9e5112d419397.jpg',\n",
              " 'dog_train/00214f311d5d2247d5dfe4fe24b2303d.jpg',\n",
              " 'dog_train/0021f9ceb3235effd7fcde7f7538ed62.jpg',\n",
              " 'dog_train/002211c81b498ef88e1b40b9abf84e1d.jpg',\n",
              " 'dog_train/00290d3e1fdd27226ba27a8ce248ce85.jpg',\n",
              " 'dog_train/002a283a315af96eaea0e28e7163b21b.jpg',\n",
              " 'dog_train/003df8b8a8b05244b1d920bb6cf451f9.jpg',\n",
              " 'dog_train/0042188c895a2f14ef64a918ed9c7b64.jpg']"
            ]
          },
          "metadata": {},
          "execution_count": 27
        }
      ]
    },
    {
      "cell_type": "code",
      "metadata": {
        "id": "15rgeMyjzdLf",
        "colab": {
          "base_uri": "https://localhost:8080/"
        },
        "outputId": "2fbe75f6-8327-40d0-a572-c8a779394a3e"
      },
      "source": [
        "len(\"dog_train/\")"
      ],
      "execution_count": 28,
      "outputs": [
        {
          "output_type": "execute_result",
          "data": {
            "text/plain": [
              "10"
            ]
          },
          "metadata": {},
          "execution_count": 28
        }
      ]
    },
    {
      "cell_type": "code",
      "metadata": {
        "colab": {
          "base_uri": "https://localhost:8080/"
        },
        "id": "MeN-FeZfaFdu",
        "outputId": "276c0260-969e-4d99-d715-119d1beb253f"
      },
      "source": [
        "len(filenames)"
      ],
      "execution_count": 29,
      "outputs": [
        {
          "output_type": "execute_result",
          "data": {
            "text/plain": [
              "10222"
            ]
          },
          "metadata": {},
          "execution_count": 29
        }
      ]
    },
    {
      "cell_type": "code",
      "metadata": {
        "colab": {
          "base_uri": "https://localhost:8080/"
        },
        "id": "qiGN3PsjaR9i",
        "outputId": "a7e92369-a1d3-45a0-d688-a6baecc8234a"
      },
      "source": [
        "# Check whether number of files matches number of actual image files\n",
        "import os\n",
        "if len(os.listdir(\"dog_train/\")) == len(filenames):\n",
        "    print(\"filenames match actual amount of files. You may proceed with your useless life.\")\n",
        "else:\n",
        "    print(\"Filenames do not match actual amount of files, check the target directory\")"
      ],
      "execution_count": 30,
      "outputs": [
        {
          "output_type": "stream",
          "name": "stdout",
          "text": [
            "Filenames do not match actual amount of files, check the target directory\n"
          ]
        }
      ]
    },
    {
      "cell_type": "code",
      "metadata": {
        "colab": {
          "base_uri": "https://localhost:8080/",
          "height": 516
        },
        "id": "qLAogOmDgXnb",
        "outputId": "aa3aea04-7c67-4e7e-8c0a-1c1cd5452fef"
      },
      "source": [
        "# One more check\n",
        "Image(filenames[9001])"
      ],
      "execution_count": 31,
      "outputs": [
        {
          "output_type": "execute_result",
          "data": {
            "image/jpeg": "[encoded data removed]",
            "text/plain": [
              "<IPython.core.display.Image object>"
            ]
          },
          "metadata": {},
          "execution_count": 31
        }
      ]
    },
    {
      "cell_type": "code",
      "metadata": {
        "colab": {
          "base_uri": "https://localhost:8080/"
        },
        "id": "oHapmAnlwuoB",
        "outputId": "1392dee6-4710-4afe-d57b-83e60602c760"
      },
      "source": [
        "from IPython.display import Image\n",
        "print(labels_csv[\"breed\"][9001])\n"
      ],
      "execution_count": 32,
      "outputs": [
        {
          "output_type": "stream",
          "name": "stdout",
          "text": [
            "doberman\n"
          ]
        }
      ]
    },
    {
      "cell_type": "code",
      "metadata": {
        "colab": {
          "base_uri": "https://localhost:8080/"
        },
        "id": "7-0JKnN2zMQj",
        "outputId": "daff2972-7740-492a-933c-02aa6a61d63b"
      },
      "source": [
        "len(os.listdir(\"dog_train/\"))"
      ],
      "execution_count": 33,
      "outputs": [
        {
          "output_type": "execute_result",
          "data": {
            "text/plain": [
              "10242"
            ]
          },
          "metadata": {},
          "execution_count": 33
        }
      ]
    },
    {
      "cell_type": "code",
      "metadata": {
        "id": "Pf10EumM3ubt"
      },
      "source": [
        ""
      ],
      "execution_count": 33,
      "outputs": []
    },
    {
      "cell_type": "markdown",
      "metadata": {
        "id": "CbR_tUF9GavW"
      },
      "source": [
        "## Now we must turn the labels into numbers\n",
        "all the labels are in the form labels.csv\n"
      ]
    },
    {
      "cell_type": "code",
      "metadata": {
        "colab": {
          "base_uri": "https://localhost:8080/"
        },
        "id": "dSCQuhIPGgqj",
        "outputId": "62f631c4-bce4-445d-f522-190e75e19f7d"
      },
      "source": [
        "import numpy as np\n",
        "\n",
        "labels = labels_csv[\"breed\"].to_numpy()\n",
        "# labels = np.array(labels) #does same thing as above\n",
        "labels"
      ],
      "execution_count": 34,
      "outputs": [
        {
          "output_type": "execute_result",
          "data": {
            "text/plain": [
              "array(['boston_bull', 'dingo', 'pekinese', ..., 'airedale',\n",
              "       'miniature_pinscher', 'chesapeake_bay_retriever'], dtype=object)"
            ]
          },
          "metadata": {},
          "execution_count": 34
        }
      ]
    },
    {
      "cell_type": "code",
      "metadata": {
        "colab": {
          "base_uri": "https://localhost:8080/"
        },
        "id": "5GbjCb34HICb",
        "outputId": "f373b4ff-9e7d-43f2-9814-bf657ad68c70"
      },
      "source": [
        "len(labels)"
      ],
      "execution_count": 35,
      "outputs": [
        {
          "output_type": "execute_result",
          "data": {
            "text/plain": [
              "10222"
            ]
          },
          "metadata": {},
          "execution_count": 35
        }
      ]
    },
    {
      "cell_type": "code",
      "metadata": {
        "colab": {
          "base_uri": "https://localhost:8080/"
        },
        "id": "mdfluu8eHreD",
        "outputId": "e56b3835-31f6-4a61-a110-f6e1b52e5380"
      },
      "source": [
        "# See if number of labels matxhes the number of filenames\n",
        "if len(labels) == len(filenames):\n",
        "    print(\"Number of labels matches number of filenames\")\n",
        "else:\n",
        "    print(\"Number of labels does not match number of filenames, check data directories\")"
      ],
      "execution_count": 36,
      "outputs": [
        {
          "output_type": "stream",
          "name": "stdout",
          "text": [
            "Number of labels matches number of filenames\n"
          ]
        }
      ]
    },
    {
      "cell_type": "code",
      "metadata": {
        "id": "G_2l41DbJMS4"
      },
      "source": [
        ""
      ],
      "execution_count": 36,
      "outputs": []
    },
    {
      "cell_type": "markdown",
      "metadata": {
        "id": "4TvzcZYUJVoo"
      },
      "source": [
        "## Remember: Strings are not accepted in machine learning models. How do we find the unique labels??"
      ]
    },
    {
      "cell_type": "code",
      "metadata": {
        "colab": {
          "base_uri": "https://localhost:8080/"
        },
        "id": "hVhK1xSVJc6g",
        "outputId": "fcd10918-fc87-47a1-cd58-21ef74ecf080"
      },
      "source": [
        "# Find the unique labels\n",
        "unique_breeds = np.unique(labels)\n",
        "unique_breeds "
      ],
      "execution_count": 37,
      "outputs": [
        {
          "output_type": "execute_result",
          "data": {
            "text/plain": [
              "array(['affenpinscher', 'afghan_hound', 'african_hunting_dog', 'airedale',\n",
              "       'american_staffordshire_terrier', 'appenzeller',\n",
              "       'australian_terrier', 'basenji', 'basset', 'beagle',\n",
              "       'bedlington_terrier', 'bernese_mountain_dog',\n",
              "       'black-and-tan_coonhound', 'blenheim_spaniel', 'bloodhound',\n",
              "       'bluetick', 'border_collie', 'border_terrier', 'borzoi',\n",
              "       'boston_bull', 'bouvier_des_flandres', 'boxer',\n",
              "       'brabancon_griffon', 'briard', 'brittany_spaniel', 'bull_mastiff',\n",
              "       'cairn', 'cardigan', 'chesapeake_bay_retriever', 'chihuahua',\n",
              "       'chow', 'clumber', 'cocker_spaniel', 'collie',\n",
              "       'curly-coated_retriever', 'dandie_dinmont', 'dhole', 'dingo',\n",
              "       'doberman', 'english_foxhound', 'english_setter',\n",
              "       'english_springer', 'entlebucher', 'eskimo_dog',\n",
              "       'flat-coated_retriever', 'french_bulldog', 'german_shepherd',\n",
              "       'german_short-haired_pointer', 'giant_schnauzer',\n",
              "       'golden_retriever', 'gordon_setter', 'great_dane',\n",
              "       'great_pyrenees', 'greater_swiss_mountain_dog', 'groenendael',\n",
              "       'ibizan_hound', 'irish_setter', 'irish_terrier',\n",
              "       'irish_water_spaniel', 'irish_wolfhound', 'italian_greyhound',\n",
              "       'japanese_spaniel', 'keeshond', 'kelpie', 'kerry_blue_terrier',\n",
              "       'komondor', 'kuvasz', 'labrador_retriever', 'lakeland_terrier',\n",
              "       'leonberg', 'lhasa', 'malamute', 'malinois', 'maltese_dog',\n",
              "       'mexican_hairless', 'miniature_pinscher', 'miniature_poodle',\n",
              "       'miniature_schnauzer', 'newfoundland', 'norfolk_terrier',\n",
              "       'norwegian_elkhound', 'norwich_terrier', 'old_english_sheepdog',\n",
              "       'otterhound', 'papillon', 'pekinese', 'pembroke', 'pomeranian',\n",
              "       'pug', 'redbone', 'rhodesian_ridgeback', 'rottweiler',\n",
              "       'saint_bernard', 'saluki', 'samoyed', 'schipperke',\n",
              "       'scotch_terrier', 'scottish_deerhound', 'sealyham_terrier',\n",
              "       'shetland_sheepdog', 'shih-tzu', 'siberian_husky', 'silky_terrier',\n",
              "       'soft-coated_wheaten_terrier', 'staffordshire_bullterrier',\n",
              "       'standard_poodle', 'standard_schnauzer', 'sussex_spaniel',\n",
              "       'tibetan_mastiff', 'tibetan_terrier', 'toy_poodle', 'toy_terrier',\n",
              "       'vizsla', 'walker_hound', 'weimaraner', 'welsh_springer_spaniel',\n",
              "       'west_highland_white_terrier', 'whippet',\n",
              "       'wire-haired_fox_terrier', 'yorkshire_terrier'], dtype=object)"
            ]
          },
          "metadata": {},
          "execution_count": 37
        }
      ]
    },
    {
      "cell_type": "code",
      "metadata": {
        "colab": {
          "base_uri": "https://localhost:8080/"
        },
        "id": "ql8DznOAKTdy",
        "outputId": "53116b61-13cf-4500-c4bd-14f77d151312"
      },
      "source": [
        "len(unique_breeds)"
      ],
      "execution_count": 38,
      "outputs": [
        {
          "output_type": "execute_result",
          "data": {
            "text/plain": [
              "120"
            ]
          },
          "metadata": {},
          "execution_count": 38
        }
      ]
    },
    {
      "cell_type": "markdown",
      "metadata": {
        "id": "ol265lt7KsVO"
      },
      "source": [
        "## How would we turn a single array into an array of booleans?"
      ]
    },
    {
      "cell_type": "code",
      "metadata": {
        "colab": {
          "base_uri": "https://localhost:8080/"
        },
        "id": "6SAkWX9aKi_R",
        "outputId": "5e31669d-c3ac-4fd7-c94d-2f3a3d9a0fc4"
      },
      "source": [
        "print(labels[0])\n",
        "labels[0] == unique_breeds"
      ],
      "execution_count": 39,
      "outputs": [
        {
          "output_type": "stream",
          "name": "stdout",
          "text": [
            "boston_bull\n"
          ]
        },
        {
          "output_type": "execute_result",
          "data": {
            "text/plain": [
              "array([False, False, False, False, False, False, False, False, False,\n",
              "       False, False, False, False, False, False, False, False, False,\n",
              "       False,  True, False, False, False, False, False, False, False,\n",
              "       False, False, False, False, False, False, False, False, False,\n",
              "       False, False, False, False, False, False, False, False, False,\n",
              "       False, False, False, False, False, False, False, False, False,\n",
              "       False, False, False, False, False, False, False, False, False,\n",
              "       False, False, False, False, False, False, False, False, False,\n",
              "       False, False, False, False, False, False, False, False, False,\n",
              "       False, False, False, False, False, False, False, False, False,\n",
              "       False, False, False, False, False, False, False, False, False,\n",
              "       False, False, False, False, False, False, False, False, False,\n",
              "       False, False, False, False, False, False, False, False, False,\n",
              "       False, False, False])"
            ]
          },
          "metadata": {},
          "execution_count": 39
        }
      ]
    },
    {
      "cell_type": "code",
      "metadata": {
        "id": "IJgb-Ep_MqsX"
      },
      "source": [
        ""
      ],
      "execution_count": 39,
      "outputs": []
    },
    {
      "cell_type": "markdown",
      "metadata": {
        "id": "AfTWTP0ANBwg"
      },
      "source": [
        "### Turn every label into a boolean array (seems computationally expenasive?)"
      ]
    },
    {
      "cell_type": "code",
      "metadata": {
        "colab": {
          "base_uri": "https://localhost:8080/"
        },
        "id": "ncewNLFrNJ4s",
        "outputId": "bbc8c907-74f4-48ed-e389-d71baa752a15"
      },
      "source": [
        "boolean_labels = [label == unique_breeds for label in labels]\n",
        "boolean_labels[:2]"
      ],
      "execution_count": 40,
      "outputs": [
        {
          "output_type": "execute_result",
          "data": {
            "text/plain": [
              "[array([False, False, False, False, False, False, False, False, False,\n",
              "        False, False, False, False, False, False, False, False, False,\n",
              "        False,  True, False, False, False, False, False, False, False,\n",
              "        False, False, False, False, False, False, False, False, False,\n",
              "        False, False, False, False, False, False, False, False, False,\n",
              "        False, False, False, False, False, False, False, False, False,\n",
              "        False, False, False, False, False, False, False, False, False,\n",
              "        False, False, False, False, False, False, False, False, False,\n",
              "        False, False, False, False, False, False, False, False, False,\n",
              "        False, False, False, False, False, False, False, False, False,\n",
              "        False, False, False, False, False, False, False, False, False,\n",
              "        False, False, False, False, False, False, False, False, False,\n",
              "        False, False, False, False, False, False, False, False, False,\n",
              "        False, False, False]),\n",
              " array([False, False, False, False, False, False, False, False, False,\n",
              "        False, False, False, False, False, False, False, False, False,\n",
              "        False, False, False, False, False, False, False, False, False,\n",
              "        False, False, False, False, False, False, False, False, False,\n",
              "        False,  True, False, False, False, False, False, False, False,\n",
              "        False, False, False, False, False, False, False, False, False,\n",
              "        False, False, False, False, False, False, False, False, False,\n",
              "        False, False, False, False, False, False, False, False, False,\n",
              "        False, False, False, False, False, False, False, False, False,\n",
              "        False, False, False, False, False, False, False, False, False,\n",
              "        False, False, False, False, False, False, False, False, False,\n",
              "        False, False, False, False, False, False, False, False, False,\n",
              "        False, False, False, False, False, False, False, False, False,\n",
              "        False, False, False])]"
            ]
          },
          "metadata": {},
          "execution_count": 40
        }
      ]
    },
    {
      "cell_type": "code",
      "metadata": {
        "colab": {
          "base_uri": "https://localhost:8080/"
        },
        "id": "7yZ_VIPtNr3Z",
        "outputId": "46db02d4-2bb6-465e-9a42-e7e554fda67a"
      },
      "source": [
        "len(boolean_labels)"
      ],
      "execution_count": 41,
      "outputs": [
        {
          "output_type": "execute_result",
          "data": {
            "text/plain": [
              "10222"
            ]
          },
          "metadata": {},
          "execution_count": 41
        }
      ]
    },
    {
      "cell_type": "code",
      "metadata": {
        "id": "V4PxZNuROZbB"
      },
      "source": [
        ""
      ],
      "execution_count": 41,
      "outputs": []
    },
    {
      "cell_type": "markdown",
      "metadata": {
        "id": "kkj-Pk-rOv2Z"
      },
      "source": [
        "### Turning Boolean Arrays into Integers"
      ]
    },
    {
      "cell_type": "code",
      "metadata": {
        "colab": {
          "base_uri": "https://localhost:8080/"
        },
        "id": "LiHvK5gsO0EV",
        "outputId": "b2f0b023-e832-404a-e911-c8a216ad7846"
      },
      "source": [
        "print(labels[0]) # original labels"
      ],
      "execution_count": 42,
      "outputs": [
        {
          "output_type": "stream",
          "name": "stdout",
          "text": [
            "boston_bull\n"
          ]
        }
      ]
    },
    {
      "cell_type": "code",
      "metadata": {
        "colab": {
          "base_uri": "https://localhost:8080/"
        },
        "id": "BeOtfE23O9QD",
        "outputId": "5b82e72a-2c2a-4b1d-828a-f104691c6cd5"
      },
      "source": [
        "print(np.where(unique_breeds == labels[0])) # index where label occurs"
      ],
      "execution_count": 43,
      "outputs": [
        {
          "output_type": "stream",
          "name": "stdout",
          "text": [
            "(array([19]),)\n"
          ]
        }
      ]
    },
    {
      "cell_type": "code",
      "metadata": {
        "colab": {
          "base_uri": "https://localhost:8080/"
        },
        "id": "5KqAZjkSPSeg",
        "outputId": "1da32c11-acbc-4f35-c823-c80c0aec2f66"
      },
      "source": [
        "print(boolean_labels[0].argmax()) # index where label occurs in boolean array"
      ],
      "execution_count": 44,
      "outputs": [
        {
          "output_type": "stream",
          "name": "stdout",
          "text": [
            "19\n"
          ]
        }
      ]
    },
    {
      "cell_type": "code",
      "metadata": {
        "colab": {
          "base_uri": "https://localhost:8080/"
        },
        "id": "QHYN8kYdP1j-",
        "outputId": "784bbec4-9af7-431b-fba3-a1d36cd646d8"
      },
      "source": [
        "print(boolean_labels[0].astype(int)) # there should be a 1 where the sample label is"
      ],
      "execution_count": 45,
      "outputs": [
        {
          "output_type": "stream",
          "name": "stdout",
          "text": [
            "[0 0 0 0 0 0 0 0 0 0 0 0 0 0 0 0 0 0 0 1 0 0 0 0 0 0 0 0 0 0 0 0 0 0 0 0 0\n",
            " 0 0 0 0 0 0 0 0 0 0 0 0 0 0 0 0 0 0 0 0 0 0 0 0 0 0 0 0 0 0 0 0 0 0 0 0 0\n",
            " 0 0 0 0 0 0 0 0 0 0 0 0 0 0 0 0 0 0 0 0 0 0 0 0 0 0 0 0 0 0 0 0 0 0 0 0 0\n",
            " 0 0 0 0 0 0 0 0 0]\n"
          ]
        }
      ]
    },
    {
      "cell_type": "code",
      "metadata": {
        "colab": {
          "base_uri": "https://localhost:8080/"
        },
        "id": "F8Gnu8DlQPKg",
        "outputId": "1e2d6a1f-e8d2-42f0-b5d4-f728a4267475"
      },
      "source": [
        "print(labels[2])\n",
        "print(boolean_labels[2].astype(int))"
      ],
      "execution_count": 46,
      "outputs": [
        {
          "output_type": "stream",
          "name": "stdout",
          "text": [
            "pekinese\n",
            "[0 0 0 0 0 0 0 0 0 0 0 0 0 0 0 0 0 0 0 0 0 0 0 0 0 0 0 0 0 0 0 0 0 0 0 0 0\n",
            " 0 0 0 0 0 0 0 0 0 0 0 0 0 0 0 0 0 0 0 0 0 0 0 0 0 0 0 0 0 0 0 0 0 0 0 0 0\n",
            " 0 0 0 0 0 0 0 0 0 0 0 1 0 0 0 0 0 0 0 0 0 0 0 0 0 0 0 0 0 0 0 0 0 0 0 0 0\n",
            " 0 0 0 0 0 0 0 0 0]\n"
          ]
        }
      ]
    },
    {
      "cell_type": "code",
      "metadata": {
        "id": "UbVEluBsRKM5"
      },
      "source": [
        ""
      ],
      "execution_count": 46,
      "outputs": []
    },
    {
      "cell_type": "markdown",
      "metadata": {
        "id": "banMeTbbRV4B"
      },
      "source": [
        "## Now that we have our data in a workable format, we can work on our training and testing sets\n",
        "> It might seem rather computationally expensive to have >10,000 arrays to represent the boolean data-type tht we are representing, however, one must rememeber that we are working with NumPy calls, which are written in C, ad thus much faster than python calls. Furthermore, the data are arrays of numbers. This also enhances computational speed. Finally, we are working with a GPU. These are orders of magnitude faster than CPU's."
      ]
    },
    {
      "cell_type": "markdown",
      "metadata": {
        "id": "Yt7YF12x5QT5"
      },
      "source": [
        ""
      ]
    },
    {
      "cell_type": "code",
      "metadata": {
        "id": "H0fgDTjcReR7"
      },
      "source": [
        ""
      ],
      "execution_count": 46,
      "outputs": []
    },
    {
      "cell_type": "markdown",
      "metadata": {
        "id": "00sMWTQJ5Vym"
      },
      "source": [
        "## Creating Our own Validation Set\n",
        "> Keep in mind that Kaggle generally gives us only a training and test set. We must create our own validation set. Keep in mind:    \n",
        "* The training set is used to train a given model\n",
        "* The validation set is used to choose between models (for instance, does a random forest or a neural net work better for your problem? do you want a random forest with 40 trees or 50 trees?)\n",
        "* The test set tells you how you’ve done. If you’ve tried out a lot of different models, you may get one that does well on your validation set just by chance, and having a test set helps make sure that is not the case."
      ]
    },
    {
      "cell_type": "markdown",
      "metadata": {
        "id": "-dLF-7jj5OHW"
      },
      "source": [
        ""
      ]
    },
    {
      "cell_type": "markdown",
      "metadata": {
        "id": "j9WKiGFM5MXc"
      },
      "source": [
        ""
      ]
    },
    {
      "cell_type": "code",
      "metadata": {
        "id": "a6VTsD6M6c4S"
      },
      "source": [
        "# Set up X, y variables\n",
        "X = filenames\n",
        "y = boolean_labels"
      ],
      "execution_count": 47,
      "outputs": []
    },
    {
      "cell_type": "markdown",
      "metadata": {
        "id": "5n-1njyd6car"
      },
      "source": [
        "### Since we're working with over 10,000 images, maybe we could start by scaling down the number of images that we work with for now. We'll start off with 100 images and scale-up as needed"
      ]
    },
    {
      "cell_type": "code",
      "metadata": {
        "id": "LxnKAsWb7_J1"
      },
      "source": [
        "# set up number of images to use for experimenting\n",
        "NUM_IMAGES = 1000 #@param{type:\"slider\", min:1000, max:10000, step:1000}"
      ],
      "execution_count": 48,
      "outputs": []
    },
    {
      "cell_type": "code",
      "metadata": {
        "colab": {
          "base_uri": "https://localhost:8080/"
        },
        "id": "2FixZ5e-A_am",
        "outputId": "8dde4f6a-92c9-41d5-9426-a3cf4b7c1223"
      },
      "source": [
        "# Split data into training set and validation sets\n",
        "from sklearn.model_selection import train_test_split\n",
        "\n",
        "# Slit into training and validation of total size NUM_IMAGES\n",
        "X_train, X_val, y_train, y_val = train_test_split(X[:NUM_IMAGES],\n",
        "                                                  y[:NUM_IMAGES],\n",
        "                                                  test_size=0.2,\n",
        "                                                  random_state=42)\n",
        "\n",
        "len(X_train), len(y_train), len(X_val), len(y_val)"
      ],
      "execution_count": 49,
      "outputs": [
        {
          "output_type": "execute_result",
          "data": {
            "text/plain": [
              "(800, 800, 200, 200)"
            ]
          },
          "metadata": {},
          "execution_count": 49
        }
      ]
    },
    {
      "cell_type": "code",
      "metadata": {
        "id": "S1zH18wLESUv"
      },
      "source": [
        ""
      ],
      "execution_count": 49,
      "outputs": []
    },
    {
      "cell_type": "markdown",
      "metadata": {
        "id": "xTh17F-2Ekfj"
      },
      "source": [
        "### NOTE: we have set a total sample size of 1000, and we have a test-size set at 20%. \n",
        "**Thus we have traing sizes at 800 pics, and our validation at 200 pics** "
      ]
    },
    {
      "cell_type": "code",
      "metadata": {
        "colab": {
          "base_uri": "https://localhost:8080/"
        },
        "id": "RTft8APCFEJK",
        "outputId": "35a077c9-cbd9-4496-a238-790ba1b53bfd"
      },
      "source": [
        "# Look at the training data\n",
        "X_train[:5], y_train[:5]"
      ],
      "execution_count": 50,
      "outputs": [
        {
          "output_type": "execute_result",
          "data": {
            "text/plain": [
              "(['dog_train/00bee065dcec471f26394855c5c2f3de.jpg',\n",
              "  'dog_train/0d2f9e12a2611d911d91a339074c8154.jpg',\n",
              "  'dog_train/1108e48ce3e2d7d7fb527ae6e40ab486.jpg',\n",
              "  'dog_train/0dc3196b4213a2733d7f4bdcd41699d3.jpg',\n",
              "  'dog_train/146fbfac6b5b1f0de83a5d0c1b473377.jpg'],\n",
              " [array([False, False, False, False, False, False, False, False, False,\n",
              "         False, False, False, False, False, False, False, False, False,\n",
              "         False, False, False, False, False, False, False, False,  True,\n",
              "         False, False, False, False, False, False, False, False, False,\n",
              "         False, False, False, False, False, False, False, False, False,\n",
              "         False, False, False, False, False, False, False, False, False,\n",
              "         False, False, False, False, False, False, False, False, False,\n",
              "         False, False, False, False, False, False, False, False, False,\n",
              "         False, False, False, False, False, False, False, False, False,\n",
              "         False, False, False, False, False, False, False, False, False,\n",
              "         False, False, False, False, False, False, False, False, False,\n",
              "         False, False, False, False, False, False, False, False, False,\n",
              "         False, False, False, False, False, False, False, False, False,\n",
              "         False, False, False]),\n",
              "  array([False, False, False, False, False, False, False, False, False,\n",
              "         False, False, False, False, False, False, False, False, False,\n",
              "         False, False,  True, False, False, False, False, False, False,\n",
              "         False, False, False, False, False, False, False, False, False,\n",
              "         False, False, False, False, False, False, False, False, False,\n",
              "         False, False, False, False, False, False, False, False, False,\n",
              "         False, False, False, False, False, False, False, False, False,\n",
              "         False, False, False, False, False, False, False, False, False,\n",
              "         False, False, False, False, False, False, False, False, False,\n",
              "         False, False, False, False, False, False, False, False, False,\n",
              "         False, False, False, False, False, False, False, False, False,\n",
              "         False, False, False, False, False, False, False, False, False,\n",
              "         False, False, False, False, False, False, False, False, False,\n",
              "         False, False, False]),\n",
              "  array([False, False, False, False, False, False, False, False, False,\n",
              "         False, False, False, False, False, False, False, False, False,\n",
              "         False, False, False, False, False, False, False, False, False,\n",
              "         False, False, False, False, False, False, False, False, False,\n",
              "         False, False, False, False, False, False, False, False, False,\n",
              "         False, False, False, False, False, False, False, False, False,\n",
              "         False, False, False, False, False, False, False, False, False,\n",
              "         False, False, False, False, False, False, False, False, False,\n",
              "         False,  True, False, False, False, False, False, False, False,\n",
              "         False, False, False, False, False, False, False, False, False,\n",
              "         False, False, False, False, False, False, False, False, False,\n",
              "         False, False, False, False, False, False, False, False, False,\n",
              "         False, False, False, False, False, False, False, False, False,\n",
              "         False, False, False]),\n",
              "  array([False, False, False, False, False, False, False, False, False,\n",
              "         False, False, False, False, False, False, False, False, False,\n",
              "         False, False, False, False, False, False, False, False, False,\n",
              "         False, False, False, False, False,  True, False, False, False,\n",
              "         False, False, False, False, False, False, False, False, False,\n",
              "         False, False, False, False, False, False, False, False, False,\n",
              "         False, False, False, False, False, False, False, False, False,\n",
              "         False, False, False, False, False, False, False, False, False,\n",
              "         False, False, False, False, False, False, False, False, False,\n",
              "         False, False, False, False, False, False, False, False, False,\n",
              "         False, False, False, False, False, False, False, False, False,\n",
              "         False, False, False, False, False, False, False, False, False,\n",
              "         False, False, False, False, False, False, False, False, False,\n",
              "         False, False, False]),\n",
              "  array([False, False, False, False, False, False, False, False, False,\n",
              "         False, False, False, False, False, False, False, False, False,\n",
              "         False, False, False, False, False, False, False, False, False,\n",
              "         False, False, False, False, False, False, False, False, False,\n",
              "         False, False, False, False, False, False, False, False, False,\n",
              "         False, False, False, False, False, False, False, False, False,\n",
              "         False, False, False,  True, False, False, False, False, False,\n",
              "         False, False, False, False, False, False, False, False, False,\n",
              "         False, False, False, False, False, False, False, False, False,\n",
              "         False, False, False, False, False, False, False, False, False,\n",
              "         False, False, False, False, False, False, False, False, False,\n",
              "         False, False, False, False, False, False, False, False, False,\n",
              "         False, False, False, False, False, False, False, False, False,\n",
              "         False, False, False])])"
            ]
          },
          "metadata": {},
          "execution_count": 50
        }
      ]
    },
    {
      "cell_type": "markdown",
      "metadata": {
        "id": "R2QefUrv6kM3"
      },
      "source": [
        "## Preprocessing Images- i.e. turning images into tensors\n",
        "> to preprocess our images we need to write a function that\n",
        "1. Take an image filepath as input\n",
        "2. Use TensorFlow to read the file and save it to a variable `image`\n",
        "3. Turn `image` (a jpg) into Tensors\n",
        "4. Normalize the color channel values from 0-255 to 0-1 values\n",
        "5. Resize the `image` to be a shape of (224, 224)\n",
        "6. return the modified image\n",
        "\n",
        "**Remember images are easilt converted into NumPy arrays"
      ]
    },
    {
      "cell_type": "code",
      "metadata": {
        "id": "j9GlYoxbGJln",
        "colab": {
          "base_uri": "https://localhost:8080/"
        },
        "outputId": "29594fb2-479a-4a71-9cf3-a7fd8c0135f0"
      },
      "source": [
        "# convert an image to a NumPy array\n",
        "from matplotlib.pyplot import imread\n",
        "image = imread(filenames[42])\n",
        "image.shape # h,w,cc"
      ],
      "execution_count": 51,
      "outputs": [
        {
          "output_type": "execute_result",
          "data": {
            "text/plain": [
              "(257, 350, 3)"
            ]
          },
          "metadata": {},
          "execution_count": 51
        }
      ]
    },
    {
      "cell_type": "code",
      "metadata": {
        "id": "1OfcKR3t-nCr"
      },
      "source": [
        ""
      ],
      "execution_count": null,
      "outputs": []
    },
    {
      "cell_type": "code",
      "metadata": {
        "colab": {
          "base_uri": "https://localhost:8080/"
        },
        "id": "NichhngF9TD7",
        "outputId": "e6daf0f0-8879-4e79-b951-2bb4c589b9b8"
      },
      "source": [
        "image.max(), image.min()"
      ],
      "execution_count": 54,
      "outputs": [
        {
          "output_type": "execute_result",
          "data": {
            "text/plain": [
              "(255, 0)"
            ]
          },
          "metadata": {},
          "execution_count": 54
        }
      ]
    },
    {
      "cell_type": "code",
      "metadata": {
        "colab": {
          "base_uri": "https://localhost:8080/"
        },
        "id": "vpe4ZGv6-oJQ",
        "outputId": "622628ce-0d70-45c3-b7c1-ad7699e7b56a"
      },
      "source": [
        "# This is all very well, but nonsense for our purposes\n",
        "image[:2]"
      ],
      "execution_count": 56,
      "outputs": [
        {
          "output_type": "execute_result",
          "data": {
            "text/plain": [
              "array([[[ 89, 137,  87],\n",
              "        [ 76, 124,  74],\n",
              "        [ 63, 111,  59],\n",
              "        ...,\n",
              "        [ 76, 134,  86],\n",
              "        [ 76, 134,  86],\n",
              "        [ 76, 134,  86]],\n",
              "\n",
              "       [[ 72, 119,  73],\n",
              "        [ 67, 114,  68],\n",
              "        [ 63, 111,  63],\n",
              "        ...,\n",
              "        [ 75, 131,  84],\n",
              "        [ 74, 132,  84],\n",
              "        [ 74, 131,  86]]], dtype=uint8)"
            ]
          },
          "metadata": {},
          "execution_count": 56
        }
      ]
    },
    {
      "cell_type": "code",
      "metadata": {
        "colab": {
          "base_uri": "https://localhost:8080/"
        },
        "id": "IPDeP9_297qB",
        "outputId": "828d3061-b902-4b55-8a6d-d1269de145ad"
      },
      "source": [
        "# now we see the tensor- we can use this; we've turned our image into a tensor\n",
        "tf.constant(image)[:2]"
      ],
      "execution_count": 57,
      "outputs": [
        {
          "output_type": "execute_result",
          "data": {
            "text/plain": [
              "<tf.Tensor: shape=(2, 350, 3), dtype=uint8, numpy=\n",
              "array([[[ 89, 137,  87],\n",
              "        [ 76, 124,  74],\n",
              "        [ 63, 111,  59],\n",
              "        ...,\n",
              "        [ 76, 134,  86],\n",
              "        [ 76, 134,  86],\n",
              "        [ 76, 134,  86]],\n",
              "\n",
              "       [[ 72, 119,  73],\n",
              "        [ 67, 114,  68],\n",
              "        [ 63, 111,  63],\n",
              "        ...,\n",
              "        [ 75, 131,  84],\n",
              "        [ 74, 132,  84],\n",
              "        [ 74, 131,  86]]], dtype=uint8)>"
            ]
          },
          "metadata": {},
          "execution_count": 57
        }
      ]
    },
    {
      "cell_type": "markdown",
      "metadata": {
        "id": "QOkdRSjH__z-"
      },
      "source": [
        "## Now that we've seen what an image lookslike as a Tensor, let's make a function to pre-process them."
      ]
    },
    {
      "cell_type": "code",
      "metadata": {
        "id": "n0mXSxWL99tt"
      },
      "source": [
        "# Let us define the image size\n",
        "IMG_SIZE = 224\n",
        "\n",
        "# create a function that preprocesses images\n",
        "def process_image(image_path, img_size=IMG_SIZE):\n",
        "    \"\"\"\n",
        "    Takes an image file and turns it into a Tensor\n",
        "    \"\"\"\n",
        "    # Read in an image file (Look at the docs)\n",
        "    image = tf.io.read_file(image_path)\n",
        "    # Turn the jpg image into a Tensor with 3 color channels\n",
        "    image = tf.image.decode_jpeg(image, channels=3)\n",
        "    # Normalize the color channel values from 0-255 to 0-1 values\n",
        "    image = tf.image.convert_image_dtype(image, tf.float32)\n",
        "\n",
        "    return image\n",
        "    \n"
      ],
      "execution_count": 58,
      "outputs": []
    },
    {
      "cell_type": "code",
      "metadata": {
        "colab": {
          "base_uri": "https://localhost:8080/"
        },
        "id": "0Ppdk4akCIeQ",
        "outputId": "34127c32-f855-4085-ab91-64be15edd362"
      },
      "source": [
        ""
      ],
      "execution_count": 60,
      "outputs": [
        {
          "output_type": "execute_result",
          "data": {
            "text/plain": [
              "<tf.Tensor: shape=(), dtype=string, numpy=b'\\xff\\xd8\\xff\\xe0\\x00\\x10JFIF\\x00\\x01\\x01\\x00\\x00\\x01\\x00\\x01\\x00\\x00\\xff\\xdb\\x00C\\x00\\n\\x07\\x07\\x08\\x07\\x06\\n\\x08\\x08\\x08\\x0b\\n\\n\\x0b\\x0e\\x18\\x10\\x0e\\r\\r\\x0e\\x1d\\x15\\x16\\x11\\x18#\\x1f%$\"\\x1f\"!&+7/&)4)!\"0A149;>>>%.DIC<H7=>;\\xff\\xdb\\x00C\\x01\\n\\x0b\\x0b\\x0e\\r\\x0e\\x1c\\x10\\x10\\x1c;(\"(;;;;;;;;;;;;;;;;;;;;;;;;;;;;;;;;;;;;;;;;;;;;;;;;;;\\xff\\xc0\\x00\\x11\\x08\\x01\\xf4\\x01w\\x03\\x01\"\\x00\\x02\\x11\\x01\\x03\\x11\\x01\\xff\\xc4\\x00\\x1f\\x00\\x00\\x01\\x05\\x01\\x01\\x01\\x01\\x01\\x01\\x00\\x00\\x00\\x00\\x00\\x00\\x00\\x00\\x01\\x02\\x03\\x04\\x05\\x06\\x07\\x08\\t\\n\\x0b\\xff\\xc4\\x00\\xb5\\x10\\x00\\x02\\x01\\x03\\x03\\x02\\x04\\x03\\x05\\x05\\x04\\x04\\x00\\x00\\x01}\\x01\\x02\\x03\\x00\\x04\\x11\\x05\\x12!1A\\x06\\x13Qa\\x07\"q\\x142\\x81\\x91\\xa1\\x08#B\\xb1\\xc1\\x15R\\xd1\\xf0$3br\\x82\\t\\n\\x16\\x17\\x18\\x19\\x1a%&\\'()*456789:CDEFGHIJSTUVWXYZcdefghijstuvwxyz\\x83\\x84\\x85\\x86\\x87\\x88\\x89\\x8a\\x92\\x93\\x94\\x95\\x96\\x97\\x98\\x99\\x9a\\xa2\\xa3\\xa4\\xa5\\xa6\\xa7\\xa8\\xa9\\xaa\\xb2\\xb3\\xb4\\xb5\\xb6\\xb7\\xb8\\xb9\\xba\\xc2\\xc3\\xc4\\xc5\\xc6\\xc7\\xc8\\xc9\\xca\\xd2\\xd3\\xd4\\xd5\\xd6\\xd7\\xd8\\xd9\\xda\\xe1\\xe2\\xe3\\xe4\\xe5\\xe6\\xe7\\xe8\\xe9\\xea\\xf1\\xf2\\xf3\\xf4\\xf5\\xf6\\xf7\\xf8\\xf9\\xfa\\xff\\xc4\\x00\\x1f\\x01\\x00\\x03\\x01\\x01\\x01\\x01\\x01\\x01\\x01\\x01\\x01\\x00\\x00\\x00\\x00\\x00\\x00\\x01\\x02\\x03\\x04\\x05\\x06\\x07\\x08\\t\\n\\x0b\\xff\\xc4\\x00\\xb5\\x11\\x00\\x02\\x01\\x02\\x04\\x04\\x03\\x04\\x07\\x05\\x04\\x04\\x00\\x01\\x02w\\x00\\x01\\x02\\x03\\x11\\x04\\x05!1\\x06\\x12AQ\\x07aq\\x13\"2\\x81\\x08\\x14B\\x91\\xa1\\xb1\\xc1\\t#3R\\xf0\\x15br\\xd1\\n\\x16$4\\xe1%\\xf1\\x17\\x18\\x19\\x1a&\\'()*56789:CDEFGHIJSTUVWXYZcdefghijstuvwxyz\\x82\\x83\\x84\\x85\\x86\\x87\\x88\\x89\\x8a\\x92\\x93\\x94\\x95\\x96\\x97\\x98\\x99\\x9a\\xa2\\xa3\\xa4\\xa5\\xa6\\xa7\\xa8\\xa9\\xaa\\xb2\\xb3\\xb4\\xb5\\xb6\\xb7\\xb8\\xb9\\xba\\xc2\\xc3\\xc4\\xc5\\xc6\\xc7\\xc8\\xc9\\xca\\xd2\\xd3\\xd4\\xd5\\xd6\\xd7\\xd8\\xd9\\xda\\xe2\\xe3\\xe4\\xe5\\xe6\\xe7\\xe8\\xe9\\xea\\xf2\\xf3\\xf4\\xf5\\xf6\\xf7\\xf8\\xf9\\xfa\\xff\\xda\\x00\\x0c\\x03\\x01\\x00\\x02\\x11\\x03\\x11\\x00?\\x00\\xe6Tp\\x00\\x1c\\x0fN\\xf4\\xfc\\x00\\xb8\\xc6}\\xfa\\xf3H9\\xed\\xd3\\xb1\\xa7\\x02\\x061\\xff\\x00\\xea\\xa5r\\x05\\x18\\x18\\xf6\\xa7(\\xc0\\xeb\\xfaR\\x0c\\x03\\xd4~\\x06\\x9e\\x06@#\\xa5\\x04\\x8a:\\x01\\x80>\\xb4\\xbd\\xb1\\xf9q\\x9a\\x17\\x8f\\xfe\\xb1\\xa5\\xcf\\xa1\\xfa\\xd2\\x01z\\xfag\\xf9PW=F(\\x07\\xd3\\x8e\\xc2\\x9f\\xc19\\xa6\"<g\\xb0\\xfaP{\\xff\\x00\\x85)\\x01O\\xf54\\xb8\\xee9\\xf7\\xf5\\xa0\\x04\\xe3\\xb8\\xe7\\xd2\\x8cg\\xad8r9\\xa3\\xb6G\\xf8\\xd0\\x02c\\xbf\\xf9\\x14\\x98\\xc7\\xe1\\xebO8\\xc5\\'\\xbd\\x00\\'|s\\xc0\\xa5\\xc6:\\xd2\\x8ct\\xfeTv\\xed\\xef@\\xb6\\x13\\x00\\xf6\\xfch\\x03\\x8c\\xfa\\x8aPr3\\x9a:\\x13\\xcd\\x01\\xe6\\x18\\xf6\\xe2\\x8c\\x0f\\xa5/\\x1f\\x95\\x1dO\\x7f\\xc2\\x80\\x13\\x19\\xe7\\xf9\\xd1\\x8e\\x9cR\\xfa\\x81@\\x03\\xf2\\xfch\\x011\\xe9F=\\xbf\\n^\\x87\\xfc(\\xeb\\xf8\\xd0\\x02\\x01\\xdc\\x0c\\xd1\\x81\\xe9\\xfaS\\xbb\\x7f\\x8d\\x18\\xc7\\'9\\xcd\\x00 \\x04R`t\\x1f\\xca\\x9c9\\xa3\\xf1\\x19\\xf5\\xa0\\x06\\xe3\"\\x8c{S\\xb1\\xde\\x93\\xbf\\xf2\\xa4\\x00Gs\\xc7\\x1cRm\\xcei@\\xf6\\xfdh=\\t\\xcf\\xe5L\\x04\\xc6\\x061\\xda\\x93\\xb9\\xc8\\xf6\\xa7w#\\xbd!\\xc6zP\\x03@\\x18\\x1cc\\xebI\\x81\\xe9\\xf9\\xd3\\xfb\\x81\\x9f\\xc6\\x90\\x81\\xc69?ZA\\xb8\\xdcw\\xfc\\x85#.F\\x084\\xfc\\xf3\\xf5\\xf7\\xa4\\xfd(\\x19R\\xf2\\xd9nm\\x9e22q\\xc1\\xfaQ\\xa1\\xdd\\x17\\xb66\\xf2\\x0cI\\x06T\\xe7\\xd3\\xb1\\x15e\\xb0\\x0er\\x06z\\xe4\\xd6}\\xd5\\xbb\\xc18\\xba\\xb7\\xe1\\xbf\\x88\\x0e\\x8c(\\x19\\xb9pv\\xe1\\xf8*G\\x1cT\\x9cJ\\xaa1\\x9c\\xa8\\xc7\\xe5Y\\xf6\\xf7\\xf1_Y4\\x7fvX\\xc7\\xdd=~\\x95\"\\\\\\xecU\\xe4\\xf08\\'\\xbdM\\xbb\\x88\\xbd\\x02\\xed\\xdc?\\x1a\\x98\\xb6\\t\\xcf\\x03\\xda\\xabAs\\x1c\\x8d\\x90@\\xf5\\x1d*W\\x98F\\xa5\\xce\\xde\\x07<\\xf6\\xa4\\xc6\\x99\"\\xc6.fX#\\x19\\x91\\xf9$\\xff\\x00\\x02\\xf75cQ\\x82;Ku\\x824\\xda\\xa0\\xf1\\xea~\\xb5s@\\xb4a\\x13]\\xc8\\xb8y\\xbaq\\xf7W\\xb0\\xa4\\xd6\\x93\\xfd\"1\\xd8\\x0c\\xe7\\xd6\\x90\\\\\\xc9\\x86-\\xb1\\xe5\\xf9\\xcfj*a\\xf3\\x1e:zf\\x8a\\x06s \\xf3\\x83\\xc7\\xa1\\xa7\\xe38\\xe3\\x9c\\xfa\\xd3\\x06?\\xfa\\xd4\\xf5\\xe3\\x8e\\xfe\\x9e\\xb5\\xa8>\\xe4\\x8az\\x83\\xcfn\\x98\\xa7/~~\\xb4\\xc0:\\x8e1\\xdb\\xda\\x9e3\\x8e\\xe0\\xf6\\xe2\\x8168\\xf4\\xe8\\x7f\\xc6\\x81\\xcfo\\xfe\\xb5\\x03\\xa7\\x1e\\x94\\x05\\xc0\\xa4\\x17\\xd41\\xc63\\x8c\\xf6\\xa7g\\x9epy\\xa8\\xe6\\x99b\\x8c\\xc8\\xfd\\x05\"\\xba\\xdcF\\x1e7\\x04}zS\\x17B`8\\xf7\\xa4\\x1ds\\xfc\\xa9\\xa8\\xe0\\xa9R9\\x14\\xfe\\x0f\\xa8\\xc5\\x00\\xc5\\x1c\\x9f\\xa5\\x03\\xaf\\xad!p\\x0f\\xa8\\xa1Y_<~4\\t\\x0b\\xd3\\xbe=\\xc8\\xa3\\x1c\\xff\\x00\\x8d\\x18\\x1fO\\xc2\\x8c`\\xf4\\xfc(\\x00\\xfc(\\xa3\\x18\\xeb\\x9c\\xd0z\\xe7\\x14\\x81\\xa1{\\xd0:\\xf1\\x83K\\x8f\\xc7\\x8a?<{\\xd3\\x01\\x7f<\\xfa\\xd2\\x1f\\xa7\\x14\\x01\\xd0w\\xe9N\\xc7|`R\\x10\\xd3\\xd0Q\\x8eF)x\\xfa{\\xd1\\x81\\x9ey\\x1fZ`!\\x1e\\x99\\xa5\\x1d~\\x94\\xa0w\\xc1\\xe9I\\x8e\\xf8\\xa0l1\\xf8\\xe2\\x8c`\\x0c\\x0c\\xd2\\x91\\x91\\xd34\\x0f\\xce\\x80\\x01\\x8f\\xc0\\xd1\\xd7\\x8e\\xdfZ1\\xd4\\xfe\\xb4b\\x90\\x01\\xe6\\x93\\xafC\\xcd/N\\xa0\\xd1\\xfex\\xa0C{\\xd0y\\xff\\x00\\n\\x0f\\xbd\\x1e\\xbe\\x94\\x14&3\\xfc\\xe9=\\xa9\\xc4v\\xa4\\xc6\\x08\\xff\\x00\"\\x81\\t\\xc9\\x1e\\xff\\x00ZB8\\xe0\\xd2\\xe0\\x03\\x81\\xf9\\xd0z\\n\\x01\\r\\xfdr}(\\xe0\\xf5\\xf6\\xa0\\xe78\\xc6h8\\xe9\\xd6\\x80\\x10\\xf4\\xc7\\xe9Le\\x0c\\xac\\xa6\\xa4\\xc0\\x19\\xf5\\xe9Ma\\x8eE\\x033\\xaem\\xbea,D\\xa4\\x89\\xceGz|W3yCz\\x13\\xdf\"\\xadH\\x80\\xf3\\xdb\\xa5T%!,\\xad\\xf7{f\\xb3\\x1a\\xd4\\x1e\\xfe(Yr\\xdb\\x1f\\xf8A\\xc8\\xfe\\x95\\xb5j\\xc7P\\xb8\\x86\\xdf\\xee\\x82w?\\xd0v\\xaeFH\\xdfU\\xbcT\\x8c\\x1d\\xaaq\\xb8r\\x05w\\x9e\\x1e\\xb5X\\xaf\\x19z\\x98\\xd0\\x06$w5[ z#\\xac\\x81\\x128\\xd5\\x10p\\x07Z\\xcb\\xd6\\x10\\xb3!\\x1e\\xfc\\xd6\\xaad\\x8e\\x07\\x15\\x05\\xf4\\x1b\\xd1N\\x07\\x07\\x9a\\x86\\xc9L\\xc0\\x08@\\x1d\\xa8\\xabrE\\xb4\\xf4\\xfaQJ\\xe38\\x81\\xfa\\xfb\\xd4\\x8a\\x08\\xe9\\x8ab\\xf2:\\x03\\xfe{S\\xd79\\xc6\\x07\\xa7=\\xabq\\x8f\\x07\\x03\\xd4\\x8e\\x994\\xaay\\xc7zg\\xb1\\x02\\x9e\\t\\x07\\xb5!\\x12\\x01\\xe8x\\xf5\\xc5)\\xef\\x8e\\xa4S\\x03q\\xedN\\xc9\\xf4\\xef\\xebE\\xc0\\xa5\\r\\xcbI+\\xdb\\xcf\\xf7\\xb3\\xc7\\x1dEA\\x97\\xd3n\\xf8\\xe6\\x19\\x0f \\xf4\\x15=\\xe5\\x99\\x94\\t#;d_N\\xf5\\\\\\xbc\\x97\\xb15\\xbc\\xc8VE\\xe8\\xc0pi_\\xb9\\xa2\\xb5\\x8b\\xee\\xe0\\xe2@x=\\xe8\\xfbG\\xcd\\x81\\xc0\\xef\\xcdG\\x15\\xab$\\x01\\x1d\\xc9aY\\xf3]<\\x13yn\\xbdN7\\x01\\xc0\\xa5v\\xc8k]\\r\\x93\\xc8\\xeb\\x9a\\x17\\xe55\\x1d\\xb3\\x92\\xa07q\\xc151\\\\\\x1e\\x9d(D\\xecH0\\xc2\\x90\\x82O\\\\\\xd2!\\x00\\xe0\\x9cS\\xf1Uq\\t\\x8f~\\x94c\\x8a^\\x99\\xce3G<z\\xe6\\x80\\x13\\x91N\\xf7\\x19\\xc5&}\\xa9\\x7f\\x87\\xb5\\x03\\x17\\x1e\\x84\\xf1I\\xc5/\\xd3\\x8a\\x01\\xcd\\x02\\x0e\\xe3\\x9cc\\xde\\x809\\x14z\\xd1\\x8c\\x7f\\x85\\x00\\x1d\\xfd\\x07^\\x94u\\'\\x1f\\xa5/>\\x9d\\xe8\\xf7\\xf44z\\x8cN\\x07\\xf4\\xa3\\x9cdR\\x9e9\\xfc\\xe9rx=h\\x10\\x98\\xc94\\x9d\\xb3\\xfd){\\xf3HO\\x04z\\xd1q\\x87\\'\\x8f\\xd6\\x829\\xfch\\xf5\\xcd\\x1f\\x85\\x00\\x83\\xd2\\x9aI\\xf5\\xe7\\xb5;\\x1d\\xe9\\x0fO\\xd2\\x80\\x13\\xb5&3\\xfe\\x14\\xe2z\\xf7\\xc7zN\\xa3\\x91@\\x84\\xc7\\xeb\\xedHG\\x06\\x9d\\x8fLRs\\xd4\\x8a\\x00iP{\\xd2\\x1e\\xbf\\x8d;\\x9f\\xc6\\x90\\xfa\\x8e\\x94\\x00\\xdfl\\xd1\\xeb\\xd6\\x97\\x1e\\xdf\\x9d!<\\xe3\\xb8\\xe9J\\xe3\\x1b\\x81\\x82\\xa7\\xa5a\\xea\\xb2\\xbc\\xd3\\xad\\xacG\\xe6\\'\\xa8\\xad\\xb9\\x0e\\xd4,1\\xc0\\xc8\\xe6\\xb14\\xf53^\\xcdpF\\xec\\x1c\\n]n\\\\Mm.\\xcd-\\xa2\\\\\\x0f\\x9b\\x82\\xc4w5\\xd5\\xf8y7\\xdcLq\\xc9#\\xafn+\\x9a\\xb5\\x97\\xe7\\x08\\xdc\\x1e\\x985\\xd2\\xf8y\\x82\\xcd0=I\\x07\\x19\\xf6\\xa1\\x91&t\\xa1\\x90\\x003\\x9fS\\xebC\\x8d\\xcb\\xb4\\xf4=\\xa9\\xe9\\x08U\\x0c\\xff\\x00/\\xd6\\xa3y\\x10\\x10\\x03\\x0cVlE)\\xed\\xf9\\xe9\\x9a*\\xdbm#\\xa7Z)\\x0e\\xe7\\x96\\xa8\\xe7\\x18\\xa7\\x81\\xcf\\xd3\\xd2\\x98\\x0e~\\x87\\xad?\\x1d\\xfaWAM\\xf6\\x1c\\x07\\xcaz\\x91NR:\\x03\\xc7\\xa50g\\x9ct\\xf5\\xc58d\\xfa~4\\x84\\xc7\\xafni\\xd9\\xc0\\xef\\xc507\\x14\\x81\\xc9 )\\xe3=h\\x10\\xac\\xdc\\xe0\\x1ehTU%\\xb8\\xdc{\\xe2\\x8c\\x84\\\\\\xe4\\xfe5\\x1b\\xc8\\xc1\\x81\\xfe\\x13\\xe9P\\xf5\\x19#\\xb9\\xda\\n\\x9f\\x97\\xbdE%\\xb2M\\xb5\\xc8\\xe4sO\\xce\\x0f=\\r\\x08\\n\\x1c\\xf5S\\xcd \\x18\\xb9F\\x1bj\\xd4n\\x1d{\\xee\\xefP\\xba\\x7f\\x10\\xe9H\\x8cQ\\x81${\\xfbQ\\xd6\\xc2z\\x96\\x8a\\xfb\\xf1\\xebJ\\xa6\\x85;\\xd4\\x1e9\\xf4\\xa4\\xc1\\x079\\xaa\\xb8\\x90\\xfc\\x13\\x9a:f\\x95N\\xee\\xd4b\\xa8\\x04\\x03==(\\xe3\\x8aP\\x0f\\xe7G<\\xe0\\xd00#\\xd74\\xa3$\\xff\\x00\\x81\\xa4\\xc7\\xff\\x00\\xae\\x97\\xae\\x7f\\xa5 \\x00\\x0e;\\xd1\\xdb\\xdb\\xd2\\x97\\x9a\\x0f\\x1dx\\xe3\\xa1\\xa6\\x02c\\xb7<\\xf4\\xa5\\xc7L\\x83\\xc7z^\\xfcs\\xc5\\x18\\xe3 \\x7f\\xf5\\xe8\\x04\\x18\\xfa\\xfbRc\\xb0\\xce3K\\x8aLs\\xef\\xe9@\\x08\\x07\\xaf\\xd7\\x8a\\x0f\\xa7jp\\xcd!\\x04v\\x19\\xfaR\\x10\\x98\\xfa\\xfe4\\x99\\xef\\x9e){\\x9foJB\\x0f\\xe1L`y\\xe7\\xd6\\x82=?Z?Z\\x0f<u\\x1e\\xb4\\x90\\x08G>\\xdf\\x957\\x1f_Zy^{S\\x7f:b\\x13\\x04v\\xe7\\xe9I\\xd3\\x9f\\xc3\\x14\\xbd:\\xe3\\xad\\x19\\xda\\x0eM\\x02\\x13\\xfcj9\\x1d#R\\xcc\\xd8\\xa8\\xa7\\xbf\\x8e\\x10T\\x1c\\xb7`\\x06j\\xb4V7z\\x84\\xc1\\xa7\\xccQ\\x13\\x90\\xbd\\xc8\\xa0\\xa5\\x1b\\x8e\\x17s\\\\\\xc9\\xe5Z\\xc6\\xce\\xc7\\x83\\xb4t\\xfa\\x9a\\xb8\\x9a]\\xdc\\x9c\\xc9.\\xc2z\\x85\\xed]\\x05\\x95\\x8c\\x16Va \\x87b\\x81\\xcb\\x1e2}hT.\\xf8\\xc5M\\xc1\\xb3\\x14\\xe8\\xb9R\\xb2N\\xe7#\\xb1\\xa6\\xdbh\\x91\\xd9\\xab,n\\xc7w$5o\\x88z\\xb6\\x07\\xb5D\\x8b\\xb9\\xf0A>\\xc0\\xd2\\xd4.e-\\x82\\x97\\x06Vf\\x00\\xf1\\xb7\\x8cV\\x9e\\x9fr\\x96w\\xca\\xea\\xc4\\xab\\xfc\\xa7#85e\\xadw(\\xf9Nj\\x17\\xb2\\xc78\\xc6=*v\\x07\\xa9\\xb2\\xf2\\xbc\\xbf3\\xbb1\\xec)\\x01e\\x039\\xfag\\x8a\\xa1\\x04\\xef\\x16\\x15\\xc1e\\xe9\\x9fJ\\xd3\\x89\\xd5\\xc0*A\\x07\\xd2\\x81\\x00\\xb9d?2\\x93E;`9\\xe2\\x8a\\x90<\\xd8S\\x81\\xed\\xd3\\x8f\\xce\\x9b\\xbb=\\x87\\xe3Q\\\\]Gl\\x85\\x9d\\xc7L\\x01\\xdc\\xd7E\\x86\\xc9\\xf7z\\xd0_\\'j\\xe7\\xf1\\x15\\x95\\x1b\\xdc\\\\\\xcb\\xe6\\xb1\\xda\\x9d\\x97\\x15\\xa7\\x1a\\xb1\\xc1c\\xc6{\\xd2\\x96\\x80\\x99\"\\xeen\\xe7o\\xebJYS\\x00\\x0e~\\x94\\xd1*\\x86\\xda\\x0e\\r\\x19\\xceI\\xe4\\x8e\\xf5-\\x80e\\x8b\\x10\\xf8 \\x9e\\xb8\\xa5PH\\xd8zg\\xa9\\xefM\\xe1\\xf8\\xe8\\xd4\\xe5\\xe5y\\xeb\\xe9J\\xe3`\\xb8\\xce\\xc6\\xe9\\xebR\\x0c}\\xd3\\xd2\\x98Wx\\xe3\\x86\\x1d)\\xcb\\xb4\\x9c\\x1f\\xbc)1\\x08\\x8cU\\xf66pz{R\\xba`\\xe7\\x1d{\\xd3\\x98\\x07\\xff\\x00xP\\x87w\\xcaz\\xfb\\xf7\\xa0\\x18\\xb0\\xc8U\\xb0{\\xd5\\x9cq\\xc7\\xe9T\\xd8m$\\x13S\\xc3.~S\\xd7\\xebM1\\x12\\x0c\\x83\\xc8\\xa7\\x8ei\\x08\\xcf_\\xe5F}\\x7f\\x9d;\\x80\\xbd;\\xd0z`\\xf7\\xa5\\xeb\\xdf\\x9a9\\xe7\\x14\\xc6&\\x068\\xa3\\x9f\\xca\\x97\\xb0\\xc5\\x1f\\x85&\\x01\\xef\\x81\\x8al\\xaf\\xe5\\xa1n\\xb4\\xe3\\xcf\\x19\\xfc*\\x86\\xae\\xec\\x96\\xd9\\\\\\x8c\\xfaS@\\xb5\\x15o\\xf2\\xf8\\xdc\\xa7\\xda\\xaf+\\x12\\x81\\x99\\x19G\\xa9S\\\\\\xee\\x83\\x1a\\xcf\\xaaF$\\xe4\\x0f\\x9b\\x9fZ\\xf4x\\xad\\x11\\xe0^8\"\\xb1\\x9dG\\x19Y\\x1d0\\xa0\\xa5\\x1b\\xb6s\\x83\\x1d\\x8d\\x18\\xc7\\xff\\x00Z\\xaf\\xea\\x16\\x0fm\\xfb\\xc4\\x07a\\xea:\\x9c\\xd6q\\x921\\xfcC\\xe9\\x9a\\xd22R\\xd8\\xc6Qq\\x1d\\xces\\x8ei1\\x9e\\xd5\\x13]\\xc2\\xbd\\x1b$\\xf4\\x02\\x99\\xf6\\x89\\x1c~\\xee2O\\xa9\\xe0U\\x12O\\xf5\\xef\\xda\\x8cd\\xff\\x00\\x9ei\\x8a\\x97,\\xb9fT\\xcf\\xa1\\xcd*X\\xb4\\x9f\\xf2\\xf2\\x1b\\xd4g\\x14\\xae\\x02\\xe7\\xdc~4\\x99\\x1d2\\x0f\\xe3N6\\n\\xa7\\xe7l\\x8f\\\\\\xd2\\xfd\\x92$\\x00\\xe1H\\xf7\\xa2\\xe8V\\x19\\xb8\\x1c\\x1c\\x8c\\x1a\\x8eI\\x91\\x07\\xcc\\xdc\\xfbrMX\\xfb4X\\xff\\x00T\\xa4{qL)on\\xc1\\xd2<Jx\\\\w\\xa2\\xe1b$\\x8a\\xeet.\\x90\\xf9Q\\x8f\\xe2\\x90\\xe3?\\x85#i\\xf3H\\xdf\\xbc\\x98*\\xe3\\xa8\\x18\\xfc\\xaa\\xf2$\\xd2\\xa8i\\xe5f=\\x87@*d\\xb6w\\xfb\\x91\\xb3\\xf3\\xd7\\x14\\xae\\xc3b\\x85\\xae\\x9b\\x04l<\\x94\\xdc\\xff\\x00\\xdeo\\x98\\x9f\\xf0\\xad\\xdb\\x1d#k\\t$R\\xcc:\\x0e\\xc2\\x8bk)\\x13\\x03\\xcb+\\xea\\xc6\\xb4\\xe3\\x80\"\\xe7v}\\xa8\\xb8\\x9b#\\x9d\\n\\xa1R\\xaa\\xaa=\\rUD9\\xc61\\x9a\\xba\\xe9\\x9f\\xa7\\xbdUy\\x15\\x1b\\t\\xf3\\x1a\\x10\\xae=\\x97\\xe5<\\x0cU{h|\\xcb\\x93\\xc7\\xca\\xb5`G \\x89\\xa4\\x93*\\xbd\\x86y5>\\x9do\\xb57\\x1e\\xe7$\\xfa\\xd2\\x02S\\x0f\\x1d0)\\x86\\x0c\\x8c\\x90q\\xfc\\xea\\xf2\\xc5\\xb8\\x81\\x8e\\x05)\\x8fq\\x03\\x1c\\x0eqH.e\\xb5\\xb1f\\xc8\\x00}i\\x9eD\\xb1\\x1c\\xc6q\\x9e\\xde\\xb5\\xaea\\xcf^\\x9f\\xce\\x98b\\xdb\\xc8\\x18\\xa4\\xd0\\xeeT\\x86\\xe0\\x90\\x04\\x88Q\\x80\\xeb\\x8e\\r\\x15tB\\xbf\\xc5\\xfc\\xa8\\xa5v\\x07\\x90^^\\x9bp\\x11\\x01,\\xde\\xdc\\n\\xa5\\x142\\\\M\\xbeBX\\xf5\\xe7\\xa5i<i\\'\\xf0\\x82{\\x93\\xda\\x9f\\x1ci\\n\\xf0?Z\\xe8r\\xd3B\\xad\\xad\\xc7\\xc5\\x12\\xa0\\xcf\\x1cw\\xcd)}\\xed\\xb5O\"\\xa3g/\\x9e\\xd8\\xe9I\\x8d\\xc3\\xfd\\xa1\\xd4T\\x85\\xf5\\x1e\\xa7\\x7f^\\xa3\\xa58\\xb1`p\\x00 \\xf4\\xebMQ\\xbfkt#\\xaf\\xbdH\\xaa\\xa3\\x9c~]\\xea\\x00N\\\\\\x06\\x1c\\x11\\xfa\\xd3\\xc3\\xee\\x1c\\x0c7pi\\x18\\x15;\\x87a\\xd0R\\x80>\\xfa\\xf1\\x9a\\x00RI\\x03i\\x00\\xfaS\\xb7dnQL\\'\\x0c\\x1dA\\xfaS\\xd0`\\xe7\\xb1\\xed@\\n0F\\xe0q\\xf4\\xa7m\\x0f\\xf3\\x0e\\xb4\\x81p\\xfct>\\x94\\xe3\\x959\\x1f\\xa1\\xa0\\x05+\\xb8u\\xf9\\x85F\\tV\\x04pGjq\\xdc\\x08lqJ\\xc9\\x91\\x9094\\x84Y\\x8d\\xc3\\xaf=~\\x940\\xe7\\x8a\\xab\\x1b\\x94`qV\\xd4\\x87\\\\\\xf6\\xa6\\x98\\x85S\\x8e\\x08\\xf6\\xcd)\\xfe^\\xf4\\xc3\\xc5<\\x1c\\xf7\\xe6\\xa9\\x00\\x1c\\x90h\\xc6x>\\x94\\xb8\\xfe})8\\xcd2\\x85\\xc7\\x035SP\\x87\\xce\\xb7#\\x15j\\x98\\xf8\\x11\\x9d\\xdd1I\\x029\\xbd>sc\\xa9F\\xec0\\x03`\\x8fJ\\xf4\\xcd:\\xe9\\x9d\\x17a\\x04\\x8e\\x80\\xf7\\xaf7[W\\xd4u\\x06\\x8e\\x1c`u=\\x85t\\xba5\\xd4\\x96n\\xb6\\xb7\\x19\\x0e\\xbfu\\xbf\\xbc+:\\xb1\\xbb\\xb9\\xd7F_e\\x9d\\x95\\xc4f\\xe5Hh\\xca\\xae8\\x06\\xb0\\xaf4tY|\\xd4\\x8c1\\x1d\\x88\\xeb]\\x1d\\xad\\xccw1\\xa9b\\t\\xe9R\\xbc*\\xe3\\n\\xb8\\xf7\\xac\\x1f\\xbb\\xaa7qMr\\xb3\\x90\\xf9cl\\x1bEC\\xea\\x17#\\xf3\\xabQ\\xdb\\xb4\\x83\\xe5\\x8d\\x06{\\x91\\x9a\\xdd\\x9bNWR\\xbb\\x06\\x08\\xe7\\xd6\\xb3\\xda\\xce\\xe6\\xd1\\xb7B~A\\xfc\\r\\xd2\\xaa5;\\x9c\\xd3\\xa1\\xd6$i\\xa4+|\\xcf\\xfa\\x0cT\\xa7NH\\x86U2;\\x1cf\\xa6\\x86\\xfe\"\\xc1%\\xfd\\xd3\\x7f\\xb7\\xd0\\xfd\\r[b\\xa5r\\t \\xf4 dV\\xa7+M;30\\xc2\\x84r\\xaa\\xca}Fj\\'\\xb0\\x85\\xb3\\x84^{b\\xaeH\\xbb\\\\\\x8eF{UyfH\\xd7\\xe6`?Zd\\x99\\xd3YA\\x1a3\\x10P\\x8fCQ\\xd9iR]K\\xe6\\x15%\\x8fL\\xf6\\xadK[9/\\xe5\\x0e\\xe0\\x88\\x97\\x95S\\xdf\\xde\\xbaK[$\\x89\\x17j\\x0f\\xa0\\xa0.eX\\xf8~$\\xc3I\\xf3\\xb0\\xf5\\xabw\\x16\\xe9\\n\\xae\\xc5\\x03\\xb1\\x00V\\xa9@\\xa7\\xae*\\xa5\\xd2\\x07S\\x8ey\\xcd\\x02\\xb9\\x9b\\xb7w\\x18\\x14y!Nq\\xfa\\xd3\\x9d\\x82\\x13\\xf4\\xab60\\x1b\\x88\\x8b\\xed;s\\x80h\\xb0\\x14\\xa5\\x8cL02\\x17\\xbf\\xbdW\\x8a\\xd9M\\xc8\\x8dG\\xb9\\xad\\x89,$BH\\x0cG\\xa0\\xa8\\xa3\\x89m\\xad\\xe5\\xbbq\\xf3\\x1e\\x10\\x1a`g\\xdd\\'\\x99p\\xb0\\xaeJ\\xc7\\xcb\\x0fSW\\xa0\\x89U@\\xe4\\x1fj\\x8e\\xda\\xc6B\\x9e{\\xe4o9\\xc9\\xef\\x9a\\xbd\\x1c;@#$P\\x03U1\\xd3\\xbd;\\xcb\\xc2\\x81\\x8e\\xb5*\\xa6\\x06qNUn\\xbbM\\x00D\\x90\\x96<\\x8c\\x0fz\\n\\x0c\\xf03\\x8f\\xe252\\x81\\x8eT\\x8c\\xfa\\xd2\\xed\\xce0\\xb8\\x14\\x80\\xab\\xb1\\xb7\\x1c\\x00E\\x15o`\\xcf\\\\g\\x93\\xebE+\\x0c\\xf1L\\x85\\x07\\x03\\xb7\\x14\\x8c\\x0b\\x0e\\x1b\\xe6\\xcf\\x15\\x18c\\xceH\\xcfjpb~R>oJ\\xd4\\xd5\\x86wd\\xff\\x00\\x10\\xeai\\xddp\\xcb\\xf7\\x87jo\\xdf;\\x81\\x19\\x1d\\xbdi\\xc9\\xd40<w\\xa9$xl\\r\\xc0g\\xf1\\xa5-\\x8c8\\xe4Sq\\x8c\\x15\\xc6=)\\xc0\\x10\\t8\\xdaz\\xe6\\x90\\x00<\\x96\\xe3\\x1d\\xf3\\xda\\xa4\\x04\\x0e\\xe3\\x1fJ\\x8f\\xee7\\xa8\\xcf\\x14\\xf5!s\\x9eA\\xed\\xd6\\x9f\\xa0\\x0e\\x03\\x07\\xaf\\xcbO\\xc8\\x1cz\\xd4y\\xc7\\xcb\\x8e?\\x95=p>V\\xe7\\xdf\\xad \\x1c\\x0e\\x0f\\'\\x8e\\xd4\\xa0\\x91\\xd4p{\\xd3}\\x8f\\xa7\\x1cP\\xbc|\\xa4\\xe3\\xde\\x86\\xc0\\x90`}\\r m\\x87\\xd8\\xd0\\xa3q\\xc1\\xfc\\xe9@\\xcf\\xcaF?\\x1a\\x045\\x97\\xb8\\xc6=M>\\tJ0S\\xfa\\xd0\\x07\\x18#\\x8a\\x8d\\x97i\\xfa\\x1e\\xd4\\x9b\\x0f\"\\xef\\\\`\\xd2\\x03\\x83\\xc7\\xf2\\xa8\\xa0\\x93p\\xd8\\xc7\\x9a\\x94\\x8e?\\xc6\\x9a`?\\x86\\x19\\xa4\\xe8;~4\\xd0rq\\xc5R\\xd4/DCny\\xf4\\xaa\\xdcv\\xb9i\\xe7\\x8d;\\xe7\\xe9Y\\xfa\\x95\\xf8\\x11\\xf9q\\xfd\\xe6\\xe3\\xad\\x1au\\xad\\xce\\xaa\\xecA\\xf2\\xe2\\x07\\x04\\x8e\\xa6\\xb5\\xbf\\xb1c\\xb7\\x19\\xd9\\xb8\\xfa\\xb75\\x94\\xaa\\xc6\\x0e\\xddN\\x9at%=H|<\\x96\\x96\\xd1y\\x93I\\x82~f8\\xc9>\\xc2\\xb6o\\xefl\\xae\\xed\\xfc\\xa8,\\xd8\\xb0\\xfb\\xaeN\\xd2\\x0f\\xadP\\xb5\\xb7D\\xb8P\\x00\\x1b\\x8e1Zmn\\xa8\\xfd\\x00\\xac\\xa5U\\xbdlm\\x1c2\\xbd\\xdb*\\xd8_\\xddY\\xe3\\xce\\x05\\x94\\x7f\\x12\\xff\\x00Z\\xe9l\\xb5h\\xe7@\\xc1\\xc75\\x93\\x0c\\x08\\xed\\xd3\\xad=\\xb4\\xa03$,bon\\x87\\xf0\\xa8R\\xbe\\xe6\\xce:\\x1d,7(\\xf9\\x1djB\\x91\\xca\\xbd\\xb1\\xed\\\\\\xb4W\\xf3ZJ#\\xba\\x1bI\\xfb\\xad\\xd9\\xab^\\xde\\xfc8\\x18j\\xa2\\x1a,\\xcf\\xa7A\"\\xfc\\xc9\\x9a\\xcd\\x93O\\x96\\xd9\\x8b[J\\xf1\\xf3\\xf7A\\xc8?\\x85nG6\\xf5\\xc9\\xc5H\\xa8\\x8f\\xefR\\xa4\\xd6\\xcc\\x87\\x14\\xd6\\xa72\\xf3\\xcc\\xcc\\x12\\xe8\\x06Q\\xd5\\x91p\\x7f*\\xb3\\x15\\xb4W8[x\\xcc\\x8a>\\xf3\\x81\\xdf\\xd3\\x9a\\xd3\\xb9\\xd3\\xe3pN\\xd1\\x9a\\xcc\\x11\\xddXO\\xe6\\xdb\\xb1R\\x0f*z0\\xf4\"\\xb5\\x8c\\xfb\\x9c\\xf3\\xa2\\xbe\\xc9\\xb3ka.\\xd0\\xbbV%\\x1e\\x9c\\x9a\\xb6\\x96\\x8d\\xd0\\xc8\\xe4}j\\xbd\\x86\\xb9kr\\x04s~\\xe6o\\xee7C\\xf45y\\xaebC\\x80w7\\xa2\\x8c\\xd6\\x87+M=F=\\xacH\\xbf0\\xce\\x06I&\\xb3\\xae\\xaflm\\xd1\\x8e\\xf1\\xbb\\xa0\\x03\\xa9\\xaa\\x1e\"\\xd7\\xde\\xda/.5ei8\\x075\\xcei\\xc6K\\x89%\\x96L\\xba\\xa1\\n\\x01<\\x12i\\xda\\xe2\\xb7Sj\\xd9\\x8d\\xfd\\xda\\xc0\\xa0\\x85c\\x96\\xc7\\\\W^\\x96\\xf1\\xdb[\\xach0\\x05ai\\xd3[i\\xb1\\xef\\x94\\xaa\\xbb|\\xccx\\xcdM.\\xbe\\x97\\x0f\\xe5\\xc2\\xacNp\\x08\\x14\\xfc\\x80\\xd2\\x91\\xfc\\xc6\\xf2P\\xff\\x00\\xbe}\\x05RhWR\\xbcX\\xc0\\x1eD\\'\\x8f\\xf6\\x8d\\x13M\\xe4[\\xac1\\xe4\\xcd7~\\xe3\\xde\\xb4\\xf4\\xfb1o\\x02\\x82\\x07Nh@U\\xd4\\x95b\\x81UF00*\\xb4D\\x15_aVu\\xa7\\x04\\xacc\\xf1\\xaa\\xb1\\x8d\\x98\\xe2\\x84&\\x89\\xc2f\\x97`\\xebO\\x8ceEH\\xa9\\xd2\\x81\\x91m<g\\xa5\\x00\\x06n\\x9c\\n\\x93`f\\xe7?\\x95;\\x00\\x1c\\x0eh\\x02\\x06Q\\xed\\xf8\\x9a*R\\x83?t\\x92{QR\\x07\\x84\\xe3=\\xf0\\xc3\\xbd7nG\\x1fxu\\x14\\x1es\\xfc\\xc8\\xc5=\\t9\\x18?J\\xd2\\xe6\\xa1\\xb4\\x8f\\x9b\\x90\\xde\\x94\\xf59 \\xfe\\'4\\x87\\x8c\\x90i:`\\xa9\\xe3\\xd2\\xa4l\\x91@\\x03<\\xd3\\x88\\x00d\\xe7\\x04\\xfaS\\x01\\xe0c\\xa7\\xf2\\xa5\\xdd\\xdb#\\x07\\xd0P\\xc4\\xc5\\xf6=\\t\\xe2\\x94q\\xf2\\x9f\\xc3\\x9aES\\xd0\\x9e*U\\x1d\\x01\\xeb\\x8e(\\x10\\x8a\\xbf\\xc3\\xcf\\xb1\\xa5\\xc8\\'\\x04\\x1c\\xd0y\\x04\\xf7\\xa4\\xe5\\xba\\xf0\\xde\\xb4\\x00\\xf4\\xc6\\xdc\\x1e\\xa2\\x9d\\xb4\\xed\\xe4d\\xfa\\xe6\\x98\\x01#\\x83\\x83\\x9ay\\xfa\\xf4\\xa0\\x01~of\\x06\\x9d\\xc3\\x01\\xcf>\\xb4\\xc3\\xf3\\r\\xc3\\xefS\\xd4n\\x19<\\x1e\\xf4\\x98\\x0f\\xdb\\x91\\xcd1\\x94\\xb0\\xeb\\xc8\\x14\\xf1\\xff\\x00\\xd7\\xa6\\xb0=FI\\xa0\\x08K\\x149\\xcf5b\\x0b\\x80\\xeb\\x83\\xd4u\\xaa\\x17R\\x95\\xed\\xdb\\xd2\\x9f\\xa7$\\x8e\\xe2_)\\xa4\\x8b8l\\x0e\\x82\\x8b\\r-.i\\xbcL\\x14?P{\\xd7;\\xabqs\\xc9\\xeb\\xfaWk\\x1d\\xb4o\\x0001*\\xc3%\\x1dp\\xc3\\xe9\\xeb\\\\\\xed\\xd6\\x85$\\x97\\xe1\\xe5u\\x11n\\xfd*\\x93\\x08\\xbb\\x1a\\xfe\\x0e\\x96\\xdc[*\\xc82\\x15\\xbea\\xd0\\xd6\\xb5\\xeb\\xc4X\\x94\\x1f/\\xa5S\\x8bL\\xb4\\xc86\\xecS\\xb0(q\\x9cz\\xd2\\\\Z\\xa2\\x03\\xe7_0\\x03\\xb0\\x02\\xb9\\xe5\\x06\\xdd\\xd1\\xd9O\\x11\\x08\\xab2$\\x91\\r\\xc2\\x11\\xd05_\\xb8\\xb8\\x8c\\x9c\\xe4W=ssk\\x07\\x11\\xac\\xd20\\xfe2\\xd8\\x02\\xb2\\xe4\\xbd`\\xcc\\xfb\\xe4v\\xec\\t8\\x15<\\x8c\\xb7\\x88M\\xe8v1jV\\xd1\\xae\\xe3 \\xca\\x8epsU\\xa7\\xf19\\x04\\xc7\\x021\\x00u\\xae@\\xce\\xd28\\xc1\\xc6\\x7f\\x84t\\x14\\x9fhx\\xf2\\xc4\\xe0\\xe7=:UF\\x9d\\x8c\\xe5]\\xb5\\xa1\\xbf>\\xadqz\\xbb]\\xc6\\xde\\xbc\\x8e*[\\x1dVKVP$\\xde\\xa7\\xb1\\x04\\xd7>\\xb7G\\x01\\x97\\x01\\xbb\\n\\x9c\\xbbl\\x0e\\x18.8>\\xd5|\\xaa\\xc6\\x1e\\xd2W\\xb9\\xd9[\\xf8\\x92@9\\x8c6\\x0f5v\\xd3\\xc66\\xfb\\xb1s\\x1b\\xa2\\xff\\x00\\xb3\\xcdp\\x0b9\\x0b\\xf2>A\\xf7\\xeb\\xedR\\t\\x83ed\\r\\x81\\xdf\\x1d\\r.X\\xf6\\x1f\\xb5\\x9b=5<O\\xa5N\\x00[\\x95B\\x7f\\xbf\\xc5Z\\x12\\xc3p\\xbb\\x91\\xd5\\xd4\\xf4*s^B\\xf3\\xed$\\x12\\t\\r\\x8e\\x9f\\xe7\\x9a\\x9a\\xdbR\\xba\\xb3\\x97u\\xac\\xcd\\x11=\\x00n\\xbf\\xd2\\x8eD57\\xd4\\xf4\\xcb\\x9b\\x08\\xe4\\xceTg\\xb6\\x05U\\xfe\\xd3\\xb9\\xd2\\x14\\xfc\\xc2H\\xfams\\xc8\\xfa\\x1a\\xe5\\xa2\\xf1\\x9e\\xa4\\xb1\\x84\\x91c\\x97\\xb0r0\\x7fJ\\xa1w\\xab\\\\\\xdf\\xca\\r\\xcb\\x9d\\xb9\\xe8\\xa7\\x81J)\\xa7\\xb8JQ\\x92\\xd5\\x1b\\x93]\\x9d^\\xfc<\\x99\\x198D\\xc6kB\\x1d\\x96ZA\\x92O\\xdd\\x95\\x90\\xb3\\x8e\\xf8\\x1d+\\x9a\\xb3\\xbf\\xdbu\\x0bG\\xbbr\\x9c\\x01\\xeai5\\x9dV\\xe2U\\xfb\\'\\x98R0~`\\x06I>\\xf5\\xb2Z\\x1c\\xef{\\x1a0\\xea\\x86\\xf2\\xe9\\x9ay<\\xb5c\\xcb\\x1ep\\xbd\\x80\\xad\\xc8\\xa4\\x10\\xc4\\xad\\x0b\\xb2\\x96\\x19\\xc9ns\\xf4\\xaf>&g!\"R\\xe0\\x1e\\xa4\\xf1Wc\\x9fT\\xb6\\xc7\\x96\\x87 }\\xd5\\x1b\\xb3\\xf8zSVbq\\xeczN\\x8dr\\x86\\xf4\\xcby3\\x06<\\r\\xe9\\xc7\\xe7]r\\xc8\\x8c\\x99F\\x04c\\xa85\\xe2\\xf1k\\x9a\\xec!|\\xd8\\xe6\\x0b\\x91\\x8d\\xd1\\x90\\xb5\\xb7a\\xe3;\\xa8\\x01\\x8a\\xeaB\\x06y\\xe0\\xe0{c\\xb5;i\\xa1:\\xa3\\xb3\\x9b\\xfd\"\\xe9\\x9d\\xbe\\xea\\xf7\\xa8\\x03\\xee$\\xf6\\xcf\\x15R\\xd3[\\xb4\\xb8_)&]\\xcc\\xbb\\x86\\x1b\\xadY\\x8cn\\x0b\\x83\\xc0\\xeajm`/B\\xc0\\x8fz\\xb2\\xab\\x9e\\xd5F\\xd9\\xc1\\x90\\x8e\\x80V\\x84c+\\xd7\\x04\\xfaP\\x01\\xb4\\x83\\xc7\\xe7F\\xce\\xe7#\\xde\\xa4\\xdb\\x9fziFb==)\\x01\\x13.{\\xd1Slo\\xf6@\\xa2\\x80>y\\x07\\x9d\\xa7\\xf0 \\xd4\\x80\\xe1q\\x81\\xec)\\xb8\\xc8\\xc1\\xe3\\xd0\\xd0\\x08\\xc9^\\xe3\\xf5\\xad\\rG\\x06\\'&\\x9e6\\x8eTd\\x1aj\\x8d\\xdd\\xf0~\\x94\\xf1\\x80:\\x8f\\xa5H\\x08\\t\\xeb\\xd8\\xd4\\x83\\xd0\\xf4\\xcd0q\\xc6\\t\\x18\\xeci\\xc3\\xe5<\\x9e>\\x94\\x87bUa\\xf8c\\xad&\\xeeH\\xc0\\xcflS\\x07pI\\xe3\\xd6\\x9d\\x8c\\x8fC\\xebA#\\xd4\\x13\\x8e\\x99\\x14\\xe3\\xcf#\\xa8\\xa6\\x03\\x91\\x81\\xd4w\\xa7\\x01\\x9c\\x1a6@;9\\xe4\\x0e\\x9dh\\xcfB\\x0f\\xd6\\x8e\\x874u\\xf9\\x85\\x17\\x01\\xc3\\xd7\\xb58\\x101\\xd8R(\\xc7N)\\xc3\\x02\\x90\\x0e\\x18\\xc8 ~t\\x8e\\xdbW\\xa5(>\\x94\\x8d\\xf7O\\x7f\\xad\\x17\\x19\\x8b|\\xec\\x93\\x15\\xed\\xf4\\xad\\xef\\x08\\xc9\\'\\xcf\\x89#\\x01z\\x06\\xf7\\xaez\\xff\\x00\"f\\xdcs\\xf4\\xad\\x9f\\nj\\r`\\xd2\\x86\\x85]O \\xb0\\xcf?J\\xa7\\xb0\\xda\\xd0\\xf4\\x18\\x05\\xa4\\xf0,r\"\\x96\\x1c\\x86\\x1e\\xb5\\x91\\xabX\\x80\\xad\\xb0\\xee\\x18\\xe9\\x9aD\\xd6\\xa7\\xbb*#E\\x039\\xec\\xb8\\xfd*\\xcc7\\xf6W\\x88\\xeb>\\xe8\\xd8p\\xc4\\xf3\\x8a\\x9b4es\\x90/=\\x92\\x86I\\x0e\\xd2q\\x92x\\x15Y\\x9eI\\xc3Iq! \\x9f^\\x07\\xd6\\xba\\xdb\\x8f\\x0fZ\\xdc;4W+$-\\xd4\\x8e\\x9f\\x95g?\\x82n$p\\x90\\xdc\\xae\\xd2rK\\x02x\\xa2\\xe5\\xa6\\x8eN\\xe2Q#2)\\x08\\xa3\\xf5\\xa8\\x90\\xc9\\xb9B\\x00@\\xfcs]\\x8c\\xbe\\t{H\\xc9iQ\\xc6s\\x80+9\\xf4\\xa1m\\x93\\xb1s\\xfc#\\xd4\\xd3\\xba\\xb6\\x83\\xe61M\\xb3\\xbb6\\x10\\x01\\xcf\\xcc\\x82\\x9e-\\xd2ITc\\x18\\x19 \\x8c\\x03\\xeakb\\xdfO\\xb8v\\xc3.\\xc5>\\xd8\\xa7\\x1d5\\xed\\xa4\\xcaFd\\xdcJ\\xb8c\\xc6}\\x8f\\xad \\xb9\\x90\\xf10\\xb8T\\xe3\\xe7\\xc6s\\xda\\x99 \\x91 \\xdc\\xb8\\x03$\\x03\\xd7\\xa5l\\x1d)\\xe5l\\xa3\\x9e\\xa3*z\\x8cv4\\xdb\\x8d*Ke\\xdb!a\\x96 \\x0cc\\x1f\\xe3J\\xe8w2m\\t\\nL\\x8b\\xcb\\x12q\\xe9Mi\\\\\\x87O\\x98\\x07l\\x91Z_g)\\x1e\\xd59\\xc1\\xc0\\x15T\\xd8\\xb3;\\x96R\\x15\\xcf\\x19\\xe8)\\xe9p\\xb9\\x0cv\\xdb\\xd7\\x03\\x91\\xf7\\x98\\x03\\xd0t\\xa4\\x96\\xd9\\xe3\\x99v\\x06p\\xc3=:U\\x86\\xb5\\x92&\\x02\\x16e=\\xc3w\\xc5\\\\\\x87\\x98\\xf6\\xb32\\xca\\xa4\\xedq\\xc04\\xfc\\xd0\\xae\\xcc\\x92\\xac\\xae\\xdb\\x01 \\x8f\\xe2\\x15:[\\xdc\\xac\\xa0F\\x85\\x81\\xeb\\x81\\x8a\\xe94\\x9b(.%\\x02r\\xb8\\xc7\\'\\x1f\\xa5u\\x96\\xd6\\x10c\\xcdD]\\xa0aW\\xa74\\t\\xc8\\xe3\\xac,\\x1a\\xc1\\x05\\xdc\\xf1\\xee\\x99\\xc1\\n\\x80gf}+\\x9d\\xbd\\x99\\xcd\\xec\\xa5\\x98\\x16-\\x92=+\\xd3\\xa6\\xb77 \\xa1*\\xbcd\\xed\\x19\\xcf\\xb7\\xb5r\\x1a\\xaf\\x87\\x8c^m\\xcaG*\\xaa\\x9c\\x9d\\xa3 }M\\x17\\x08\\xbdJ\\x9a\\\\ip\\xdeXu\\xdc\\x7f\\x89\\xb8\\x15\\xd1\\xc3\\xa5K\\x03\\xa9\\xf2\\x80lq\\xe8\\xd5\\x97\\xe1X\\x19/\\x19fVxGT\\xdb\\xeb\\xd0\\x8fJ\\xef\\x12\\x04\\x9a\\x05\\x868\\xce\\x14e\\x1b9\"\\xa6N\\xcc\\xd6*\\xe8\\xca\\xb6\\xbc\\x96\\xc9\\x82\\x98J\\x80r?\\x88\\x1f\\xc0\\xd6N\\xa1\\x1d\\xa5\\xfd\\xd4\\xb3\\xcblD\\x8e\\xf9/\\x1b\\x11\\xff\\x00\\x8e\\xd6\\xe5\\xc1hnM\\xbc\\xa0\\x1c\\x8cn\\xea\\xa4\\xff\\x00\\xfa\\xaa\\xb5\\xc6\\x9e[t\\x91\\xaf\\xdd\\xe4\\xa8\\xe0\\xe3\\xd6\\x92\\x91.(\\xc6\\x83Gy\\x1c\\x9b+\\xa5r\\xab\\xc2\\x0f\\x91\\xff\\x00_\\xf1\\xadM;Y\\xb8\\xb7Q\\x0c\\xee%Pv\\x9e\\xa1\\xc7\\xf45E\\xf7\\xa1\\xdc\\x0eNy\\xabv\\xa2+\\x89\\x89\\xba?+a_a\\xc3\\x01\\xeb\\x8a\\xd1J\\xe6R\\x8d\\x8e\\x9e\\xc6\\xee\\t\\xc8x\\xddH=\\xbb\\x8fj\\xd8\\xb6`\\xc9\\xb8\\xf75\\xc4\\xae\\x87{f\\xcd-\\xa9Y!\\x07)*78\\xf7_Z\\xd2\\xd3|B\\xd0\\x11\\x15\\xe2c\\x07\\x19\\x03\\x9f\\xca\\x9d\\xaf\\xb1\\x1a\\x9dhQ\\x8e\\x94m\\xa6[\\xcf\\x1d\\xcc\"H\\xdbr\\x9e\\x86\\xa5\\xe9Sa\\x8d+\\xc6(\\xa1\\xbau\\xa2\\x90\\xae|\\xf0\\xc0\\x9e;\\x8fZ@\\xa4\\x1f\\xf6\\x87z\\\\\\xf4\\xe2\\x86\\\\\\xa8\\xc7QZ3aW$\\x86\\x14\\xec\\xf2\\x0fn\\xf4\\xd1\\xc0\\xcf\\xf1q\\xd2\\x94\\x10>\\xef\\xa5@\\n[\\x03\\x9f\\xbb\\x8aU=3\\xf7M&\\x068\\x1c\\x13\\x8a\\\\\\x801\\xea\\x7f*\\x04(l\\x10\\x0f^\\xd5 \\xc9<\\xf5\\xe7\\x18\\xa8\\xf8\\xc6\\x0f\\xde\\xedON\\xf9\\xa2\\xe3\\xb1 \\xf5\\xe2\\x9f\\xbb\\xf2\\xa8\\xf3\\x9e\\x83\\xa1\\xf4\\xa7\\x0e\\xc7\\xb7\\xa5!\\n\\t\\xceGA\\xe9NQ\\x8e?\\xad *8\\x1f\\x8d.@\\x18-E\\xc0w#\\x8aP{v\\xa6\\xef^\\xe4c\\xd6\\xab\\xbd\\xc1\\xdd\\xe5\\xc6\\xa5\\xdb\\xd0\\x0e\\x94\\x14\\x8bL\\xe8\\x8ar\\xc0w\\xc9\\xa8\\xbc\\xc9\\xae\\x0e\\xc8\\x10\\x93\\xd3waR\\xdbX\\tW\\xcd\\x9d\\x8b\\x9cp\\x99\\xe2\\xae\"LWd\\x10\\x90zg\\x18\\xc5\\x02\\xbd\\x8cK\\x9b\\x18\\xed\\xc12\\xc9\\xe6J{\\x0e\\xd5~\\xc2\\xc2U\\xd3\\xfc\\xf9\\x81E\\'j*\\x8e[5\\xa7\\xa3xV}V\\xfcMvJ\\xc1\\x1b|\\xdd\\x8b\\x1fA]\\xed\\xfc\\x16\\xf2\\x08,\\xa3\\x8d#H\\xc6s\\x8e\\x98\\xa1\\xbe\\x80\\xe5\\xd0\\xf3[i%\\x8c\\xb0\\x8d\\x1d0s\\x92q\\x8ah\\xbf\\x91\\x0b\\xac\\xab\\xc3\\xf7\\xc7?\\x85t7zl6\\xd7\\xb2\\xc9,\\x81\\x94}\\xd5\\x03\\xef}*\\x95\\x9e\\x96\\xba\\xad\\xe1p\\xcb\\x1chq\\x8e\\xa6\\x95\\xc4Z\\xd0\\x05\\xd9a3F\\xc2\\x12>Wv\\xc6}8\\xae\\x81ov\\x03\\xfb\\xb5\\xdd\\x8cp\\xfd\\xaaE\\xd34\\xcd6\\x157s\\xb3\\xb9^#\\\\\\xfc\\xdf\\x8dC\\x1c\\x96\\x0bq\\xe6\\x10\\xd1\\xaa\\xf1\\xb9\\x06\\xe3\\xcf\\xd6\\xa5\\xb6N\\x85{\\xe9&\\xbfA\\x18\\x08\\x00\\xe8\\x0b\\xff\\x00Z\\xcf}=\\xed\\xdd\\x19\\xd4\\xb2\\x90\\x07\\xcc:\\xfe5\\xd7\\xdb\\xa6\\x9fy\\x10\\xf2\\xee\\x18\\x9cp\\xcd\\x18\\xe3\\xf2\\xa7\\xcbj\\x96\\xd03\\xcb\\x1csC\\xc6\\xe6S\\x8c~\\x14s1\\xd8\\xc1d\\xb46L\\xd7 !Q\\xf2\\x9c\\x10A\\xf4\\xfaV\\x0cz\\x95\\xaay\\xaaQ\\x9b\\xe6\\xfd\\xde\\x08\\xc8o\\xa7\\xa5u7V\\xb0OlZ\\xdf\\x12\\xc2x\\xdaN6\\x7f\\xf5\\xaa\\x9c\\x9a4\\x12\\xdbcb\\x12\\xa3\\x18\\x1c}\\r+\\x8d[\\xa9\\x91\\xfb\\x9b\\xd5\\x12[\\x9f-\\xe2\\x18`Wi_\\xa8\\xa2\\xf26\\xbb\\xb3@\\xdc4M\\xf3\\xae{z\\x8a\\xae\\xf6\\xf76\\xd7FB\\t\\nAVS\\x8c\\x8c\\xf3Z\\x8d\\x00\\x92\\xda\\x1b\\xb8\\xd8\\x05\\x95\\x8cN=\\x18t\\xfdhN\\xe3\\xb5\\x8e^Ki\"Gp[\\x87P\\xb9\\xe3 U\\xff\\x00%\\\\,f0\\xea\\x06\\xed\\xed\\xc0\\xcdAv\\x18L\\xd1\\x06,\\tB\\x0fA\\xf8\\xd6\\xc5\\xb5\\x86\\xc8\\x02\\x9c\\x96a\\x92\\x08\\xa7p{X\\xc7\\x9a\\xd4*\\x97S\\x91\\x8ej\\xb9Eu\\xdf$HO\\xf0\\xa7`}H\\xad\\x89 t\\x0c\\x84\\x06c\\xd1GjjX\\xb0\\'\\t\\x86\\xecOO\\xcf\\xfc*\\xae\"\\x1b\\x0b\\x95\\x87\\x96\\x8dKg\\x1b\\x88\\xe8+r\\x0b\\xfbtr\\xa2\\xe1Q@\\xe7/\\xcf\\xd2\\xb2%\\xb6\\x99T+\\xba\\xe5[\\x05\\x111\\xff\\x00\\x8fU;\\x98\\x02\\xaa\\x98\\xf9\\x04e\\x97\\x19+\\xf8\\xd1p\\xe5\\xb9\\xdd[\\xdc\\xdbI\\tdu\\x94\\xe3\\'\\x0c:z\\xd79\\xe2)\\x19\\xe0d]\\xac\\x18d\\x80I\\xc8\\xff\\x00\\x1a\\xc4\\x8d\\xe5\\xb5\\x94\\x90\\xac\\xa9\\x8e\\x03r*\\xeaI\\x15\\xc0\\xd8\\x13s\\xe3\\x93\\x9c\\xe2\\x9d\\xc5\\xcbb\\xee\\x81\\x05\\xad\\x9d\\xa3J\\\\\\xf9\\x8e\\x83f8*~\\xbf\\xe3Z\\xd6\\xda\\xe5\\xda9I\\x13\\xcen\\x8b\\xb0|\\xdf\\x8e+\\x8c\\x0e\\xf6W\\xea\\xa1\\x18.N\\x14\\xf7\\xff\\x00\\x1a\\xd1k\\xf9\\x1f\\xe6\\x92C\\x19\\x03\\x00 \\xc6)5\\xd4\\xb5+\\x1b\\xb7&\\xf2\\xfe`\\xebjB\\xe4g-W\\x1fL\\x9e\\x0bc \\x99^@\\xbfp\\xb8\\xc8>\\xc6\\xb9qp\\xe6\\x06\\xc3\\xb1p>V\\x04\\x8c\\xfdFj9\\x1d\\xe7b\\xf2?\\xceW\\x04\\x83\\x8a\\x87$\\x8bQ\\x94\\xb7,I\\xaa\\xc3#\\xe2E\\xda\\xe4\\x10\\xd9^\\xa7\\xde\\xa6\\x10\\xab\\xa2\\xc9\\x0b\\xe41\\xc7<c\\xd8\\xd6[\\xc0O<\\x06\\xf5\\'\\x14\\x96\\xd3Kn\\xfbI\\xc2\\xb7\\\\\\xd2\\x8c\\x93c\\x94Y\\xd6iZ\\xac\\xd6nb\\x91X\\xa6~\\xebs\\xf9U\\xe9t\\xab+\\xd4\\x92\\xea\\xd9\\xd9\\xf76\\xe2\\x99\\xc1C\\xf4\\xac\\x9bk\\x88\\xe7\\x88+\\x8c\\x10\\x019\\xedV\\xe0s\\x0by\\x88\\xec\\x98\\xc0\\'9\\x03\\xff\\x00\\xad[\\xa7s\\x9d\\xab=\\t,\\xb5\\x1b\\xed2M\\xa1Zh\\x89\\xf9\\x95P\\xe0\\x1f\\xe9]E\\x8e\\xa5\\r\\xf2|\\x87\\x0e\\x07\\xcc\\x87\\x82+)5(\\xdf\\t{n\\xca\\xdf\\xf3\\xd63\\xd4z\\x9a\\x99\\xec\\xad\\xca,\\xf6W\\x04:\\xf3\\x92y4\\xef\\xa6\\xa4\\xf5\\xd0\\xd6\\x90\\x93\\xc0\\x03\\xdc\\x9a*\\x8d\\x9d\\xe9\\x94\\xff\\x00\\xa4&\\xc2\\x067v&\\x8a\\x9eQ]\\x9e\\x0c:q\\xc1\\x074\\xec\\x8c\\x0f\\xf0\\xa6\\x8f\\xe5J\\x08\\x04s\\x9a\\xd0\\xde\\xc3\\xb2@\\xeb\\xc9\\xed@l\\xf74\\x06\\x00SY\\xd19\\x04f\\xa5\\xa1\\x12\\xf1\\xb4\\xf3\\xc7\\xbd\\'N:\\x8a\\x8b\\xcfLg\\xaf>\\xb4\\x19\\xfb\\x05\\'\\xd6\\xa6\\xc3\\xb19\\x00\\xf0N?\\x1a]\\xdc\\xf3\\xd8\\xf7\\xaa\\xbe{\\x9e\\x02\\xd3\\x8a\\xc8\\xdc1\\xc1=\\xa8\\xb0\\x8b\\x1ej/R8\\xa8\\xda\\xedr\\x00\\x04\\x9fj\\x92\\r9\\x9f\\xe7\\x90\\x9c\\x1eq\\xde\\xaeE\\xa7\\xaa\\x8d\\xe2>\\xbd=h\\x02\\x9a4\\xf2\\xf0\\xa3\\x00\\xfa\\xd3\\xfe\\xcb6\\xdc\\xc8\\xf8\\x07\\xb0\\xadX\\xad\\x1b\\xa6\\xdc\\x9fj\\x9d\\xed\\x91\\x17s\\x03\\xc7\\xadKas\\x10D\\xa1\\x18\\x15f?Z\"\\xf9\\x14\\x88\\xe3 \\x1e\\xa6\\xb4\\x8ch\\xe4\\xb1Rr{\\xf0)\\xb2[+\\xab1\\xe8\\x9d\\x87\\xad\\x1eAr\\xee\\x93\\xa5\\x1b\\x86V\\xf3\\xa4e\\xee\\xc9\\xf2\\xa8\\xfck\\xa8\\xfe\\xcc\\xb7\\xd3\\xe2TEid|\\x0c\\xb3\\xee\\xc5V\\xd1\\x90=\\x941B\\x01\\x01Ag#\\x81]>\\x9fk\\x1c\\xae\\x0b\\x01\\xb6>\\xe7\\xf8\\x8d\\x17!\\xb2\\x0bKx\\xed\\xad\\xd5\\xca\\x9d\\xc0u\\xc7\\x19\\xf6\\x14\\xcbh\\xc5\\xd6\\xa2\\xbb\\xf9\\x0cI\\xc1\\xef\\x8a\\xb7\\xaa\\xban\\xd8\\x84p*\\xa6\\x9e\\xe9\\x05\\xd2\\xb1\\xfb\\xc0\\x12\\xccz\\x01\\xe9R#7^\\xd3\"\\x96\\xe9\\x83\\x1d\\xa3\\xa0\\x1dq\\xeej+[k[\\x18\\xb7y\\x81\\xf6\\xf0\\x04`\\xf0~\\x9e\\xb5\\xa9\\xac6\\xf5`\\\\+9\\xc9`?J]28\\xcc&2\\xcbn\\xbd\\xc4c,\\xdfSI1\\x94\\xcd\\x82]8\\x92(\\xe4\\xdczy\\x99\\xe3\\xf5\\xab0\\xf8nGm\\xd2\\xb2 =B)&\\xb4\\xfe\\xd3mi\\xb5v\\xb0Q\\xd5\\xd9\\t\\xcf\\xe5\\xc5\\r\\xaaC1\\x1e]\\xf8O\\xf6H\\x03>\\xdc\\xd1\\xab\\r\\x08\\xa2\\xf0\\xd4\\x11\\xe3\\x13H\\xacNC\\x01\\x82+H[I\\xe5\\x95\\x94\\xac\\xa4tlr~\\xb5Dj\\xefn@\\x95\\xbc\\xc1\\x9e\\x0e0O\\xe28\\xabi\\x7f\\x1d\\xc9U\\x01\\x94ubx\\xa4\\xd9J\\xc6=\\xcc*\\x93\\t#\\x8f\\xc9`s\\xb4t>\\x84T\\x8c\\xb1\\xc8\\x9ez\\x05I\\x910\\xea>\\xeb\\x82=+J\\xf6Kk\\x85d8\\xdc\\xbd\\x1b\\x1d+1\\x15VM\\xbc\\x90\\xc3\\x00\\x8a\\x8b\\xd8\\xad\\xcer\\xf6\\x112\\xcb\\xb7\\n\\xdc\\x1c\\xfdx5Ann\\xd2\\xc9\\xe1\\x05Da\\xb7\\x0c\\x8c\\x9c\\x8fCZ\\xb7P\\x94\\x86~J\\x93\\x85\\xe7\\xebY\\xa0.\\xcc\\x07\\x19^v\\x83\\xc1\\x18\\xe4\\xd5&.\\x85d\\x89e\\x9e\\'\\x1bI\\x90\\x95\\nFH\\xf7\\xfeu\\xb3-\\xdck\\x18\\xd9\\xd3\\x9c\\xe4\\xfeB\\xb9\\xe0\\xf1\\t|\\xe5v\\xe3!@=\\xcdH\\xd7&\\xe2=\\xa5\\x8cV\\xc9\\xf2\\xb3\\x03\\xcb\\xfa\\x81U\\xa0\\xacZ[\\xaf6q\\x1ci\\xbb<\\xb3!\\xfe\\xb5\\xa4\\x96\\xd3L\\x8c\\xe0\\xaa)\\xe9\\x8e\\x17\\xf15\\x8cu\\x13\\x0cM\\x0c\\n\\xb1\\xa2\\x80QJ\\x16f\\xf4\\xe2\\x8bxu{\\xc6]\\xd3\\x90d;\\x95\\t<\\xfap:U\\x0e\\xc7C\\x06\\x91a\\xb4y\\xd7\\xc4\\xb8\\'\\x88P\\x10\\x0f\\xe3\\xd6\\x96m\\x1e\\xcd\\xf74wO\\x1b\\x7f\\xd3E\\n\\x08\\xfe\\x95\\x15\\xbf\\x85\\xee\\x965\\x92[\\xb4\\xc18r\\xf9?\\xcb\\xb5hA\\xa0\\xdb[3,\\xba\\x83\\xc7\\xbb\\x1bv\\x00T\\x8e\\xbf\\xc4\\r-\\x04b\\xdc\\xe9q\\xca\\xea\\x89\\x1b\\xdc)\\x1f}\\x17\\x04\\x1fN\\x7f\\xa1\\xac\\xef\\xb2\\xa5\\xb3\\xedut\\xdapT\\xa9V\\x1fPEw\\x10iA\\xa6\\x0b\\x04\\xd0]F\\x17\\xe7\\x0e\\x9b[=\\xb9\\x155\\xc7\\x87\"\\xb8RT<,:\\x05`\\xcb\\xf9\\x1a\\x10\\xd38\\x97\\x8e\\t\\xedYZE\\x0c\\x9c\\xf1\\xc1\\xfa\\x81U\\xe3\\xb5U\\x18\\x1f\\xbc\\\\\\xfd\\xe6\\xeb[\\xf7\\xda\\x1c\\x8a\\x9e_\\xd9\\x8b\\x04\\xfb\\x867\\xc6=p\\xad\\xd3\\xe9X\\xe9\\x13\\xc19\\x81\\xcb+\\x7fu\\x97i4\\xa5\\xa9p\\xb0\\x9fg\\x1bx\\x18\\x1e\\x95\\x1b\\xc2T\\xed\\x19\\xc0=\\r]+\\x8e\\x08 Tn\\x9f?\\xaf_\\xc6\\xb3\\xb1\\xb9I\\xd0\\xe3\\x9e=\\x85F\\xf1\\xf3\\xb8\\x85#\\x1d\\x08\\xce*\\xf7\\x92OQ\\x90;Pm\\x8eI \\xe0\\x8e1E\\x84\\xcc\\xe1,\\x8a\\x80\\x12H\\x1c(\\xcf\\x035\\xa9a\\xab\\x9be+*nR:\\x93\\x93Q\\xb5\\xb0\\xdd\\x8d\\xb8Z\\x8d\\xad\\x8f\\xde \\x9ai\\xb4L\\xa2\\x99\\xb9k\\xab\\xda\\xcc\\x8d\\x1eUW\\x92\\xa1\\x8f+\\xe9\\x8a\\x9a\\x0b\\x94K\\xa5\\x10\\xca\\xc1d\\xc1\\xdb\\x9f\\xba}+\\x9c{eS\\x90=\\xa9\\xe8\\x8e\\x8d\\xf2\\x9e\\x86\\xadL\\xc9\\xd2;\\xc8\\xe7\\xb5\\xb8!.1\\x14\\x84d:\\x9c+\\x0f\\xf1\\xa2\\xb8\\xd8\\xaf\\xa4Q\\x86\\x04\\x8f\\xf7\\xa8\\xaa\\xf6\\x91#\\x92G\\x9e\\x17U\\x1c\\x93\\x9fJc\\\\\\x06\\xc9E$\\xfbTi\\x13\\xc9\\xf3\\xc9\\x8d\\xbe\\x9e\\xb5 *\\xaav\\xe0}+k\\xa2\\xc4\\xdc\\xc7\\xef\\x9cg\\xb0\\xa6\\x84.B\\xe4\\xfb\\x92jT\\x8fy\\xf9\\xb9\\xcfAS\\x14\\xdb\\xd7\\xae1\\xd2\\xa5\\xb6&\\xca\\xeb\\x1a\\xfe9\\xf5\\xa9\\x92\\x12zb\\xa4XA\\xe4(\\'\\xf9\\x9a\\x99#lc\\x00z\\x8aW\\x15\\xc8\\xa3\\x8d\\x9c\\x10F1\\xde\\xae\\xc1l\\x0b*\\xed\\xc9=O\\xa5:+m\\xd8$\\x00\\x0fOz\\xd1\\xb6\\x89\\x10r\\xbe\\xdd*P\\xae$0F\\x99f\\xe4\\x8e\\xe4\\xf4\\xab\\t\\x08\\x9b\\x04\\x9d\\xaa9\\x00Q\\x1ao%\\x88\\x1e\\xc0T\\xef\\xbaO\\x91F\\xd5\\xf6\\xefHD\\x9b#\\t\\x84\\xeb\\xdc\\x8a\\x81\\xed\\xfc\\xd7\\xd9\\x86#\\x1dO\\x15n\\x18\\x82(\\\\\\xe5\\xbd\\xeaF\\xe0\\x92S>\\x82\\x80\\xb9C\\xec\\xec\\\\ P\\xa0z\\x1a\\x0cH\\xa1\\x91\\x07\\x18\\xe4\\xd5\\xa6?)\\xc6\\x10w8\\xaa\\xb6\\xce\\x04\\xcc0J\\xaf\\xf1\\x1e\\x94\\xc0\\xd4\\xd0f1\\xce\\xf1J\\xc1UTa}s\\xd0W[nd\\xf2\\xc2\\xc4\\x9b\\xc62q\\xda\\xb8\\xbd\\n\\xdf\\xedW\\xb3\\\\rP7S\\xdf\\xd2\\xbd\\x0fNP\\xb0|\\xab\\x8c\\x8c\\xd2{\\x8a\\xd72\\x12\\xdaI\\xe5\\x01\\xc3n\\xceM2\\xe6\\xd9c.\\xec\\xc0\\xaa\\x8e\\xdf\\xadl^; &277\\x15\\x97\\xa9[\\xbf\\xd8J\\x83\\x80\\xc3q\\xf7\\xfa\\xd4\\xf5\\x11\\x89sv\\xf7\\x16My(\\xfd\\xde\\xe6U\\\\\\xfd\\xdfO\\xadf\\xc1s\\xe5\\xb2\\xe4\\xc9\\x97\\xfb\\x8a9\\'\\xf0\\xadW\\xb6\\xf2\\xbc<\\xd9\\x00\\x85r\\xc4\\x1f\\xd2\\xb9\\x93w%\\xac\\xee\\xf0G\\x96|\\x05 d\\xfb\\xe2\\x9a)\\x1dl7-\\x00\\xcd\\xc4\\x8c\\xab\\x8e\\x13;\\x8f\\xe3Q\\xbe\\xa4\\x8f([{u}\\xc7\\xef0\\xcds\\x11]\\xcb9\\x1bdi\\x19\\xba\\x96\\xf9EYK\\xf5\\xb4\\x88\\xa4\\xb2\\x06n\\xfb==*\\x18\\xd27M\\xe0N\\x1d\\x94\\xb18\\xe0p=\\xaa\\xc4w\\x8a\\x97\\x0c\\xa1\\xf3\\x8e\\x00\\xcds+\\xa8\\xa6\\xd5&\"\\xaay\\x04\\xf6\\x15n\\xde\\xe5.X:\\x13\\x91\\xd4\\x81\\xc8\\xa8h\\xb4\\x8e\\x9d.U\\xd1\\x94\\xf3\\xbb\\xa6{\\x1abLL\\x8av|\\xc0\\xf7\\xfeuJ\\xdau.\\x18\\xb7\\xdd8\"\\xa5y\\xc1,\\xcaq\\xcfOZ\\xce\\xfd\\x07b\\x9e\\xa8\\xe8\\x8b\\x82\\x0b\\xe4\\xe7`\\x1fx\\xd7?p\\xeeP\\xb7\\x92\\x10\\xf2\\x06\\x0e\\x08\\xfa\\x8a\\xbb\\xaa\\xdf8bU\\x83{\\x03\\x9c}}\\xab\\x06[\\x96E\\xcb\\x8c\\xe4\\x91\\x901\\x83Z\\xc5h\\x02\\xdd\\x93\\x1e\\xc8\\xd5\\x94\\x12\\xbcg\\xb1\\xaa\\xcaU\\xd9\\xa5R\\x08\\x03k\\xee\\'\\x83\\xea*K\\x89\\x12t\\x9aBUZ5\\x1d\\x87\\xcc\\xa7\\xfc\\xf5\\xac\\xa1|\\xa9q+\\x80\\xdb\\\\p\\xab\\xc0\\xcf\\xbf\\xb5Z\\xd7ay\\x1b1\\x98\\xe7d\\xf2\\x8f\\x96\\xaa2\\xe7\\xa9?Z\\xdb\\xb4\\xbaX\\xc8\\x11\\xdf\\xb4H\\x80\\x84\\x0f\\x18\\xe4\\xfa\\x1a\\xe6-nc\\x86\\xe0mo\\x94\\x9e\\x02\\xf3\\xd7\\x9e\\xbe\\x95\\xd5\\xdbG\\x1bD\\x929\\x04\\xfa6)9XV4\\xadu\\xbb\\xa4`\\xed\\x14\\x17 \\xf0\\x02>\\xc21\\xf5\\xe3\\xf5\\xa9\\xed\\xbcC\\x0c\\x92\\xb6\\xe0\\xd0\\xb9\\xeaf^\\x95\\x97-\\xbaN\\xea\\xca\\xc6&\\x1e\\x83 \\xd0\\x88\\xb8X\\xe7b\\x14\\x1f\\x95\\xc1\\xe3\\xf2\\xed\\xf9\\xd2R\\xb8\\xb9N\\xce)\\xc8\\x89f\\x17\\x02E\\n7\\xbe\\xf1\\xb1}\\xb3Io\\xaf\\xd8\\xcb)_\\xb4\\x13\\x83\\x8c\\x91\\x8c\\xfe\\x15\\xcc=\\xb3\\xc6\\xa5\\xb0d\\xb7s\\xf3\"\\xf23\\xeb\\x81\\xd7\\xf0\\xc1\\xa8E\\xa8\\xdf\\x85\\xb8(\\xbcm\\x04df\\xb4L\\x9dN\\xef\\xed\\x16W\\x8b\\xb3\\xcc\\x8d\\xf3\\xfc$\\xe0\\xd6\\x16\\xbb\\xa1\\x19c\\xf3\\xa0m\\xe6>H\\'$VJ;\\xc7!,\\x91\\xb8^9\\x04u\\xf7\\xff\\x00\\xeb\\xd3\\xe5\\xd5n\\x9clB0\\x067\\xe7-\\x8fB{\\xfd\\r95k\\x97\\x1b\\xb6g\\xe4\\xb2\\xf3\\x90\\xc0\\xf3I\\xb0\\x928\\xe3\\xbd8#331\\xcej\\xd41\\x03\\xd4~\\xb5\\x91\\xd0\\x88\\x12\\x1eF\\x7fJ\\x99a\\xfe\\x12\\x06;\\x7f\\x85Z\\x11(\\x039\\xeb\\xd7\\x15\"\\xc61\\x9084!\\x94\\xfe\\xcc\\x08\\x1c~t\\xd4\\xb6Pz\\x13\\xceH5\\xa2\\x91\\xf6\\x1dM/\\x92A\\xce1\\xc78\\x14\\x01\\x98\\xb6|\\x8e=\\xe9\\xbfb\\x04\\xb6\\x17\\x93\\xd2\\xb6R B\\x922qG\\x92\\x03\\xf3\\xde\\x800^\\xcb\\xe7*G-\\xdb\\xe9Em\\xfd\\x941\\xdd\\x8c\\x12I\\xa2\\x95\\x80\\xf1gr\\xe7h\\xcf\\xe1\\xe9R\"c\\x07\\x8eF(H\\xff\\x00\\x8b?Z\\xb6\\x90\\xee\\xc68\\xf6\\xae\\xb6\\xcef5W\\x0b\\xc0\\xce:\\xfbS\\xd6\\x16y\\x06r\\x17\\x19\\xebR\\x80\"\\x07\\xbe})p]\\xb3\\xd0\\x1e1P&4\\x80\\x19\\x82\\xf2{\\x90*\\xed\\xb5\\xa2\\xb0\\x0cA\\xe7\\xa94\\xb6\\xf0n8\\xfe\\x11W\\xa2S\\xc2\\x0c\\xe0t\\x14\\x84\\xd8\"*\\xe4\\x9e\\x80q\\x9az\\xe4\\xe7 \\xa8\\xc7\\x15(\\x8b\\x903\\xdf\\x8a{\\xa0v\\x01A\\xe3\\xa9\\xa0\\x91b\\x1d\\x15:\\x1e\\xa6\\xad,L\\xa4\\x05P3\\xfcF\\x9b\\x1cb1\\x9e\\xc3\\xd2\\x9d\\xe6\\x97|\\x9c\\x8cp*F+\\x05Y\\x06\\x0eO\\xadJ\\x8c\\xcd\\xd9@\\xeeOz\\xa4%\\x01\\xd8\\x90H\\x079\\x14\\xc6\\xb9\\x93s\\x14\\x04(\\xf5\\xedUa\\x13]\\xf4)\\x1e\\x0bw>\\x95\\x02C!\\x81\\x93n\\xc2\\xc3\\x82q\\xcd9%^N\\xf1\\x929\\x04T\\xa5\\xd6g\\x00`\\xfb\\xe6\\x93\\x04_\\xf0\\xdc\\x91\\xc5\\x11\\x84\\xe02\\xb6\\t\\xcf\\x15\\xda$\\xe8\\xb0d>2:\\xd7\\x9c\\x18d\\xb4\\xb8\\x12#`;\\x0c\\x8e\\xc2\\xbah\\xee\\xde\\xe3dhH\\x8d\\x10\\x16\\xe7\\x9aM\\t\\x9a\\x12^no\\x98\\xe3q\\xda=qL\\xb8\\xbf[\\xdbq\\n\\x0cg\\x82Oz\\xce!\\xa7y2\\xddzc\\xb0\\xa1\\xe4\\xfb,\\'g%\\x1b&\\x8e\\xa0\\x88\\xf5\\x89Bi\\xadfr\\x19\\x98\\x10\\xe7\\x80G\\xbdq\\x97\\xa0\\xef\\xdc\\xaf#:\\xf6E\\xc0\\x1d\\xaa\\xff\\x00\\x885Qqx\\x8a\\xb2\\x1d\\x8b\\xcb(\\x15\\x89<\\xd2\\x05b\\x933+t#\\xa8\\xfa\\xd1cH\\x91M\\xa9\\xdc\\xdb;E\\x18\\xca\\xb9\\xc0\\xe3\\x05~\\x95\\x02\\\\H$d\\x92B\\x8c\\xdf3\\x0cg\\x07\\x1c~&\\x9fs\\xf6\\x8bX\"\\xbd(7!*y\\x04{dVT7\\x0c\\xeb\\xe6#\\xb3M\\xbc\\x92\\x84d\\x1f\\x7f\\xce\\x9d\\xba\\x94\\x95\\xce\\x82\\xca\\xce\\xee\\xe7c\\xccH\\x18\\'\\x96\\x00V\\xdcv\\x8e\\x88\\x84Jb\\xe9\\xb4\\x82\\x00\\xac\\x9bk\\xf9\\x12\\xd9C\\xb0v+\\xb8\\xb3\\xae\\xcd\\xbe\\xde\\xf5*\\xce\\x15\\x15\\xe4\\xe5\\xb3\\x85~\\x87\\x1d\\xc7\\xff\\x00^\\xb3\\x92\\xd4=N\\x85%)\\x08V\\x95x\\x07/\\xd7&\\xa1}Dl(Y\\x89#\\xef\\x0e\\x05a\\xdc\\xea\\x01\\n\\xc6\\xa8\\xac\\x08\\xcb\\xb2\\xb9=j\\xad\\xdd\\xf3\\xb4j\\xe8\\x14\\x1cc\\x06\\xa5Df\\x99\\xbe\\x8e\\xe4H\\x03\\xaa\\x95\\\\\\x0c\\x8c\\x83\\xfe5\\x9d0gG(6\\xba.p\\xa7\\x86\\xf7\\x1f\\xe1Y\\xdfh\\x95\\x9c6\\xec\\xb6x\\xc7r;U\\xd5\\xb8\\xf3\\\\I\\x1c[1\\xf30\\xdd\\x9cdsUk\\t\\x8cI6[\\xcb\\xbd\\x8a\\xeeB\\nm\\xceA\\xea=\\xbdk9\\xa0\\x96\\'\\x88:\\xfc\\xa7%\\x0fM\\xe3\\xa1\\xc1\\xab\\xd2\\xbb\\xdb\\xca\\xf1\\xc9 \\x95cl\\x16\\';\\x94\\x8c\\xe4{\\xe3\\xf9So\\x80\\xb9\\x08@\\x05A\\xdc\\x11O\\x01[\\xae=\\xf8\\xaa@6\\xc5\\x0c\\x93\\x81 \\xde\\x1b\\xe58\\xe3\\x8fB?\\n\\xeb\\xa1\\x90\\xc4\\x8a\\x8a\\x03\\xa8\\x18\\x04\\xf0k\\x8f\\xb6\\x9b\\xec\\xae\\xce\\xa0\\x12\\xa7\\xe5-\\x91\\xc5]]^C\\xb4\\x93\\x80I\\xc6A*H\\xa9\\x92lgR\\xf2\\xba!*2\\xc7\\xfb\\xdd\\xbf*\\xa6\\xd3\\xcc\\xcc\\x19.\\x926\\x07\\xa0<7\\xb1\\x07\\xadC\\xa6j\\x86G\"B\\x00\\xdb\\xc9\\xc7c\\xf8\\xd6\\xa5\\xb8\\xb4\\x95U\\n\\x03\\xf3r\\x8c\\x98\\x19\\x1e\\x94$\\xd1.\\xc4v\\xba\\x8d\\xd5\\xb4\\x808\\x0f\\x0fI\\x11H\\x01\\xb9\\xe0\\xaf\\xa1\\xad;\\x9b\\x98<\\xac\\x87w\\x8d\\xf0C\\xf0\\xac\\xad\\xe8}j\\x13\\xa3\\xc6\\xc1\\x9a\\xd9\\x9a/\\x9b\\x8d\\xff\\x00:\\xe3\\xd3=G\\xe5POa4\\'k\\xdb\\xb0\\x84\\x8f\\xbc\\xb9t8\\xeb\\x82:\\x11\\xe9T\\x85\\xa1a\\x0b:,m/\\x96\\xd9\\xc2H9C\\x9e\\xcc\\x07C\\xee)62\\xb1W?6y\\xc1\\xebPY\\xc6\"\\x9cC#\\xf9\\x90\\xb1\\xca\\xbez~5y\\x13t\\x87\\x92G\\xa9\\xefS&i\\x05`\\x82\\x16~G\\xe7W\\x12\\x00:\\xf5\\xa7A\\x1f\\xa8\\xc0\\xabK\\x1eG\\xff\\x00Z\\xa4\\xd4\\x85P\\xf4\\x185 \\x8f\\x00\\x1c~\\x15\"\\xa7<\\x8e\\x9d\\xc5<(\\xfc=\\xe9\\x81\\x18\\x8f\\xbe1\\xf4\\xa9\\x0c|\\x12q\\xcfjz\\x94\\x1cT\\x88\\xa4\\xf0zg\\x8a\\x00\\x8d\"\\xc8\\x19=\\xb1A\\x88\\x92r?/Z\\xb2\\xa9\\x80)\\xe5\\x00\\x1cri\\x8c\\xaa\\xd1\\x9d\\xbdpM\\x15d \\xcez\\xf1E!\\x9e\\x15\\x04lI\\xfc9\\xabJ\\x88\\x07\\xceAc\\xd8R+\\xed\\xe1Ps\\xdcS\\xc4,\\xd9rF+\\xa4\\xe4z\\x8ddl\\x96=}\\x05I\\nn\\'<S~v?/\\x03\\xde\\xa7\\xb7FfP>bi4Ib\\x04\\xd9\\xb5P\\xf5\\xad\\x18`\\xf9\\x7f\\x995\\x1d\\xbd\\xba\\xaf\\x00e\\xbb\\x9a\\xb4\\xe7\\xcb\\x8f\\x1cd\\x8e\\x9e\\x95\"l\\x8c\\x90~\\xefn*Hp\\xab\\xcfs\\x80E28Y\\xcf\\x19\\xc1\\xa9\\xc2*0\\nz~\\x94\\x01$\\x9bT\\x00zc8\\xaa\\xec\\xe4\\xa9\\xc0\\xc6Ojs\\xa9\\\\\\xc8\\xef\\x92z\\n\\xad3\\x90\\x069\\xc7\\xe1@\\x04\\xceU\\n\\xe0\\x0c\\x9e\\xa6\\x91\\x10\\xb4L\\x19\\xb7\\x1ct\\xaa\\xe4\\xbb6\\xe6 \\x8fL\\xe2\\xa6Y\\x80\\x84\\xb0\\x18 \\xfaP;\\rs\\x85\\xd8\\xa0\\x16<sR\\xe9\\xd6\\xea\\xb2\\xefebz\\x9cU\\x17g\\x99\\xf7\\x07\\xf9\\x89\\xe2\\xb5t\\xf2\\xc8B\\xb3v\\xe7p\\xef\\xf5\\xa4\\xc4Ox\\xe1\\xd4G\\x1ac\\xdc\\x8fJe\\x8d\\xcd\\xc5\\xbc\\x85\\x91K\\xee\\x18$\\xd3\\xe4p\\\\\\xeee\\xc0\\xeb\\x81\\xd6\\xa4\\xb4!\\xa4\\x08\\x84g\\xd8\\xd4\\xde\\xc3,\\xa7\\xdab- R\\xca\\xeb\\x8c{\\xd5)o\\xe4\\xda\\xc6O\\x91\\xc0\\xc3\\x03[\\xa8\\xea\\x9f+\\x0f\\x94\\x0e\\xb5\\xcdx\\x91\\xd5w\\x15\\x91B\\x91\\xfc=M\\x11w\\x03\\x19\"{\\xfb\\xa9\\x18\\x0c\\xaf \\xb7LS\\xd3D\"V\\x12\\x06t#\\x83\\x8c\\x0fph\\xd1!e262X\\x80\\xa4\\xb6\\x06G\\xad_\\xbcr\\x80y\\x93\\xee\\xf4D\\xea)7\\xad\\x8a0\\xae,#ra\\x1b\\x86N\\n\\x1e\\x8a+.\\xeb@\\xba\\xb6v\\x926V\\\\\\xe7\\xe48\\xc5l\\xc8\\x81\\xe5\\xdc\\x03\\x0c\\xf7\\xdd\\xebV\\xa3\\xb6Wf\\x0e\\xec\\xea89\\x15i\\xb4;\\xb4r\\xea\\x97\\xcc\\x9b\\xdeM\\xa0\\x1c`\\xf59\\xf4\\x15f1,H\\x15\\xe4%\\xbd\\x0fz\\xe9\\x7f\\xb2\\xa3\\xc3:D\\xfc/\\xca;\\x9fSY\\xf7\\x16\\xac\\x84\\x19\\x10\\xb3\\x93\\x9d\\xa0\\xff\\x00ZM\\xdcjW)\\xa8\\x11(g*\\xdb\\xd3%\\xcf\\x1c\\x0e\\xc3\\xf1\\xa8\\xa5%\\xfep\\xe0\\x86##\\xa5k&\\x9a\\x15|\\xc9\\x10\\xaa\\xa0\\xe5\\x80\\xc8\\xdb\\xdf\\x8fj\\xd6\\xb9\\xf0\\xfd\\xbcv\\x88\\xf1\\xb8\\x91S\\xe6\\xc8\\x1dG_\\xe4jt\\xea&\\xd1\\xcfivb\\xe6\\\\\\xcc\\x9b\\x93\\xee\\xae;\\x13\\xcejmF\\xd1\\xac.\\x82\\x11\\x85u\\xf9J\\xf1\\xbb\\x83\\xcdm\\xc3f H\\xe3\\x8f\\xe6,\\xe7$\\x0c\\xf2h\\xd54\\xe7\\x9a\\xda7~^&\\xe0\\x01\\xc9S\\xd7\\xf5\\xa7{\\xb0\\xb9\\xca:\\x89\\x19\\xbc\\xc7\\xf9\\xc2\\x86\\x07\\xa6\\xe2:\\x8f\\xca\\xa6\\xfb;\\x15@\\xa9\\x9d\\xa0\\xed>\\xd9\\xc8\\xcdM}fU\\xb7\\x05\\n[\\x90@\\xe0\\x95\\xebK\\x10\\x12\\xdb\\xc6\\xc8\\xde\\xa1\\xb1\\xfc$\\x1e\\xff\\x00\\x85\\x1b\\x8c\\x8b\\xcb%X\\x13\\xb5{\\x92\\t\\xe6\\xab\\xcd\\x1a\\xab3\\xa3l\\xda~\\\\\\x12\\x085\\xaa\\xd1\\x9f+,\\x08\\x0c>_LT0\\xdbe\\x19C\\xee`\\xdc\\xa9Q\\xcf\\xbd\\x08.Q\\xb6\\x9f\\xc9\\xb9W\\x8e@\\xcd\\xdf\\xf1\\xf5\\x07\\xaf\\x19\\xad\\xdbiXNJ\\xe7p\\xc6S\\x04\\x1fb\\x05D\\x12\\x08\\xa6W\\x99\\xe0w\\xc7\\xf7\\t\\xc68\\x1c\\x8a\\x9f\\x19\\x9b\\xe4\\xb6\\x87\\xe6\\x1b\\x92TW\\x04\\xfe\\x04\\xd3\\xb0\\x9b:}+Y\\x95\\x9d\\x10\\x88\\xe6\\xc8*\\xc3n\\xd6*=s\\xc3~\\x18\\xed[\\xed\\x1c2[y\\xf6\\xfb\\x9e>\\x8c\\x17\\x96C\\xe8A\\xea?Z\\xe7<=wir\\xe2\\xce\\xee$\\xdcNC\\x8e\\x0ezdV\\xaa\\xdcI\\xa5j>T\\xa8\\x1a&\\x1b[\\x00\\r\\xeb\\x9e\\x1b\\xd3##\\xf5\\xa3BR\\xd4\\xabsl\\xb1\\xca\\xbb\\x00\\nG\\x04\\x0e\\x08\\xf5\\x155\\xbc<\\x0e?J}\\xccl\\xb7M\\x19}\\xca\\x8c@\\xc5X\\x82>:u\\xebY\\xdc\\xe8\\x8e\\xc4\\x91\\xc7\\x8a\\x94&3\\xc8\\xfci@\\x01r\\x055\\x8bv\\xeai\\x14#\\xb8_ADj\\xcc\\xd9 \\x81\\xefK\\x1d\\xbe[|\\x9c\\x9fJ\\xb2\\x14\\x0e\\x9d)\\x80\\xc4O\\xa6\\x0f\\xadL\\x80t\\xe34\\xd1\\xcd<-4\\x02\\xe0\\x0e\\x06i\\xd8\\x1bs\\xd0\\xd0\\x01\\x03\\x81\\x9f\\xad*\\xfc\\xc3\\xa1\\xfc\\xa8\\x18\\x98\\xe7\\xa5\\x14\\xa1p\\xdcQH\\x0f\\n\\x0e\\x10\\x0f\\x97\\xdb5:\\x1c\\x91\\xcer:S\\x14\\x16\\x07o>\\xf5b8\\x8e\\xe0{\\xd7I\\xc8\\xc5H\\xcc\\x87\\xa6+B\\xde<|\\xb1\\x8eq\\xc95\\n0\\x8dr1\\xb8\\x8c`U\\xbbw.\\xe1\\x00 w\\xcfzL\\x92\\xed\\xbcb5;\\x8f>\\xb5ZF/q\\x81\\x83\\xd8T\\xee\\xe6(H\\xceX\\xfaR[\\x00\\x83\\xcca\\x96\\xedKa\\x12\\x82cE\\x04\\xe0\\xf7\\xa6\\xeeTR\\xcc\\xdd\\xf3\\xcdE,\\x80\\xc9\\x83\\xc6\\x7fJ\\x91\\n\\xb2\\x90\\xc9\\xf2\\xa8\\xe0\\x9aC\\x18\\xe3ro\\x04\\x0fj\\xa6\\xf2\\xb3\\x16B1\\xcf4\\x97S\\xae\\xe0\\x8a\\xcc\\t=\\x05X\\xb2\\xb5eB\\xce\\xa5\\x81\\xe8)\\xd8\\x08^5\\xc0 \\xe4\\x0e\\xc2\\x9a\\xd1\\x95P@\\xf9[\\xa8\\xcfJ\\xbea\\n\\xa5\\xf6\\x1d\\xb5\\x1c\\xf0\\x9f \\x949_J\\x12\\x02\\xac6\\xdb\\xd80\\x05B\\xf4 \\xf5\\xad5y\\xa2E\\x00\\x0cz\\xe35Z\\xd5\\x89O\\x98\\x8cg\\xadY{\\x90\\xaa\\x140\\xcfn3H\\n\\xd3\\x87 \\xc8\\xcf\\x85\\xc7<T\\xbal\\xbe[\\xb3\\x03\\x96<\\x03\\xe9T\\xa6\\x96B\\xed\\xbc\\x03\\xedP\\xc7}\\xb2W\\xd9\\xce\\x06*\\x1a\\xb9I\\x1b\\xd7\\x9a\\x80\\x8a\\xdc\\xb1on\\xbc\\x9a\\xe4\\xe5\\x92[\\x99\\xdaFr>\\xbc\\xff\\x00\\x93KqxneTb\\xc0\\xf2B\\x8a\\x96\\xca8\\xee\\xdc\\xb1? \\xe3\\x96\\xc6}\\xc55\\xa0\\xd2\\xb0\\xeb_-\\x01\\n\\xa5\\x89\\xe4\\xa2\\xf1\\x9a\\x96Ky\\xd6!$\\x84F\\xb26Dc\\xa8\\x1d\\x8ek~\\xc6=\\x1a\\xd5PH\\xb1\\xb3\\x01\\x8e\\x1a\\xb5\\x12\\xf3\\xc3\\xaf\\x19\\x8b\\xc9W\\x07\\xb6OZW\\x13g\\x17\\x0c\\x1e{\\x83 \\'\\x07\\x83\\xd2\\xb4\\x049\\xc6\\x00\\x88\\x8e\\xa5{WI\\x12xzV\\xd8c\\x10\\xe4\\xe0o?(\\xabW\\xba\\x15\\xaf\\x90\\x1e\\r\\x92DFx\\xe4\\x7f:.\\x82\\xe7+3\\xc8\\xd1\\x85\\xdeK;\\x01\\xb8\\x9eB\\xf7\\xa2\\x1b`\\x9f<\\xa82\\x1b*\\xc5s\\xf9\\xfa\\x8a\\xd5\\x8a\\xca\\xdb\\x85\\x926\\x00\\x7f\\x12\\xb6\\x7fJ\\xcf\\xbb\\xbb\\x8e\\x17e\\x8d\\xdb\\xe5c\\xc3\\x1e?\\xfa\\xd4\\xae\\x86\\x8a\\xf3\\x89.\\x03\\xa8\\n\\xa4\\x9c\\xa1S\\xf2\\x93\\xd3\\x15_F\\xd5\\x96\\x17:u\\xe3l\\xf2\\xce\\xd4\\xdey+\\x9cc\\xf0\\xfeU\\x15\\xcd\\xc3\\x94*\\x8c\\xb1\\x93\\x96\\x1e\\x87\\xe9\\\\\\xde\\xa9r\\xf2\\\\E0m\\x93(\\xda\\xfe\\xf8\\xe8E5g\\xa0\\xecv\\x9fj\\x8e\\x1b\\xc6\\xb5\\x05IRYX\\xf5\\xc1\\x1d\\x7f*\\xafu\\xae\\xc5,`\\x0c\\x85\\xc7\\xccOc\\x9a\\xe5\\xfe\\xd74\\x9f\\xbdi0\\xc4u\\x1c\\x1c\\x8f\\xfe\\xb5U7r\\x0bf\\xc1\\x05\\x9d\\xfd9\\xff\\x009\\xa1+\\xea\\x165\\xa7\\xd4\\xbe\\xd5<!\\x00hbc\\xb8t\\xc9#\\x04\\x03\\xf4\\xe6\\xaf=\\xdd\\xa5\\xad\\xa4v\\xa8\\xca\\xfb>i\\x00\\x1c\\xb9\\xeb\\xc9\\xf4\\xc7\\x15\\xcf[+\\x85X\\xe3\\x07r\\xe5\\x9c\\xf6_zF\\xf3&\\x99c\\x88q\\'\\xca\\x00\\xea}\\xe8\\xb6\\xba\\x0e\\xc8\\xd4K\\x9b\\x9dV\\xe4\\xc7j6F\\xbc\\x17\\xf4\\xf6\\x1e\\xd5\\xafm\\xa5^[2\\xa9e\\x19^y\\xce\\xe0>\\xb5gG\\xd1\\xe4\\xb0\\xb5RFY\\x86\\xed\\xb5\\xd1-\\x8b\\xde\\xda\\x98\\xc0]\\xd9\\xdc\\\\\\xb7&\\x9bk\\xa1-\\xeab\\xb6\\x96\\xb7\\x1bd\\xf2\\xf6\\xe5s\\x90:\\xe3\\xaf\\xff\\x00\\xaa\\x9b:\\xc4\\x96\\xe6\\x12\\x9e\\\\\\xc8\\xa4\\xe5\\x7f\\x89{\\xfeG\\xf4\\xad\\xc6U\\x82\\x16\\x88\\x92\\xbe\\xecrA\\x1e\\xf5\\xcej\\x8eQ<\\xf02\\x10\\xfa\\xe4(\\xc8\\x07\\xf9\\x8a\\x01nU\\xb0\\xb7/q\\xe6:\\x98\\xe6W\\xe3i\\xf4\\xef\\x9a\\xe9\\xbe\\xd9%\\xc2,S\\x80\\xcc\\x87(\\xc3\\x8c{}1X\\xfaZ\\x86\\x1b\\xb6\\xe0\\x0c\\xe0\\x7f\\x9e\\xd5\\xa6\\x8b\\x89\\xb3\\x9a\\x87-ll\\xa2\\xaci\\xdb&q\\xcex\\xad(\\xd7\\x8cU;E8\\x1fJ\\xd0\\x8ds\\x8a\\x91\\x8aW\\x8aD\\x8b\\x9d\\xc7\\x1fJ\\x95\\x14s\\x9a]\\xb4\\xca\\x11T\\x01\\xd6\\x9czsJ\\xab\\x81\\xd3\\xad(N}h$\\x00\\x1cc\\xf3\\xa5\\x19\\x07\\xb9\\xa3i\\x07\\x9aFb;\\xd3(qn1\\xcf4\\xe0x\\xeb\\xd6\\xa0\\xde\\x02\\xd2y\\xc1~\\xf1\\xc0\\xa4\\x04\\xe0\\xf3\\xd7\\x8fJ*\\xa3^\\xc2\\x9f\\xc4\\x0f\\xb9\\xa2\\x81\\x9e<\\x89\\xe60e$/\\xa7\\xadY\\xdcb\\xe7?1\\xfd*\\x95\\xbb\\xaa\\xa1PO\\xcb\\xea{\\xd5\\x80\\xfb\\xc7$\\x93\\xdb\\x15\\xd2q\\x97!\\x90p\\x152O\\xe9Z1\\x10pB\\x00\\xc6\\xb2\\xed\\xd8\\x8c\\x81\\x83\\xed\\xde\\xb5!r\\x91\\xe4\\xfd\\xecd\\xfdi\\t\\x891$\\x95\\'\\x07\\xbdJ\\xff\\x00\\xb8\\xb7,X\\x06\\xdb\\xf2\\xf3P\\xa9\\xde\\xb9?|\\xf5\\xaaz\\xc4\\xe1\\x11#\\x0cAn3E\\xae!\\xd6\\xed#6\\xf9\\x18\\x12\\x0eF\\xea\\x92[\\x96;\\xa3-\\xf2\\xe3\\xa8\\xaai+\\x10\\x11\\x10\\xb0\\x00\\x0c\\xd6\\xb5\\x8e\\x9a\\x97%|\\xc2p{R\\xba\\xdd\\x8c\\xa9\\r\\xaa3\\x87l\\xb1<\\x91].\\x9c\\x96\\xf2&\\xc6\\x04m\\x1c\\x03M\\xfe\\xc8\\x82<*n-\\x8c\\xf0zU\\x8b{\\x0f\\'\\x04\\x16\\x06\\xa5\\x89\\x96f\\xd3\\xa1\\x96<&\\x08\\xc7#\\xb8\\xac\\x1b\\xbd5\\xed\\x99\\x84d\\xb7\\xb1\\xad\\xa9\\x12Hr\\xe9&\\xd3YwZ\\xb3\\x82c\\x9bl\\x8d\\xe8\\x074&\\tjsm4\\x96\\x92\\x95(\\xc0\\xe7\\xa5Y\\x8a\\xe1\\xe5o.5POs\\xda\\x9f\\xa8]XO\\xc3!I\\xbb\\x12j\\x8c\\x00\\x97\\xc4n\\x0f<\\x81\\xcd=7(\\xb34\\x0e\\xbb\\x8c\\xb2\\x03\\xc7E5\\x9a\\xae\\x12G\\xe3\\x902\\x14\\x0e\\xa0V\\x85\\xca8\\x88\\xb8l\\x1cr\\xa2\\xb2\\xd6;Yg\\x8c\\xbd\\xd1\\x8aRpw\\x8e)\\r\"\\x95\\xc5\\xc9\\x0c\\xcc\\x87\\xe6\\'\\xb0\\xe9N\\xb3\\xb9m\\xc1\\x02\\x86^\\x07\\xe3[Rx}\\x19<\\xc4PT\\xf3\\x94q\\xcf\\xadB\\xdatv\\xd0)E\\x9de\\r\\xdd8\\xf6\\xe6\\x84\\xd3Eh\"\\xc6\\xc0\\x16\\x1b\\xbdFO\\x14\\xe1\\x13\\xb1R\\xf7\\x18\\\\d\\xaf\\xa5!y\\xcb*\\xb9\\xca\\x8e\\x0e\\x07\\xcdC\\xc2\\xa1\\x84\\xd23\\xa6\\xc5\\xea\\xd8\\xe7\\xe9J\\xec\\x93Q\\x1d\\xbc\\x95Fq\\x90>R[\\xaf\\xb5:\\xd3^\\x9bM\\x93f\\xf3\\xb3\\xf8\\x91\\x9f\\x035\\x8f\\x1e$|\\xa9fS\\xc0\\x18\\xc8>\\xe6\\xb4\\xa3\\xb0\\xfbR\\x1c\\xc1 \\x91xP\\x13poj\\x07\\xa7Q\\xf7^$y\\x9d]`*wg \\xe35\\x9f5\\xcb\\xdf6\\xf0\\xbbd\\x03\\x91\\x8cf\\xaeI\\xa2H\\x8e~F\\x8f\\x04\\x03\\x19\\x18\\xfc\\xaa\\x06\\xd3dfg\\x89\\x99J\\x9f\\x98t#\\xfc\\xfa\\xd4]\\x14C\\x86b\"\\x90\\x10@\\xca\\x93Y\\x9a\\x9d\\x93n\\x12\\x14<rG\\\\\\xe2\\xb5V9A\\xd8\\xccK \\xe8z\\xa9\\xa77\\x97<\\x0c\\xaf\\x81\"\\xf3\\x86\\x1f\\xe7\\x8a\\xad\\x85s\\x13\\xec\\xf9\\x81\\x1c\\x96\\xdb \\xed\\xea?\\xfa\\xd5MQ|\\xf5\\x19;W$c\\xd7<V\\xd4Jc\\xb619?+\\x86_\\xe5T\\xe2\\xb6B\\xf9$\\x85\\xc9\\xc3S@\\x98\\xd9@\\x86\\x03m\\x1a\\xe1\\xa4\\xc1\\x91\\xfa\\xd4\\x96\\xae,\\x99\\x1f\\xca\\\\\\x821\\xef\\xdc\\x0f\\xa5=\\xdd\\x11J\\xa8\\xcb\\x91\\xcbg\\xa7\\xb0\\xaa\\x12\\xbb4\\xc4\\x0c\\x8f\\xf6\\x9f\\xb5\\x1b\\x8d\\x1d\\x9b\\xf8\\x92\\x18\\xe0Vg\\x08J\\xfc\\xc0\\x9e\\x7f\\x01M\\xb1\\xf1\\xbd\\xbc%@\\xb4f\\\\\\xf6\\xe4\\x91\\xdc\\xd7\\x14\\xb1\\x89_!\\xf2X\\xe3\\x9a\\xd8\\xd34i\\'`G\\x038\\x07\\xfc)Y!\\xb8\\xad\\x8e\\xfe\\xd7X\\xb1\\xd5!\\xcc)\\x18\\xe3\\x0c\\x8f\\x90\\xc2\\xa8_\\xd8Y\\xdd\\xdb\\xcamY\\xe3}\\x87|$\\x82q\\xdc\\x81\\xfcC\\xf5\\x15\\x98\\x9a%\\xcd\\xbb,\\xb6\\x92\\xa9l\\xfc\\xac\\xa7\\x05}A\\x15\\xb6\\xba}\\xc4\\xae\\x97\\x0b\\xb4]FC+\\xa3\\x0f\\xbd\\xdf\\x8f\\x7fJI\\xab\\x11k\\x19\\xfa:7\\x90\\xaa\\xce\\x1f\\x03\\xa8=kJ\\x15\\xdf9\\xcfAHm\\xbc\\x8b\\xc3\\xb23\\x18|\\x97N\\x81\\x1b\\xb8\\x1e\\xd5$<O\\xc0\\xf6\\xa9\\x96\\xe6\\xf1wF\\xbc\\t\\x85\\x02\\xaf\\xa2\\xe0{\\xfa\\xd5+~F}8\\xab\\xc8>\\\\\\x9e\\x94\\x80S\\x8e\\xb8\\xa4\\xdd\\xde\\x98\\xd9w\\xeb\\xf2\\x8ey\\xa7\\xaf\\'\\xa6)\\x94H\\x9d9\\xebR\\x01\\x81\\xc7\\xe7MD={\\n\\x99W\\x03 }3LL\\x8d\\x97\\x19\\xc8?\\x9dD\\xf9\\x03\\'\\xee\\xfa\\xd5\\x97\\x07nO_J\\xa3p\\xf9\\xe0\\x8c\\xfa\\x01@\"\\t\\xaev\\xfd\\xd3\\xd7\\xf5\\xaa\\x8eds\\x92\\x0f\\xd0\\xf3\\x9a\\xb8\\x96\\xd9\\xcb\\xbfSRy\\x1f/\\xa0\\xf6\\x14XfT\\x91\\xb0#9\\xfaQW\\xdd6\\xfc\\xa9\\xc5\\x14\\n\\xe7\\x8e\\xe3hf\\xc7\\xca\\x07\\x0b\\xeajH$f8\\x1c\\x01\\xeb\\xda\\xa1\\x99\\x88^N\\xd5\\x07\\xbf\\x19\\xa7DIP\\xca\\x08P9\\xf75\\xd2\\xceSJ\\xdd\\xd1A\\x00s\\xda\\xb5#p#\\xcc\\x98\\xe9\\x9cVTp\\xb6\\xd1*\\r\\xc0\\xf2H\\xefS\\xbc\\xbb\\xdczpX\\xd4\\xd8\\x92\\xc5\\xc3\\x14e\\xdb\\xf2(\\x19\\xcez\\xd6\\\\\\x93,\\xd338\\xcf?(n\\xd5-\\xf5\\xd7\\x98\\xfc\\x1e\\x00\\xeck)$2.\\x06X\\x83\\xdc\\xf5\\xa2\\xda\\x0c\\xe8,\\x802*\\xbaaN\\x00u=k\\xaf\\xd3\\xac\\x91\\x94\\x02\\xb9 p\\xc3\\xbdr\\xfe\\x1b\\xb2\\x9eVg\\x99\\xbfv8\\xc7j\\xef4\\xf7\\x82=\\xaeH\\n\\x9d\\xbdk&\\xf5\\x1b,Cd\\xb6\\xf6\\xe1\\xddIv\\x199\\xaa\\xcfr\\xcc\\xc5#\\x8dGbMY\\xbc\\xd4!\\x9e<!#\\xdf5\\x94\\x97BW\\xda\\x83*\\x0e3I\\xbb\\t#N=.\\x19!.\\xcf\\x96\\xc5`\\xdc\\xe8\\xa9\\x15\\x9c\\xb7]X\\xee\\xe0\\xf6\\xe6\\xb7a/\\x18RU\\x82\\x9e\\xf4\\xe9\\xd29\\xac^.9\\xcf\\x19\\xa1H-c\\xcb.a\\xcd\\xdbn\\xe0\\xe3\\x82E:\\xd6\\xd5Co\\xf3\\x18/e\\x06\\xb4\\xb5[c\\x14\\xca\\xa5wd\\xe0S\\xad\\xecg@\\xae\"\\xc8=\\xb3\\xd2\\xae\\xe5=\\x8c\\xfb\\xd2\\xd1\\xc0\\xccAU^\\x83\\xd6\\xb9\\xd2\\xce\\x1df\\x94eI\\xc2\\x8a\\xe8u\\xbf;z\\xc4\\x13;\\x86\\x0e9\\xe2\\xb3.ai\\x02\\xc6T\\x8e\\x80\\x0cS\\x08\\x97<8n\\xee\\xaf\\x08\\x8eq\\x12\\x83\\x86\\xc8\\xc8\\x0b\\x8a\\xda\\xb8\\x9e(d`$fU\\xe9\\xc7\\x7f\\xa5f\\xdb;X[}\\x9a,\\x06q\\xf3m\\x19\\xc5O\\r\\xb1uWq\\x82\\xc7$\\x8es\\xe9R1\\xc3\\xcbu2\\x00\\xdb\\x8f\\x19<sN]=dm\\xc5=\\xb71\\xcf\\xe9[zG\\x87\\xe4\\xba@\\x16\\x16\\xd8NK9\\xf9En\\xcb\\xa5Y\\xe9\\xb6\\xf9}\\xb2JG\\x00\\xff\\x00\\x85Cv\\x1d\\xcc\\r7B\\x82\\xdd\\x05\\xc5\\xdc\\x8a\\x98\\x1c&GJ\\xdd\\x87Z\\xd2\\xecW\\x02H\\xf0\\xbc\\x02\\xaasX\\xb3Fn$\"4\\x92L\\x1fN)\\xe3Iy\\xd0y\\x9eQ>\\x8d\\x9e?*/\\xdc,_\\xd4\\xaft\\xbb\\xf8\\xc4\\xben\\x1c\\xf1\\xb8\\x0c\\xe7\\xd2\\xb1\\xde;k\\x826\\xc8\\xa9\"\\xf1\\x90v\\xee\\x15-\\xcd\\x9a\\xc5\\x1f\\xcb\\x1a\\x96\\xe9\\x90\\xb5\\x81s:Bv\\x98\\xca\\x92\\x7f\\x88q\\xf8\\x1fJ\\x12\\xec$\\x82\\xeeH\\xe2f\\x07\\xe5el+\\x81\\xd3\\xd8\\xd5)\\xa7*\\xe1\\xd1U\\xf6\\x8eO\\xb1\\xecje\\x10\\xdd\\x06Y\\x01\\xc0\\x1d\\x0f\\x07\\xf3\\xaa\\x13@\\xd6\\xceq\\xb9\\xa3\\xc7=\\xc0\\xf6\\xa6;\\x16\\x99\\xe3\\xb9\\x88\\xb4M\\x92\\xad\\x86V\\xec\\rD|\\xb8!h\\xf6\\xe4\\xb1\\xf9\\x07\\xa0\\xaa\\x08\\xd8]\\xf1\\xb0\\xfb\\xd8\\'\\xd6\\xa4[\\x92\\xd3*\\xb0\\xe4v\\x1c\\xe4\\xff\\x00\\xfa\\xa9\\xdc\\x1fp\\x9a=\\xec#\\xc9\\x0c\\xc0\\x02\\x16\\x984\\xe8\\xdd\\xb6\\xbes\\xdc/\\xf55\\xa3\\x1aG3\\xf7\\xf3\\x1b\\x00\\x04\\x04\\x9cV\\x8c\\x1b\\x82\\xb0\\xf2\\xc4Y;U\\x9c\\x0e)\\xbd\\x02\\xe6}\\x8e\\x98\\x8eL\\x8d\\x1a\\xa4K\\xc30\\x1d}+\\xa1A\\x15\\xba\\x12\\xbbW\\x8e\\xd84\\xd1e\\xbdbB\\xe6L\\xae\\x02F6\\x8f\\xc4\\xd2\\xa6\\x88Z\\xe9ce\\xc1ec\\xb1z\\xf1\\xeaj\\x1a\\xb8\\xd3\\x185\\x06v\\x10\\xc2\\xf9\\xeaK8\\xe0~\\x15\\xb1m\\r\\xd2Y\\xf9\\x92+\\x04\\x93\\x0c\\xb3\"\\xe3\\x03\\xd7\\x1e\\x94Zi\\x9fcee\\x80\\xc7\\xfe\\xd8\\xff\\x00=+\\xa5\\xb5\\x80K\\xa7\\xb4K\\x81\\xd7\\x1b8*O\\xa5\\t\\x03fB\\x13s\\xa6?\\xda\\xb0\\xd3@7G0\\xff\\x00\\x96\\x88x\\xfc\\xc7\\x7f\\xc2\\xb3\\xa3$\\xdc\\x1ex\\xec\\x05^p\\xf0\\xdc4\\x01\\x08b\\xa5]\\x17\\xee\\xb0\\xfe\\xf0\\xf4>\\xd5J\\x05\\xfd\\xf7<\\x91\\xde\\xa6[\\xdc\\xa8ll\\xda\\xf4Q\\xf9\\xd5\\xdc\\x96\\\\\\x03\\x80:\\x9a\\xa7h\\xbd\\t\\xeej\\xd4\\x8d\\xf2\\x8d\\x9csA\\xa8\\x99\\x04\\xf1\\xc0\\x154I\\xb8\\x81\\xe9P\\x05\\xc1\\x00U\\xc8\\x10\\x90\\t\\x1c\\x9ah\\t\\x11:q\\xd7\\xb5L\\x13\\x18\\'\\xf2\\xa7\"\\xf0\\x0e)\\xf8\\xe7&\\x9a$\\xaf7\\xc8\\x87\\x8eMT\\x10\\xe5\\xb77z\\xb9\"on\\x9cv\\xa1c\\xc9\\'\\xb5\\x00WXA<\\x8e\\x9d(t\\xc0\\xe82*\\xd9_\\x97\\xa7\\xe3Q\\x98\\xc9\\x07#\\x9fC@\\x14\\x0c\\x05\\x8f#\\x8a*\\xff\\x00\\x94\\x07z)\\x81\\xf3\\xe3H\\x8f:\\xa4\\x8f\\x9f\\x98t\\x15\\xbc-Q\\xd44x+\\x9eT\\n\\xc9\\xb6\\xd1\\xdc\\xb1.\\xbb\\xd8\\x9e=\\xabf\\x1b\\t\\xa2\\x84;\\xb8\\x18\\x19\\x00\\x1a\\xe8g3e\\x9bh\\xf6\\xfc\\x9eY\\xda\\xdd=\\x8d:]1\\x1d\\xbb\\xa8#\\xbdg\\rRKyy}\\xeb\\xfd\\xd3ZQk\\x16\\xf3\\xc7\\xf7\\xf9\\xc60z\\x8a\\x9dQ;\\x94\\xa6\\xd10w\\t\\x07\\x19\\xc1<\\xd58\\xf4\\xc7\\x0e\\xcaX\\x00;\\xd6\\xe5\\xb5\\xdcq\\\\+\\x12&\\x8d\\x81,\\rX\\x9e;K\\x86\\xddj\\xe1\\x01\\xea\\x8d\\xda\\x93\\x95\\x86\\x91n\\xd9\\x16\\xcfHH\\xa1ei\\x18\\x0c\\x9fsVm\\x83\\xc6\\x80<\\x99-\\xd4U\\x0bh\\x8a\\x91\\x96\\'\\x07\\xd6\\xae\\x96_\\x97i\\xc9\\x06\\xb1r{\"\\xf9z\\x9a\\x90\\xc3\\xe6\\xaf\\xa0\\xc7_J\\xa7o\\x12\\xdb]:3w\\xe3\\x9e\\xb5\\xb9csm\\xf6=\\x9bF\\xed\\xbe\\x9d\\xea\\x8cza\\x92M\\xecNI\\xcd-\\xd0_R\\xc4S\\xefM\\x80\\x123\\x80}\\xeb[\\xfb>&\\x8c\\x03\\x9c\\xe3\\x93X\\xeb\\x17\\xd9\\xee\\xa3\\r\\x9d\\xb9\\xdcEo%\\xccn\\xbb\\x95\\x858\\xdb\\xa8hq\\x9a\\xf5\\xac1\\xeaJ\\x01\\xc8\\x00m\\x1e\\xf4\\x89\\x16\\xe0\\x14\\xf2\\xa0rj\\xe6\\xb7k\\xbfSWQ\\x95<\\xd3\\xa0\\x882\\x0crzSd\\x98\\xba\\xa6\\x96&\\x831\\xaf\\xcf\\xd4b\\xb9\\xd9\\xfeiw\\xbc`\\x18N0;\\xb5w\\xd7\\xa6\\x1bx\\x89b\\x06\\xd5\\xe9\\xd6\\xb8w\\xf9\\xee\\x0e\\xc4\\x00;\\x93\\xcd\\x0eVEGp\\xb3\\x8b\\xef;\\xe2I\\x1b\\x92\\xbf\\xdd\\xf6\\xae\\xbf\\xc3\\xde\\x1b\\x17Q-\\xdd\\xf2\\x90\\xb9\\xf9\\x10q\\x9f\\xadT\\xf0\\xce\\x8e\\x973\\xf9\\xb3&!Nr\\x7f\\x88\\xd7a=\\xca\\xc6\\x9bP\\xecA\\xc6G\\xf4\\xa8r,m\\xcd\\xd4v\\xd1yQ|\\xa5F\\x06\\xd1\\xd2\\xb1\\xe5d\\xb9\\x9dU\\xf7H\\xdd\\x97\\xfch\\xbf\\x9eM\\xcb\\x1c`\\x07a\\xd0\\x9e\\x14z\\x9a\\x8a\\xda\\'\\x89\\xb7-\\xc6X\\xf5 sS\\xcc+\\x16\\xdc\\x88\\x10*\\xfe\\xec\\x1e\\xa8\\x17$\\xd4\\x0e#\\xb9\\xcch\\xf3\\x8ct\\x0e\\xfbEYK$f\\xdd#H\\xecze\\xb95\\'\\xd8\\xe2\\x8b\\xe7\\x16\\xff\\x000\\xeb\\xb9\\xc7\\xf5\\xa6\\x98\\x18w6\\x12\\xc2\\x1by\\x8c\\xabwc\\x92+\\x06\\xfa\\x04|+m\\x07\\xf8Y9\\x06\\xbbK\\xbd\\xce\\xb9\\x16\\x8b\"\\x8e\\xa3<\\xd7\\'\\xa8E\\x0b\\xc8\\xdb#(:2\\xe7\\x185h\\x94\\xcc{\\x8f\\xb4\\xc2\\x86H\\x9dU\\x7f\\xba\\xaa?/j\\xa4.\"\\x906\\xf2\\x15\\x98\\xe09<\\x0fcZR@\\xee\\xcd\\x86\\xc9\\x00a\\xbdG\\xa1\\xacm@D\\xfc:y3\\x03\\xc9O\\xba~\\xb4\"\\xb7\\xd8\\x8eKs\\x0b\\xcc\\xe0\\xae\\xc1\\xea9S\\xdb?\\xe3T\\xd2]\\x8d\\xf2\\x82Y\\x860\\x06x\\xeb\\x9a\\x98I#\\xa1C \\xe4m|\\x9fCU\\x10:N\\xc0\\x91\\x91\\xf2\\xee\\x1d?\\xce*\\xd4Fi\\xe9\\xb72[;<`\\x19\\x0fFc\\xd3\\xdc\\x9a\\xda\\xb4I\\xee\\x95^v\\x0c\\xc0\\xe5H?tw\\xac\\xbbd\\x8aY6\\x82\\xb1\\xe0\\x00\\x00\\xe4\\xf2+\\xac\\xd14\\xa3#/\\x9d\\x92\\x8b\\xd9:\\xb1\\xa4\\xecM\\xc9 \\x0e\\x15\\x8a8,:g\\x8cU\\xcb+\\xa1\\x14\\xc5\\xdc\\x97\\x91\\x86\\xdd\\xc1~P*\\xcc\\xbalo\\xb80X\\x90\\x1e\\xdc\\x93\\xf8\\xd5E\\xb7\\xb4]\\xc6;\\xc6G\\x19\\xf9NFG\\xd6\\xa2\\xe8GOfc\\xbaL\\xa3\\xc6q\\xd3kf\\xb4\\xa3P\\xaa\\x06\\xd0\\x0e9\\xc5q\\x10\\xbc\\xd6\\x8c\\'\\x82B\\xc0rpq\\xf8\\x1c\\x7f:\\xeb\\xac\\xae\\xd3P\\xb2Y\\xe3\\xca\\x9e\\xeb\\x9eU\\x87jk\\xba)nf\\xebV\\xaeeYFF\\x0f\\xca\\xc3\\xadc\\x94\\tt\\xc5F\\x14\\xe1\\x87\\xe29\\xfdk\\xa3\\xb8\\xbaI\\xb7\\xc2\\xc0\\xa3\\xe3\\x91\\xd75\\x95-\\x83\\x9bV\\xb8\\x1f\\xf2\\xcd\\x86@\\xef\\xeb\\xfc\\xea5n\\xc5+-I\\xed\\x89(*\\xc2\\xe4\\xfc\\xa7\\x9cU{b<\\xbc\\xe0\\xf3VPr}I\\xebB,z\\x8d\\xc5p\\xa3\\xfcj\\xfc)\\x81U!O^\\xd5~ 1\\xefT\\x04\\x83\\x81A\\xe4QKT\\x04a\\x004\\xed\\x94\\xb4\\xb4\\x00\\x9bh\\xdb\\xc5-\\x14\\xd2\\x016\\xf3\\x9e\\xf4R\\xd1E\\x80\\xf1;T\\xb9r\\xc1#\\xc0^\\xe7\\xa5_xY\\xf0%\\x9b\\xb60\\xb5\\x18\\x91\\xdd6 \\xd8\\xa3\\x19#\\xbdH\\xc8UAN\\xbe\\xa6\\xb6L\\xe4)\\xbe\\x85irs\\xbd\\xf7\\x0e\\xbc\\xd5K\\xaf\\x0e4yx\\xe5`>\\xb8\\xab\\xe6r&*\\xcf\\xb5\\xbb\\x10x5f@|\\x91\\xe6\\x1c\\x803\\xc9\\xa3\\x99\\x8bc\\x98D\\xb8\\x8ee\\x88\\xcb\\xb8\\x82\\x07^k\\xa6\\xb7\\xb0Ke\\xdfu0,W\\x05A\\xaen\\xe4\\x96\\xbagL\\x01\\xbb\\x8c\\x1e\\x84S\\xe3\\x96\\xe6@\\x0c\\x9267t\\xcfZ\\x89=K[\\x1dLO\\x18\\x01b$\\x8f\\\\\\xd6\\xe6\\x9fb$\\xdb\\xe6)\\x01\\xbb\\xd7/b\\xe4m`zs\\x8a\\xee49\\x91\\xd5Q\\xf1\\xd7\\x81X\\xf5)\\xecE%\\x9c\\xf6\\x13\\x12\\xa9\\xe6\\xc6y\\x0c;V\\xb5\\x8d\\xcc/\\x00\\xf3\\x06\\xdff\\xaa\\xda\\xcd\\xc9\\x85\\xd2$n\\x18U\\x1f4\\x18Xg\\xb7j\\x1e\\x8fA+\\xb3f\\xf8[\\xbck\\x86\\x05\\xfa.\\x0ej8\\xa0n>m\\xa7\\x1f\\x9dbCp\\x11\\x83\\x12I\\x1d2kE5\\x12\\xec\\xa1\\x86@\\xa3\\x9a\\xe3\\xb1-\\xe5\\xbb\\x14b\\xc0\\x02\\x07\\x06\\xb2\\xed\\xa71\\x12\\x84ch\\xe4\\xd6\\x8c\\xb3\\xa3\\x8f\\x9d\\x8a\\x8a\\xcb\\xbcu2yh\\xdb\\x8bu\\xc5;\\x8a\\xc5mZ\\xe1\\x05\\xa9!\\x81g\\xe0\\x13\\xda\\xb2t\\xbbX\\xeeu\"e8\\x8d\\x01\\xdc\\xc7\\xb0\\x1dj\\xe5\\xf9\\x0bfs\\xf7\\x94\\xf0*\\xd6\\x95k\\x1c6\\x11\\xbc\\xa3\\x06C\\xbd\\xfe\\x9d\\x85D\\xe5d\\\\Q\\xb9m2\\xa4h\\xa9\\x18Ur\\x164\\x1e\\x9e\\xa6\\xa3\\xd4oU\\x1d\\x97\\x8d\\xdft\\x01\\xdf\\x15T;\\xcbu\\x1c\\xd9\\xdb\\x83\\xf2(\\xec*\\x0b\\xdf-\\xa7\\x1bdf#9\\x1dy\\xaeu+\\xbb#N^\\xa4\\xfa}\\xbc\\x931yI`NI\\'\\xadl[\\xd8,\\x84\\xb3\\r\\xaa\\x0f\\xca\\x07Z\\x9a\\x08\\xa3\\xb5\\xb6\\x13I\\x8c\\xaa\\x83\\x8fJ\"\\x94\\xec3Hp\\xacx\\x1e\\xb5\\xa2d\\x88\\xc1\\xf6\\x94\\x84\\x04\\x8dx.G\\'\\xe9\\xebU\\xa5\\xd3`9k\\xa9\\tn\\xbb\\t\\xcdIqs+\\xa8\\x08B\\x968Q\\xd7\\x02\\xad[\\xd8\\xaae\\xe6m\\xecF9\\xaa\\x8a\\x17\\xa1\\xcb\\xdeD\\xb6\\x97\\x0b%\\xb4\\xd3yg\\xef\\x05\\xe0c\\xd3\\x9an\\xa9\\x15\\x9bB.\\x0c\\x8f a\\x9f\\x99\\xb6\\xb0\\xfc\\xab\\xad\\xb8\\x869\\xe1(bG_\\xee\\xb2\\xe6\\xb8\\x7f\\x16[=\\x85\\xb3K\\x04k\\x1a\\x8c\\x8c\\xf6\\xcf\\xd0\\xd6\\xb1W%\\xees\\xd7wr+\\x95\\x8d\\x0e\\x0f u?\\xada\\xdeL\\xec\\x98\\x91W\\x07\\xa0,\\t\\x1f\\x952;\\xc9%\\x9f\\x17\\x13mQ\\xfd\\xd1\\x9c\\xd4\\x976A\\xf2\\xe9\\xb5\\x15y9<\\xff\\x00\\xfa\\xea\\xada\\xad\\x8c\\xe5p\\xa78\\xc9\\xee\\x05\\x02@\\xb9\\x1c\\x81\\x9c\\x9at\\xb6\\xb7\\x0b\\x0e\\xfd\\xac\\x14\\xb7\\x00\\xf7\\xa8\\xe1\\x82Wl\\xb4l\\xc0\\x1ey\\xc7j\\xb1\\x9bZF\\xa1\\x0cN\\x15\\x95\\x86\\xe3\\x9f\\x90\\xe3\\xf38\\xae\\xcbN\\xba\\xc6\\xdf+p\\x19\\xc9\\x8f88\\xf5\\xcfz\\xe2\\xec\\x95\\x12\\x06\\x89\\x80\\r\\x9c\\xa3\\x93\\x8f\\xa85\\xa9\\xa5_\\xcbc:\\xc9\\x1a\\x9c\\x93\\x82\\x8cs\\x83\\xfe\\x15/rZ\\xb9\\xd8\\\\\\xdf[\\xbb*\\x1d\\xd0\\x01\\xc1\\x0e?\\xadji\\xd6\\xf6R\\xe9\\xec\\x8a\\x8aY\\x87V\\x19\\xcf\\xb85\\x80\\xf3Mw\\n\\xc8\\xb6\\x83q\\xeas\\xc7\\xe5W\\xb4\\xdd\\xd6\\xa8\\x1a7d~\\xa2\\x17\\x1f)=\\xc6{\\x1a\\xce@\\x87\\xdc\\xda\\xc4\\x83r\\xe2<\\x1d\\xac\\xb8\\xebV\\xfc:^\\x1b\\xc9\\xe0\\'\\xe5m\\xae==\\xe8\\xbct\\xbe\\x0c64r\\x94\\x04)\\xfe/\\xfe\\xbd?\\xc3\\xe8^\\xed\\xa5\\xc7\\xdc\\x89T\\x93\\xeb\\x9f\\xff\\x00]L]\\xd9MlO-\\x97\\x99\\xa9;!\\x04\\x93\\x9f\\xa7\\xadk,\\x08\\xb0\\x08\\x88\\x05q\\x82=i\\xcb\\x1a\\xab\\x16\\x0b\\xcbu4\\xf1\\x9a\\xde\\x10\\xb2\\xd4f\\x1b\\xdb\\xfd\\x9ev\\x8c}\\xd1\\xca\\xfd\\r>0w\\x1a\\xd3\\xb9\\xb7\\x0e\\x03\\x01\\x96^\\x9e\\xfe\\xd5GaV\\xe0q\\xefYN<\\xb2*/\\xa1$ci$\\xf4\\xedW#\\xca\\xe4\\x1f\\xadS`Lg\\x07\\xb7Z\\xb9\\x11\\xca\\x0c\\xfaRLd\\x94\\xb4\\x94\\xb5h\\x02\\x8a(\\xaa\\x00\\xa2\\x8aZh\\x04\\xa2\\x96\\x8a,\\x07\\x8a\\xc1:DKI!\\xc0\\x1c\\x01I=\\xec\\xb3\\xa9\\xf2\\xf0\\x91\\x8e\\xacEg@\\xdfi\\xb8UR}\\xc1=\\xa9\\xd7\\xb7\\x02(\\xb6#\\x0cw\\xadv9\\x19\\x0c\\xb71\\xc2\\xc1\\x81$\\xfa\\xe6\\x9c\\xfa\\xc3\\xbal\\xde\\xc0m\\xe35\\x8f;.\\xd6l\\xe0\\xf5\\x02\\xa0\\x8eI\\x02\\xf2\\xdc\\xf4\\xc7\\xd6\\xa6\\xc5\\xa8\\x9a)\\xbc\\xb1$\\x92\\x18\\xe7\\x9a\\xb7\\n\\x10\\xdb\\x8f \\x0e\\x05g\\xd94\\x8e\\x1b\\x82Bc85\\xb7f\\x87\\xcaY\\x1dr\\xa3\\xa3T4\\xc2\\xf6.[o\\x8fl\\x80pq\\xc6kv\\xd3P\\x92\\xd5\\xc0\\xe4\\x80z\\xd6\\x04\\xf7\\xc4\\xa8DP\\x060H\\xa7Z]\\xbb8Wn~\\xeeOz\\x89.\\xa3Gayz\\xb7i\\x1b\\x80\\xdb\\x85\\x116\\xf4#\\x9c\\x91\\xc5f\\xdb\\xb9\\x08\\xaa\\xdc\\x10x\\x07\\xb5oi\\xe9\\x13\\xc2Y\\xbaw\\x00\\xf2\\xb5\\x1b\\xbdCdg\\xba\\xec?61\\xd6\\xa5K\\x94N\\x83\\x9cq\\x8a\\xad\\xa9L\\x91\\xdc2F\\xd9Q\\xd2\\xa3\\xb6\\xde\\xc9\\x9e\\xab\\xd8f\\x8bXkb\\xdc\\xb3\\xbb\\x0c\\x80H\\xc5Ad\\xfb\\xef\\ts\\xca\\xa1\\xebSBv]4n>R\\x84\\x0f\\xae8\\xaa\\x10\\xcd\\x8b\\xbd\\xcb\\xdc\\x11\\xd6\\x97B\\x86\\xdf\\xb8\\xb9\\x95-Qy/\\xcb{T\\xb7\\x97\\x8c\\x97\\n\\x91\\xb0\\xda\\xa0(\\x03\\x9c\\xd5v\\xca\\\\\\xb3\\x93\\xca\\x82\\xc0{\\xd4V\\xe3\\xcc\\x91\\x9d\\x86y\\xc8>\\x86\\xb0\\xab+\\xb3HGCV+\\x89#B\\xfb\\xb7;\\x0f\\x90\\x1e\\xd4\\xcbh\\xe5{\\xb5Yd\\x19,\\x18\\xaa\\xf7\\xefQ\"2?\\x9c\\xce\\x00\\x1c`\\xf6\\x1e\\xb5%\\xa4\\xcb\\x0c\\x92\\xcc\\xcd\\xbb\\x1f\"{\\xd6qvW-\\xab\\xe8k\\\\\\xdf=\\xcc\\x8d\\x0e\\xff\\x00\\x95H\\r\\x9e\\xf8\\xed@\\xbe\\x92gX\\xc0\\x01\"\\xe1}\\xfd\\xeb.7uF\\x92G\\xcb9<\\xe6\\xa4\\x8e\\xfc[>\\xf8\\xf6J\\xdd3\\x9e\\x16\\xa91X\\xe9-\\xa21\\x05\\x92Q\\x86\\xc7\\xca;\\xd5\\xf8D\\xae\\xb8l\\xaf\\xaek\\x06\\xc2{\\xeb\\xfb\\x80\\xf8\\xc2\\x8e\\xe6\\xba4>Z\\r\\xec3\\xfc\\xebHj\\xf5!\\xa1\\xc1\\x15\\x06\\x06\\x05`x\\xd2\\x11/\\x87\\xe6$/\\xca3\\x93\\xda\\xba\\x03\\xc9\\xcdf\\xeb6\\x9f\\xda\\x1at\\xd6\\x87#\\xccR\\x07\\xd6\\xbay\\x95\\xf4\"KC\\xc2\\x84\\x7f;1p\\xac\\x0e\\x01\\x1dkR\\xda\\xd8\\xcb\\x1a\\xa1|\\xa7Rs\\x80\\r\\x17Z\\\\\\xd6\\x97-\\x04\\xa9\\xb5\\x81\\xe0c$\\xfd*\\xab]Ii1\\x89\\xe4W\\x8c\\x9eq\\xc1\\x07\\xde\\xae\\xc4\\xeeh\\xc9k\\xbf\\x046\\x15s\\x84\\x02\\xa3k\\x199e\\xda\\xa4\\xa7\\x18\\xfe.*D\\xbb\\x8aD\\xeb\\xb7\\x1c\\x86=\\xff\\x00\\xa54jGa@\\x8a\\xc79\\xdcz\\x83\\xd3\\x83\\xe9B\\x12\\xb9FUx\\x98\\x02\\x0bq\\x83\\xdb\\x15\\xa5\\xa2Z\\xc9}\\xa9\\xc3\\x1e\\t\\xcb\\x85\\x04\\xfaT\\x10\\xab\\xdeN\\xca\\x91\\xb4\\xcc\\x8aY\\x95\\x07\\x00\\x0e\\xa6\\xbb?\\x04i\\xcb-\\xd1\\xbax\\xf6\\x08y\\x19\\xee\\xc7\\x8a\\x1e\\xf7\\x1e\\xc6\\xbb\\xe97\\x8b\\x84V\\xc2\\x81\\x8c\\xd6\\x8c\\x1a^-\\xc0\\x98\\xee\\x90\\xf4 t#\\xa5k`\\x11\\xd2\\xa9\\xdc\\x19\\x12\\xe6\\xdfa;Ka\\x80>\\xd5\\x94\\x95\\x8aJ\\xc65\\xc4R\\tb\\xd8\\x99`\\xc0\\x10O\\xbdj\\xe8\\xf6\\x9fg\\x86V\\xe8d\\x91\\x8e=\\x06i\\xcbf\\x92\\xde\\x99\\xc0\\xe1NO=N+A\\x10\"\\xed\\x14\\xe8\\xc2\\xee\\xfd\\n\\x14\\x0cR\\xd1I\\x80k\\xb0\\x00\\xb0\\xc5S\\x92\"e$\\x0f\\x95\\xbfCW\\x02\\x81A\\x03\\x15\\x94\\xe0\\xe5\\xb8\\x8ab\"\\x14\\x83\\x9a\\x9dF\\x00\\xc7\\xa5\\x05q\\xc68\\xa7/J\\xe6j\\xce\\xc5\\xa6--%-R`\\x14QEZ\\x00\\xa5\\xa4\\xa5\\xaa\\x00\\xa2\\x8a(\\x03\\xc3\\xee\\xac\\xcd\\xa2\\x89\\xed\\xc8\\xdb\\x8e\\xdd\\xeb.Gy!VT\\xf9\\x8b\\x15\\xcdn\\xc8\\xf1\\xcbk\\x85Vl\\x0e\\x95\\x93f\\x01\\xd4b\\x8d\\x81\\xda\\t\\xe3\\x1dsW\\xd2\\xe7)\\x98\\xf6\\x12\\xa3\\x17c\\xc1\\xed\\xd6\\x9a\\xf6\\xfb\\x94\\xb8\\x05\\x00\\xea+\\xab{\\x05\\x99w\\xb7\\xddS\\xc8\\xaa\\xda\\x95\\xa4w!c\\xb6@\\xaa\\xa3\\xe6>\\xbe\\xf4=Xs3\\x9e\\x81\\x9b\\xa2\\x10\\xa0u5~\\x16\\x9bn7\\x9cz\\x03BZ\\x8bh\\x89d\\xf9\\x94\\x9cg\\xbdC\\x1b\\xb3\\xb8\\np\\xa3\\xb0\\xedY7\\xa9{\\x9aJ\\x87`\\xcfZ\\x92\\xdf\\x89@\\xef\\x9e\\x86\\xa1\\x87q\\x1c\\x82M\\\\\\t\\xb8+\\x01\\x83\\x9e\\xb5\\x0eC\\xb1\\xb9j\\xcb%\\xa8\\x91O\\xce\\x87\\x0c\\xa7\\xb8\\xab\\xd6\\xb3\\xbc/\\xb9NA\\xea\\rg\\xe9\\x8d\\x9f\\xdd62FW\\x1d\\xebA#\\xc8#\\x9cu\\x14\\xb7\\x13\\xd1\\x92]\\xe9\\xdfiV\\x9a,\\xf3\\xd4TvQI\\xb0*\\x0c\\xb2\\x7f\\x0f\\xaf\\xadho\\x92\\x05Y\\xa1\\xc1\\x04a\\x81\\xe8qE\\xbc\\xf0\\xbc\\xfer\\xc7\\xe50?8\\x07\\xf5\\xa6\\xd5\\xd6\\xa2\\xbb\\x19sl\\xef\\n\\xdd@\\xbb\\x8a\\xf3\\x8cu\\xc7Q\\xf5\\xac\\xe6\\xb3)p\\x1cd,\\x9f2\\x9f\\xe9]\\x82\"K\\x19x\\x19Hq\\xf3\\x01\\xd0\\xfe\\x15\\x9fuj\\\\20P\\x01\\xcf\\xa1\\x06\\x8d\\x05v`\\xdfX\\xb0Q*\\x82A\\x18lu\\xac\\xf8\\x1c\\xc7\\x84\\xcf\\npq\\xde\\xbaI\\\\\\x84U\\xc0\\xc8\\xeezUU\\xd1\\xe3\\xba\\xdd*\\xba\\xa3\\x0e\\xa0\\x1cVS\\x82\\x91\\xac\\'m\\xcc\\xbb\\xab\\x80T\\xc6\\x99\\x0c\\xc39\\xf4\\xa6\\xa0\\x91\\xd68\\xa3\\x1f(\\xe4\\x9cu4\\xc9\\xe0\\x11^J\\xa3\\xa2\\x0eA\\xe4\\x13\\xedH\\xb3K\\xb1\\x960\\x14\\x15\\xeaz\\xd74\\xbd\\xdd\\r\\xd6\\xaa\\xe4\\xafu\\xf2\\xf9{F\\xe0v\\xec#\\x04U\\xeb{y\\x16\\x1d\\xc1\\x13o\\xf1v?\\xafZ\\xcb\\xb7C>P\\xa2\\x96\\xee[\\xaf\\xd75=\\xca2*\\xab\\x16\\x90\\xf7\\x1b\\xcf4\\x95\\x86\\xcd\\xdbk\\x89\\n\\x0f\\xb3\\xdd\\x01\\x83\\xca\\xb5l\\xe9j\\xef\\x99\\xa4\\xed\\xc0$\\xf55\\xca\\xe9\\xb3G\\x1b.\\xcbuRG\\xcc\\xc7\\x9cV\\xc4z\\xca\\xa3\\x08\\xc2\\xb0\\x1f\\xec\\xd5FM;!J\\'H\\\\\\x00I\\xe0z\\xd5i\\x0e\\xe3\\xb9\\\\\\x8f@:\\x9a\\xa6n\\xc3\\x10\\x1c\\xb2\\x81\\xebM7\\xf0G\\xc9l\\xb3v\\xf6\\xad\\x14\\xbb\\x99\\xb8\\xb6s\\x9e2\\xd2.\\x14C\\xaa\\xda\\x86f\\x89\\x86\\xfd\\xbdTz\\xd7\\x01um%\\xf5\\xcbHH$\\xd7\\xb0&\\xa7\\x1a++\\x15 \\xf65\\x9dq\\x15\\x83\\xa9qgn\\x1c\\x9c\\x82\\x10f\\xba#QX\\xcdFI\\x9eja1\"\\xc7\\xb4\\x96~\\x06;T\\x86\\xd0\\xb4AG\\xca\\x1b\\xa9\\xc5w\\x89\\xa7XO\"\\xee\\xb7\\x8f9\\xec1Z\\x1f\\xf0\\x8fh7G\\xe6\\x80\\xa3\\x1f\\xee\\xc8G\\xf5\\xa6\\xa5\\x17\\xd45]\\x0e\\x1f\\xc3\\xb6\\x926\\xa0\\xd0\\xc0\\xa4\\xef\\x05K\\x91\\x8c-zu\\x8d\\xb4vV\\xab\\x1cq\\xe4(\\xf9\\xb1\\xde\\xa1\\xb1\\xd3l4\\xcd\\xd1\\xdb\\xa2\\xa2\\xb7\\xf1\\x13\\x96?\\x8dh@\\xcaC*\\xe0\\x95<\\xd4\\xceZ\\xd9\\x04cwvM\\x1b\\x02\\x99\\xc1\\x1e\\xc7\\xb5W\\x93\\x9b\\xc4\\nF\\xe2\\xa6\\x96I\\xfc\\xb9\\x02\\x91\\x92\\xcb\\xc2\\xaf$\\x9a\\x92\\x08J\\x93#\\x9c\\xc8\\xfd\\x7f\\xd9\\x1e\\x82\\x9cS\\xa8\\xd4z#M\\x91,q\\xacj\\x15F\\x05IE\\x15\\xda\\x95\\x84%\\x00QHN(m \\x1dI\\x8aM\\xd4d\\x9aWL\\x05\\xc0\\xa8]\\x951\\x93\\x80N*C\\x9e\\xf4\\xd2\\x03\\x0c\\x11\\x91Y\\xd4\\x8f2\\xb0\\xae\\x00\\xd3\\xaa\\xbf\\xcd\\x07\\xbc\\x7f\\xaa\\xff\\x00\\xf5\\xaa`r+\\x04\\xac\\xec\\xcbN\\xe3\\xa8\\xa2\\x8a\\xa4\\x01KIKT\\x80(\\xa2\\x8a`x]\\xb5\\xc1\\x8c\\x15\\x90\\xee\\\\`\\xd4\\x08B\\xde\\x89\\x10\\x00\\xa0\\xd4\\xd3I\\x12\\xa2\\x84L\\xf3\\xce\\rX\\xb7\\xb7\\x81\\xf0w(\\xca\\xf4<\\xd6\\x8e\\xd69|\\xcd8J\\xbc\\x0c\\xa1\\xfad\\x9a-b\\xcaI\\x18\\x00\\xb6\\x01\\xcf\\xa0\\xaaeZ\\x0c\\xaa3\\x12x8\\xefW4\\xa1\\xe5\\xb4\\xcc\\xe7\\xe6+\\xd0\\xd4j\\x80\\xcd\\xd4\\xd25\\x94\\x88\\xfe\\xea\\xf1\\x8fSY6\\x8a\\x039\\x0b\\xc0\\xf5\\x15\\xaf\\x1d\\xb5\\xc5\\xe5\\xc3\\x06\\xc0RysUn\"\\x8e\\xdeF\\x85\\x00l\\x1eH\\xa5%\\xd0qd\\x11]e\\xb0\\xe3i\\xcf\\x07\\xd2\\xb5\\xad\\xbeu\\xcfc\\xe9X\\xe5\\x0b\\xcc\\x02)\\xcc\\x87\\x1c\\xfbV\\xe6\\x98\\x85\\xd0\\x0c{\\x1e+)+lZ\\xdbR\\xd40\\xb22\\xc8\\x8f\\x80\\x0fS]\\x15\\xa3\\xc6a\\xf9\\x87\\'\\xbdc\\xbc\\x1b \\'\\x1c\\x0e\\xd5-\\xb5\\xc0HL.\\xc5r\\xb9SK`j\\xe5\\xb6\\xbf[K\\x83\\x0b\\x8d\\xd1?\\xa7j|\\x88\\xcaD\\x91\\x80\\xc8y\\x04VYe\\xb9\\x7f,\\xe1\\x9cp1Z\\xb6\\x92\\x0bkO&~\\x03t>\\x94\\xc5\\xb0\\xd5\\xb9\\x969U\\x94\\xb4L\\x7f\\xbaz\\xd6\\x80\\xfbT\\x9bD\\x923\\x0fS\\xdcV2\\xce\\xd2\\xbe\\xc6\\x03p`\\rt\\xb0\\xb2\\x94]\\xdcmP\\x05-\\x84\\xca3)\\x8d\\x80\\xcfQ\\xcej\\x8d\\xcd\\xfa\\xc6\\xac\\x91\\xfc\\xac}*\\xc6\\xb0\\xfb\\x83\\x15lz\\n\\xaf\\xa5i\\x86I\\x96Y\\xc1n~U4HqFl\\x1a}\\xd5\\xc4\\xad&\\x0e\\x0fPz\\x1a\\xb4\\xfae\\xd4q\\x95H\\xfeV\\x18\\xe4\\xd7\\\\R\\xda\\xd1KH\\xaa2\\x06\\x00\\xaa\\x17\\x9a\\x8a:\\x9d\\x88T\\n\\xe7\\x92W\\xb9\\xbcd\\xedc\\n+9-\\x97c\\xc4K\\x1e\\xe0\\x8at\\x90\\x8d\\x83r(\\xf7\\xa9\\xcb\\x96\\x93s\\xb1bz(\\xedS\\xc9mn\\xd0\\x0620s\\xfc\\x19\\xe2\\xb3IX\\xb7\\xb9\\x93+\\x88\\xd4*eGp=}h\\xb6\\x9c ,>\\xf7\\xa9\\xab\\xa2\\xc2O\\x98\\xed\\xf9q\\xc1&\\xa3{\\x18\\xf7\\xab\\xb2\\x93\\x93\\x82\\x05-\\x8a&\\xb4K\\x8dE\\xca$\\xca\\xa7<\\x03\\xc95u\\xf4\\x0b\\x8bq\\xbd\\xe52\\x92z-X\\xd2E\\xbd\\x8c\\x8c\\x8a\\x9f1\\xef\\x8a\\xd2\\xb9\\xd5\\xad\\xed\\x98+\\x06rW?(\\xcd\\\\y-\\xa9.\\xfd\\x0eR\\xe8\\xad\\x8d\\xc3$\\xb6\\xcd\\xb8\\x0c\\xfc\\xcf\\xc5Ri\\xae\\xe6\\x8c\\xf9j\\x14\\x13\\x91\\xfe\\x15\\xd2][\\x7fo7O/\\x03\\xe5?\\xe3T\\xff\\x00\\xe1\\x1c\\xbb\\x82M\\xbf+\\x83\\xc2\\x95l\\x03E\\xa4\\xf6\\x0b\\xae\\xa6\\x1cr\\xde\\xdb\\xb8vFl\\x1ejyu\\x1b\\x94\\x98\\xaaF\\xe4)\\xea\\x01\\xc1\\xae\\x81<=u\"*;\".rr\\xc5\\x8di\\xdbhPB\\x07\\x98K\\xe3\\xf0\\x15\\xb4iJ]\\tr]\\x0ez\\xdd\\xf5MKh\\x82\\xdeP:\\xefo\\x95G\\xe2k\\xa9\\xb1\\xb2kXp\\xef\\xe6H\\xc7,\\xdd?*\\xb6\\x91\\xacj\\x15@\\x00S\\xab\\xaa4\"\\xb5d\\xdd\\x8c\\x11\\xa0m\\xdbF\\xef^\\xf4\\xfa(\\xc8\\x15\\xbaI!\\x05\\x04\\xd3rOJ\\\\z\\x9aWoa\\\\C\\x93\\xd2\\x80\\xbe\\xb4\\xea(\\xb0X\\x00\\x02\\x90\\x9cR\\x93L\\xcd\\r\\xd8\\x1b\\x02ri)z\\xd0\\x14\\xe2\\xa6\\xd7\\'q1\\x91\\xcd5Wg\\x03\\xee\\xf6\\xf6\\xa9@\\x02\\x8a%\\x04\\xf7)h6\\x96\\x97\\x02\\x92\\xb1qq((\\xa4\\xcd-$\\xc6-\\x14\\x94U\\\\\\x0f\\x1d\\xba\\xd2\\x96\\xe6R\\xc9\\x1a\\x8fq\\xc52;\\x06\\x85\\xc2>\\n\\x8fZ\\xbb!\\xbb}\\xcb\\xc1\\x1e\\xa2\\x9a\\xb1\\x18\\xc6fr\\xe3\\xd7\\xd2\\xb4l\\xe6%\\x8d E\\xcba\\x87^j\\x16\\xbc\\x85IQ\\xb8d\\xf1\\x81\\xd4SY\\xad\\xb0\\xc5\\x1d\\x89\\x03={\\xd4\\xdau\\xa2\\xdf\\\\\\xaa\\xccYA\\xfe\\x0e\\x9f\\x95M\\xed\\xb8\\x87D\\xa2\\xfdZ\\x18\\x93a\\xc7\\x046\\xdc\\xd5\\x19\\xbc?t\\x1f`t_R\\x0ek\\xa3\\xb8\\xd2t\\xcb)\\x02J\\x1e&<\\xa3\\xab\\xf0\\x7f\\x0e\\xd5\\x15\\xbd\\xc5\\xa5\\x99\\x93x2\\x10\\xd9\\x07\\xd7\\xebR\\xe5`J\\xe7=.\\x93\\xf64\\x12JX\\xb7\\xae85sI\\x00H\\xa1\\xb8\\r\\x9c\\xd5\\xbb\\x8da\\xe7b\\x89\\x1a\\xaag\\x85a\\x9a\\x84\\x16fWD\\n\\xc0\\xe7\\x00Vr}\\x8d\"\\xb4\\xd4\\xbe\\xe4L\\x860\\xc0\\x10\\xbbj\\xb1\\x8eKr\\xb0\\xdcD\\xc0\\x1f\\xb8\\xe3\\xfa\\x1a#\\x90\\x97l\\xa6\\xd6n\\xfe\\xf5\\xa1\\r\\xcb\\xc8\\xaa\\xb2\\xb0`\\x9fw\\x8e\\x95.In\\t1\\xd6>\\x1e\\xbb\\xb8\\x91e\\x0e\\x8a\\xb9\\xca\\xb9\\xfb\\xd5kU\\xd2.\\x952\\xd2+\\x91\\xfd\\xd1\\x8as_\\xce\\x8e\\x15\\tA\\x8e\\x08\\xebR\\x19n\\x8a\\xb4\\x8c\\x1aB:\\xe6\\xa96\\xfa\\t\\x94\\xect\\x96R\\xb2N\\xdb[\\xa8\\xadY\"0E\\x95$\\xfb\\xd2Z\\xa4\\x8e\\xc2I\\x1b>\\x83\\x1c\\n\\xb1z\\xec-\\x1b`\\x04\\x81\\xc7\\x14Z\\xe4\\xdc\\xc5\\xb5\\x8b\\xed\\x9a\\x83o\\xc9\\x8e.I#\\x8c\\xd6\\xb3\\xdd\\x8b{vk`\\xbb\\x80\\xeaER\\xb0uk6\\xb7\\x88\\xe2i\\x1f\\xe65&\\xa3\\x12XZ\\xc6\\x8c\\xe7{\\x0eT\\x0e\\xb52\\xf24\\x89b\\xd1\\xed\\xda\\x0f>y\\x0c\\xb2\\xb8\\xe1s\\xf7j\\x9d\\xea\\x06\\xf9\\xc3\\x8cg;Gj\\x82k\\xdbX-\\x10F\\xe4\\xbb\\x9c\\x11\\xdcU{i\\xda\\xe1\\x9d\\x18\\x00\\xc7\\xee\\xfb\\xd6\\x12\\xbbF\\xc9X#\\xdf\\xe6\\x17a\\x95?\\x9dZy#h\\xd4\\x80C)\\xef\\xda\\xab<D\\x15\\xd8\\xdc\\x9f\\xe1#\\x18\\xa7Gk8\\xf9\\x9d\\tV\\xef\\x8a\\xca\\xcf\\xa1z\\x17\\xcc\\xf1\\xbck\\xbf\\x93\\xea\\xb9\\xa7G\\x01yB\\x82\\x14\\x1f\\xba\\xd8\\xc84\\xdb\\x0b7\\xdf\\x87BT\\xf7\\x1c\\xfe\\x95\\xb6\\x96^H\\r\\x11\\x04\\x0f\\xe1e\\xc05q\\xa6\\xde\\xe2r\\xb1H\\xe9\\xcf\\x102;\\x17\\xc8\\xe0%6\\xc6\\xc1%\\xba/ b\\x07\\xafz\\xbe\\xfa\\x94>[\\x02\\xad\\x91\\xc61U\\xa2\\xbb\\xde\\xdb\\xd3\\x92N\\x00\\x02\\xa9EE\\xe8M\\xee[\\x9a\\xd0&\\x1e\\x00U\\x81\\xe0(\\xabj\\xa4(\\xdd\\xc9\\x14\\xc8cd\\\\\\xb1,\\xe7\\xa958\\x18\\x1e\\xf5\\xdbJ\\x9f\\xdad7p\\x00\\xf7\\xa7QEt\\x80RR\\x16\\xf4\\xe6\\x93\\x04\\xf5\\xa5~\\xc2\\xb8\\x16\\xc9\\xc0\\xa5\\x0b\\xdc\\xf5\\xa5\\xc0\\x14Qn\\xe0\\x00b\\x96\\x8a)\\x8cJB\\xd45\\'\\xd2\\x93\\x13b\\x1c\\x9a\\x02\\xd3\\x80\\xc5-+\\x05\\x84\\x0bN\\xa2\\x8a\\xa1\\x85!\\x02\\x96\\x8a\\x00n\\xdaB\\xb9\\x184\\xfa*\\\\S\\x02\\x0f+o(H\\xf6\\'\\x8aayP\\x8d\\xf1\\x96\\x1e\\xab\\xfe\\x15f\\x8a\\xcd\\xd2C\\xb9\\x12\\xba\\xbev\\x9e\\x9d\\xbaQNx\\xd5\\xc7\"\\x8a\\x8eV\\x17<\\xceKX\\xa2R\\xf1\\xbb\\x1e:f\\xb3\\xc4\\x82\\xe42ga\\x1dw\\x1e\\xb4\\xdb\\x9b\\xe7f 8U\\xf4\\x1d\\xea\\xb3\\xdcF\\xef\\x8cm\\x03\\xa9\\xc5[g=\\x8d+M-\\xeeco\\'k:\\xb7\\xdd<n\\x15\\xa9olJ\\xa1{gW\\x1f|/o\\xa1\\xacX5D\\xb3\\xc3G+\\x97\\x1f\\xdd\\xad};\\xc5\\x8f\\x0c\\x9b\\xae \\x05[\\xbdD\\x9b\\x0b\\x0b\\xad>\\xf5UW3.0U\\xfe\\xfa\\xfe5\\x84\\xf1]\\xca\\xfb\\xe2\\x89\\x8a\\x81\\x8ex\\xae\\xe6\\xe1 \\xd5-R\\xec[lg\\xe8\\x08\\xe4\\xd65\\xe5\\x8c\\xf0\\xbe\\xe7>R\\xe7\\x80\\rg\"\\xa3\\xd8\\xc3\\x8d%@\\xa2X\\x8a\\x9e\\xbc\\x8a\\xd0\\x8aE\\x00\\x10\\x87\\xf9\\xd5\\xcbk\\t.\\xc1c!\\xda:\\x13\\xcdG>\\x9d$\\x13\\x00d\\xdc;m\\xa8E\\x86\\xf4s\\x87M\\xb9\\xe8\\xc0u\\xa0l\\xde\\xa07$\\xd4O\\x14\\x85\\xb9\\'\\x03\\xb14\\xe5A\\xb9w.H\\xe3\\xe6\\x15\\x9e\\xfb\\x95k#N\\xdd\\x90\\xcd\\x19r\\x00\\x03\\x04\\x93\\xd6\\xb6\\x01I\\xc8\\x8d\\x07\\xca>\\xf1\\x15\\x83\\x02n\\x91c`N\\xec\\x0c\\x9e\\xff\\x00\\xfdz\\xe8t\\xdbsm\\x01\\x8d\\x87 \\x9ekh\\xb3\\x19\"A\\x1e\\xd2\\x14v\\xa8\\xef\\xd1\\x16\\xceM\\xc4\\x8f\\x94\\xe0\\xd5\\xb8\\xd4\\x16\\xdc\\x7f\\n\\x86\\xfe\\xdd\\xee\\xad\\xda5\\'\\xa7\\x18\\xefZ\\x11s\\x1fJ\\x92\\x0b+F\\xbd\\x94\\x16\\x9b\\x1c/\\xadd__\\\\_]\\x92\\xec\\xc4\\x8eq\\x8f\\xba=*\\xcc\\xd2\\x1b\\x12\\xb1\\xca\\x99a\\xd07j\\x95\\xe4\\xddn\\x97\\x01b\\x95Y\\xb6\\x90\\x98\\x04VwW\\xb36[\\\\\\xa4\\x9ay\\x90ou\\xc0\\xc7\\x1e\\xf5\\x08\\x9a;[\\x86w%J\\xae0=kb\\xebS\\xb7\\x8ed\\x10\\x80\\xc1Tp}k\\nE\\x17\\x17RL\\xcb\\x81\\x9c\\x85\\xf4\\xacd\\x91\\xb2\\xb9f\\xc2\\xeaEr\\xcf\\xbaE\\'$\\xb5u\\xfaU\\xd2N\\xbeY@\\x08\\x19\\x19\\x15\\xc9[\\xcb\\x02p\\xc9\\x9e\\xe7\"\\xb7\\xf4\\x9dJ\\xd1\\xee\\x17\\xa4yM\\xb9\\'\\x8c\\xd4\\xad\\xee6o Ts\\x88\\xca\\x9e\\xe4\\x0e\\rHXb\\x902\\xb0\\x04\\x10A\\xe9\\x8a\\x86\\xeaH\\xd5>~\\x95\\xd1\\xa2[\\x90\\xd9N\\xe6\\xca\\x19\\xa5m\\xcc\\x14\\x9eA\\xcf\\x19\\xa8b\\x82\\xe6\\x0b\\x94H\\xd5X\\xfa\\x9eT\\n\\x96(\"\\x9d\\xd9\\xa1\\'j\\xf5\\x0cx?\\x85^\\xb5\\xb6HU\\xb0>f9cJ\\x10rvd\\xb7\\xd8\\xb0\\xab\\x81\\xcf\\'\\xd6\\x9d\\x9ai`8\\xa4\\xe4\\xf5\\xae\\xd5\\xa6\\x88W\\x14\\xb7\\xa5\\x00\\x13\\xd6\\x94(\\xa5\\xa7n\\xe3\\x00\\x00\\xa5\\xa2\\x8ac\\n(\\xa49\\xa0\\x00\\x9aL\\x92x\\xa5\\xc5-\\x02\\x1b\\x8fZZ(\\xa0b\\xd1E\\x14\\x00QE\\x14\\x00QE\\x14\\x00QE\\x14\\x00\\x94\\x1aZJM\\\\\\x04\\xa2\\x96\\x8aV\\x11\\xe1\\xf3\\xb0$\\x04%H=\\xf9\\xcdM\\x04\\x11\\xb8S1>\\xe0q\\x9aD\\xb7\\x9e\\xe6pD{Fx\\xc8\\xabW6\\xedm\\x19g%\\x9b\\xa6+\\x17\\xb9\\x9e\\x96#\\x91\\xa2_\\x92\\xda\\x1d\\xb8\\xef\\xd6\\xb5\\xb4M\\x1e;\\x88>\\xd3y\\xca\\x96\\xf9\\x14\\xf1\\x9a\\xcc\\xb3eN\\x19\\x01-\\xd4\\x9e\\xd5\\xb6\\x97\\x0e\\xec\\xa1\\x0f\\xc8\\x83\\n*\\x1c\\x87cZ\\xfbRkET\\x88\\x03\\xb5v\\xa8\\x1d\\xab\\x1a\\xe6\\xe2\\xe2\\xe6@\\xce\\xe4\\x8fOJ\\xbe#P\\xa5\\xdc\\xe5\\x8f\\xadA\\x1c\\x01\\xae\\x00\\x0b\\xc1\\x15\\x8bw\\xd8qV\\xdc|7\\x12C\\x18\\t\\xc1\\xefWbE\\x9e\\xdc\\xcd\\'U\\xe0\\n\\xa9q\\x06\\x01h\\x9b\\x81\\xc1\\x15\\x12]7\\x96\\xb1\\x86 \\xf7\\xc5f\\xb4.\\xd7\\'\\xf2]\\xe4;pGS\\x8e\\xf5\\x0c\\xb1\\x94\\x90\\x01\\x9e\\x0f~\\xd5f\\xd4\\xb6\\xf5\\xc7\\xafz\\xbf\\x7fj\\xa8C\\xed9a\\x921\\xd6\\x9a\\xd5\\t\\xe8\\xca\\xb6\\xc9\\xe6:\\x068 \\xf1\\x9fZ\\xe9\\x11[\\xcb\\x00\\x90I\\xebX\\x16\\xd0\\xab\\xba\\xa9,\\xa78\\x07\\x15\\xd1\\xa2lES\\xd4\\x0e\\xb5\\xa4\\x08\\x9a\\x05N)\\xf8\\x00R\\x81P\\xdc\\xc9\\xb2<\\x0e\\xad\\xc0\\xad\\xed\\xa1\\x071\\xaa\\xe8w:\\x9d\\xdb\\xc9\\x1c\\xa5\\xb6\\x9e\\x01\\xe9\\xf4\\xac\\x84cf\\x92C\"\\x12I\\xdb\\xb4\\x8e\\x95\\xdd\\xc4<\\xa8\\x82\\xa2\\xee\\'\\xadc\\xebZ4\\xb7*n\\x11\\x140\\xe5\\x82\\xf5\\xfa\\xd2p\\xe6\\xd4\\xa8\\xcd\\xc5X\\xe4br\\x8c~_\\x97\\xa0\\xc7j\\xb7\\x07\\xc8\\x8c$V\\x0cNA\\x15\\xab`4\\xc7F\\x8e\\xe7\\xf7r\\x81\\xc8>\\xbe\\xd5GV_\\xb3H\\xac\\x01+\\xdb\\x03\\xb5e\\xca\\xeej\\xa4\\xacP\\xbec\\x0e\\xd5\\\\3\\x1eN\\r]\\xb4\\xb5\\x90\\xc2\\xb2\\x05ny$\\xf6\\xacMKz_$\\xdb\\xf6\\xa1#\\x9e\\xc7\\xe9ZV\\xda\\xe2I\\xb2\\xcd\\xe5*\\xacv\\xef`v\\xa7\\xb9\\xc78\\xa9\\x94\\x1e\\x89\\x15\\x19-\\xd9\\xd0X\\xdf\\xcd\\x12\\xed\\x8em\\xca?\\x87=\\xea\\xfc\\xf3^\\xdc\\xdbo\\x10\\xb6GL\\n\\xa5\\xa6h\\xee\\x85d\\xb6\\xb9\\xb7\\xb9^\\xa4\\xed8\\x1f\\x8doEh\\x96\\xec$wb\\xc4chc\\xb7>\\xc2\\xaa4_]\\x89r]\\x084ky#\\xb7/#e\\x9b\\x9ekK<azz\\xd3T3\\xf2\\xdc\\x0fJ\\x94\\x00\\x05u\\xc66Z\\x10\\xb5\\x10-;\\x14QZ\\x14\\x90\\xb4QE\\x03\\n(\\xa2\\x80\\n(\\xa2\\x80\\n(\\xa2\\x80\\n(\\xa2\\x80\\n(\\xa2\\x80\\n(\\xa2\\x80\\n(\\xa2\\x80\\n(\\xa2\\x80\\n(\\xa2\\x80\\n(\\xa2\\x80<\\xb2\\xc0B!\\xda\\x01\\xdc{\\x1a\\xb2\\xfa%\\xf5\\xf1\\xdd\\x14{\\x97\\xd4\\x9e\\x95\\x1d\\x99\\x8d\\xa5/ \\n\\xbb\\xba\\xd7Q\\xf6\\xdb\\x18\\xed\\x80\\x82r\\x1b\\x1d\\x8dr\\xde\\xcc\\xcd\\xae\\xc7\\x1a\\xfa%\\xd4\\x0eD\\xa5c\\x19\\xfe\\xf6kr\\xca\\xc1V\\x08\\xfd\\x00\\xcb\\x1a|q\\xcb\\x7f1}\\xff\\x00\\xb9S\\xcb\\x9e\\xff\\x00J\\xbfxR\\xde%\\x86\\x1cp:\\xe7\\xadC\\x04\\xcc\\xe7Fy:`\\x03\\x81R\\xbc^T\\xab)\\x18P1\\x9a\\xb9k\\tp\\xa1\\x95\\x89\\xfaf\\xacOc\\x18Be$\\x9e\\xca*yB\\xfa\\x98\"ve\\x91\\xbdOqM\\x82\\x00\\xdf9\\\\\\x1a\\xd4:s\\xcc\\xa5\\xd9<\\xa8S\\xaex\\xcdC)D]\\xb1\\x8e+9.\\xe6\\x8bm\\x07Y(\\xceN1[\\x8e#xbM\\xdea\\x1f\\xca\\xb1-\\xb2\\x00\\x02\\xb5,2\\xf2\\xe3\\x07\\xa79\\xa2/RdhEm\\x1cd\\x15Q\\x9a\\x94\\xf5\\xa7v\\xa6\\xf58\\xae\\xa5\\x14\\x89`N\\x06j\\xaa\\x0f>s!\\x1f*\\xf0*K\\x87\\'\\x11\\xa7\\xdej\\x96$\\xd8\\xa1j\\xadr\\x1e\\xae\\xc3\\xd5@\\xa1\\x88\\x00\\xe6\\x94\\x90\\xa3\\'\\x8a\\x8c\\x837\\x1c\\xaa\\xfe\\xa6\\xb4\\xf2El\\xacr\\xde\"\\xd0\\xcb\\x95\\xb9\\xb1\\x86G\\x99\\xdb\\xe6D\\xe7>\\xfe\\xd5\\x18\\xf0\\xfe\\xafyo\\x1aH\\x12,(\\xcf\\x98\\xe1\\x88\\xfc\\xb3]\\x92\\xc6\\xa8\\x00P\\x00\\x14\\xecQ\\xc9\\x17\\xb8\\xe3\\x16\\xba\\x9c\\\\\\xbe\\x04\\x92e\\x05\\xeeb\\xdc\\x07\\x1f)\\xe0\\xfds\\xfd*\\xde\\x93\\xe0\\x9b\\x1b\\x06\\x12]9\\xb9\\x93\\xae\\x08\\xc2\\x8f\\xc3\\xbdu\\x0cqP\\x96$\\xe0t\\xf5\\xa5\\xa4tH$\\x95\\xee\\xc5,\\x11Dq \\x18\\x18\\x00p\\x00\\xa1\"\\xe7s\\x1d\\xc7\\xd6\\x9e\\xa8\\x00\\xc0\\xa7\\x80\\x054\\x9b\\xd5\\x8d+\\xee\\n\\xb8\\xa7QEYaE\\x14P\\x01E\\x14P\\x01E\\x14P\\x01E\\x14P\\x01E\\x14P\\x01E\\x14P\\x01E\\x14P\\x01E\\x14P\\x01E\\x14P\\x01E\\x14P\\x01E\\x14P\\x01E\\x14P\\x07\\x93%\\xc4\\x92\\xa2\\xc5\\x1a\\xfc\\x8ay\\xe3\\x195\\xa1\\x04$\\xaf\\xef\\x08\\xdb\\xfd\\xd1\\xde\\xa8\\xdb!\\x8cg\\xcc\\xfc\\xbb\\xd6\\xa5\\xb4e\\xd4d\\x8e\\x99\\xeb\\xd2\\xb8\\xdbv\"\\xc6\\xe6\\x98\\x85\\xe2U\\xd8\\x9b\\x14q\\xb8\\xe3\\x1f\\x85H\\xday\\xb9\\xb8fP\\xb1\\xaa\\x9e\\xa3\\xbdc\\xd8\\\\ \\x99\\x99\\x9b*:\\x0c\\xd6\\xc4W2\\\\6\\x10\\x10\\xbd\\x86*\\x1b\\xe8\\x1c\\xa3\\x84\\xc7O\\xdc7\\x83\\xe9D\\x17\\xbed\\xbel\\xf88\\xe8)M\\x87\\x98\\xdb_,\\xdf\\xca\\x98\\x96AY\\xb3\\xc2/\\x7fSI\\xdf\\xa0i\\xd4n\\xa1|\\xf7\\x11\\x18\\xd3\\x08\\x9d\\xfd\\xeb:8Y\\xc9\\xebZO\\x1cA\\xb2\\xeb\\xcfa\\x9e\\xb5j\\xd2\\xd9\\\\\\xee#\\x8a\\x8b]\\x97{\"\\x84\\x114|\\xe0c\\xd4\\xd6\\xcd\\x8c+\\x1c!\\xb1\\xcbsT\\xaf\\x15P\\xa4\\x0b\\xf7\\xa4p8\\xadtP\\xaa\\x00\\xe8\\x06+jq\\xd4\\x8b\\xdc\\x0f\\x02\\x98X(,\\xc7\\x00R\\xb3b\\xaaH\\xcd<\\xa24\\xfb\\xa0\\xfc\\xc6\\xb5oR\\x1b%\\x81w\\xb9\\x98\\xf7\\xe0}*\\xc6B\\x8c\\x9aj\\xa8U\\x00t\\x14\\x832\\x1c\\xff\\x00\\x08\\xfdkH\\xa0Z\\x00S#d\\xf4\\x1d\\x05N\\xa3\\x02\\x801KV\\x95\\x8b\\x8a\\xb6\\xa1H\\xcc\\x07&\\x9a\\xd2\\x05\\xe3\\xbf\\xa53\\x05\\x8e[\\xf2\\xa4\\xdfa\\xb7m\\x84b\\\\\\xfbzz\\xd3\\xd5p:R\\xaa`S\\xc0\\xc5\\t\\tG[\\xb1\\x00\\xa5\\xa2\\x8a\\xa2\\xc5\\xa2\\x8a(\\x00\\xa2\\x8a(\\x00\\xa4\\'\\x14\\x13H\\x05\\x02\\x17\\x9aZ(\\xa0aE\\x14P\\x01E\\x14P\\x01E\\x14P\\x01E\\x14P\\x01E\\x14P\\x01E\\x14P\\x01E\\x14P\\x01E\\x14P\\x01E\\x14P\\x07\\x99A\\x1a\\x86\\x1el\\x8a\\xbcp\\xac\\xc1sZ\\x96\\x16b\\xfe\\xd4N\\xb2\\x01j\\xcb\\xb9J\\xff\\x00\\x10\\xed\\\\\\xcc\\xf6\\xe2\\xeaT\\x92KW\\x95\\x0e\\xd5Y\\x16\\xd9e\\xdb\\x96\\xc1\\xe1\\xb8\\xc9\\xc8\\xc0=I\\xae\\xb3F\\x82Ht@\\x93\\xc5\\xe4F\\xa5\\xc0_)b%K\\x1d\\xacUx\\x0cG$q\\\\Ww\\xb1\\xbc\\xe9EQU/\\xab2l\\x083HCp\\x9c\\x01]LR\\xbc0,q\\xc6\\xa8B\\xfc\\xcek\\x92\\xb5S\\x15\\xd7<\\r\\xfd\\xeb\\xa1\\x9e\\xe5Y~\\xf1\\xf9\\xbf:\\xcd\\xfcM\\x98=\\x8bb\\xe5\\xb2\\x00c\\x96<\\xb7z\\x92\\xe2F8Px^@\\xac\\xc8\\xa7\\x8f\\xcd\\xcb\\x9e\\x00\\xfc\\xa9\\x1a\\xe9\\xa48\\x0f\\x8cs\\x9aN@\\xa2J\\x8e^fb\\xdd\\xebV\\xd2O,\\x1fN\\xb5\\x85j\\xed4\\xa5c\\x1b\\xbe\\\\\\x9fj\\xd3\\x12\\x04\\xb5\\x12n\\x1ct\\xc5%\\xdc\\x1fbuQ>\\xb2\\xad\\x8e\\x117\\x7f\\x85j\\x1e\\x95\\x9b\\xa4\\xb1\\x95ZF^z\\x03\\xedW\\xae$\\x11\\xc6X\\xd7D>\\x1b\\x99\\xbd\\n\\xd77\\x18%P\\xe4\\xd4\\xb6\\x91\\x14\\x8fq\\x1f3rj\\xad\\xbcfI\\x03\\x91\\xc5^f\\xc1\\x08\\xbdO\\xe8*\\xe2\\x88\\xebqO\\xccv\\x8e\\x83\\xa9\\xa9\\x94\\x00)\\xa8\\x81@\\x02\\x9cX(\\xc98\\x15\\xb2V.+\\xab\\x175\\x13K\\x93\\xb5\\x7f\\x13\\xe9M,\\xd2\\xf0\\tU\\xf5\\xeei\\xea\\x80\\x0c\\x01\\x81Cw\\xd8\\x1c\\x9b\\xd1\\x00\\\\\\x1c\\x9eI\\xa7\\x01F)\\xc0SH\\x14E\\x03\\x8aZ(\\xa6XQE\\x14\\x0c(\\xa2\\x8a\\x00)\\t\\xc5\\x19\\xa0\\x0fZ\\x04\\x02\\x96\\x8a(\\x18QE\\x14\\x00QE\\x14\\x00QE\\x14\\x00QE\\x14\\x00QE\\x14\\x00QE\\x14\\x00QE\\x14\\x00QE\\x14\\x00QE\\x14\\x00QE\\x14\\x01\\xe5\\xf7\\xf7\\r\\x1a\\xc7\\x0cS41\\xfc\\xae\\x02X\\x9b\\x8d\\xcc\\xac\\n\\xf4#n\\x08\\x07\\xdf\\xf0\\xab\\xc9\\xadO6\\x9b\\x1cw\\x07|\\xa5\\x983\\xf9~^\\xe0\\x18\\x85b\\xb9\\xf9I\\x1d\\xbbV]\\xce\\x9du\\x14i;\\xdc4N\\xcc\\xa8<\\xa2\\x1f\\xef0\\x1f2\\x9e0\\t\\x04\\x9e\\xa0\\n\\xb3c\\xa2\\xce\\xe5\\xb7\\xca\\x931vw(\\x08PI\\xcf\\xbf\\xf3\\xae\\x1bK\\x99\\x9dRpxx\\xed\\xbfm|\\xfazu\\xf9\\x12;\\'\\x9e\\x15\\x80R\\xfds\\xd2\\x98\\xf7RF\\xec\\xbb\\x8b*\\xf0\\x08\\xab\\x92\\xdb:\\x05\\x85\\xb1+t\\x04v\\xfcj\\x85\\xc5\\xb1V\\xdb\\xf3)\\xf4&\\xa2H\\xe7\\x89b\\t\\x98\\x86-\\x90Xq\\xedL\\x8d\\xe6\\xfb\\xa4\\x95\\x07\\xbd6%w\\xc6\\x0f\\x03\\xa0\\xf5\\xabv\\xf0<\\x8f\\x96\\xc9\\x03\\x93Y[B\\x8b\\xda9\\x92+\\xa5\\x90)+\\xf7\\\\{\\x1aK\\xf2`\\xb8\\x91w\\x91\\x11l\\x81\\xf5\\xa6[\\xcd%\\xa3oW\\x03=sKy0\\xbcL\\xb0\\xe7<\\x91N\\xea\\xd6\\x15\\xb5\\xb9\\xbd\\xa2\\xcd\\x1bX\\x85C\\xf3\\x03\\xc8\\xa7\\xdc9\\x9aa\\x18\\xfb\\xa0\\xd5\\r \\xf96\\x8e\\xe1\\x08\\xe7h\\xad\\x0bT\\xc0.\\xff\\x00RMtS\\xbbV0\\x9b\\xd4\\x99H\\x86?rp\\x00\\xeejXP\\xaa\\x96nY\\xb9&\\xa2\\x84\\x19d2\\xb7\\n>\\xe0?\\xce\\x95\\xa7i\\tX\\x06ppX\\xf4\\x1f\\xe3]1\\xd0\\x85\\xdd\\x93I0\\x8c\\x0e\\xe4\\xf4Q\\xde\\x99\\xb1\\x9c\\xe5\\xdb#\\xfb\\xa3\\xa0\\xa1\"\\nw\\x1eX\\xf5&\\xa6\\x0bM&\\xf7+Y\\r\\x0bN\\x00\\xd3\\xb1\\x8a@{UXiXp\\x1cQKE2\\xc2\\x8a(\\xa0aE%!\\xc9\\xa0W\\x17p\\xa4\\xe4\\xfbR\\xe3\\x14\\xb4\\x00\\x94\\xb4Q@\\xc2\\x8a(\\xa0\\x02\\x8a(\\xa0\\x02\\x8a(\\xa0\\x02\\x8a(\\xa0\\x02\\x8a(\\xa0\\x02\\x8a(\\xa0\\x02\\x8a(\\xa0\\x02\\x8a(\\xa0\\x02\\x8a(\\xa0\\x02\\x8a(\\xa0\\x02\\x8a(\\xa0\\x0f\"\\xba\\xb6\\x8ak\\xe8c\\x96K9e\\x95\\x0e\\xc5\\xbbG~\\xff\\x00\\xc3\\x82?/j\\xebt\\x08\\x96\\x1d\\x18\\xdbF\\xc8]\\'\\x95N\\xd4(\\x8aC\\x1c\\xaa\\xa9$\\xed\\x1d\\x06O\\xe5XR\\x88\\x06\\x05\\xd5\\xbe\\xfbFPev\\n\\xcb\\x18$\\x80YH\\xfb\\xb9\\x07-\\x9f\\x97#\\xb6H\\xd4\\xd1\\xa6\\x82+]\\xb6\\xc8\\xb1\\xc0\\xb3\\xba(\\x0cX1\\x0cAl\\xe4\\xf5<\\xf5\\xaf=i+\\x9d\\xb5e)a\\xe3\\x07{/Ku\\xfb\\x9f\\x95\\xbc\\xeeh5\\xa3\\xa3\\x10\\x18.~\\xf3\\x0e\\xf5Ve\\xb6\\x8d[\\xe4\\x0e\\xdd\\xcd>\\xebY\\x878X\\xcb*\\x9c\\x0c\\x1cf\\xb2\\xee\\xaeL\\xa0\\xff\\x00\\n\\xe7\\x95^\\xd4JG\\x14b\\x06p\\xb9\\xda\\xa3\\xe8\\x05]\\x86T\\x8e6\\x04\\x80\\xd2 \\xc1\\'\\xf1\\xacu\\x97\\xa8\\xef\\x9cqR\\xc9q\\xbc\\xa8\\xdd\\x8c\\n\\xc5nh\\xf6-<\\xa8\\xca\\xca\\x9c\\xe3\\xaf4\\xc8\\x01y\\n\\xa6Hc\\x80)m\\xad\\x9aH\\x9aFeP;\\x93W,Q\\x1a\\xe1Y\\x0e\\xe0\\x879\\xc7Z\\xae^\\x82\\xbd\\x8d\\xec|\\xb0\\xc0?\\x81F\\xef\\xad\\x13\\xdcD\\x98\\x8d\\x9c*\\x8f\\xbf\\x8e\\xfe\\xd5Jk\\xe3\\x1byp\\xaf\\x9b;\\x1e\\x14\\x7fZ\\xb7\\xa7\\xe9f6\\x13\\xdd7\\x99)\\xe7\\x9e\\x82\\xba\\xe3\\x13\\x96Z\\xb2u\\xf3\\xaf\\x00,\\xa6(\\x7f\\xbb\\xdd\\xc7\\xbf\\xa0\\xab\\x89\\x1a\\xaa\\x85Q\\x80:\\np\\x18\\x14\\xb5\\xb2V)G\\xb8b\\x9c8\\xa2\\x90\\x9cU\\x96)\\xa4^\\xa6\\x86<P\\xbdh\\x17Q\\xf4QHh,ZL\\xd2R\\x81@\\x80sKE\\x14\\x00QE\\x14\\x0c(\\xa2\\x8a\\x00(\\xa2\\x8a\\x00(\\xa2\\x8a\\x00(\\xa2\\x8a\\x00(\\xa2\\x8a\\x00(\\xa2\\x8a\\x00(\\xa2\\x8a\\x00(\\xa2\\x8a\\x00(\\xa2\\x8a\\x00(\\xa2\\x8a\\x00(\\xa2\\x8a\\x00(\\xa2\\x8a\\x00\\xf3\\xb1\\xf6\\xb8\\xe5Xm\\xa2\\xb6\\x91\\x8cE\\xdde\\x99\\x90\\xed\\x07\\x1caNFO\\xebSi\\xa8_L\\xb7\\xf3\\x92!\\xb5\\x03f\\x03\\x88\\xca\\x9eAQ\\x81\\x80G8\\xc5W\\xd7^\\xe8A\"\\xdb\\x88\\xbc\\xb9a\\x11H\\x18;H71\\x00\\xa2\\xa8\\xf9\\x8f\\'\\x8e:zS4\\xf9c\\xfb7\\x91l\\x8c\\x91\\xb4\\xf2\\x14FVVPX\\xe1HnA\\x15\\xe7^\\xcc\\xec\\x94\\x17\\xb0M.\\xbf\\xd5\\xf5\\xfd\\n\\xd2\\xdc\"\\xcb.\\x07s\\xb4g\\xb5Uk\\x96\\xc0Px\\xeak^\\xfa\\x0bu_\\xdd\\xaa\\x96\\x1fy\\xb3\\xd6\\xa8I`\\xe5U\\x95s\\x91\\x9a\\x97\\x1e\\xc7:hdR\\x02wt\\x07\\xf4\\xa9\\x9e&E\\x12pU\\xb8\\xcezT6\\xd1\\t\\x19\\xa1.\\x11\\xc0\\xca\\x87<\\x1fj\\xb7\\xa7\\xdc\\xc6\\xbb\\xad\\xeeP\\x159\\x18\\xc5\\tu`\\xfc\\x85\\x8aIY|\\x84p\\x07p9\\xfcj\\xde\\x9ef\\x96_\"\\xdc\\xe5\\xb1\\xb4\\x9cp\\xbe\\xf9\\xaa\\tiu\\xa8\\xdf\\x18l\\xce\"S\\xb4\\xc8\\xa3\\x80=3\\xfd+\\xb7\\xd2\\xb4\\xa8\\xb4\\xfbp\\x88\\xa3q\\xe5\\x89\\xeakh\\xc2\\xefS\\x19K\\xa2\\x1d\\xa7i\\xd1\\xda!c\\xf3\\xbbr\\xce\\xc3\\x93Z P\\x05(\\x15\\xd4\\x95\\x88\\x8a\\x17\\x14f\\x8c\\xd2\\x13TXQ\\x9a\\t\\xa4\\xcd+\\x92\\xd8R\\x8aJQ\\xc5\\x00\\x87\\xe6\\x83\\xd2\\x90R\\xe2\\xa8\\xb0\\x02\\x96\\x8a(\\x18QE\\x14\\x00QE\\x14\\x00QE\\x14\\x00QE\\x14\\x00QE\\x14\\x00QE\\x14\\x00QE\\x14\\x00QE\\x14\\x00QE\\x14\\x00QE%\\x00-\\x14Q@\\x05\\x14Q@\\x05\\x14Q@\\x05\\x14Q@\\x1eiwckwn\\'\\xb9\\x88\\xcb\"\\x83\\x82de\\xc7?\\xec\\x91U\"E\\xb6\"(\\x06\\xc4^\\x83$\\xf5>\\xa7\\x9a(\\xaf2[\\x9bJ\\xa4\\xf9c\\x0b\\xe9\\xd8\\xb4\\xbc\\x8e}EkY\\x80g(@\\xc6?\\xa5\\x14Q\\x1d\\x8c\\xa4Q\\xd5l\\xa1\\x13\\xb3\\x00A\\xf65B\\xe5@D\\x03\\xf8\\x88R{\\xe3\\x14QZ\\xf5\\x04w:5\\x95\\xbd\\xb5\\xaa,Q\\x85\\xe39\\xefZ\\xa2\\x8a+\\xa2&1\\x14R\\xd1EhX\\x82\\x92\\x8a)t%\\x81\\xa4\\xefE\\x14\\x07Q\\xd4\\x0e\\xa2\\x8a)\\x8d\\x0f\\xefKE\\x15E\\x85\\x14Q@\\x05\\x14Q@\\x05\\x14Q@\\x05\\x14Q@\\x05\\x14Q@\\x05\\x14Q@\\x05\\x14Q@\\x05\\x14Q@\\x05\\x14Q@\\x08j6&\\x8a*$K\\x02M\\x14QR&*\\x9ei\\xf4QZ-\\x8a[\\x0bE\\x14S\\x18QE\\x14\\x00QE\\x14\\x01\\xff\\xd9'>"
            ]
          },
          "metadata": {},
          "execution_count": 60
        }
      ]
    },
    {
      "cell_type": "code",
      "metadata": {
        "colab": {
          "base_uri": "https://localhost:8080/"
        },
        "id": "vEGfLTriCRN8",
        "outputId": "10e8b197-0521-4540-bb86-f53a12a81a75"
      },
      "source": [
        "tf.image.decode_jpeg(tensor, channels=3)"
      ],
      "execution_count": 61,
      "outputs": [
        {
          "output_type": "execute_result",
          "data": {
            "text/plain": [
              "<tf.Tensor: shape=(500, 375, 3), dtype=uint8, numpy=\n",
              "array([[[ 59,  68,  65],\n",
              "        [ 64,  73,  70],\n",
              "        [ 71,  80,  77],\n",
              "        ...,\n",
              "        [115, 128, 108],\n",
              "        [115, 128, 108],\n",
              "        [110, 123, 103]],\n",
              "\n",
              "       [[ 65,  74,  71],\n",
              "        [ 72,  81,  78],\n",
              "        [ 79,  88,  85],\n",
              "        ...,\n",
              "        [114, 127, 107],\n",
              "        [117, 130, 110],\n",
              "        [116, 129, 109]],\n",
              "\n",
              "       [[ 68,  77,  74],\n",
              "        [ 76,  85,  82],\n",
              "        [ 83,  92,  89],\n",
              "        ...,\n",
              "        [114, 127, 107],\n",
              "        [120, 133, 113],\n",
              "        [123, 136, 116]],\n",
              "\n",
              "       ...,\n",
              "\n",
              "       [[173, 200, 155],\n",
              "        [164, 179, 136],\n",
              "        [181, 166, 133],\n",
              "        ...,\n",
              "        [255, 255, 255],\n",
              "        [255, 255, 255],\n",
              "        [255, 255, 255]],\n",
              "\n",
              "       [[142, 159, 117],\n",
              "        [147, 154, 113],\n",
              "        [189, 174, 141],\n",
              "        ...,\n",
              "        [255, 255, 255],\n",
              "        [255, 255, 255],\n",
              "        [255, 255, 255]],\n",
              "\n",
              "       [[167, 179, 139],\n",
              "        [167, 172, 132],\n",
              "        [204, 188, 155],\n",
              "        ...,\n",
              "        [255, 255, 255],\n",
              "        [255, 255, 255],\n",
              "        [255, 255, 255]]], dtype=uint8)>"
            ]
          },
          "metadata": {},
          "execution_count": 61
        }
      ]
    },
    {
      "cell_type": "code",
      "metadata": {
        "id": "0fbQhUsBDeaN"
      },
      "source": [
        ""
      ],
      "execution_count": null,
      "outputs": []
    }
  ]
}