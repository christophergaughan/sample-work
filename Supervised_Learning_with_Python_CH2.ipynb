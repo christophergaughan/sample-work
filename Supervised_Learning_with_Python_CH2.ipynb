{
  "nbformat": 4,
  "nbformat_minor": 0,
  "metadata": {
    "colab": {
      "name": "Supervised_Learning_with_Python_CH2.ipynb",
      "provenance": [],
      "collapsed_sections": [],
      "toc_visible": true,
      "authorship_tag": "ABX9TyM1nekB68bl2z+DsjlTD6Ug",
      "include_colab_link": true
    },
    "kernelspec": {
      "name": "python3",
      "display_name": "Python 3"
    },
    "language_info": {
      "name": "python"
    }
  },
  "cells": [
    {
      "cell_type": "markdown",
      "metadata": {
        "id": "view-in-github",
        "colab_type": "text"
      },
      "source": [
        "<a href=\"https://colab.research.google.com/github/christophergaughan/ChristopherGaughan.io/blob/master/Supervised_Learning_with_Python_CH2.ipynb\" target=\"_parent\"><img src=\"https://colab.research.google.com/assets/colab-badge.svg\" alt=\"Open In Colab\"/></a>"
      ]
    },
    {
      "cell_type": "code",
      "metadata": {
        "colab": {
          "base_uri": "https://localhost:8080/"
        },
        "id": "oVYHDCuJbomS",
        "outputId": "a96f1443-4e7a-4d23-f495-fe8edbafcce1"
      },
      "source": [
        "!pwd"
      ],
      "execution_count": null,
      "outputs": [
        {
          "output_type": "stream",
          "text": [
            "/content\n"
          ],
          "name": "stdout"
        }
      ]
    },
    {
      "cell_type": "code",
      "metadata": {
        "colab": {
          "base_uri": "https://localhost:8080/"
        },
        "id": "JnG6HLCVbptv",
        "outputId": "3e90f4c0-9bd1-45bd-9036-99d3f38e9bac"
      },
      "source": [
        "!ls -la"
      ],
      "execution_count": null,
      "outputs": [
        {
          "output_type": "stream",
          "text": [
            "total 16\n",
            "drwxr-xr-x 1 root root 4096 Mar 25 13:38 .\n",
            "drwxr-xr-x 1 root root 4096 Apr  6 19:17 ..\n",
            "drwxr-xr-x 4 root root 4096 Mar 25 13:38 .config\n",
            "drwxr-xr-x 1 root root 4096 Mar 25 13:38 sample_data\n"
          ],
          "name": "stdout"
        }
      ]
    },
    {
      "cell_type": "code",
      "metadata": {
        "id": "ZSYQu8qWbwY9"
      },
      "source": [
        ""
      ],
      "execution_count": null,
      "outputs": []
    },
    {
      "cell_type": "code",
      "metadata": {
        "id": "vvC9RTYxb8iv",
        "colab": {
          "base_uri": "https://localhost:8080/"
        },
        "outputId": "ece9b89d-c4eb-41a0-87a0-ee1d5bfe266a"
      },
      "source": [
        "from google.colab import drive\n",
        "drive.mount('/gdrive')"
      ],
      "execution_count": 3,
      "outputs": [
        {
          "output_type": "stream",
          "text": [
            "Mounted at /gdrive\n"
          ],
          "name": "stdout"
        }
      ]
    },
    {
      "cell_type": "code",
      "metadata": {
        "id": "oa8OG8z7b8ix"
      },
      "source": [
        "with open('/gdrive/My Drive/foo.txt', 'w') as f:\n",
        "  f.write('Hello Google Drive!')\n",
        "!cat '/gdrive/My Drive/foo.txt'"
      ],
      "execution_count": null,
      "outputs": []
    },
    {
      "cell_type": "code",
      "metadata": {
        "id": "Yfm1KUstcO4c"
      },
      "source": [
        "!ls -la"
      ],
      "execution_count": null,
      "outputs": []
    },
    {
      "cell_type": "code",
      "metadata": {
        "id": "ksJX8gNXcWZO"
      },
      "source": [
        "cd sample_data/"
      ],
      "execution_count": null,
      "outputs": []
    },
    {
      "cell_type": "code",
      "metadata": {
        "id": "vGjsD0I3ccYs"
      },
      "source": [
        "!ls -la"
      ],
      "execution_count": null,
      "outputs": []
    },
    {
      "cell_type": "code",
      "metadata": {
        "colab": {
          "base_uri": "https://localhost:8080/"
        },
        "id": "92nUosgecez9",
        "outputId": "6a1fd798-4792-41f0-c814-5f6a3e4ba731"
      },
      "source": [
        "cd .."
      ],
      "execution_count": null,
      "outputs": [
        {
          "output_type": "stream",
          "text": [
            "/\n"
          ],
          "name": "stdout"
        }
      ]
    },
    {
      "cell_type": "code",
      "metadata": {
        "colab": {
          "base_uri": "https://localhost:8080/"
        },
        "id": "L121H4YSck-Y",
        "outputId": "ff499bf8-82ee-4da2-cd52-404de3b5a77e"
      },
      "source": [
        "cd .."
      ],
      "execution_count": null,
      "outputs": [
        {
          "output_type": "stream",
          "text": [
            "/\n"
          ],
          "name": "stdout"
        }
      ]
    },
    {
      "cell_type": "code",
      "metadata": {
        "colab": {
          "base_uri": "https://localhost:8080/"
        },
        "id": "gj_cnao7crRw",
        "outputId": "6942a6c2-105e-4c33-fee2-8fb092ee60ff"
      },
      "source": [
        "ls -la"
      ],
      "execution_count": null,
      "outputs": [
        {
          "output_type": "stream",
          "text": [
            "total 104\n",
            "drwxr-xr-x   1 root root 4096 Apr  6 02:30 \u001b[0m\u001b[01;34m.\u001b[0m/\n",
            "drwxr-xr-x   1 root root 4096 Apr  6 02:30 \u001b[01;34m..\u001b[0m/\n",
            "drwxr-xr-x   1 root root 4096 Mar 25 13:29 \u001b[01;34mbin\u001b[0m/\n",
            "drwxr-xr-x   2 root root 4096 Apr 24  2018 \u001b[01;34mboot\u001b[0m/\n",
            "drwxr-xr-x   1 root root 4096 Mar 25 13:38 \u001b[01;34mcontent\u001b[0m/\n",
            "drwxr-xr-x   1 root root 4096 Mar 29 13:57 \u001b[01;34mdatalab\u001b[0m/\n",
            "drwxr-xr-x   5 root root  360 Apr  6 02:30 \u001b[01;34mdev\u001b[0m/\n",
            "-rwxr-xr-x   1 root root    0 Apr  6 02:30 \u001b[01;32m.dockerenv\u001b[0m*\n",
            "drwxr-xr-x   1 root root 4096 Apr  6 02:30 \u001b[01;34metc\u001b[0m/\n",
            "drwxr-xr-x   2 root root 4096 Apr 24  2018 \u001b[01;34mhome\u001b[0m/\n",
            "drwxr-xr-x   1 root root 4096 Mar 25 13:31 \u001b[01;34mlib\u001b[0m/\n",
            "drwxr-xr-x   2 root root 4096 Mar 25 13:20 \u001b[01;34mlib32\u001b[0m/\n",
            "drwxr-xr-x   1 root root 4096 Mar 25 13:20 \u001b[01;34mlib64\u001b[0m/\n",
            "drwxr-xr-x   2 root root 4096 Sep 21  2020 \u001b[01;34mmedia\u001b[0m/\n",
            "drwxr-xr-x   2 root root 4096 Sep 21  2020 \u001b[01;34mmnt\u001b[0m/\n",
            "drwxr-xr-x   1 root root 4096 Mar 25 13:32 \u001b[01;34mopt\u001b[0m/\n",
            "dr-xr-xr-x 121 root root    0 Apr  6 02:30 \u001b[01;34mproc\u001b[0m/\n",
            "drwx------   1 root root 4096 Apr  6 02:30 \u001b[01;34mroot\u001b[0m/\n",
            "drwxr-xr-x   1 root root 4096 Mar 25 13:23 \u001b[01;34mrun\u001b[0m/\n",
            "drwxr-xr-x   1 root root 4096 Mar 25 13:29 \u001b[01;34msbin\u001b[0m/\n",
            "drwxr-xr-x   2 root root 4096 Sep 21  2020 \u001b[01;34msrv\u001b[0m/\n",
            "dr-xr-xr-x  12 root root    0 Apr  6 02:30 \u001b[01;34msys\u001b[0m/\n",
            "drwxr-xr-x   4 root root 4096 Mar 29 13:53 \u001b[01;34mtensorflow-1.15.2\u001b[0m/\n",
            "drwxrwxrwt   1 root root 4096 Apr  6 02:45 \u001b[30;42mtmp\u001b[0m/\n",
            "drwxr-xr-x   1 root root 4096 Mar 29 13:57 \u001b[01;34mtools\u001b[0m/\n",
            "drwxr-xr-x   1 root root 4096 Mar 25 13:32 \u001b[01;34musr\u001b[0m/\n",
            "drwxr-xr-x   1 root root 4096 Apr  6 02:30 \u001b[01;34mvar\u001b[0m/\n"
          ],
          "name": "stdout"
        }
      ]
    },
    {
      "cell_type": "code",
      "metadata": {
        "colab": {
          "base_uri": "https://localhost:8080/"
        },
        "id": "xF5-d-Jmctal",
        "outputId": "6f4f1524-6880-4e73-a942-e7d256808ea8"
      },
      "source": [
        "cd gdrive/"
      ],
      "execution_count": null,
      "outputs": [
        {
          "output_type": "stream",
          "text": [
            "[Errno 2] No such file or directory: 'gdrive/'\n",
            "/\n"
          ],
          "name": "stdout"
        }
      ]
    },
    {
      "cell_type": "code",
      "metadata": {
        "colab": {
          "base_uri": "https://localhost:8080/"
        },
        "id": "RoOgTMCOc3tL",
        "outputId": "91580d3c-ddfd-4048-c80e-758f73698061"
      },
      "source": [
        "ls -la\n"
      ],
      "execution_count": null,
      "outputs": [
        {
          "output_type": "stream",
          "text": [
            "total 104\n",
            "drwxr-xr-x   1 root root 4096 Apr  6 02:30 \u001b[0m\u001b[01;34m.\u001b[0m/\n",
            "drwxr-xr-x   1 root root 4096 Apr  6 02:30 \u001b[01;34m..\u001b[0m/\n",
            "drwxr-xr-x   1 root root 4096 Mar 25 13:29 \u001b[01;34mbin\u001b[0m/\n",
            "drwxr-xr-x   2 root root 4096 Apr 24  2018 \u001b[01;34mboot\u001b[0m/\n",
            "drwxr-xr-x   1 root root 4096 Mar 25 13:38 \u001b[01;34mcontent\u001b[0m/\n",
            "drwxr-xr-x   1 root root 4096 Mar 29 13:57 \u001b[01;34mdatalab\u001b[0m/\n",
            "drwxr-xr-x   5 root root  360 Apr  6 02:30 \u001b[01;34mdev\u001b[0m/\n",
            "-rwxr-xr-x   1 root root    0 Apr  6 02:30 \u001b[01;32m.dockerenv\u001b[0m*\n",
            "drwxr-xr-x   1 root root 4096 Apr  6 02:30 \u001b[01;34metc\u001b[0m/\n",
            "drwxr-xr-x   2 root root 4096 Apr 24  2018 \u001b[01;34mhome\u001b[0m/\n",
            "drwxr-xr-x   1 root root 4096 Mar 25 13:31 \u001b[01;34mlib\u001b[0m/\n",
            "drwxr-xr-x   2 root root 4096 Mar 25 13:20 \u001b[01;34mlib32\u001b[0m/\n",
            "drwxr-xr-x   1 root root 4096 Mar 25 13:20 \u001b[01;34mlib64\u001b[0m/\n",
            "drwxr-xr-x   2 root root 4096 Sep 21  2020 \u001b[01;34mmedia\u001b[0m/\n",
            "drwxr-xr-x   2 root root 4096 Sep 21  2020 \u001b[01;34mmnt\u001b[0m/\n",
            "drwxr-xr-x   1 root root 4096 Mar 25 13:32 \u001b[01;34mopt\u001b[0m/\n",
            "dr-xr-xr-x 121 root root    0 Apr  6 02:30 \u001b[01;34mproc\u001b[0m/\n",
            "drwx------   1 root root 4096 Apr  6 02:30 \u001b[01;34mroot\u001b[0m/\n",
            "drwxr-xr-x   1 root root 4096 Mar 25 13:23 \u001b[01;34mrun\u001b[0m/\n",
            "drwxr-xr-x   1 root root 4096 Mar 25 13:29 \u001b[01;34msbin\u001b[0m/\n",
            "drwxr-xr-x   2 root root 4096 Sep 21  2020 \u001b[01;34msrv\u001b[0m/\n",
            "dr-xr-xr-x  12 root root    0 Apr  6 02:45 \u001b[01;34msys\u001b[0m/\n",
            "drwxr-xr-x   4 root root 4096 Mar 29 13:53 \u001b[01;34mtensorflow-1.15.2\u001b[0m/\n",
            "drwxrwxrwt   1 root root 4096 Apr  6 02:45 \u001b[30;42mtmp\u001b[0m/\n",
            "drwxr-xr-x   1 root root 4096 Mar 29 13:57 \u001b[01;34mtools\u001b[0m/\n",
            "drwxr-xr-x   1 root root 4096 Mar 25 13:32 \u001b[01;34musr\u001b[0m/\n",
            "drwxr-xr-x   1 root root 4096 Apr  6 02:30 \u001b[01;34mvar\u001b[0m/\n"
          ],
          "name": "stdout"
        }
      ]
    },
    {
      "cell_type": "code",
      "metadata": {
        "colab": {
          "base_uri": "https://localhost:8080/"
        },
        "id": "wO1vqruWc403",
        "outputId": "f4f3637c-1ae9-43af-f96d-4e627112efa7"
      },
      "source": [
        "cd MyDrive/"
      ],
      "execution_count": null,
      "outputs": [
        {
          "output_type": "stream",
          "text": [
            "[Errno 2] No such file or directory: 'MyDrive/'\n",
            "/\n"
          ],
          "name": "stdout"
        }
      ]
    },
    {
      "cell_type": "code",
      "metadata": {
        "colab": {
          "base_uri": "https://localhost:8080/"
        },
        "id": "-BOafsvzc8Zz",
        "outputId": "72f743c9-482b-4196-fbb5-784c93e9a7bc"
      },
      "source": [
        "ls -la\n"
      ],
      "execution_count": null,
      "outputs": [
        {
          "output_type": "stream",
          "text": [
            "total 104\n",
            "drwxr-xr-x   1 root root 4096 Apr  6 02:30 \u001b[0m\u001b[01;34m.\u001b[0m/\n",
            "drwxr-xr-x   1 root root 4096 Apr  6 02:30 \u001b[01;34m..\u001b[0m/\n",
            "drwxr-xr-x   1 root root 4096 Mar 25 13:29 \u001b[01;34mbin\u001b[0m/\n",
            "drwxr-xr-x   2 root root 4096 Apr 24  2018 \u001b[01;34mboot\u001b[0m/\n",
            "drwxr-xr-x   1 root root 4096 Mar 25 13:38 \u001b[01;34mcontent\u001b[0m/\n",
            "drwxr-xr-x   1 root root 4096 Mar 29 13:57 \u001b[01;34mdatalab\u001b[0m/\n",
            "drwxr-xr-x   5 root root  360 Apr  6 02:30 \u001b[01;34mdev\u001b[0m/\n",
            "-rwxr-xr-x   1 root root    0 Apr  6 02:30 \u001b[01;32m.dockerenv\u001b[0m*\n",
            "drwxr-xr-x   1 root root 4096 Apr  6 02:30 \u001b[01;34metc\u001b[0m/\n",
            "drwxr-xr-x   2 root root 4096 Apr 24  2018 \u001b[01;34mhome\u001b[0m/\n",
            "drwxr-xr-x   1 root root 4096 Mar 25 13:31 \u001b[01;34mlib\u001b[0m/\n",
            "drwxr-xr-x   2 root root 4096 Mar 25 13:20 \u001b[01;34mlib32\u001b[0m/\n",
            "drwxr-xr-x   1 root root 4096 Mar 25 13:20 \u001b[01;34mlib64\u001b[0m/\n",
            "drwxr-xr-x   2 root root 4096 Sep 21  2020 \u001b[01;34mmedia\u001b[0m/\n",
            "drwxr-xr-x   2 root root 4096 Sep 21  2020 \u001b[01;34mmnt\u001b[0m/\n",
            "drwxr-xr-x   1 root root 4096 Mar 25 13:32 \u001b[01;34mopt\u001b[0m/\n",
            "dr-xr-xr-x 121 root root    0 Apr  6 02:30 \u001b[01;34mproc\u001b[0m/\n",
            "drwx------   1 root root 4096 Apr  6 02:30 \u001b[01;34mroot\u001b[0m/\n",
            "drwxr-xr-x   1 root root 4096 Mar 25 13:23 \u001b[01;34mrun\u001b[0m/\n",
            "drwxr-xr-x   1 root root 4096 Mar 25 13:29 \u001b[01;34msbin\u001b[0m/\n",
            "drwxr-xr-x   2 root root 4096 Sep 21  2020 \u001b[01;34msrv\u001b[0m/\n",
            "dr-xr-xr-x  12 root root    0 Apr  6 02:45 \u001b[01;34msys\u001b[0m/\n",
            "drwxr-xr-x   4 root root 4096 Mar 29 13:53 \u001b[01;34mtensorflow-1.15.2\u001b[0m/\n",
            "drwxrwxrwt   1 root root 4096 Apr  6 02:45 \u001b[30;42mtmp\u001b[0m/\n",
            "drwxr-xr-x   1 root root 4096 Mar 29 13:57 \u001b[01;34mtools\u001b[0m/\n",
            "drwxr-xr-x   1 root root 4096 Mar 25 13:32 \u001b[01;34musr\u001b[0m/\n",
            "drwxr-xr-x   1 root root 4096 Apr  6 02:30 \u001b[01;34mvar\u001b[0m/\n"
          ],
          "name": "stdout"
        }
      ]
    },
    {
      "cell_type": "code",
      "metadata": {
        "colab": {
          "base_uri": "https://localhost:8080/"
        },
        "id": "kcRUpzmdc9ol",
        "outputId": "2cedb63b-7b3e-4fb5-95e9-d49559362186"
      },
      "source": [
        "cd 'supervised-learning-w-python-master.zip (Unzipped Files)'/"
      ],
      "execution_count": null,
      "outputs": [
        {
          "output_type": "stream",
          "text": [
            "[Errno 2] No such file or directory: 'supervised-learning-w-python-master.zip (Unzipped Files)/'\n",
            "/\n"
          ],
          "name": "stdout"
        }
      ]
    },
    {
      "cell_type": "code",
      "metadata": {
        "colab": {
          "base_uri": "https://localhost:8080/"
        },
        "id": "s1shclkldkMJ",
        "outputId": "9aa4e1ac-194c-4854-947d-265f7f7ba899"
      },
      "source": [
        "ls -la\n"
      ],
      "execution_count": null,
      "outputs": [
        {
          "output_type": "stream",
          "text": [
            "total 104\n",
            "drwxr-xr-x   1 root root 4096 Apr  6 02:30 \u001b[0m\u001b[01;34m.\u001b[0m/\n",
            "drwxr-xr-x   1 root root 4096 Apr  6 02:30 \u001b[01;34m..\u001b[0m/\n",
            "drwxr-xr-x   1 root root 4096 Mar 25 13:29 \u001b[01;34mbin\u001b[0m/\n",
            "drwxr-xr-x   2 root root 4096 Apr 24  2018 \u001b[01;34mboot\u001b[0m/\n",
            "drwxr-xr-x   1 root root 4096 Mar 25 13:38 \u001b[01;34mcontent\u001b[0m/\n",
            "drwxr-xr-x   1 root root 4096 Mar 29 13:57 \u001b[01;34mdatalab\u001b[0m/\n",
            "drwxr-xr-x   5 root root  360 Apr  6 02:30 \u001b[01;34mdev\u001b[0m/\n",
            "-rwxr-xr-x   1 root root    0 Apr  6 02:30 \u001b[01;32m.dockerenv\u001b[0m*\n",
            "drwxr-xr-x   1 root root 4096 Apr  6 02:30 \u001b[01;34metc\u001b[0m/\n",
            "drwxr-xr-x   2 root root 4096 Apr 24  2018 \u001b[01;34mhome\u001b[0m/\n",
            "drwxr-xr-x   1 root root 4096 Mar 25 13:31 \u001b[01;34mlib\u001b[0m/\n",
            "drwxr-xr-x   2 root root 4096 Mar 25 13:20 \u001b[01;34mlib32\u001b[0m/\n",
            "drwxr-xr-x   1 root root 4096 Mar 25 13:20 \u001b[01;34mlib64\u001b[0m/\n",
            "drwxr-xr-x   2 root root 4096 Sep 21  2020 \u001b[01;34mmedia\u001b[0m/\n",
            "drwxr-xr-x   2 root root 4096 Sep 21  2020 \u001b[01;34mmnt\u001b[0m/\n",
            "drwxr-xr-x   1 root root 4096 Mar 25 13:32 \u001b[01;34mopt\u001b[0m/\n",
            "dr-xr-xr-x 120 root root    0 Apr  6 02:30 \u001b[01;34mproc\u001b[0m/\n",
            "drwx------   1 root root 4096 Apr  6 02:30 \u001b[01;34mroot\u001b[0m/\n",
            "drwxr-xr-x   1 root root 4096 Mar 25 13:23 \u001b[01;34mrun\u001b[0m/\n",
            "drwxr-xr-x   1 root root 4096 Mar 25 13:29 \u001b[01;34msbin\u001b[0m/\n",
            "drwxr-xr-x   2 root root 4096 Sep 21  2020 \u001b[01;34msrv\u001b[0m/\n",
            "dr-xr-xr-x  12 root root    0 Apr  6 02:45 \u001b[01;34msys\u001b[0m/\n",
            "drwxr-xr-x   4 root root 4096 Mar 29 13:53 \u001b[01;34mtensorflow-1.15.2\u001b[0m/\n",
            "drwxrwxrwt   1 root root 4096 Apr  6 02:45 \u001b[30;42mtmp\u001b[0m/\n",
            "drwxr-xr-x   1 root root 4096 Mar 29 13:57 \u001b[01;34mtools\u001b[0m/\n",
            "drwxr-xr-x   1 root root 4096 Mar 25 13:32 \u001b[01;34musr\u001b[0m/\n",
            "drwxr-xr-x   1 root root 4096 Apr  6 02:30 \u001b[01;34mvar\u001b[0m/\n"
          ],
          "name": "stdout"
        }
      ]
    },
    {
      "cell_type": "code",
      "metadata": {
        "colab": {
          "base_uri": "https://localhost:8080/"
        },
        "id": "Pl7ILsl1dlnX",
        "outputId": "a27add88-d15b-4a4e-cc00-d66a705b2c36"
      },
      "source": [
        "cd supervised-learning-w-python-master/"
      ],
      "execution_count": null,
      "outputs": [
        {
          "output_type": "stream",
          "text": [
            "[Errno 2] No such file or directory: 'supervised-learning-w-python-master/'\n",
            "/\n"
          ],
          "name": "stdout"
        }
      ]
    },
    {
      "cell_type": "code",
      "metadata": {
        "colab": {
          "base_uri": "https://localhost:8080/"
        },
        "id": "-EAzWwmDduNr",
        "outputId": "945c799f-86a0-4183-ee8b-d703351033c3"
      },
      "source": [
        "ls -la"
      ],
      "execution_count": null,
      "outputs": [
        {
          "output_type": "stream",
          "text": [
            "total 104\n",
            "drwxr-xr-x   1 root root 4096 Apr  6 02:30 \u001b[0m\u001b[01;34m.\u001b[0m/\n",
            "drwxr-xr-x   1 root root 4096 Apr  6 02:30 \u001b[01;34m..\u001b[0m/\n",
            "drwxr-xr-x   1 root root 4096 Mar 25 13:29 \u001b[01;34mbin\u001b[0m/\n",
            "drwxr-xr-x   2 root root 4096 Apr 24  2018 \u001b[01;34mboot\u001b[0m/\n",
            "drwxr-xr-x   1 root root 4096 Mar 25 13:38 \u001b[01;34mcontent\u001b[0m/\n",
            "drwxr-xr-x   1 root root 4096 Mar 29 13:57 \u001b[01;34mdatalab\u001b[0m/\n",
            "drwxr-xr-x   5 root root  360 Apr  6 02:30 \u001b[01;34mdev\u001b[0m/\n",
            "-rwxr-xr-x   1 root root    0 Apr  6 02:30 \u001b[01;32m.dockerenv\u001b[0m*\n",
            "drwxr-xr-x   1 root root 4096 Apr  6 02:30 \u001b[01;34metc\u001b[0m/\n",
            "drwxr-xr-x   2 root root 4096 Apr 24  2018 \u001b[01;34mhome\u001b[0m/\n",
            "drwxr-xr-x   1 root root 4096 Mar 25 13:31 \u001b[01;34mlib\u001b[0m/\n",
            "drwxr-xr-x   2 root root 4096 Mar 25 13:20 \u001b[01;34mlib32\u001b[0m/\n",
            "drwxr-xr-x   1 root root 4096 Mar 25 13:20 \u001b[01;34mlib64\u001b[0m/\n",
            "drwxr-xr-x   2 root root 4096 Sep 21  2020 \u001b[01;34mmedia\u001b[0m/\n",
            "drwxr-xr-x   2 root root 4096 Sep 21  2020 \u001b[01;34mmnt\u001b[0m/\n",
            "drwxr-xr-x   1 root root 4096 Mar 25 13:32 \u001b[01;34mopt\u001b[0m/\n",
            "dr-xr-xr-x 120 root root    0 Apr  6 02:30 \u001b[01;34mproc\u001b[0m/\n",
            "drwx------   1 root root 4096 Apr  6 02:30 \u001b[01;34mroot\u001b[0m/\n",
            "drwxr-xr-x   1 root root 4096 Mar 25 13:23 \u001b[01;34mrun\u001b[0m/\n",
            "drwxr-xr-x   1 root root 4096 Mar 25 13:29 \u001b[01;34msbin\u001b[0m/\n",
            "drwxr-xr-x   2 root root 4096 Sep 21  2020 \u001b[01;34msrv\u001b[0m/\n",
            "dr-xr-xr-x  12 root root    0 Apr  6 02:45 \u001b[01;34msys\u001b[0m/\n",
            "drwxr-xr-x   4 root root 4096 Mar 29 13:53 \u001b[01;34mtensorflow-1.15.2\u001b[0m/\n",
            "drwxrwxrwt   1 root root 4096 Apr  6 02:45 \u001b[30;42mtmp\u001b[0m/\n",
            "drwxr-xr-x   1 root root 4096 Mar 29 13:57 \u001b[01;34mtools\u001b[0m/\n",
            "drwxr-xr-x   1 root root 4096 Mar 25 13:32 \u001b[01;34musr\u001b[0m/\n",
            "drwxr-xr-x   1 root root 4096 Apr  6 02:30 \u001b[01;34mvar\u001b[0m/\n"
          ],
          "name": "stdout"
        }
      ]
    },
    {
      "cell_type": "code",
      "metadata": {
        "id": "cW2XUdnEdv1Q"
      },
      "source": [
        "import numpy as np\n",
        "import pandas as pd\n",
        "import matplotlib.pyplot as plt\n",
        "%matplotlib inline\n",
        "from sklearn.linear_model import LinearRegression\n",
        "from sklearn.datasets import make_regression"
      ],
      "execution_count": null,
      "outputs": []
    },
    {
      "cell_type": "code",
      "metadata": {
        "id": "bywk4G7YBvdP"
      },
      "source": [
        "X,Y = make_regression(n_features=1, noise=5, n_samples=5000)\n"
      ],
      "execution_count": null,
      "outputs": []
    },
    {
      "cell_type": "code",
      "metadata": {
        "colab": {
          "base_uri": "https://localhost:8080/",
          "height": 296
        },
        "id": "v-d_CaZWCSKZ",
        "outputId": "832bf5f5-d01d-4f07-deb5-4ac2b7ddf68d"
      },
      "source": [
        "plt.xlabel('Feature - X')\n",
        "plt.ylabel('Target - Y')\n",
        "plt.scatter(X,Y,s=5)"
      ],
      "execution_count": null,
      "outputs": [
        {
          "output_type": "execute_result",
          "data": {
            "text/plain": [
              "<matplotlib.collections.PathCollection at 0x7f48de9bf890>"
            ]
          },
          "metadata": {
            "tags": []
          },
          "execution_count": 51
        },
        {
          "output_type": "display_data",
          "data": {
            "image/png": "[encoded data removed]",
            "text/plain": [
              "<Figure size 432x288 with 1 Axes>"
            ]
          },
          "metadata": {
            "tags": [],
            "needs_background": "light"
          }
        }
      ]
    },
    {
      "cell_type": "code",
      "metadata": {
        "id": "E9EhdSKlCsJG"
      },
      "source": [
        "linear_model = LinearRegression()\n"
      ],
      "execution_count": null,
      "outputs": []
    },
    {
      "cell_type": "code",
      "metadata": {
        "colab": {
          "base_uri": "https://localhost:8080/"
        },
        "id": "anOVJ8meDVrZ",
        "outputId": "a200f304-6fd8-4568-ffe6-4a824a1f7fe2"
      },
      "source": [
        "linear_model.fit(X,Y)\n"
      ],
      "execution_count": null,
      "outputs": [
        {
          "output_type": "execute_result",
          "data": {
            "text/plain": [
              "LinearRegression(copy_X=True, fit_intercept=True, n_jobs=None, normalize=False)"
            ]
          },
          "metadata": {
            "tags": []
          },
          "execution_count": 53
        }
      ]
    },
    {
      "cell_type": "code",
      "metadata": {
        "colab": {
          "base_uri": "https://localhost:8080/"
        },
        "id": "vHYZ5BUXDfUZ",
        "outputId": "a208afca-f4e1-4b5c-9581-2be526dfdeab"
      },
      "source": [
        "linear_model.coef_\n"
      ],
      "execution_count": null,
      "outputs": [
        {
          "output_type": "execute_result",
          "data": {
            "text/plain": [
              "array([37.52930285])"
            ]
          },
          "metadata": {
            "tags": []
          },
          "execution_count": 54
        }
      ]
    },
    {
      "cell_type": "code",
      "metadata": {
        "colab": {
          "base_uri": "https://localhost:8080/"
        },
        "id": "XiP4FhhiDovR",
        "outputId": "e36f82b0-0157-40e1-f95e-34afa597ccc3"
      },
      "source": [
        "linear_model.intercept_"
      ],
      "execution_count": null,
      "outputs": [
        {
          "output_type": "execute_result",
          "data": {
            "text/plain": [
              "0.06685539288556938"
            ]
          },
          "metadata": {
            "tags": []
          },
          "execution_count": 55
        }
      ]
    },
    {
      "cell_type": "code",
      "metadata": {
        "id": "6UnnZtzMD5Ln",
        "colab": {
          "base_uri": "https://localhost:8080/",
          "height": 280
        },
        "outputId": "bd5e6569-a299-4435-9b08-886e57e68894"
      },
      "source": [
        "pred = linear_model.predict(X)\n",
        "plt.scatter(X,Y,s=25, label=\"training\")\n",
        "plt.scatter(X,pred,s=25, label=\"prediction\")\n",
        "plt.xlabel('Feature - X')\n",
        "plt.ylabel('Target - Y')\n",
        "plt.legend()\n",
        "plt.show()"
      ],
      "execution_count": null,
      "outputs": [
        {
          "output_type": "display_data",
          "data": {
            "image/png": "[encoded data removed]",
            "text/plain": [
              "<Figure size 432x288 with 1 Axes>"
            ]
          },
          "metadata": {
            "tags": [],
            "needs_background": "light"
          }
        }
      ]
    },
    {
      "cell_type": "code",
      "metadata": {
        "id": "jFcxZCoiHJaQ"
      },
      "source": [
        "import pandas as pd\n",
        "import numpy as np\n",
        "import matplotlib.pyplot as plt\n",
        "import seaborn as sns\n",
        "%matplotlib inline\n",
        "import warnings\n",
        "warnings.filterwarnings(action=\"ignore\", module=\"scipy\", message=\"^internal gelsd\")"
      ],
      "execution_count": null,
      "outputs": []
    },
    {
      "cell_type": "code",
      "metadata": {
        "colab": {
          "base_uri": "https://localhost:8080/",
          "height": 34
        },
        "id": "njok8DGoH_Nv",
        "outputId": "c1401ebf-aee3-4af6-fc7c-84bc13b6c095"
      },
      "source": [
        "pwd\n"
      ],
      "execution_count": null,
      "outputs": [
        {
          "output_type": "execute_result",
          "data": {
            "application/vnd.google.colaboratory.intrinsic+json": {
              "type": "string"
            },
            "text/plain": [
              "'/content'"
            ]
          },
          "metadata": {
            "tags": []
          },
          "execution_count": 3
        }
      ]
    },
    {
      "cell_type": "code",
      "metadata": {
        "colab": {
          "base_uri": "https://localhost:8080/"
        },
        "id": "n11OcIpyIJuf",
        "outputId": "c198f7b1-4f79-46ee-f912-665fedd81a2f"
      },
      "source": [
        "cd .."
      ],
      "execution_count": null,
      "outputs": [
        {
          "output_type": "stream",
          "text": [
            "/\n"
          ],
          "name": "stdout"
        }
      ]
    },
    {
      "cell_type": "code",
      "metadata": {
        "colab": {
          "base_uri": "https://localhost:8080/"
        },
        "id": "lVwoD5vkIZtG",
        "outputId": "e3921e25-2db1-4d73-d85c-35624ea688be"
      },
      "source": [
        "cd tmp/"
      ],
      "execution_count": null,
      "outputs": [
        {
          "output_type": "stream",
          "text": [
            "/tmp\n"
          ],
          "name": "stdout"
        }
      ]
    },
    {
      "cell_type": "code",
      "metadata": {
        "colab": {
          "base_uri": "https://localhost:8080/"
        },
        "id": "_tO08GQBIanm",
        "outputId": "1b8496d2-3a55-4587-8e25-ffd6836b158d"
      },
      "source": [
        "ls -la\n"
      ],
      "execution_count": null,
      "outputs": [
        {
          "output_type": "stream",
          "text": [
            "total 20\n",
            "drwxrwxrwt 1 root root 4096 Apr  6 02:59 \u001b[0m\u001b[30;42m.\u001b[0m/\n",
            "drwxr-xr-x 1 root root 4096 Apr  6 02:59 \u001b[01;34m..\u001b[0m/\n",
            "-rw-r--r-- 1 root root 1502 Apr  6 02:59 dap_multiplexer.d36bf09a4f12.root.log.INFO.20210406-025939.47\n",
            "lrwxrwxrwx 1 root root   61 Apr  6 02:59 \u001b[01;36mdap_multiplexer.INFO\u001b[0m -> dap_multiplexer.d36bf09a4f12.root.log.INFO.20210406-025939.47\n",
            "srwxr-xr-x 1 root root    0 Apr  6 02:59 \u001b[01;35mdebugger_1yg0vbnuu6\u001b[0m=\n",
            "drwx------ 2 root root 4096 Apr  6 02:59 \u001b[01;34minitgoogle_syslog_dir.0\u001b[0m/\n"
          ],
          "name": "stdout"
        }
      ]
    },
    {
      "cell_type": "code",
      "metadata": {
        "colab": {
          "base_uri": "https://localhost:8080/"
        },
        "id": "0XBAKi-8JRXx",
        "outputId": "04290098-2594-416f-8596-143e1a82e7e6"
      },
      "source": [
        "cd .."
      ],
      "execution_count": null,
      "outputs": [
        {
          "output_type": "stream",
          "text": [
            "/\n"
          ],
          "name": "stdout"
        }
      ]
    },
    {
      "cell_type": "code",
      "metadata": {
        "colab": {
          "base_uri": "https://localhost:8080/"
        },
        "id": "X1YcgPw0JWGU",
        "outputId": "d1be76a8-0a2a-441f-a791-43dfb1793396"
      },
      "source": [
        "ls -la\n"
      ],
      "execution_count": null,
      "outputs": [
        {
          "output_type": "stream",
          "text": [
            "total 100\n",
            "drwxr-xr-x   1 root root 4096 Apr  6 02:59 \u001b[0m\u001b[01;34m.\u001b[0m/\n",
            "drwxr-xr-x   1 root root 4096 Apr  6 02:59 \u001b[01;34m..\u001b[0m/\n",
            "drwxr-xr-x   1 root root 4096 Mar 25 13:29 \u001b[01;34mbin\u001b[0m/\n",
            "drwxr-xr-x   2 root root 4096 Apr 24  2018 \u001b[01;34mboot\u001b[0m/\n",
            "drwxr-xr-x   1 root root 4096 Mar 25 13:38 \u001b[01;34mcontent\u001b[0m/\n",
            "drwxr-xr-x   1 root root 4096 Mar 29 13:57 \u001b[01;34mdatalab\u001b[0m/\n",
            "drwxr-xr-x   5 root root  360 Apr  6 02:59 \u001b[01;34mdev\u001b[0m/\n",
            "-rwxr-xr-x   1 root root    0 Apr  6 02:59 \u001b[01;32m.dockerenv\u001b[0m*\n",
            "drwxr-xr-x   1 root root 4096 Apr  6 02:59 \u001b[01;34metc\u001b[0m/\n",
            "drwxr-xr-x   2 root root 4096 Apr 24  2018 \u001b[01;34mhome\u001b[0m/\n",
            "drwxr-xr-x   1 root root 4096 Mar 25 13:31 \u001b[01;34mlib\u001b[0m/\n",
            "drwxr-xr-x   2 root root 4096 Mar 25 13:20 \u001b[01;34mlib32\u001b[0m/\n",
            "drwxr-xr-x   1 root root 4096 Mar 25 13:20 \u001b[01;34mlib64\u001b[0m/\n",
            "drwxr-xr-x   2 root root 4096 Sep 21  2020 \u001b[01;34mmedia\u001b[0m/\n",
            "drwxr-xr-x   2 root root 4096 Sep 21  2020 \u001b[01;34mmnt\u001b[0m/\n",
            "drwxr-xr-x   1 root root 4096 Mar 25 13:32 \u001b[01;34mopt\u001b[0m/\n",
            "dr-xr-xr-x 113 root root    0 Apr  6 02:59 \u001b[01;34mproc\u001b[0m/\n",
            "drwx------   1 root root 4096 Apr  6 02:59 \u001b[01;34mroot\u001b[0m/\n",
            "drwxr-xr-x   1 root root 4096 Mar 25 13:23 \u001b[01;34mrun\u001b[0m/\n",
            "drwxr-xr-x   1 root root 4096 Mar 25 13:29 \u001b[01;34msbin\u001b[0m/\n",
            "drwxr-xr-x   2 root root 4096 Sep 21  2020 \u001b[01;34msrv\u001b[0m/\n",
            "dr-xr-xr-x  12 root root    0 Apr  6 02:59 \u001b[01;34msys\u001b[0m/\n",
            "drwxr-xr-x   4 root root 4096 Mar 29 13:53 \u001b[01;34mtensorflow-1.15.2\u001b[0m/\n",
            "drwxrwxrwt   1 root root 4096 Apr  6 02:59 \u001b[30;42mtmp\u001b[0m/\n",
            "drwxr-xr-x   1 root root 4096 Mar 29 13:57 \u001b[01;34mtools\u001b[0m/\n",
            "drwxr-xr-x   1 root root 4096 Mar 25 13:32 \u001b[01;34musr\u001b[0m/\n",
            "drwxr-xr-x   1 root root 4096 Apr  6 02:59 \u001b[01;34mvar\u001b[0m/\n"
          ],
          "name": "stdout"
        }
      ]
    },
    {
      "cell_type": "code",
      "metadata": {
        "colab": {
          "base_uri": "https://localhost:8080/"
        },
        "id": "fRutQPOvJXcA",
        "outputId": "d1cdc59c-6e29-4741-a1e0-ba1610d08364"
      },
      "source": [
        "cd content/"
      ],
      "execution_count": null,
      "outputs": [
        {
          "output_type": "stream",
          "text": [
            "/content\n"
          ],
          "name": "stdout"
        }
      ]
    },
    {
      "cell_type": "code",
      "metadata": {
        "colab": {
          "base_uri": "https://localhost:8080/"
        },
        "id": "HMCfzmmxJmX-",
        "outputId": "8a75ffe6-f930-475c-8c78-1967f8a09b06"
      },
      "source": [
        "ls -la"
      ],
      "execution_count": null,
      "outputs": [
        {
          "output_type": "stream",
          "text": [
            "total 16\n",
            "drwxr-xr-x 1 root root 4096 Mar 25 13:38 \u001b[0m\u001b[01;34m.\u001b[0m/\n",
            "drwxr-xr-x 1 root root 4096 Apr  6 02:59 \u001b[01;34m..\u001b[0m/\n",
            "drwxr-xr-x 4 root root 4096 Mar 25 13:38 \u001b[01;34m.config\u001b[0m/\n",
            "drwxr-xr-x 1 root root 4096 Mar 25 13:38 \u001b[01;34msample_data\u001b[0m/\n"
          ],
          "name": "stdout"
        }
      ]
    },
    {
      "cell_type": "code",
      "metadata": {
        "colab": {
          "base_uri": "https://localhost:8080/"
        },
        "id": "zlV4yqp7Jncu",
        "outputId": "bdb5a704-8788-488f-c8b9-2d6b9a781eef"
      },
      "source": [
        "cd sample_data/"
      ],
      "execution_count": null,
      "outputs": [
        {
          "output_type": "stream",
          "text": [
            "/content/sample_data\n"
          ],
          "name": "stdout"
        }
      ]
    },
    {
      "cell_type": "code",
      "metadata": {
        "id": "4re8S9yXJqWg",
        "colab": {
          "base_uri": "https://localhost:8080/"
        },
        "outputId": "7159283f-1a44-4d8d-c9da-5c5f7f8bd406"
      },
      "source": [
        "ls -la\n"
      ],
      "execution_count": null,
      "outputs": [
        {
          "output_type": "stream",
          "text": [
            "total 55512\n",
            "drwxr-xr-x 1 root root     4096 Mar 25 13:38 \u001b[0m\u001b[01;34m.\u001b[0m/\n",
            "drwxr-xr-x 1 root root     4096 Mar 25 13:38 \u001b[01;34m..\u001b[0m/\n",
            "-rwxr-xr-x 1 root root     1697 Jan  1  2000 \u001b[01;32manscombe.json\u001b[0m*\n",
            "-rw-r--r-- 1 root root   301141 Mar 25 13:38 california_housing_test.csv\n",
            "-rw-r--r-- 1 root root  1706430 Mar 25 13:38 california_housing_train.csv\n",
            "-rw-r--r-- 1 root root 18289443 Mar 25 13:38 mnist_test.csv\n",
            "-rw-r--r-- 1 root root 36523880 Mar 25 13:38 mnist_train_small.csv\n",
            "-rwxr-xr-x 1 root root      930 Jan  1  2000 \u001b[01;32mREADME.md\u001b[0m*\n"
          ],
          "name": "stdout"
        }
      ]
    },
    {
      "cell_type": "code",
      "metadata": {
        "id": "dQeu21qYJrnB",
        "colab": {
          "base_uri": "https://localhost:8080/"
        },
        "outputId": "70200a1a-7f98-4a8d-8c5f-115cf432a7e9"
      },
      "source": [
        "\\ google.colab import drive\n",
        "drive.mount('/gdrive')"
      ],
      "execution_count": null,
      "outputs": [
        {
          "output_type": "stream",
          "text": [
            "Mounted at /gdrive\n"
          ],
          "name": "stdout"
        }
      ]
    },
    {
      "cell_type": "code",
      "metadata": {
        "colab": {
          "base_uri": "https://localhost:8080/"
        },
        "id": "KTPAOOvWKFc8",
        "outputId": "ad3f1ce2-bad8-4d9f-cacb-d19eddd004bf"
      },
      "source": [
        "ls -la"
      ],
      "execution_count": null,
      "outputs": [
        {
          "output_type": "stream",
          "text": [
            "total 55512\n",
            "drwxr-xr-x 1 root root     4096 Mar 25 13:38 \u001b[0m\u001b[01;34m.\u001b[0m/\n",
            "drwxr-xr-x 1 root root     4096 Mar 25 13:38 \u001b[01;34m..\u001b[0m/\n",
            "-rwxr-xr-x 1 root root     1697 Jan  1  2000 \u001b[01;32manscombe.json\u001b[0m*\n",
            "-rw-r--r-- 1 root root   301141 Mar 25 13:38 california_housing_test.csv\n",
            "-rw-r--r-- 1 root root  1706430 Mar 25 13:38 california_housing_train.csv\n",
            "-rw-r--r-- 1 root root 18289443 Mar 25 13:38 mnist_test.csv\n",
            "-rw-r--r-- 1 root root 36523880 Mar 25 13:38 mnist_train_small.csv\n",
            "-rwxr-xr-x 1 root root      930 Jan  1  2000 \u001b[01;32mREADME.md\u001b[0m*\n"
          ],
          "name": "stdout"
        }
      ]
    },
    {
      "cell_type": "code",
      "metadata": {
        "id": "taXLziS6KRtu",
        "colab": {
          "base_uri": "https://localhost:8080/"
        },
        "outputId": "4e7d3d5b-9a57-4d32-db47-1c788b2b1eb4"
      },
      "source": [
        "cd ..\n"
      ],
      "execution_count": null,
      "outputs": [
        {
          "output_type": "stream",
          "text": [
            "/content\n"
          ],
          "name": "stdout"
        }
      ]
    },
    {
      "cell_type": "code",
      "metadata": {
        "colab": {
          "base_uri": "https://localhost:8080/"
        },
        "id": "Ug2qIWG1MCgc",
        "outputId": "f2430231-1db1-4595-910b-a46b59b4bcfd"
      },
      "source": [
        "ls -la"
      ],
      "execution_count": null,
      "outputs": [
        {
          "output_type": "stream",
          "text": [
            "total 16\n",
            "drwxr-xr-x 1 root root 4096 Mar 25 13:38 \u001b[0m\u001b[01;34m.\u001b[0m/\n",
            "drwxr-xr-x 1 root root 4096 Apr  6 03:10 \u001b[01;34m..\u001b[0m/\n",
            "drwxr-xr-x 4 root root 4096 Mar 25 13:38 \u001b[01;34m.config\u001b[0m/\n",
            "drwxr-xr-x 1 root root 4096 Mar 25 13:38 \u001b[01;34msample_data\u001b[0m/\n"
          ],
          "name": "stdout"
        }
      ]
    },
    {
      "cell_type": "code",
      "metadata": {
        "colab": {
          "base_uri": "https://localhost:8080/"
        },
        "id": "QX5mMl4IMD3Q",
        "outputId": "785a7106-2fd6-4262-c0ab-324db0e7b7c1"
      },
      "source": [
        "cd sample_data/"
      ],
      "execution_count": null,
      "outputs": [
        {
          "output_type": "stream",
          "text": [
            "/content/sample_data\n"
          ],
          "name": "stdout"
        }
      ]
    },
    {
      "cell_type": "code",
      "metadata": {
        "colab": {
          "base_uri": "https://localhost:8080/"
        },
        "id": "SdMML1tMMGev",
        "outputId": "1fef2443-6770-4686-d61e-bef46066e8e3"
      },
      "source": [
        "ls -la"
      ],
      "execution_count": null,
      "outputs": [
        {
          "output_type": "stream",
          "text": [
            "total 55512\n",
            "drwxr-xr-x 1 root root     4096 Mar 25 13:38 \u001b[0m\u001b[01;34m.\u001b[0m/\n",
            "drwxr-xr-x 1 root root     4096 Mar 25 13:38 \u001b[01;34m..\u001b[0m/\n",
            "-rwxr-xr-x 1 root root     1697 Jan  1  2000 \u001b[01;32manscombe.json\u001b[0m*\n",
            "-rw-r--r-- 1 root root   301141 Mar 25 13:38 california_housing_test.csv\n",
            "-rw-r--r-- 1 root root  1706430 Mar 25 13:38 california_housing_train.csv\n",
            "-rw-r--r-- 1 root root 18289443 Mar 25 13:38 mnist_test.csv\n",
            "-rw-r--r-- 1 root root 36523880 Mar 25 13:38 mnist_train_small.csv\n",
            "-rwxr-xr-x 1 root root      930 Jan  1  2000 \u001b[01;32mREADME.md\u001b[0m*\n"
          ],
          "name": "stdout"
        }
      ]
    },
    {
      "cell_type": "code",
      "metadata": {
        "colab": {
          "base_uri": "https://localhost:8080/"
        },
        "id": "Kv7OoV7eMHW1",
        "outputId": "38ac4dd5-d197-4af0-b04e-518b1b144637"
      },
      "source": [
        "cd ..\n"
      ],
      "execution_count": null,
      "outputs": [
        {
          "output_type": "stream",
          "text": [
            "/content\n"
          ],
          "name": "stdout"
        }
      ]
    },
    {
      "cell_type": "code",
      "metadata": {
        "colab": {
          "base_uri": "https://localhost:8080/"
        },
        "id": "2-0B6ZgsMJjg",
        "outputId": "915d5020-26cd-4276-a80c-fe7d6e6a7e45"
      },
      "source": [
        "cd .."
      ],
      "execution_count": null,
      "outputs": [
        {
          "output_type": "stream",
          "text": [
            "/\n"
          ],
          "name": "stdout"
        }
      ]
    },
    {
      "cell_type": "code",
      "metadata": {
        "colab": {
          "base_uri": "https://localhost:8080/",
          "height": 34
        },
        "id": "ImYk00c0MKWF",
        "outputId": "2e0ad700-70fd-481d-9508-e146ea86abaa"
      },
      "source": [
        "pwd"
      ],
      "execution_count": null,
      "outputs": [
        {
          "output_type": "execute_result",
          "data": {
            "application/vnd.google.colaboratory.intrinsic+json": {
              "type": "string"
            },
            "text/plain": [
              "'/'"
            ]
          },
          "metadata": {
            "tags": []
          },
          "execution_count": 23
        }
      ]
    },
    {
      "cell_type": "code",
      "metadata": {
        "colab": {
          "base_uri": "https://localhost:8080/"
        },
        "id": "6tLfCTVxMLbO",
        "outputId": "cfef908d-0084-41c8-94b0-1084bee165e8"
      },
      "source": [
        "ls -la"
      ],
      "execution_count": null,
      "outputs": [
        {
          "output_type": "stream",
          "text": [
            "total 108\n",
            "drwxr-xr-x   1 root root 4096 Apr  6 03:10 \u001b[0m\u001b[01;34m.\u001b[0m/\n",
            "drwxr-xr-x   1 root root 4096 Apr  6 03:10 \u001b[01;34m..\u001b[0m/\n",
            "drwxr-xr-x   1 root root 4096 Mar 25 13:29 \u001b[01;34mbin\u001b[0m/\n",
            "drwxr-xr-x   2 root root 4096 Apr 24  2018 \u001b[01;34mboot\u001b[0m/\n",
            "drwxr-xr-x   1 root root 4096 Mar 25 13:38 \u001b[01;34mcontent\u001b[0m/\n",
            "drwxr-xr-x   1 root root 4096 Mar 29 13:57 \u001b[01;34mdatalab\u001b[0m/\n",
            "drwxr-xr-x   5 root root  360 Apr  6 02:59 \u001b[01;34mdev\u001b[0m/\n",
            "-rwxr-xr-x   1 root root    0 Apr  6 02:59 \u001b[01;32m.dockerenv\u001b[0m*\n",
            "drwxr-xr-x   1 root root 4096 Apr  6 02:59 \u001b[01;34metc\u001b[0m/\n",
            "drwx------   5 root root 4096 Apr  6 03:10 \u001b[01;34mgdrive\u001b[0m/\n",
            "drwxr-xr-x   2 root root 4096 Apr 24  2018 \u001b[01;34mhome\u001b[0m/\n",
            "drwxr-xr-x   1 root root 4096 Mar 25 13:31 \u001b[01;34mlib\u001b[0m/\n",
            "drwxr-xr-x   2 root root 4096 Mar 25 13:20 \u001b[01;34mlib32\u001b[0m/\n",
            "drwxr-xr-x   1 root root 4096 Mar 25 13:20 \u001b[01;34mlib64\u001b[0m/\n",
            "drwxr-xr-x   2 root root 4096 Sep 21  2020 \u001b[01;34mmedia\u001b[0m/\n",
            "drwxr-xr-x   2 root root 4096 Sep 21  2020 \u001b[01;34mmnt\u001b[0m/\n",
            "drwxr-xr-x   1 root root 4096 Mar 25 13:32 \u001b[01;34mopt\u001b[0m/\n",
            "dr-xr-xr-x 121 root root    0 Apr  6 02:59 \u001b[01;34mproc\u001b[0m/\n",
            "drwx------   1 root root 4096 Apr  6 02:59 \u001b[01;34mroot\u001b[0m/\n",
            "drwxr-xr-x   1 root root 4096 Mar 25 13:23 \u001b[01;34mrun\u001b[0m/\n",
            "drwxr-xr-x   1 root root 4096 Mar 25 13:29 \u001b[01;34msbin\u001b[0m/\n",
            "drwxr-xr-x   2 root root 4096 Sep 21  2020 \u001b[01;34msrv\u001b[0m/\n",
            "dr-xr-xr-x  12 root root    0 Apr  6 03:06 \u001b[01;34msys\u001b[0m/\n",
            "drwxr-xr-x   4 root root 4096 Mar 29 13:53 \u001b[01;34mtensorflow-1.15.2\u001b[0m/\n",
            "drwxrwxrwt   1 root root 4096 Apr  6 03:10 \u001b[30;42mtmp\u001b[0m/\n",
            "drwxr-xr-x   1 root root 4096 Mar 29 13:57 \u001b[01;34mtools\u001b[0m/\n",
            "drwxr-xr-x   1 root root 4096 Mar 25 13:32 \u001b[01;34musr\u001b[0m/\n",
            "drwxr-xr-x   1 root root 4096 Apr  6 02:59 \u001b[01;34mvar\u001b[0m/\n"
          ],
          "name": "stdout"
        }
      ]
    },
    {
      "cell_type": "code",
      "metadata": {
        "colab": {
          "base_uri": "https://localhost:8080/"
        },
        "id": "LfYDd7D4MM8x",
        "outputId": "11f295a2-dc9c-423a-b310-3f9b29c13e4a"
      },
      "source": [
        "cd var/"
      ],
      "execution_count": null,
      "outputs": [
        {
          "output_type": "stream",
          "text": [
            "/var\n"
          ],
          "name": "stdout"
        }
      ]
    },
    {
      "cell_type": "code",
      "metadata": {
        "colab": {
          "base_uri": "https://localhost:8080/"
        },
        "id": "E8HZm1-RMebX",
        "outputId": "b3477cce-4d8e-4c7b-949d-5956bc7b0016"
      },
      "source": [
        "ls -la"
      ],
      "execution_count": null,
      "outputs": [
        {
          "output_type": "stream",
          "text": [
            "total 52\n",
            "drwxr-xr-x 1 root root  4096 Apr  6 02:59 \u001b[0m\u001b[01;34m.\u001b[0m/\n",
            "drwxr-xr-x 1 root root  4096 Apr  6 03:10 \u001b[01;34m..\u001b[0m/\n",
            "drwxr-xr-x 2 root root  4096 Apr 24  2018 \u001b[01;34mbackups\u001b[0m/\n",
            "drwxr-xr-x 1 root root  4096 Mar 25 13:21 \u001b[01;34mcache\u001b[0m/\n",
            "drwxr-xr-x 3 root root   120 Apr  6 02:59 \u001b[01;34mcolab\u001b[0m/\n",
            "drwxr-xr-x 1 root root  4096 Mar 25 13:29 \u001b[01;34mlib\u001b[0m/\n",
            "drwxrwsr-x 2 root staff 4096 Apr 24  2018 \u001b[01;34mlocal\u001b[0m/\n",
            "lrwxrwxrwx 1 root root     9 Sep 21  2020 \u001b[01;36mlock\u001b[0m -> \u001b[30;42m/run/lock\u001b[0m/\n",
            "drwxr-xr-x 1 root root  4096 Apr  6 02:59 \u001b[01;34mlog\u001b[0m/\n",
            "drwxrwsr-x 2 root mail  4096 Sep 21  2020 \u001b[01;34mmail\u001b[0m/\n",
            "drwxr-xr-x 2 root root  4096 Sep 21  2020 \u001b[01;34mopt\u001b[0m/\n",
            "lrwxrwxrwx 1 root root     4 Sep 21  2020 \u001b[01;36mrun\u001b[0m -> \u001b[01;34m/run\u001b[0m/\n",
            "drwxr-xr-x 2 root root  4096 Sep 21  2020 \u001b[01;34mspool\u001b[0m/\n",
            "drwxrwxrwt 2 root root  4096 Sep 21  2020 \u001b[30;42mtmp\u001b[0m/\n"
          ],
          "name": "stdout"
        }
      ]
    },
    {
      "cell_type": "code",
      "metadata": {
        "colab": {
          "base_uri": "https://localhost:8080/"
        },
        "id": "8AmSUueyMf58",
        "outputId": "77019aa2-9297-4b3c-a092-6c167aa5cee5"
      },
      "source": [
        "cd colab/"
      ],
      "execution_count": null,
      "outputs": [
        {
          "output_type": "stream",
          "text": [
            "/var/colab\n"
          ],
          "name": "stdout"
        }
      ]
    },
    {
      "cell_type": "code",
      "metadata": {
        "colab": {
          "base_uri": "https://localhost:8080/"
        },
        "id": "FsT-GZusMkVR",
        "outputId": "7a95f9dd-abb1-4090-ba8a-643690f02cc4"
      },
      "source": [
        "ls -la"
      ],
      "execution_count": null,
      "outputs": [
        {
          "output_type": "stream",
          "text": [
            "total 20\n",
            "drwxr-xr-x 3 root root  120 Apr  6 02:59 \u001b[0m\u001b[01;34m.\u001b[0m/\n",
            "drwxr-xr-x 1 root root 4096 Apr  6 02:59 \u001b[01;34m..\u001b[0m/\n",
            "-rw-r--r-- 1 root root 2852 Apr  6 03:11 app.log\n",
            "-rw-r--r-- 1 root root   18 Apr  6 02:59 hostname\n",
            "-rw-r--r-- 1 root root    1 Apr  6 02:59 ooms\n",
            "drwxr-xr-x 2 root root   40 Apr  6 02:59 \u001b[01;34mshared\u001b[0m/\n"
          ],
          "name": "stdout"
        }
      ]
    },
    {
      "cell_type": "code",
      "metadata": {
        "colab": {
          "base_uri": "https://localhost:8080/"
        },
        "id": "P_5CXhcSMmgh",
        "outputId": "bfeb92bb-6c9b-4ee6-a3e0-4e3d1255dc88"
      },
      "source": [
        "cd shared/"
      ],
      "execution_count": null,
      "outputs": [
        {
          "output_type": "stream",
          "text": [
            "/var/colab/shared\n"
          ],
          "name": "stdout"
        }
      ]
    },
    {
      "cell_type": "code",
      "metadata": {
        "colab": {
          "base_uri": "https://localhost:8080/"
        },
        "id": "GdwAR841Mp5i",
        "outputId": "79d3e4b3-831d-4f3e-95ff-4cab77405ff4"
      },
      "source": [
        "ls -la"
      ],
      "execution_count": null,
      "outputs": [
        {
          "output_type": "stream",
          "text": [
            "total 0\n",
            "drwxr-xr-x 2 root root  40 Apr  6 02:59 \u001b[0m\u001b[01;34m.\u001b[0m/\n",
            "drwxr-xr-x 3 root root 120 Apr  6 02:59 \u001b[01;34m..\u001b[0m/\n"
          ],
          "name": "stdout"
        }
      ]
    },
    {
      "cell_type": "code",
      "metadata": {
        "id": "wc5YJHKFMrNz",
        "colab": {
          "base_uri": "https://localhost:8080/"
        },
        "outputId": "a0944903-8461-4725-a644-1ce12317be73"
      },
      "source": [
        "from google.colab import drive\n",
        "drive.mount('/gdrive')\n",
        "%cd /gdrive"
      ],
      "execution_count": 7,
      "outputs": [
        {
          "output_type": "stream",
          "text": [
            "Drive already mounted at /gdrive; to attempt to forcibly remount, call drive.mount(\"/gdrive\", force_remount=True).\n",
            "/gdrive\n"
          ],
          "name": "stdout"
        }
      ]
    },
    {
      "cell_type": "code",
      "metadata": {
        "colab": {
          "base_uri": "https://localhost:8080/"
        },
        "id": "kga1XLyjoeQh",
        "outputId": "48bce353-1df8-4b57-86c9-eb03e937d326"
      },
      "source": [
        "ls -la"
      ],
      "execution_count": 8,
      "outputs": [
        {
          "output_type": "stream",
          "text": [
            "total 16\n",
            "dr-x------  2 root root 4096 Apr  6 19:19 \u001b[0m\u001b[01;34m.file-revisions-by-id\u001b[0m/\n",
            "drwx------ 11 root root 4096 Apr  6 19:19 \u001b[01;34mMyDrive\u001b[0m/\n",
            "dr-x------  2 root root 4096 Apr  6 19:19 \u001b[01;34m.shortcut-targets-by-id\u001b[0m/\n",
            "drwx------  2 root root 4096 Apr  6 19:19 \u001b[01;34m.Trash\u001b[0m/\n"
          ],
          "name": "stdout"
        }
      ]
    },
    {
      "cell_type": "code",
      "metadata": {
        "colab": {
          "base_uri": "https://localhost:8080/"
        },
        "id": "dTXxXRz2ol7G",
        "outputId": "8e146336-0900-44cf-8ba9-529067983053"
      },
      "source": [
        "cd MyDrive/"
      ],
      "execution_count": 9,
      "outputs": [
        {
          "output_type": "stream",
          "text": [
            "/gdrive/MyDrive\n"
          ],
          "name": "stdout"
        }
      ]
    },
    {
      "cell_type": "code",
      "metadata": {
        "colab": {
          "base_uri": "https://localhost:8080/"
        },
        "id": "OBqtas-momwJ",
        "outputId": "26d2bed9-fc72-492d-9263-977459690dd6"
      },
      "source": [
        "ls -la\n"
      ],
      "execution_count": 10,
      "outputs": [
        {
          "output_type": "stream",
          "text": [
            "total 221268\n",
            "-rw------- 1 root root   257215 Nov  7  2014 '2014-07-03 11.26.24.jpg'\n",
            "-rw------- 1 root root  7462037 Jun 20  2017  321AA485-724B-4214-BC7B-E8397CD418E3-d94c3902-3536-4bc1-96e9-6d615b34a99b.mov\n",
            "-rw------- 1 root root  9704223 Jun 20  2017  42D58BA5-132D-4A56-AD0B-28C9DDB71A7D-5fab10bb-a7a6-457a-a62e-1984b579937f.mov\n",
            "-rw------- 1 root root  9609389 Jun 20  2017  42D58BA5-132D-4A56-AD0B-28C9DDB71A7D-8298803d-4113-4fc2-8224-d7029a51c504.mov\n",
            "-rw------- 1 root root  8018612 Jun 20  2017  90DB1D42-9616-46D4-B8E9-807F9F779FEE-8298803d-4113-4fc2-8224-d7029a51c504.mov\n",
            "-rw------- 1 root root  7926493 Jun 20  2017  90DB1D42-9616-46D4-B8E9-807F9F779FEE-d94c3902-3536-4bc1-96e9-6d615b34a99b.mov\n",
            "-rw------- 1 root root      151 May 31  2010  AccountSetupInfo_Chris.gdoc\n",
            "-rw------- 1 root root      162 Feb 20  2014 '~$ail this.docx'\n",
            "drwx------ 2 root root     4096 Feb 11 06:39  \u001b[0m\u001b[01;34mBioinformatics\u001b[0m/\n",
            "-rw------- 1 root root    16556 Feb 17 06:00 'Chapter 3- Classification.ipynb'\n",
            "-rw------- 1 root root      151 Dec  9  2009  chris_250_v1.gdoc\n",
            "-rw------- 1 root root    50176 Dec  4  2014 'Chris_NIH biosketch Aug 2013.doc'\n",
            "-rw------- 1 root root      151 Sep  8  2009  Christopher_Gaughan_CV_Latest.gdoc\n",
            "-rw------- 1 root root   172591 May 20  2017  CHRISTOPHER_GAUGHAN.docx\n",
            "-rw------- 1 root root      151 Dec 18  2016  CHRISTOPHER_GAUGHAN.docx.gdoc\n",
            "-rw------- 1 root root    47616 Sep 15  2014  christopher_gaughan_phd.doc\n",
            "-rw------- 1 root root      151 Oct 19  2018  christopher_gaughan_phd.doc.gdoc\n",
            "-rw------- 1 root root    22380 Feb 12  2018 'Christopher Gaughan_Resume_Feb_2018.docx'\n",
            "-rw------- 1 root root    47063 May 19  2017 'C_L_Gaughan__May_Updated copy.docx'\n",
            "drwx------ 2 root root     4096 Aug  3  2019  \u001b[01;34mCode_Acad\u001b[0m/\n",
            "-rw------- 1 root root  7901872 Mar 10 22:05  CoffeeBreakPythonSlicing.html\n",
            "-rw------- 1 root root  3653102 Mar 10 22:06  CoffeeBreakPythonSlicing.pdf\n",
            "-rw------- 1 root root  1238703 May 15  2016  coi_disclosure.pdf\n",
            "drwx------ 2 root root     4096 May 15  2019 \u001b[01;34m'Colab Notebooks'\u001b[0m/\n",
            "-rw------- 1 root root    38189 May 23  2017 'Copy of C_L_Gaughan__May_Updated copy.docx'\n",
            "-rw------- 1 root root      151 Jul 28  2009 'Copy of Scientific Article.gdoc'\n",
            "-rw------- 1 root root      151 Jul 27  2009 'Copy of to-do-list.gsheet'\n",
            "-rw------- 1 root root      151 Sep 21  2009 'Copy of Vaxinnate - Sr. Research Associate, Molecular Biology and.gdoc'\n",
            "-rw------- 1 root root 34709209 Feb  6  2016 'dane idea.band.zip'\n",
            "-rw------- 1 root root   930626 Aug  3  2019  Data_Cortex_Nuclear.xlsx\n",
            "-rw------- 1 root root      151 Mar 26  2020  Data.gsheet\n",
            "-rw------- 1 root root      151 Aug  4  2020  Dibyendu_code.gsheet\n",
            "-rw------- 1 root root    12100 Aug  4  2020  Dibyendu_code.xlsx\n",
            "-rw------- 1 root root    23452 Jan  2 06:02  Fermi.ipynb\n",
            "-rw------- 1 root root       19 Apr  5 23:49  foo.txt\n",
            "-rw------- 1 root root      151 Jan 26  2018 'Gaughan_Christopher_RESUME_January_2018 (1).docx.gdoc'\n",
            "-rw------- 1 root root    34429 Jan 26  2018  Gaughan_Christopher_RESUME_January_2018.docx\n",
            "-rw------- 1 root root      151 Dec 15  2018  Gaughan_Christopher_RESUME_January_2018.docx.gdoc\n",
            "-rw------- 1 root root   165375 Dec 20  2019 'Helix Consultant Agreement Christopher Gaughan Dec 18 2019.pdf'\n",
            "-rw------- 1 root root    80286 Aug  3  2019  his_plots_pie_plots_etc.ipynb\n",
            "-rw------- 1 root root    72374 Nov  8  2014  holy_mackerel.jpg\n",
            "-rw------- 1 root root   853324 Dec 27 22:32  Housing.ipynb\n",
            "-rw------- 1 root root   436266 Aug 10  2020  Image_209.pdf\n",
            "-rw------- 1 root root  1139008 Jul  4  2020  IMG_0004.JPG\n",
            "-rw------- 1 root root   244980 Oct 10 23:45 'IMG-0985 (1).jpeg'\n",
            "-rw------- 1 root root   244980 Oct 10 23:45 'IMG-0985 (2).jpeg'\n",
            "-rw------- 1 root root   244980 Oct 10 23:45  IMG-0985.jpeg\n",
            "drwx------ 2 root root     4096 Mar 10 03:23  \u001b[01;34mIntermediate_Python\u001b[0m/\n",
            "-rw------- 1 root root    32793 Jul  8  2014  Intuit.pdf\n",
            "-rw------- 1 root root      151 May 11  2019 'Invoice_INVJBA1110554 (1).gdoc'\n",
            "-rw------- 1 root root      151 May 11  2019  Invoice_INVJBA1110554.gdoc\n",
            "-rw------- 1 root root   111678 May 11  2019  Invoice_INVJBA1110554.pdf\n",
            "-rw------- 1 root root  1558695 Apr  3  2017 'IPM Np Packet.pdf'\n",
            "-rw------- 1 root root   107328 Jul 16  2015 'JJ Candidate Rep Agreement--Christopher Gaughan.docx'\n",
            "-rw------- 1 root root      151 Jul 16  2015 'JJ Candidate Rep Agreement--Christopher Gaughan.docx.gdoc'\n",
            "-rw------- 1 root root      151 Jul 17  2020 'Kidnapped!.gdoc'\n",
            "-rw------- 1 root root      151 Jul 28  2009  man2v2.gdoc\n",
            "-rw------- 1 root root      151 Mar 16  2010  March17_Program1.gdoc\n",
            "-rw------- 1 root root   508489 Mar  7  2016 'Membrane proteins.docx'\n",
            "-rw------- 1 root root   463850 Sep 29  2014 'Molecular Biology Research Associate Position.pdf'\n",
            "-rw------- 1 root root 12930302 Mar 14  2018 'MTF debridements.key'\n",
            "drwx------ 2 root root     4096 Mar 10 03:07  \u001b[01;34mMy_WAR\u001b[0m/\n",
            "-rw------- 1 root root  2114840 Dec  7 08:14  National_Poverty_Data_1607328804170.zip\n",
            "drwx------ 2 root root     4096 Jan 19 21:27  \u001b[01;34mnotebooks\u001b[0m/\n",
            "-rw------- 1 root root    17068 Nov 18  2014  Order_Form_8498-DN.html\n",
            "-rw------- 1 root root     3698 Aug  3  2019  pandas_merging_files.ipynb\n",
            "-rw------- 1 root root     3676 Dec 28 02:29  Pandas_Notebook_Lambdas_change_columns.ipynb\n",
            "-rw------- 1 root root   337946 Jul 23  2014  photo.JPG\n",
            "-rw------- 1 root root      151 Aug  3  2019  photo.JPG.gdoc\n",
            "-rw------- 1 root root     1113 May 15  2019  PipelineOpt.ipynb\n",
            "-rw------- 1 root root     3132 Jul  9  2018 'PLAN OF ACTION.txt'\n",
            "-rw------- 1 root root      151 Nov 27  2014 'PLAN OF ACTION.txt.gdoc'\n",
            "-rw------- 1 root root   227696 Dec 10 00:35  plot_linear_model_coefficient_interpretation.ipynb\n",
            "-rw------- 1 root root    92071 Aug  3  2019 'plotting 2.ipynb'\n",
            "-rw------- 1 root root      151 Dec  8  2009 'Position Profile - Assoc Medical Strategist Final.gdoc'\n",
            "-rw------- 1 root root    13660 Aug  3  2019  power_generated.png\n",
            "-rw------- 1 root root      151 Jan 26  2019 'Resume (1).gdoc'\n",
            "-rw------- 1 root root      151 Jan 26  2019 'Resume (2).gdoc'\n",
            "-rw------- 1 root root   108763 Mar 20  2019  Resume320_C_Gaughan.docx\n",
            "-rw------- 1 root root      151 Mar 20  2019  Resume320_C_Gaughan.gdoc\n",
            "-rw------- 1 root root      151 Jan 26  2019 'Resume (3).gdoc'\n",
            "-rw------- 1 root root      151 Jan 26  2019  Resume.gdoc\n",
            "-rw------- 1 root root      151 Dec  4  2014 'SBIR_Phase I_BBB_2014_Introduction.gdoc'\n",
            "-rw------- 1 root root      151 Sep 21  2020 'Script I.gdoc'\n",
            "-rw------- 1 root root  3429690 Jul 17  2020  seaweed.mp3\n",
            "-rw------- 1 root root 18883662 Sep 27  2020  seaweed.wav\n",
            "-rw------- 1 root root      151 May 23  2020  Story.gdoc\n",
            "-rw------- 1 root root      574 Dec  8 01:45  student.zip\n",
            "-rw------- 1 root root      151 Jan 22 04:27  summ_eptot.gsheet\n",
            "-rw------- 1 root root  5099794 Apr  1 03:28  supervised-learning-w-python-master.zip\n",
            "drwx------ 2 root root     4096 Apr  1 03:30 \u001b[01;34m'supervised-learning-w-python-master.zip (Unzipped Files)'\u001b[0m/\n",
            "-rw------- 1 root root      151 Aug  3  2019 'the lord.gdoc'\n",
            "-rw------- 1 root root   723014 Dec 18  2018 'the lord.htm'\n",
            "-rw------- 1 root root   386731 Oct 20 19:36  The_Modern_Python_Challenge.ipynb\n",
            "-rw------- 1 root root  2478951 Oct 19  2018  thing.ogg\n",
            "-rw------- 1 root root      151 May 27  2010 'Timesheet - Lab Support - Piscataway ju14.05.gdoc'\n",
            "-rw------- 1 root root   102400 Jun  7  2020  Titanic_data.tar\n",
            "drwx------ 2 root root     4096 Jun  7  2020 \u001b[01;34m'Titanic_data.zip (Unzipped Files)'\u001b[0m/\n",
            "-rw------- 1 root root   574809 Dec 20 07:02  titanic.ipynb\n",
            "-rw------- 1 root root  2621357 Feb 10  2016 'train - 2:10:16, 3.26 PM (1).mp3'\n",
            "-rw------- 1 root root  2621357 Feb 18  2016 'train - 2:10:16, 3.26 PM.mp3'\n",
            "drwx------ 2 root root     4096 Feb 19 04:33  \u001b[01;34mUDEMY_Nerual_Networks_Deep_learning\u001b[0m/\n",
            "-rw------- 1 root root   775807 Feb 19 01:03  UDEMY_OOP.ipynb\n",
            "-rw------- 1 root root      860 Nov 30 05:37  Untitled0.ipynb\n",
            "-rw------- 1 root root     4622 Feb 18  2016 'untitled-[1.2].html'\n",
            "-rw------- 1 root root     1508 Aug  3  2019  Untitled1.ipynb\n",
            "-rw------- 1 root root       89 Aug  3  2019  untitled-1.py\n",
            "-rw------- 1 root root    11196 Aug  3  2019  Untitled2.ipynb\n",
            "-rw------- 1 root root      864 Nov 30 23:48  Untitled3.ipynb\n",
            "-rw------- 1 root root      317 Feb 23 07:21  Untitled4.ipynb\n",
            "-rw------- 1 root root     3637 Mar 31 22:43  Untitled5.ipynb\n",
            "-rw------- 1 root root      151 Jun 14  2020 'Untitled document.gdoc'\n",
            "-rw------- 1 root root      151 Feb 22 05:52 'Untitled Jam.gjam'\n",
            "-rw------- 1 root root      151 Mar 26  2020 'Untitled spreadsheet.gsheet'\n",
            "-rw------- 1 root root   175957 Dec 18 06:39  Untitled.zip\n",
            "-rw------- 1 root root      151 Sep 21  2009 'Vaxinnate - Sr. Research Associate, Molecular Biology and Protein.gdoc'\n",
            "-rw------- 1 root root   119331 Jan 11  2017 'W9 Form.pdf'\n",
            "-rw------- 1 root root      151 Feb  8  2010 'What are we trying to accomplish rec.gdoc'\n",
            "-rw------- 1 root root    14227 Aug  3  2019  winning_word_lengths.png\n",
            "-rw------- 1 root root 37238757 Sep 29  2017 'wsayyyyyy out (1).band.zip'\n",
            "-rw------- 1 root root 37238757 Oct 14  2018 'wsayyyyyy out.band.zip'\n"
          ],
          "name": "stdout"
        }
      ]
    },
    {
      "cell_type": "code",
      "metadata": {
        "colab": {
          "base_uri": "https://localhost:8080/"
        },
        "id": "RlO6iYf4o1F9",
        "outputId": "b5e3b965-3c5b-41a5-986c-f505e41552c2"
      },
      "source": [
        "cd 'supervised-learning-w-python-master.zip (Unzipped Files)'/"
      ],
      "execution_count": 11,
      "outputs": [
        {
          "output_type": "stream",
          "text": [
            "/gdrive/My Drive/supervised-learning-w-python-master.zip (Unzipped Files)\n"
          ],
          "name": "stdout"
        }
      ]
    },
    {
      "cell_type": "code",
      "metadata": {
        "colab": {
          "base_uri": "https://localhost:8080/"
        },
        "id": "UCcV_g9zpBWU",
        "outputId": "93d42b9e-5478-4032-c7e3-2c4929337564"
      },
      "source": [
        "ls -la"
      ],
      "execution_count": 12,
      "outputs": [
        {
          "output_type": "stream",
          "text": [
            "total 4985\n",
            "drwx------ 2 root root    4096 Apr  1 03:30  \u001b[0m\u001b[01;34msupervised-learning-w-python-master\u001b[0m/\n",
            "-rw------- 1 root root 5099794 Apr  5 23:36 'supervised-learning-w-python-master (1).zip'\n"
          ],
          "name": "stdout"
        }
      ]
    },
    {
      "cell_type": "code",
      "metadata": {
        "colab": {
          "base_uri": "https://localhost:8080/"
        },
        "id": "9MQpGXpppDIb",
        "outputId": "bc646d6e-1c91-4063-e200-d7f902a9ebbf"
      },
      "source": [
        "cd supervised-learning-w-python-master/"
      ],
      "execution_count": 13,
      "outputs": [
        {
          "output_type": "stream",
          "text": [
            "/gdrive/My Drive/supervised-learning-w-python-master.zip (Unzipped Files)/supervised-learning-w-python-master\n"
          ],
          "name": "stdout"
        }
      ]
    },
    {
      "cell_type": "code",
      "metadata": {
        "id": "PWEjlJ5xpPFd"
      },
      "source": [
        ""
      ],
      "execution_count": null,
      "outputs": []
    },
    {
      "cell_type": "code",
      "metadata": {
        "colab": {
          "base_uri": "https://localhost:8080/"
        },
        "id": "1euI5wNlpJ19",
        "outputId": "2c328f8a-edf8-42ff-88df-8df328c73179"
      },
      "source": [
        "ls -la"
      ],
      "execution_count": 14,
      "outputs": [
        {
          "output_type": "stream",
          "text": [
            "total 116\n",
            "-rw------- 1 root root 27237 Apr  1 03:30  9781484261552.jpg\n",
            "drwx------ 2 root root  4096 Apr  1 03:30 \u001b[0m\u001b[01;34m'Chapter 1'\u001b[0m/\n",
            "drwx------ 2 root root  4096 Apr  1 03:30  \u001b[01;34mChapter2\u001b[0m/\n",
            "drwx------ 2 root root  4096 Apr  1 03:30 \u001b[01;34m'Chapter 3'\u001b[0m/\n",
            "drwx------ 2 root root  4096 Apr  1 03:30 \u001b[01;34m'Chapter 4'\u001b[0m/\n",
            "drwx------ 2 root root  4096 Apr  1 03:30 \u001b[01;34m'Chapter 5'\u001b[0m/\n",
            "-rw------- 1 root root   690 Apr  1 03:30  Contributing.md\n",
            "-rw------- 1 root root   237 Apr  1 03:30  errata.md\n",
            "-rw------- 1 root root  1373 Apr  1 03:30  LICENSE.txt\n",
            "-rw------- 1 root root   536 Apr  1 03:30  README.md\n",
            "-rw------- 1 root root 66346 Apr  6 02:57  Untitled0.ipynb\n"
          ],
          "name": "stdout"
        }
      ]
    },
    {
      "cell_type": "code",
      "metadata": {
        "colab": {
          "base_uri": "https://localhost:8080/"
        },
        "id": "utlxk0KbpLRy",
        "outputId": "aae29942-fa50-4c86-eb5d-43837bc6a431"
      },
      "source": [
        "cd Chapter2/"
      ],
      "execution_count": 15,
      "outputs": [
        {
          "output_type": "stream",
          "text": [
            "/gdrive/My Drive/supervised-learning-w-python-master.zip (Unzipped Files)/supervised-learning-w-python-master/Chapter2\n"
          ],
          "name": "stdout"
        }
      ]
    },
    {
      "cell_type": "code",
      "metadata": {
        "colab": {
          "base_uri": "https://localhost:8080/"
        },
        "id": "5V2E038TpSos",
        "outputId": "fdbcb067-b8f0-4d06-e7d2-52f8dc66481a"
      },
      "source": [
        "ls -la"
      ],
      "execution_count": 16,
      "outputs": [
        {
          "output_type": "stream",
          "text": [
            "total 3804\n",
            "-rw------- 1 root root   18131 Apr  1 03:30 auto-mpg.csv\n",
            "-rw------- 1 root root  392468 Apr  1 03:49 Chapter2_PythonCode.ipynb\n",
            "-rw------- 1 root root 2515206 Apr  1 03:30 House_data.csv\n",
            "-rw------- 1 root root  421218 Apr  1 03:30 House_data_LR.csv\n",
            "-rw------- 1 root root  544963 Apr  1 03:30 House_data_MLR.csv\n",
            "-rw------- 1 root root    1389 Apr  1 03:30 petrol_consumption.csv\n",
            "-rw------- 1 root root     160 Apr  1 03:30 ReadMe\n"
          ],
          "name": "stdout"
        }
      ]
    },
    {
      "cell_type": "code",
      "metadata": {
        "id": "IyICguZ2pT71"
      },
      "source": [
        "import pandas as pd\n",
        "import numpy as np\n",
        "import matplotlib.pyplot as plt\n",
        "import seaborn as sns\n",
        "%matplotlib inline\n",
        "import warnings\n",
        "warnings.filterwarnings(action=\"ignore\", module=\"scipy\", message=\"^internal gelsd\")"
      ],
      "execution_count": 17,
      "outputs": []
    },
    {
      "cell_type": "code",
      "metadata": {
        "id": "ad0St-qNpmK5"
      },
      "source": [
        "house_df= pd.read_csv('House_data_LR.csv')"
      ],
      "execution_count": 18,
      "outputs": []
    },
    {
      "cell_type": "code",
      "metadata": {
        "colab": {
          "base_uri": "https://localhost:8080/",
          "height": 197
        },
        "id": "k4T-djArpurK",
        "outputId": "1226e515-f465-4bca-cf03-8bdf3e2eb26b"
      },
      "source": [
        "house_df.head()"
      ],
      "execution_count": 19,
      "outputs": [
        {
          "output_type": "execute_result",
          "data": {
            "text/html": [
              "<div>\n",
              "<style scoped>\n",
              "    .dataframe tbody tr th:only-of-type {\n",
              "        vertical-align: middle;\n",
              "    }\n",
              "\n",
              "    .dataframe tbody tr th {\n",
              "        vertical-align: top;\n",
              "    }\n",
              "\n",
              "    .dataframe thead th {\n",
              "        text-align: right;\n",
              "    }\n",
              "</style>\n",
              "<table border=\"1\" class=\"dataframe\">\n",
              "  <thead>\n",
              "    <tr style=\"text-align: right;\">\n",
              "      <th></th>\n",
              "      <th>Unnamed: 0</th>\n",
              "      <th>sqft_living</th>\n",
              "      <th>price</th>\n",
              "    </tr>\n",
              "  </thead>\n",
              "  <tbody>\n",
              "    <tr>\n",
              "      <th>0</th>\n",
              "      <td>0</td>\n",
              "      <td>1180</td>\n",
              "      <td>221900.0</td>\n",
              "    </tr>\n",
              "    <tr>\n",
              "      <th>1</th>\n",
              "      <td>1</td>\n",
              "      <td>2570</td>\n",
              "      <td>538000.0</td>\n",
              "    </tr>\n",
              "    <tr>\n",
              "      <th>2</th>\n",
              "      <td>2</td>\n",
              "      <td>770</td>\n",
              "      <td>180000.0</td>\n",
              "    </tr>\n",
              "    <tr>\n",
              "      <th>3</th>\n",
              "      <td>3</td>\n",
              "      <td>1960</td>\n",
              "      <td>604000.0</td>\n",
              "    </tr>\n",
              "    <tr>\n",
              "      <th>4</th>\n",
              "      <td>4</td>\n",
              "      <td>1680</td>\n",
              "      <td>510000.0</td>\n",
              "    </tr>\n",
              "  </tbody>\n",
              "</table>\n",
              "</div>"
            ],
            "text/plain": [
              "   Unnamed: 0  sqft_living     price\n",
              "0           0         1180  221900.0\n",
              "1           1         2570  538000.0\n",
              "2           2          770  180000.0\n",
              "3           3         1960  604000.0\n",
              "4           4         1680  510000.0"
            ]
          },
          "metadata": {
            "tags": []
          },
          "execution_count": 19
        }
      ]
    },
    {
      "cell_type": "code",
      "metadata": {
        "colab": {
          "base_uri": "https://localhost:8080/"
        },
        "id": "--D054SYp0qo",
        "outputId": "b53cb657-177c-4ae0-bb79-572495990e41"
      },
      "source": [
        "# Check if there is any null value present in the dataset:\n",
        "house_df.isnull().any()"
      ],
      "execution_count": 20,
      "outputs": [
        {
          "output_type": "execute_result",
          "data": {
            "text/plain": [
              "Unnamed: 0     False\n",
              "sqft_living    False\n",
              "price          False\n",
              "dtype: bool"
            ]
          },
          "metadata": {
            "tags": []
          },
          "execution_count": 20
        }
      ]
    },
    {
      "cell_type": "code",
      "metadata": {
        "id": "eLcIv-gQqaWt"
      },
      "source": [
        "# Let's drop a column (axis = 1) called \"Unamed\"\n",
        "house_df.drop('Unnamed: 0', axis = 1, inplace = True)\n"
      ],
      "execution_count": 21,
      "outputs": []
    },
    {
      "cell_type": "code",
      "metadata": {
        "colab": {
          "base_uri": "https://localhost:8080/",
          "height": 197
        },
        "id": "M5ZH9Iqnr4Sm",
        "outputId": "b2e1a3a4-0103-409f-a126-6f2fb6e6c8eb"
      },
      "source": [
        "house_df.head()"
      ],
      "execution_count": 22,
      "outputs": [
        {
          "output_type": "execute_result",
          "data": {
            "text/html": [
              "<div>\n",
              "<style scoped>\n",
              "    .dataframe tbody tr th:only-of-type {\n",
              "        vertical-align: middle;\n",
              "    }\n",
              "\n",
              "    .dataframe tbody tr th {\n",
              "        vertical-align: top;\n",
              "    }\n",
              "\n",
              "    .dataframe thead th {\n",
              "        text-align: right;\n",
              "    }\n",
              "</style>\n",
              "<table border=\"1\" class=\"dataframe\">\n",
              "  <thead>\n",
              "    <tr style=\"text-align: right;\">\n",
              "      <th></th>\n",
              "      <th>sqft_living</th>\n",
              "      <th>price</th>\n",
              "    </tr>\n",
              "  </thead>\n",
              "  <tbody>\n",
              "    <tr>\n",
              "      <th>0</th>\n",
              "      <td>1180</td>\n",
              "      <td>221900.0</td>\n",
              "    </tr>\n",
              "    <tr>\n",
              "      <th>1</th>\n",
              "      <td>2570</td>\n",
              "      <td>538000.0</td>\n",
              "    </tr>\n",
              "    <tr>\n",
              "      <th>2</th>\n",
              "      <td>770</td>\n",
              "      <td>180000.0</td>\n",
              "    </tr>\n",
              "    <tr>\n",
              "      <th>3</th>\n",
              "      <td>1960</td>\n",
              "      <td>604000.0</td>\n",
              "    </tr>\n",
              "    <tr>\n",
              "      <th>4</th>\n",
              "      <td>1680</td>\n",
              "      <td>510000.0</td>\n",
              "    </tr>\n",
              "  </tbody>\n",
              "</table>\n",
              "</div>"
            ],
            "text/plain": [
              "   sqft_living     price\n",
              "0         1180  221900.0\n",
              "1         2570  538000.0\n",
              "2          770  180000.0\n",
              "3         1960  604000.0\n",
              "4         1680  510000.0"
            ]
          },
          "metadata": {
            "tags": []
          },
          "execution_count": 22
        }
      ]
    },
    {
      "cell_type": "code",
      "metadata": {
        "id": "Hkdl2i_HsaJS"
      },
      "source": [
        "# Here we are just taking the FIRST column as the X\n",
        "X = house_df.iloc[:, :1].values"
      ],
      "execution_count": 23,
      "outputs": []
    },
    {
      "cell_type": "code",
      "metadata": {
        "id": "6SslpzMytHGf"
      },
      "source": [
        "y = house_df.iloc[:, -1].values"
      ],
      "execution_count": 24,
      "outputs": []
    },
    {
      "cell_type": "code",
      "metadata": {
        "id": "SZJyOhoTtOf-"
      },
      "source": [
        "from sklearn.model_selection import train_test_split\n",
        "X_train, X_test, y_train, y_test = train_test_split(X, y, test_size = 0.25, random_state = 5)"
      ],
      "execution_count": 25,
      "outputs": []
    },
    {
      "cell_type": "code",
      "metadata": {
        "colab": {
          "base_uri": "https://localhost:8080/"
        },
        "id": "QZYhVs2_wDbk",
        "outputId": "2e993b43-47da-4590-be01-3cb73ea7174d"
      },
      "source": [
        "from sklearn.linear_model import LinearRegression\n",
        "simple_lr= LinearRegression()\n",
        "simple_lr.fit(X_train, y_train)\n"
      ],
      "execution_count": 26,
      "outputs": [
        {
          "output_type": "execute_result",
          "data": {
            "text/plain": [
              "LinearRegression(copy_X=True, fit_intercept=True, n_jobs=None, normalize=False)"
            ]
          },
          "metadata": {
            "tags": []
          },
          "execution_count": 26
        }
      ]
    },
    {
      "cell_type": "code",
      "metadata": {
        "id": "b1QVrBdHwTor"
      },
      "source": [
        "y_pred = simple_lr.predict(X_test)\n"
      ],
      "execution_count": 27,
      "outputs": []
    },
    {
      "cell_type": "code",
      "metadata": {
        "colab": {
          "base_uri": "https://localhost:8080/",
          "height": 294
        },
        "id": "5RIollgZwa_i",
        "outputId": "db82d0fb-65b6-414b-9017-f3afdaff633e"
      },
      "source": [
        "plt.scatter(X_train, y_train, color = 'r')\n",
        "plt.plot(X_train, simple_lr.predict(X_train), color = 'b')\n",
        "plt.title('Sqft Living vs Price for Training')\n",
        "plt.xlabel('Square feet')\n",
        "plt.ylabel('House Price')\n",
        "plt.show()"
      ],
      "execution_count": 28,
      "outputs": [
        {
          "output_type": "display_data",
          "data": {
            "image/png": "[encoded data removed]",
            "text/plain": [
              "<Figure size 432x288 with 1 Axes>"
            ]
          },
          "metadata": {
            "tags": [],
            "needs_background": "light"
          }
        }
      ]
    },
    {
      "cell_type": "code",
      "metadata": {
        "colab": {
          "base_uri": "https://localhost:8080/",
          "height": 311
        },
        "id": "m80qjWNcwust",
        "outputId": "b701eace-e829-4bf5-a8eb-892abddce93e"
      },
      "source": [
        "plt.scatter(X_test, y_test, color = 'r')\n",
        "plt.plot(X_train, simple_lr.predict(X_train), color = 'b')\n",
        "plt.title('Sqft Living vs Price for Test')\n",
        "plt.xlabel('Square feet')\n",
        "plt.ylabel('House Price')"
      ],
      "execution_count": 29,
      "outputs": [
        {
          "output_type": "execute_result",
          "data": {
            "text/plain": [
              "Text(0, 0.5, 'House Price')"
            ]
          },
          "metadata": {
            "tags": []
          },
          "execution_count": 29
        },
        {
          "output_type": "display_data",
          "data": {
            "image/png": "[encoded data removed]",
            "text/plain": [
              "<Figure size 432x288 with 1 Axes>"
            ]
          },
          "metadata": {
            "tags": [],
            "needs_background": "light"
          }
        }
      ]
    },
    {
      "cell_type": "code",
      "metadata": {
        "colab": {
          "base_uri": "https://localhost:8080/"
        },
        "id": "GQFzG2AfyI14",
        "outputId": "46434b5c-cced-4d3b-c1fd-d6d38f446079"
      },
      "source": [
        "# Now let’s figure out how good or how bad we are doing in the predictions. We will calculate the MSE and R2.\n",
        "from sklearn.metrics import mean_squared_error\n",
        "from math import sqrt\n",
        "rmse = sqrt(mean_squared_error(y_test, y_pred))\n",
        "from sklearn.metrics import r2_score\n",
        "r2 = r2_score(y_test, y_pred)\n",
        "adj_r2 = 1 - float(len(y)-1)/(len(y)-len(simple_lr.coef_)-1)*(1 - r2)\n",
        "rmse, r2, adj_r2, simple_lr.coef_, simple_lr.intercept_\n"
      ],
      "execution_count": 30,
      "outputs": [
        {
          "output_type": "execute_result",
          "data": {
            "text/plain": [
              "(257125.13804007217,\n",
              " 0.5020612063135523,\n",
              " 0.5020381653254589,\n",
              " array([281.4054356]),\n",
              " -45441.30813530844)"
            ]
          },
          "metadata": {
            "tags": []
          },
          "execution_count": 30
        }
      ]
    },
    {
      "cell_type": "code",
      "metadata": {
        "colab": {
          "base_uri": "https://localhost:8080/"
        },
        "id": "dfVNM6NMy10N",
        "outputId": "37b7f9da-0b74-4b3f-db7c-dfc53d3731e4"
      },
      "source": [
        "import numpy as np\n",
        "x_unseen=np.array([1500]).reshape(1,1)\n",
        "simple_lr.predict(x_unseen)"
      ],
      "execution_count": 31,
      "outputs": [
        {
          "output_type": "execute_result",
          "data": {
            "text/plain": [
              "array([376666.84526037])"
            ]
          },
          "metadata": {
            "tags": []
          },
          "execution_count": 31
        }
      ]
    },
    {
      "cell_type": "markdown",
      "metadata": {
        "id": "gglfUcs4zqtL"
      },
      "source": [
        "## **Multiple linear regression or multiple regression** can be said as an extension of simple linear regression where instead of one independent variable we have more than one ***independent variable.*** For example, Figure 2-11 shows the representation of more than one variable of a similar dataset in the vector-space diagram:"
      ]
    },
    {
      "cell_type": "markdown",
      "metadata": {
        "id": "zKQzfLE58-Yx"
      },
      "source": [
        "![image.png](data:image/png;base64,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)"
      ]
    },
    {
      "cell_type": "markdown",
      "metadata": {
        "id": "JMf-rRVF9Uw4"
      },
      "source": [
        "![image.png](data:image/png;base64,iVBORw0KGgoAAAANSUhEUgAAArwAAAHXCAYAAABeYYlHAAAgAElEQVR4Aey9d5Acx5Xn32Pa98zADwjQQPQeGAeCoCgR4wBaACRFT2nNXWxs3N3e7U+72qUkGgGglyNFB4Kw9BRllt5LJEWZWO0/9/9FXJy0cjQgQA/3fvHJwXdQaPTM9Mx093QPXkZUV3Vl5suX36yq/Narl5kx8+AIOAKOgCPgCDgCjoAj4AhMYgRik7huXjVHwBFwBBwBR8ARcAQcAUfAnPD6ReAIOAKOgCPgCDgCjoAjMKkRcMJboubds2ePsXlwBBwBR8ARcAQcAUfAEaguBGI7d+600WzVpf7k02bXrl322WefhY3jkcLu3bstmoe2hHhz/mAg4Krjjh07AmbsdW4k7ArFR7EsBv9CMvycI+AIOAKOgCPgCFQXAm7hHWd7QK4++eQTe//9923btm326aefBokQTrZyh3xyx3+2g4Xwgm8UA46dqJb7qnP5joAj4Ag4Ao5AbSEQu/322y263XbbbRbdFHfLLbfYHXfcEaxotVXF8mmLNZXw/e9/36ZPnx42jglYaaNELJwc5kfk+M0337RVq1aFjWOC4vKz6zzpvvWtb4VNeWTpzc8zGf/zkgHuN954Y9jzAkIoN/6TEUuvkyPgCDgCjoAjMBkRiMViMcvf6urqTBtxHLNvbm4OVkyAGA2ZmIzAUScR3ptuumkQQ46jccXWnU/xhBtuuGFQFscExYU/kR+dv/766w/IAwmc7G2k+mFdb2lpCRiw37p1a0BJ8RHIhjwUlqPBf0hhHuEIOAKOgCPgCDgCVYVA7JhjjjFtxx57rB1xxBE2e/ZsO+SQQ8JGHOc/97nPWVtbm23fvj1UQNZF/kAstHFex9E9n5n5H40nL/+JY5NVUmnYjxRIow35+UFx0X1Uj2i5UX11HM3HcfS8LIlYF6dNmxYsvN/73veCChAopWUvOdRR9eUcgXi5QmBRz2QyYeOYIGtxVA7HImnf/va3LZ1OhzwcE4YrX7qo/JBhiB/Kyd/Qn7yc17H+c45j4Zp/Pr8YpVV65dc+P73Ok56NgCsJ1yhtwPWqa1Rpo/ux4K8Xm3xd/L8j4Ag4Ao6AI+AI1AYCMcgB23vvvRc0XrNmjTU0NNiMGTNs3rx59oc//ME+/PDD4KP60UcfBZKjqkEk2PKDCIbITjReebQvRCY4x1ZIdlRW/vFI6aNlFioXeRBPxSl9tBxIFvWKBsgl2LCJhEoX9hDWQiFaTxFe3Eni8XjYcCMhSB/J4D86qKxbb711MA/5CYoj3XDlS0/Jzt+Tny2arlCdOJevV1QWcVEZxClPNB3HpB0qPbooSB4W3SOPPNKamprCi1mU8KoM5OWHaDmF8BeWhfLmy/L/joAj4Ag4Ao6AI1C9CAwOWlOnDsmqr6+3mTNnHkAeIAVY0z744IP9yAukgnMQDQ3c4pyIEpZQzvPpmWOREOIhYxDq//zP/7Rf/OIXgXDKcioL3lDwEf+Xv/wllA3pUT6ll16UzSZ9iKcuENTf//739tZbb4X/pCEPQcSKverFnjLZ/u///b8mf1lkUYd8wossbdSdulIWdSW9SBZpREoLkdd333036K96kB69RGoL5SFOZbNHN8otVFfhVWgvzNCVOqgenOccbfb//t//C/I5J+woH3x+97vf2ccffzyIp8qQbsKu2PZHFu1MubQduIELXyAKEV7pRB7KKoQ/aYbDX/eGdPd9ZRHgWmKjHdiP9FyorHZemiPgCDgCjkAtIBAT8aAjIeQTXggOAQvwUUcdZXPnzrVTTjklkMwQYRaOOQfpwIdSn/UhJwT+M6iLT87f+c53wjl1XJdffrnNmTPHDj30UJs6daoddthhdt5559kvf/nLkG6ozg29CX/1V38VXC+mTJkSBixxTnWBhKMX8ufPnx/IGvHIpgzKJA6dsRDyOZz6y0JIWsiUZJx66qnBP/Sv//qvQ31w/yD84Ac/CLpTP9VdBAqiiUy5i6An5VLP888/f7CeSi8LbyKRsJtvvtn+x//4H5bL5YJuRx99dMj34osvhnIhcIShCC9xEGvKP/7440NdKZ92Qh/kE08QnuFP5EdYUi/qx4sQg8PWr18fvgBw7vDDDw/bSy+9FOQQD56KA6fnn38+SIVcqiza9oorrii6/Umv62XWrFnW2toayvnJT35iJ554omWz2VA32p0gokp7gzWYc42BPzpz7le/+lVIKyyFP1Z2t/AGaGr6h2uG64BN1120QoobKj6a1o8dAUfAEXAEaheBAyy8dPKy8OLSAOFTuPjii4O7A2Th7bff1ml75513AhGG4DC4jVkGCCK8/GfgW2Nj4yDhhQheeuml4TxEBSINoYaQQDYgea+//nqQU6gz4hwBAo0LBjozUwFBJE16IR+CBJGFDEFyNQgPErty5crgAyv9v/vd7wY5dJDkob74yEIUzz333MEBYuhKwNdWg/wglwTVHVJJWVgfIf2UBflMpVIBD+oN6RSxh7wiCx9qyCVlQB7BgzzsIWzUTR14lPByHC0ffSg/mUyGci+66KJwrEFe0UF2khcE7P0RzpJDHdCNNkIPMGMwI7rxUvH1r389lCfCi/74JIOhyDWklzYqtv1FRjU4EHcb9OAFADyoCzqJzOsljSpwrPamDS+88MKAAy8UXI/E8TInS7AT3mjrT/zxp59+YrfddqutWvUtu+mmG+2aa/7VXn/950GxXbsOdFMZSWOucb105V/vugdHkuHxjoAj4Ag4ArWHwAGEF8IEeZQPL4RXHQHEFZIAuREppMqQTs6LdBx33HGDI+UhHFgTIUUQ6D/+8Y8BJQZXQcQgTFj5IKKU8+yzzwYCQxlYYQnqoMKfvT/qrHBpQC6EknLQV+QFqyREjziIHoEBZsjG2ofVUXV77rnnAimGQCkt6SG8Im9ggjyI2n333WdXXnllIJ2UA4Fik1UQHSB4J510UiBlWCYh+XxaZ/vSl74U9ELmK6+8srdWFvKL8GLBlDWXT/F9fX2DLwRR/AsRXgS++uqrwQpK/dFVhPOFF14IRA/SiFVb54XpoDIRKyn1kl6QWIg8VumXX345DHKkHrxUQIKx9BKefvrp8KLAIEjyROup9uf8SO2PLNw6ILjoDIFGNgEL7Re/+MVg3SWOlxIRXtoA2aSnvak3gXagPUjPdSurPHFRLNWWIv0hs/9UBAFdi9u2bQ3PDp4V3F/sr7/+uqDDZ58NfEEaSiFeqrhPeVHiGaUvN2pPrgPannieC3pJHUqen3cEHAFHwBGoXQSKIryqHuQGEgbxkSWTOEgCHRFWPEgEe5EOCCiEFCIJEdbnZqzFkEfIJGSGoE4OMkgc1s8//elPIY5OSvHRtJA15ELqIDtRwgtBxxIZtf5CjtAVokVayaIzJD/EHOKuQXyk4TyEjg6XuhIgU3SYhKhVUPGch5RRFpumGFP9SYe8qG7k0XniZCmHIBPonGX9hpSLrJOH82zR8slP2VjOeTEgqHys4XqxgRgTRATCn70/OodcyCE40z7R9Ax0pGx0lpVd+UTsKUsYgJ3aGGyHa398ewkQZCz5tI/KV/1fe+218OJEmyJP1x5tyDUEBsJS5B48SIvOXIvoRIhi6YQ3QDIhP7rXt2591+bMmW2ZTMqmT58a2vLmm28MOu3YMeDSU0hBXX//+I//GPJwDeglUV8MuLf5KkAcXwmiz4NCMv2cI+AIOAKOQO0iMCLhlVWEKjIwDAseHQQkhwBRuOyyy8K5f/mXf7H29vZg1YMcE9jzaT5K7CAbfEqGvEDGRFDUEUGm8y3JxKkTDIIjBA0yg3zKUbmQHYgwJIhOTdZF/EuRD7ER+UEeLgL4mkLo0En1Zg8p5zzEXeQMEiq/2yhJ4lgBSydz5EL0IGUE5UFnyBabph8jXuQZwq8OWnlkzdYnfJFY6pNPeCGDtAvyo/WRuwflEAeJFElVOdKfvYiD9IqSauFXKC76MkBbUhbpCMW2Py4IwiZKqvWyhb5cE1w/WH9pI9pK8/DS5liXeUFT2ap//guOsIy2pfIIgyguflxeBHSvY+GdNYuXzUZrbs6F58zq1QOuS599NvAiWEgTvQz97Gc/Cy+wXH966dFzhmcFXyV4bvAlRtezyi4k1885Ao6AI+AI1CYCRRNedQKXXHJJIFeQSUgN5AKLKKQGUnLmmWeGTukb3/hGQASfTkgVbgT6dEweSBgEhbwiKCJcfC6ng0KmyI2IShRmERGIIQQxakWEwMrVAZ/ZQp0ZnzAhrv/xH/8R3Ccg4LhYYPkrRHghUzoPHtIJkoS+kMGovsIMnTnGugo5Q19eHOhsIWNRkgzJ4oUCAkcdCLI+kl/km3jhFiW8Kh8fa7mYYOUEU/BH/r333hvcNrDGR91ThH8hjMknUq0y9Ak4Wn/VRXGUq3yKi7Y/hFT1UPnR9l+9enVQh8/OkqPyhT8vIdSV9qPtZJ3XIhK8IOA7zedtCDQ4IIPrAwy4PpQHHVWOE97olVDZY907IrzxONb9AcK7Zs3AGAG1fyHNlJ97hmcVfvx6DogM6ytHlAzrmVJIpp9zBBwBR8ARqF0Eiia86lwgChAyiBckEmKDZRTCATGDzBEvshBNr4FufDqE8EIssEISyKsyCpEO4tSJCW79Ry7kBXn63M1nelmWZdmBUNHZ4Ud85513hrSQTjo8XC4gX5AjZInYshfJjBJhylbnGNVXpI6y2EiHH+4111wTZhLA4swLAGXlWx+pF7iBX3QBBRFedEEHWTJF0sBYJI1jAnHojXUbUgexRm50o978l6uBCKfwZa86Rgmv2lakNlr/4eKEDboV2/5Y5AnsVUfJ4ZoQNrh4UB/kChd04SWIrwn48UbrzjFx7GlzvVxEsVRdhEEUFz8uLwK6t8dKeNFO7cb9TztzP8iSTzwv77wkcd2wbHo0T/jjP46AI+AIOAKTBoFRE17NigCJ+vWvf22/+c1vgvUEH1eCCC6DgggQUIgK00ZFSSSEjk5In6whW2MlvFhxTjjhhNB5QXIJGtEP0WFAigKuBVg8IZ3qBHE7YNAaFiBNbRXVVYSXPWURhiK8Ipwij1/+8peD9ZmysEIvX77cnnzyScMCjnUVbESskMsxacFHrh4idVELL7qI2EVJmsonDnIMmcOaLAsvLyS0IeVAIr/5zW8OzoYh/IUVe5EG0otwSt/xEN5i238kwiudo7hFceErAaQGCy+WbXyBsfCyRzZkiGtQ7VqIvAuDKC5+XF4ESkl4NVA16iYU/QLCuIQ///nPoUIqt7y1c+mOgCPgCDgClUagaMIr0kVHAdmClN11112BRHDMzAUELKtYFSFZLM6AtZR4WVlJI6sp5JKZFUQ25FsXJR0ixBCbQp2RCA8EknLQDV3Jx3+sexr4RtnM/ABxQ0dmLpCvqaynWHqjllzpKquqdB2K8Mr6SFn4kEJqeRmAZGv2AuKiBDKaR8QtiouwxzJO/dBlJJcGSJ/cRsgT1Zvy8wP1UTnROJG9qL4cE8ZDeNGpmPaHqBOGsvDqmmDgGe2ab+HFesd5Yaz6BKGRH11H0WtP9RwqTyS7H5YYAbXreCy8kgGZ1eBF+atzjmsFEqyvTEpf4qq4OEfAEXAEHIEqQGDUhBc3BgZ4QCZZfICNY5EDPg1D8OhMWIFLaWVlpVPBcqkBYhBi+XCK8EZ9ONVBFRq0Bn7yx8NyK/cEyNEZZ5wR9FJnRlrKoePD6olfnyyBED38QNEFayBkTCO2x0N40R2yxeAr4SNfYizQ+WQMHUmXPwBPZAzcIOPoiAuJXESw6kqWCKIsWKSlXvynnprxgReT6667Llh4f/5zzWu664BLUmQPvagLm+oyVsLLNVJs+2OBJuDLS9nUU+RVuNB2uIeo7eSegKsGFl5IjSzFvOBwzYAlL0W8iCFPLwROeA+4BCbkhMjneAmv5PBCzvXDlwUCLk1cFyMN2pyQynuhjoAj4Ag4AiVHoGjCS8ch8sPgNEgun+dZuIFjPhETICH4xtGRrFixIpCtKDkjDSQSFwcslbKmIl9kECKCzynEOTplljqvKAo6B3mFzEIW//mf/9kWLlwY9JJlGZJDuRBd9MWNgQDRQQZx6CILr0jTeAgvrgOUBYH+wx/+EIgW8gjUUQRSJJXzIq/UQ7qLfEPqwQQ3DTpwWWSjJE0uDcTJrxVrsMoV4dWALvQTGZQbRlBw74/avJSEF4JaTPvjnqJ5iMELazmEVzOEcL3QdrQhREZWeL1AYWEHL64l8hP04kQarPzUnxcldCJEsRSxFwYhgf9UBAHd1+MhvCiql2juJdqaKRN5FnDP6RmjmV28nSvStF6II+AIOAITgsCYCC8+kFjOIAwQRAgdBDFKwOhMiIeEQDJlQROpkgsC/nPRZWfpjETU8KlVPmSrE4wixXmVCwnEmqoZEJhxQZ0ZebDqYe2UTrLwEgexIr3mchXJHA/hhXyCU9TCS/3QlzqiBy8GkCwFjjlHHJ/pSU8gzznnnBPcAOi4ZfkmrhBJ4zz+upQPxlp0QVhh+aYMsJKlWGWFAvf+iASUkvAiutj2F1HnEzTuKVjnIbf5bYd7BO1H+9LOBPJyDUGSwVvYE8d0VbwggY9efjhfCEthEIT6T0UQ0L0+XsKrrwA8B7g+sOrydWXx4sXhWDM3UCmVWZEKeiGOgCPgCDgCFUXgAMKLpZZOgU/EEAsRTjoDdQiMdNbMDJApiAMWM8VDtCAZWBaxYoqc0fmIPLBsMJ+g2SBdWBnxCYbkQcSilkfyQdQkP4oQ50SiKQfLqAiv9FJ6LILoxIA7iBMk6J577glWVeqBNRBrH1YgLIKUSR5woLPMx0N1ATNILZZXWRIpUzNWgCV48Vn+/vvvD5ZvMEZPCPbZZ59tv/3tb4OaEEtIGNZmLJrouGHDhmBNRz6y0FPzCpMpWr4s7ZA7SCErjEEGsZaSB6zo8JEDxhpcSF1FhoUX+2gdKZ9NZciloVD5igMP5YtiM9r2Rxf8r8GEtmAw5N133x0wxd+5v78/tCnHEF3VRYMXwQCSDy4Mtuzp6QmyeCnTEtbCMl9fYRDFxY/Li4Du9fESXl0HXBMnn3xyuOa/9rWvDX4B0rPJ27i87enSHQFHwBGYaAQGCa8sIfrUDXGEjMrSSQekTggyA1mDMLFheSTIQgghhrRi5SUeizCBMpChdFhdKIN0Sku55BE5IZ/KDULyfqLyGBRGXghjVC+yqEODnBEHAYKkqty///u/D0SOOM6hP50kGzpyHpIcxUOYYSEknk1TfFFHPpMzewTyVE/Jeeqpp8KAPeVjvmICPqucg5hfe+214Zj8kDC9CECkCRpwV6h8EU5ILnqrXMg8FmT+F4OxXiZ0XZBPdZQLSqHy9aJUKJ/cKoptf7UdxJQvCuDBCwN79PmHf/iH8MLEMWRYFl5dG9STOOpN/YUHbaIvANKpkL5q5wC6/1QEAd3z4yW8yJFbg74qcA3wtYDrQfeSXF0qUjkvxBFwBBwBR6DiCAwSXllC3nzzzWCR5dMuRFWER5opHb61WCwhCL/4xS9CtIgsnQd5sa6xF0kkng6ITSSCT8uQvPnz54dOCP9fLL1R0qKyC+2RJZ1ULrqjF3UhKJ60BPS94IILgqWUmRrWrl0bLNmQRPxu8e/7wQ9+EDpKyVRdonhIrjDDWqQyRdKwsmK1xe0DCxNpqDMBMopvITgqH6QOoov1kheHdevWhdkksNCi81tvvRXyIl94D1W+4hmUBsYMIMS6jesHlm21i3AJgvN+VA8wQ3c2tbewKFR+NI46sqmOyCy2/cGYTXpQF4gLPsB8jgZb9H/jjTfCIDwGI9FmBLUP1xJ4cm1Rf3BgwJ7aAV0kHx3z9ZWcPGj8bxkR0DVZCsKrtsUHnvZn48sKX3U0HRlpVGYZq+WiHQFHwBFwBCYIgUHCq/JHeujT+een0TmdzycInNdGnIivOiLKxpIKMRFZURrpNdQ+Ki8/j/SK5pWOWPRww1B56BLVm3T8LySjkDydi9ZTZbGHXLLpnMio8rHPL0tp0RFsRCI5r7Tso4G4aLww5hwYo4PqnI9XVI6Oo7IKnRupfOXRnvQqV7oRN1T7U77SRzEjPRtB8RwrfYjI+0+9qb/ykQYdlCe/LpLh+8ojQJsQSkF41a68fMoliC8mvPgRKEvlhRP+4wg4Ao6AIzDpEDiA8EIeIAaQK1nh8mtN5wBRIJ50IiLRjkNxxKszUTwdkM6RV0SOclS+4vPLzv9POsnjWHpRvvSK5iEtaRSn8jnPRj5tyGPTf/b5gTySQT1EoDgv3aL1i6YplE/nKEv6cI7AnvPSi/iRyicfOrEpkAc9kDNSIC2B/FwXbJI1UvnkU30oj2NhorIVLz34TxmKHym98JAc/Zc89shAJmkUpI/iqQvpJCcarzy+rxwCav9SEV5dx1dffXVwDcJ1iq8VhGLvhcrV3ktyBBwBR8ARKDUCBxDeUhdQrDw6OG3F5hlvukqWN96yyD/eMF4dxlv+cPmlW7H1VPrhZObHKU+xZeTn9/+VQ0BtNF7CC9HlJYgXHgIrHzLwEbcG+W9HX4QqV0MvyRFwBBwBR6CSCFQN4a1kpb0sR8ARqG4ESkl4Zd3FJx6/XQZ/MuOKBl2qrOpGxLVzBBwBR8ARGA8CTnjHg57ndQQcgbIgIBI6Xgsvll0GzjKYkUGLTOnHlIlaoEXuOWWphAt1BBwBR8ARqBoEnPBWTVO4Io6AIyAExkt4lZ/BnppWkIFqTFnIlGScJyidyvW9I+AIOAKOwOREwAnv5GxXr5UjUNMIiIiO1cKr/MzIsWDBgjCvNYuwsHjJL3/5y4CN++7W9CXiyjsCjoAjMCoEnPCOCi5P7Ag4ApVAQIR1rIRXOuK/C+nVtIDMyECA7KoMpfW9I+AIOAKOwORFwAnv5G1br5kjULMIiIyOl/BKjoCA6OK3y/n8OKXxvSPgCDgCjsDkQ8AJ7+RrU6+RI1DzCIiMjpfwYuGNbiK62tc8UF4BR8ARcAQcgaIQcMJbFEyeyBFwBCqJQKkIbyV19rIcAUfAEXAEqhcBJ7zV2zaumSNw0CLghPegbXqvuCPgCDgCZUHACW9ZYHWhjoAjMB4EnPCOBz3P6wg4Ao6AI5CPgBPefET8vyPgCEw4Ak54J7wJXAFHwBFwBCYVAk54J1VzemUcgcmBgBPeydGOXgtHwBFwBKoFASe81dISrocj4AgMIuCEdxAKP3AEHAFHwBEoAQJOeEsAootwBByB0iLghLe0eLo0R8ARcAQOdgSc8B7sV4DX3xGoQgSc8FZho7hKjoAj4AjUMAJOeGu48Vx1R2CyIuCEd7K2rNfLEXAEHIGJQcAJ78Tg7qU6Ao7AMAg44R0GHI9yBBwBR8ARGDUCTnhHDZlncAQcgXIj4IS33Ai7fEfAEXAEDi4EnPAeXO3ttXUEagIBJ7w10UyupCPgCDgCNYOAE96aaSpX1BE4eBBwwnvwtLXX1BFwBByBSiDghLcSKHsZjoAjMCoEnPCOCi5P7Ag4Ao6AIzACAk54RwDIox0BR6DyCDjhrTzmXqIj4Ag4ApMZASe8k7l1vW6OQI0i4IS3RhvO1XYEHAFHoEoRcMJbpQ3jajkCBzMCTngP5tb3ujsCjoAjUHoEnPCWHlOX6Ag4AuNEwAnvOAH07I6AI+AIOAL7IeCEdz84/I8j4AhUAwJOeKuhFVwHR8ARcAQmDwJOeCdPW3pNHIFJg4AT3knTlF4RR8ARcASqAgEnvFXRDK6EI+AIRBFwwhtFw48dAUfAEXAExouAE97xIuj5HQFHoOQIOOEtOaQu0BFwBByBgxoBJ7wHdfN75R2B6kTACW91totr5Qg4Ao5ArSLghLdWW871dgQmMQJOeCdx41aoart27bIdO3aEjeNaD5OtPuVoDzDauXNn2CZDm5cDo4NZphPeg7n1ve6OQJUi4IS3OhuGdmH77LPPbPfu3VWnJLqhVyGyw3k21aHqlC+g0GSrT4EqjuuU2lT7fGE6X0ttnl8H/186BJzwlg5Ll+QIOAIlQoAOirBt21abNWuGxeMN1tycs1gsZmvWrApxWO88VBYB2gULWrUSCIiuyO6LL75o119/va1evdpee+21AFSUAFUWubGVNtnqMzYUhs5Fe4IR1yThpZdesuuuu26/NheGeqYMLc1jJjsCTngnewt7/RyBGkRAnZMT3uppPLXJRx99ZHfddZdt27YtKKfzE60perBBflauXGlTp061KVOmWDKZtHg8bldffXVwbyANJKha9B4Kt8lWn6HqOZ7zEF4CbX7RRReF9qbNE4lE2K666qr92nw8ZXne2kfACW/tt6HXwBGYdAiIjDjhrZ6mFbn4+c9/Hiztt912W1BO1rWJ1FTXC/vly5fb0qVL7eOPPw4qvfrqq3bEEUcEnW+66aZw7tNPP61qwlvO+iBbW36b6bz2+fHV9B8dCexXrFhhfX19xssY/2nzww8/PLT5LbfcEtLR5sWGkeo/Unyx5Xi6yiLghLeyeHtpjoAjUAQCdCgEJ7xFgFWhJCK8F1xwgdXV1dnRRx9tW7duDaVPpMWUa0XuLWvWrAkk5/333w966fw3v/nNcP7EE0+0Dz74IMTpGis1fCJDY5VfzvqoDVVn/ktP9vnxSlfKvcphHz0ebRl60VKb64uD2vzaa68NbX7SSSeNq82jmKAv13p+4LyH6kfACW/1t5Fr6AgcdAioA3HCWx1Nr07+hRdesGw2a7/4xS+CRe2aa64JCjKITW1WaY1FSLDuzZkzxy688MKgAjqL/LzyyivW3NwcLL0iw+XQtxQyy1kfMIEYsm3fvn1wEB+AUS5WUPAh/pNPPil5U4IP5aiOKpf/o8FOadHxkEMO2a/NRYTV5lh6RYaVb6iKER/FiHzSjTiOKVMYcc2pDkPJ9PPVg4AT3uppC9fEEXAE9iKgjskJ78RfElFygqvAk08+GZTiszH+kq+//nr4D7lUu1VKa8oTwcHaDBm/+eabQ/HRmSQgLhCfI4880q74icQAACAASURBVD788MMQXy5dkYsVGUI52jLKVR/pAUFra2uzww47LOChwXzC8MorrwwvDfg/33333QEnxZWiTbmWtIGPSLfOFVuG6gPxpM3lqsI1qJcz4nBloc2LsepLJtdHIYz08hTF6Ac/+EFQeSKu/WKx8nT7EHDCuw8LP3IEHIEqQUCdjxPeKmkQM3v33XcHya38IX/5y1/a73//+6Ck2mw4jUkz2m0kedLlzjvvDJ+wb7/99pCF87JSvvHGGyFOZLgcBEX1h1ydcMIJYRstuUZGueoj4nrjjTdaQ0NDwOMb3/jGILwvv/xyGODHS8y8efPsnXfeCXGq12DCcRzo5SmKkcio4ooRr7oweJKZW9TmtGt+m8uHV4R1OPmSC4FubGw8ACNmgWAQJBhBpoURupcSp+F09LixI+CEd+zYeU5HwBEoEwLqPJzwlgngEcQKf0guhBbixgY5+T//5/8EKx0E4u233w6Dw7Cg/u53v7P33nsvSB6txW4EdQZJcqF0IjLf/va3A0H57ne/G5Jh4VXo6emxc845Z3B2BqyAIinaU2dtOqf8xeyFGRjhWsEmMqe4YuSMpz758qP1oU4E2ujYY48NLh7HHXdceJHh/HnnnRfOQSBFEkUAJVfytNf5YvfCAVxwRWAbC0bSa7g27+7uHmxz9FP9pftQe9KC0THHHBOI7VAY6eUp6s6DzLFcO8Xi5+nGh4AT3vHh57kdAUegDAioY3TCWwZwixApcvC///f/ti996Us2ffr0YPVbsGCBrV27NvjGQjqwqjJ4DXeBK664wkhPIE5tqOL4L9IMySlmg0hj8SRvvjzkck4EEaILWfvOd74Tivzzn/8cPsufe+65tmTJkkHLqXSTTPacg7iwReOlezF76Ue9wINttGRuvPXJ1xPsIPeqq7DCgsnAQ6Zrw3Xht7/9rWUymeAeAPGNvhBEZXJdgJHcBqJxxRyXAiPKoY0Ihdr8nnvuMdr8rLPOCrqSjnpHcSA/2HCeLYoT9SMIIyy9WJL//d//3dLpdMAJ+WDBJrnRawh50jEI85+qQMAJb1U0gyvhCDgCUQTUMTrhjaJS2WO1AR030z5BJtkTFMfUXy0tLWGBB86r8ydeabSH/PGpH8snZBA/0uG2z33uc4FciMAWIhDIFokT+dF0afrP5/sZM2aEgU1vvfVW0F96irCEk5Ef4okbKZAGvdjQA33wJaZehx56aBjchAzilK5QPVTOeOsjOfl79NRGGdQPYgs2J598smENbWpqslwuFxZvkM75cshLYK/j/DT5/4fDCJzAC1nFYoR8Yag2Vpt///vfD9ep2py5ed98882gUrTN0Sk/qM2JQx/2YFRfX2+nnHLKfhjh/kFQm5O3UChUTqF0fq4yCDjhrQzOXooj4AiMAgF1pk54RwFaGZJiqSKISEDi/vM//3OwJI6POuoo++Mf/xjOQUREFpRIbTlewgu5yA/I1nmRHxFkysPHct26dcZUahB2yDl+mARIivL+7Gc/sxtuuCFsHBNEqsKfIn6i9RThLaWFt5j6QLBEwhigxpRdInzUh3jVC9KGxZIBamz4pkLwCCKHHJMHqyf1w0KPTA1UHC2hy8cInEaLETqpDmpz9gT0w83m/vvvD/Mx0+b426rNlY8yv/e97xn+zNSHY+mBHBFYMEqlUjZt2rQgh2NhRN2pjzDguvnWt74V3EG4lnQdKT4o6D8TioAT3gmF3wt3BByBQgioY3TCWwidyp1TZw2JYA5bPoNDfhXo2D//+c+HvyIJisvfizBBLIrdGGkv0q1rIiqXcyKt+eQHcqM87FmQAv2xLsvXGFlf/vKXw6pcWDeZugzix7nhgnBhejYwgGRjZWTwFARK/qkQKuI4j78pfp/gpzrllzHW+mg+ZPKL1FEuhI+llQnghN6kUVux+hwkDqs7xDA6a4PSFpJJHSUzHBT4yceI+oMRe/LPnj07bBwrjnj8h8FIg88KiB6s40htzheJ/DYH+8svv3zwBYiXIHC67LLLBok+GEYx4sWANoX4CiPilQZCjRzcH0iDqwgWc6ZGI5AOHD1MLAJOeCcWfy/dEXAECiCgzsEJbwFwKngK0iJCed111wVicOmllw5qcP7559tTTz0V/otoDUYWOKBdR7NBFKLEK18ksqRfPvkRwRNxwuI2a9as8BkfgkXAggfZoU5YMclzySWXhHP6bC1SEy1bZUJ2yQ/BYc8GwcKFgo3j6HmOIdX4JhN0nUv2eOvDVHEssgHJxSWEz/GqK+0jLFUniD1kbubMmSG99CKd2pOV9VjEQTJxF4jKlO75e2F0/fXXH4AROOAXziZ82AsvMOJlh5CPEeekW6E2J71eKCCnanO5PSgP7g7oSLuzBDHlE0fgnDAibiiMSIslna8cXAPMU03g2uEFCgu25uqVvJDAfyYEASe8EwK7F+oIOALDIaBOzgnvcCiVPw7io44aMgURaW1tDX6Xf/rTn4L/p4gJacsVkF1IfjEEUdcSejLyHmIjq6dW49KIe/Tn8zZpsM4SRNyidRPhYtAexBbfZAbvMfsBewgk5zmmTG3MCcscr8w/S5Bukj3W+qxatSqI4JM6ukMkIVsci+hRD+SrPSFlEDkskrg0YJ0UDhBGSB8BHCQTlxZI6a233hrihEP4k/ejuDvuuCNgcfzxxw9iBEEEIzaOhRs4gRGDI+VikI8RxUi2yKuIqs4rj2ZbQH/N1fuFL3wh1EduGciTHBF5vSS9+OKL+7l9QGqFkdI8++yzQR4vfwrozrRltIFeIoS70vi+8gg44a085l6iI+AIjICAOiwnvCMAVeZo2kFEk06cZVohD4899lgghn/3d38XNIAcqc2GUok0TNTP530+t4+0QTz53P2rX/0qiBSZicqnTBFSkZYo+YkSZaZYg4CivxYM4D+WOMi8Ap/USYNlb6QAMYRIQ2DZY83DnxliyMYx5yA9pGEPjuhdCK+x1gesCAwiFJmGmFGPKB7IV3tC0LAAM2iNaduYpQFrqHxPwZv0tJtIm7CJyhwJI4ihMEIOfrZ/+MMfAhmEEHLMOeK0UYdC+KgsXQuF2pw0yluozXk54EUFrHTtyP1DhFdkH4ywaGvQGotcgJHcGiiLa+erX/2qMSe1yqa+1I1rQNg54Q3wTOiPE94Jhd8LdwQcgUIIqMNywlsIncqfE8HQ52lIK9OQadU1kaNCmu1ry22D87zq0zWEbKhNbgKUSRAJiZaBbJEWkR9ZNElPvAgexAOrG4sqcAwRxXcVYiISimwN0OM8xIWgOkTLzj9WGmSRV3KLza90o60PrgvySUYHtZXwEDlFruKwSuJzCuHVlFsQXvyXZakUbuilfPkydT4fi6H+lwKjqD4QVK4ftTl1RG+RS9oZn23aHPJLQAfhJP25lpET9U9/7rnnwvXKtZqPUf7ANeRSpq5RXhr4GoLlGjKvcsOB/0wYAk54Jwx6L9gRcASGQkAdoxPeoRCq7HkRCCxbfP5mQA6DwAgQDDa12VCaQQYgDpAUiNNIG+QDC68sZyInUfmUmU8QRfBIj97SnQFmkBp92o5OHyarKLIZoAcRhiQVQ1bQgU0EEVkivJIrfJQ2Wofo8Vjqo0/s4EB+kS5ZLYWHcFK9sWyzqIJWC4PoYsGkbfmUT5Deypsvs1CbROvDserMvhQYIVPlSh/2Oj9cm1MP8Im6bDz//POB+NNmenFgz39hJLIM0RVGmvlBMoU79Vy5cuV+RJw41T0o6j8TgoAT3gmB3Qt1BByB4RCg0yA44R0OpcrFqT2wXjJbA8SRz8IEOnxIRrk6dBEl6RCtNedExmTtW7p0aXCD4FM6n63Zo/fixYvDlFLSU8SUz84ipsiWhRZrcDGEV/pIP/JgdS2WMCs/+7HUhzxs1CuaH6JLO4nwyucUnLA+MjsDA9wUIHCcZ4OwSR/2Ipj5MnVeMkbaox8BjMGIjWOC4sKfEX5ULl8aqOOyZctCm0NkaXM25J5++ulhEQrJZg9OugZwR8DSne/WAkYQfzCKLr8MRpwnjzAS7simXGa+QKcrr7wy4KYypcMIVfPoMiLghLeM4LpoR8ARGBsC6hyc8I4Nv3LkEslgZoJEIjFoGRSBUJsNVzYyRrNhGVO5IilR+ZQpwstAKj4/MxCKKbbwtWRFLCx1DJjCdxPSJz0huXPnzt3P9QDZWLEhfUxDNRaXBuRiBcRFQERaZUZ1L3Q8lvoghxcO8kbz55NT0rFMNGQNQsamabOEIRZMzoPjM888E1REttogX6bOF6pLoXNqQ2EETsJIcYXy5Z9TufltTturzRlISJtDQgnCiD3X1Ve+8pUwswJtHfXhZm5prh9hpLjhMEI+ZJiXJPIx7RnlEFSvYq+BkMl/yoKAE96ywOpCHQFHYDwIqHNwwjseFEubVx0+MxuwbCtB7VTakoqXVojgsVQuy8BCfiC0kB7cFAiQDxEQLLH4WGLdE/EjjWY6wFI3lgCZYhAZ5JDj0YTx1IdyCuVHD4Xf/OY3YVU8fF5xGcEiShAmLFLBDBZgIEyIE8EcL+HV9UK5uCGwSQfFSdfh9tJHLg3yseUlB3cU6iBXDfSXbF3DEGWIKUtOy2VGlmYwov75GInA4hrDNUUauTXgAsG1ht85bjjIIj0vWNJVGA9XL48rLwJOeMuLr0t3BByBMSCgDsoJ7xjAK1MWddz/9E//FOZlpRidK1ORI4rlOhGJySdj+F3KJQFBpNN1Jb01k4H8ekmnQWvDTUs2lGLIVxlDpRnu/FjrI5nD5Vedo2mjJIy80f9Kx1558zHW+Wja4Y4pQ5vS6T/7YoPKzdcH4hltc9JJrggr8wozbRvTof32t78NRUbrrfREcEw+9jqWnGg6Br0xm8P/+l//K8iLxnGM/Oi5Yuvp6UqLgBPe0uLp0hwBR6AECKhzcMJbAjBLIEKEAKsZVtHf/e53QaraqQRFjEkE5ecTXk3RpfNRtwgVIsJEWix9fN4mHZtW4Rpu4QnJyd+jD1hJVn78SP/HWh/JjeYXcWdPoM6QNSyqQ+lHvOJE7JSXfSGZQXiRP+jHhi7owSZSyvlig9ovn/BG21zXrGQqjxYLYYERlp3Wanj47WIpxgVCGOTrJ90phzgCXw+0sh5WYXRCFliNNOhSuvm+Mgg44a0Mzl6KI+AIjAIBdX5OeEcBWpmSqi0Qf8EFFxiDwgjR82UquiixIjkiP1oUgfOQHjZ0jeqrY0iQCC6+nPJv5dxYgsrRfiwyxlIflUO5yq8FI/It1aQRJsqnPXEK0WPJhMDxgsCeoPPKU8weuYW2YvIqjchrfptDVFW3qP46xl8YtwfqwJRs7Nk0TR4D0uS3DeGP6knZ0f+UReDrADI0jZ5k6v9w0+qpPr6vDAJOeCuDs5fiCDgCo0BAHZQT3lGAVoaksvLhi4j1is4834JahmKLFsl1IuIhf04Wx5A/pq6jQgIVR1qscRBDNlYG00CqQvnKeW489UEv8qvN3nrrLfva17426KMqkjgW/SGRhHyZOj8WmePJo7pgSeWapM3lyqB2LSQfqywkGVcWZnjgmOuGPf9ZkETX03BykK264/cMqSW/ZCGP+4QXg+EWTimko58rHwJOeMuHrUt2BByBMSKgzsYJ7xgBLFE2df6y7Gn1MMSrwy9RUWMSw3UiHfWpmtXTZKXTdTSUcOogghhNI+te9FwljsdbH/JTJ/bRunOu1O1VanmjwVeWZQ0wLLbNi9E5H7vh9Cr2OikH/sPp5XGFEXDCWxgXP+sIOAITiIA6aye8E9gIkcFKrBzFp2Att1stHTjXiax96MjMDMx/yypqBF1HQ6FIPHWBNEc3zo2UdyiZ4zk/3vqgt0gYeyya+l+K+kimMB9PXceTFz0Ir7/+us2YMSNMB1aMhZd8tDOEudCW77M7ko5qL2QVkltq/EfSx+OHR8AJ7/D4eKwj4AhMAALqnJ3wTgD4kSJpB20s00oHTpgoQhhRLRyiW1QXBtPxiVk65qfP/6+6DbXPT1/u/6Woj/CI1knnSqF/VG4p5I1XBnMLq83RbbgQ1b1Q2mj8cHIUF00PxvlB8aXEP78M/188Ak54i8fKUzoCjkCFEFBn5IS3QoCPUIw682ruuKtZtxHgLRg92epTsJLjPOkYjRPAgyy7E96DrMG9uo5ALSDghLf6WknWqurTbJ9G6AgJmixhstWnHO3iGJUD1ckp0wnv5GxXr5UjUNMI0IkR3MJb083oyjsCjoAjUDUIOOGtmqZwRRwBR0AIOOEVEr53BAojgCVbA68YRKZ7pnBqP+sIOAJOeP0acAQcgapDQJ23W3irrmlcoQlEgPtCfqu6R6TOZHLlUJ187wiUEgEnvKVE02U5Ao5ASRBQZ+6EtyRwupBJhICmBPv5z39uX//618PiBqwux+IgBN07k6jKXhVHoCQIOOEtCYwuxBFwBEqJgDptJ7ylRNVl1ToC3BeaGo7VvVhljGVxWRaZaeMIundqva6uvyNQagSc8JYaUZfnCDgC40ZAnbYT3nFD6QImEQLcFyxwQLjpppsC4YXszp07xwnvJGpnr0p5EHDCWx5cXaoj4AiMAwEnvOMAz7NOagQYqEbQcs+ZTMpaW2fatm3vh/O6dyY1CF45R2AMCDjhHQNonsURcATKi4A6bbfwlhdnl157CBQivLNmzXDCW3tN6RpXGAEnvBUG3ItzBByBkRFwwjsyRp7i4ETACe/B2e5e6/Ej4IR3/Bi6BEfAESgxAk54Swyoi5s0CIjwrl69Ovjw4tLgFt5J07xekTIi4IS3jOC6aEfAERgbAk54x4ab55rcCHBfiPBGfXid8E7udvfalQYBJ7ylwdGlOAKOQAkRcMJbQjBd1KRCQIT3uuuudQvvpGpZr0y5EXDCW26EXb4j4AiMGgEnvKOGzDMcBAjovvjggw/s0EMPtXi8wRKJRps9e5Zt3+7z8B4El4BXcRwIOOEdB3ie1RFwBMqDgDp2n6WhPPi61NpEYN99sc1mzJgRyG4yGbfp06fZ++9vDZVSmtqsoWvtCJQPASe85cPWJTsCjsAYEVCn7YR3jAB6tkmJwL77YluYezeVSgS3hvPOO2dS1tcr5QiUEgEnvKVE02U5Ao5ASRDY17FvDSPQ+XTb3JwLnfuaNatCGfJlLEmBLsQRqAEE9t0X28J9kc2m97sndu7cWQO1cBUdgYlBwAnvxODupToCjsAwCOzr2J3wDgOTRx1kCOy7LwYsvOl0MhDeG264LiCxY4cT3oPskvDqjgIBJ7yjAMuTOgKOQGUQ2NexO+GtDOJeSi0goPvi7bfftpkzp5sIr3/1qIXWcx0nGgEnvBPdAl6+I+AIHICAOnb34T0AGj9xECMgN57bbrstWHanTZsS9qtW3RBQcQvvQXxxeNVHRMAJ74gQeQJHwBGoNAJOeCuNuJdXCwiI8K5atWo/wnvbbbcE9Z3w1kIruo4ThYAT3olC3st1BByBIRFwwjskNB5xECMgwnvjjWsC4WVZYVwb3nnnzwEV3TcHMURedUdgSASc8A4JjUc4Ao7ARCGgjttdGiaqBbzcakRAszBcd911gfDiwzt7dqtt3/5+UFf3TTXq7jo5AhONgBPeiW4BL98RcAQOQEAdtxPeA6DxEwcpAron3n//PTv00DmDi05Mm+aLThykl4RXe5QIOOEdJWCe3BFwBMqPgDp3J7zlx9pLqA0EdE+wohpuDFp04vzzzw8VUHxt1Ma1dAQqj4AT3spj7iU6Ao7ACAio83bCOwJQHn3QILBr165Q15deeiFYd7UQCwPYCJ9++ulBg4VX1BEYCwJOeMeCmudxBByBsiLghLes8LrwGkRAA9ZuuOH6/WZouPnmm0NtFF+DVXOVHYGKIOCEtyIweyGOgCMwGgSc8I4GLU97MCCgAWvXX3/t4IC11taZ9s47b4fq7969+2CAwevoCIwZASe8Y4bOMzoCjkC5EHDCWy5kXW4tIqD7Yfv27WHAWjzeYMlk3KZPZ8DawAwNTnhrsWVd50oi4IS3kmh7WY6AI1AUAurg3Ye3KLg80SRHYJ//7ovW0FBnTU3ZYOU955xloebcL7pnJjkUXj1HYMwIOOEdM3Se0RFwBMqFgDpvJ7zlQtjl1hICcmf4+tevCUR36tSWsL/ttltDNfDf1T1TS/VyXR2BSiLghLeSaHtZjoAjUBQC6ryd8BYFlyeapAhwH8hVAXeGww8/zHBnYEqyKVNa7M9/9hXWJmnTe7XKgIAT3jKA6iIdAUdgfAg44R0ffp57ciAA2dXsCy+99LI1NDQMujOcd945k6OSXgtHoEIIOOGtENBejCPgCBSPgBPe4rHylJMXAQivLLzLlp29nzvDrbfeEioud4fJi4LXzBEoDQJOeEuDo0txBByBEiLghLeEYLqomkVA1t2nn37aGhsbLZfLWWNjg82e3Wpvv/2XUC/dKzVbSVfcEagQAk54KwS0F+MIOALFI6BO3H14i8fMU9Y+Alz32mS5fe+9d23WrFmWSCSspWVgsNrq1atDZZWm9mvuNXAEyo+AE97yY+wlOAKOwCgRcMI7SsA8+aRAgOs+6re7c+cOW7HiguDK0NTUFHx4Ib/vvvtuqK/uk0lRea+EI1BmBJzwlhlgF+8IOAKjR0AduVt4R4+d56hdBLDYsnH9f/TRh7ZixfJAdnO5jGWzGctksvbcc8+FCmpu3tqtrWvuCFQWASe8lcXbS3MEHIEiEHDCWwRInmTSIAB5ZdN1j8/u1KlTLR5vtKamjE2Z0hyI76pVq0Kdfd7dSdP0XpEKIuCEt4Jge1GOgCNQHALq+N3CWxxenqo2EOC6xmWBvY4/++yzQaL7xhuvW19fTxiYxtLBuDFkswOrqq1YsSJYfzVrQ23U2LV0BKoHASe81dMWrokj4AjsRcAJr18KkxEBkVxIK64LmoXhjTfesP7+fmtsjFt9fZ1ls2lraWkKMzNMmTLVbrzxRvvggw8CJLo3JiM+XidHoJwIOOEtJ7ou2xFwBMaEgDp1t/COCT7PVKUIQHTZsOoSILFr1qwZnH2hqSkX3BcSiUarr6+3qVOn2TPPPBPSuhtDlTaqq1UzCDjhrZmmckUdgepFAIIqkloKLSXLCW8p0HQZ1YLAgGV3R1DnF794w5YsWRJ8c3FbmDJliiWTSaurq7NDDplta9astvfeey+kheyS14Mj4AiMHQEnvGPHznM6ApMeARFZ9oU6XJ1nrzlBo+fGChAyCE54x4qg56sGBDQQjXtHsyp8+OF2W7NmlU2ZMjCnLntmYMCiO2fOHGOO3ei0Y4Xuu2qom+vgCNQaAk54a63FXF9HoMII0FHT6YqERovX+Q8//DDEa0ol5YmmHc2xynLCOxrUPG21IaD7g/uC4/3n1R3w08V9oa4uZhdffJF99NFHg/eZuzBUW2u6PrWOgBPeWm9B198RKCMCslCJyEaLEin9/e9/b8cee+zg/KD4J6qjj6YfzbFkO+EdDWqethoR0LW8a9fOwUUkWqZkLdeUDtOOTZs6xZ555qmg+u7de+zTvfdPNdbFdXIEahkBJ7y13HquuyNQRgTUUb/11lv2/vvvH1ASpJbw5ptvhqmTWPb05ZdfDufG63OosqOEl1HrsVgsfA6mkB07GPiD64NvjsFEXwPhsj/gh+t41679LbuQ3aaWVLiWV65cbh999EGw6u7etdt2h7l4+ZqiLyoTXa+RyleVh0qneN87AhOPgBPeiW8D18ARqDoERGZfeeWVQGZFZOWHiMIipdu3b7djjjnGmpubbdq0afbSSy+F+ugzLunYJLOYyg7K3va+tc6abol4nU1pyQ0Q3m/dGER89umntmvPbt8cgwm7Bnbv2WV7cPfZvWdg28UessoiEjvtsx0fhWt1zepvhWt3akuzNeUG5tU9f8W5tmPXwAC2z3Z+Zrv27Jqweoz9PtqTpzN12Lfp3teeZ0L0uVDMs8DTOAKlQsAJb6mQdDmOwCRBQGQTf8J58+aFjvraa68NtaOzUlA6RpIfeuihYZJ8RpmzXX311aFjgyCPpYOT7G3bttms1hkWT9RZiwjvmpuCCgMWXmnje0eguhDQC96zzz1r2UzGspn0INm98OKVtms391JpZzepLgSG1ma8Pv5DS/YYR2BoBJzwDo2NxzgCByUCIpvMEYpvLqs9HX/88fbOO+8EPBQva+8//dM/BVKMZfeee+6x1tbW8P/yyy8fHJkO6VW+YkBV2ne3brUZrbMsnmywppYBy9i1130ziHj73T/Y9m1bbfu2931zDCbkGti2fZtt2/6+bQ/b1rDftn27bd22zT786CP7wx//ZLNaZ1t9Y701NWfCfdHde5Z9+NEHtv2Dbbb1vXcnRO/S3TMj3H/btxtfgHCJ4gXgqaeesp/85Cfh/tULQTHPA0/jCJQCASe8pUDRZTgCkwQBOiHI6SeffBJqdOutt1oikQgrPn33u98N56JWXo5vv/32Qd9dEkB8p0+fHjr3q666yj7++OO9I9T3WYdHgkuEFwvvzNaZFk/UWyaTtlQqY1Napllr62xrnTXDZs1q9c0xmLBroHXmIdY6k2txZnC9mdU6zWa1TrdZrbNsVmurzZg5y7K5jKUzCctkEpZINNghs1ttziFzbca0WTZr1uwJ070k906oJ/XgPpw9cF+2RutE3MA2e/Zsy2YH3JK+9KUvjfQI8HhHoOQIOOEtOaQu0BGoHQQguJBLNo7zZ1jAMnPkkUdaQ0ODqZOC5CpftKac//TTT8MpSC+D2JhE/4gjjrAXXnghnCffcEFEV9bjZ595xpLJRstkGi2TbrRsOmWpZNIS8XpLxGPB1QF3B98cg4m4BpLxOgtbImbJRMwSbHGO68I1mgwvagnLpBssk2mwbKbREol6izcOpJkInUtaZjJmcbZwDzZYY6LeGjlO1lljIhZmoYjHG8O+sbEhzDecSMTDHMTbtg0MhNU9P9xzweMcgVIg4IS3FCi6DEegZdA92gAAIABJREFURhGgs4FcqtP5m7/5G7vmmmvszjvvtD/+8Y+hVvfdd1/wy83lcoOWXIgrGwQXX1/NyoAcjgm//vWv7fzzzw+WXiy+L774Yjg/HOklThbk559/ztKJhKWTDZZNxy2dSlo202zZ9DTLZqZbNjvNkrmpvjkGE3YN5DJTLJuZatnsFMtmWyyTaQq+utlMwrLZRstmILq8sKUsk8lahus30xLy5LJTJkzv0t03LZbMqR7TLZnlfpxiiWyTJXK5vfWm7vs25h0+5JDW4P7BA0HPnvBw8B9HoIwIOOEtI7gu2hGodgREeNHzoYceCpZcVnxi4BmW3ZNPPjkQ4MMOO8zS6bR94QtfCEQWNwWIbn4QeZaFFvJ6xRVXBNLLTA5ylRiqkxPZfe+9rTZzxkyLNyQtl01bOtNoqWyj1SdjFmNLx6wuE7N0Q8wyvjkGE3ANcO3VpQeuxVgqZrFEg9U1psOWTDVZKpWzdBp3hpw1JtIWa4xbLFlvIS3Xb3oSXL+N+99/2b3/wSaXjFkmk7R0et8G8Y3HG2zWrBlhFUWeH0M9C/KfLf7fERgvAk54x4ug53cEahgBWVshqDfddJMdffTRdtRRR1kqNTBPKP67uDNMnTrV8MGD9M6YMSPM3oCLwx133GH49jKgDRJM54VMNiy9Ir7nnHOO3XDDDQEpkdp82DT3KHlWrFgRSHK2KWGpTNySmZzFUzNs3tFL7chjv2SfO/rKsB163OXmm2MwUdfAvKOvsnlHXWVHHHOVzTvmMvvcMRfYUcd/0dK5qZbIJC2VS1h9Km2z5i6wo064wOYdc7HNO/pym3fMlUbeidK7dOVeFuow97grbe5xVwwcH3+JHXHyFTZl9mJLJvBddsKb/6zz/xODgBPeicHdS3UEqg4ByCpLBENeIbGQ2UsuuSRMOTZ37twwx+4hhxwSZm1gAQjIMHtIMNbgmTNn2uuvvx7qBalFnjZcH+TfG6347l1mu/bssF17dtqu3R/bzh07bMUFFwW5qZZs8HlsSk63hniDTTtskS06+1HrPOcJW9T/Y/tC/8O26OxH7LSzH/PNMaj4NbDw7Mdt4dmP2BeXbrSupc9Y59k/ssXn/chOWvz/WZavD+mMZZINlmw+xDqX3G+nn/0TW7zsETtj2SZbvPRxO23pjyuuc+nvlS22aNnj1rXsp9Z19uO2aOlDtvDcn9qJi1ZZc26qZXBFSqcGrbxu4Y0+/fy40gg44a004l6eI1ClCBSyvMpt4ZZbbrF4PB7ILtONff/73w9TlkF0ZQ2++OKLwxREVA8rrazHsvoeWG0I8Q7bvWePfbx3sNvqVWsC2W2ZmrFEqsWy6SZLpGM249CT7IzuB6y97x47tXeDtfXeZ51nPWjt3ZutvWe9tfds8M0xqOg10Naz0eb3brCuJettQfeDdnLvA9a57EGbc9S5Fo/HLJdtsUSizuYde6Et7n/UTulZZ+09G61zyUZr715v83s2VVTf0t8j3HfrbH7PFuvoXmcd3ffZgt5HbOGZay2ZbrXGVMzSmfQg2cW1wQnvgU9BP1M5BJzwVg5rL8kRqHoEIKmQVWZrwCIrEsziEieccEKYnuwrX/lKqAfza/7lL3+xu+66y7785S/b73//+3BeLg0ivJyUpXd/AJix4WPbuXNg5oann3kx+Os25xosm2yybLrZ4umUNU5pskVfeMAW9j5kHb33WmfPg9bRu97aw//N1tG7yTfHYEKugbbeB62j+3Fb2L3eFixbax19d1u25VBLpeKWSacs2ZS10874vnX2PGQLlt1l7b2brGvJE9bJ9du30Tp6a/v6bevj5XOLdfRssI7+B6yzf5PNmt1l2UTMGpvSlkonLZtlOsFEIL5OePd/Avq/yiLghLeyeHtpjkBVIyBiyp7AXq4I3/zmN4P1FbcGzeCgdBBkyDEkVzKKqeiuHZ+FZM88/5LFk2lLpmLWnM5aLj7L0tmY1WfTdkL716yz56cDlqTe9dbVvck6up+wU5febx19G2qeNDhhr90XlvbeB4NVc9GSB6xj6RY7puOfLZ1utHS6xZLJOpt+2Mm2eMmT1t6z2eb3r7X23i3WueRx6+zdYO29tX3tQt4X9G0K9+P87kdsQe9DNnPOQkvFY5bJZiyZGXBlYFqy5mYG8LmFt5hnoqcpHwJOeMuHrUt2BKoOAcioLLAiq8MpSRoNPHvllVeMqcmYweG2224L2RiYpinJhpOjOJUZlfve1vds5sxWa0jUWVNz0lLJgSmMEpmUndz1N3ZG37/Z/P71Nr/3SevoftC6etYFC++p/VjIapcsue6133ZYaRf0r7NFZ220RWf/mx163KWWaohZNjvTGpP1dsQpV9vi/h9ZW8+6QAgHrKFYdSG7tW7h3WyduBR1b7DTzv2pMXCtsSFmTdkGi2cT1pRpDi/I/+W//o3dcMN14RjiCwH2WRr0RPR9JRFwwltJtL0sR2ACEYBkYoklYI3lWAR0KLWIF0EmDTMz4Mt73HHH2bvvvhuyjSQjKpu0ksl+584dtmLFSovFGizXxKISTZZpSlosEbMjj/6yfWHpD629e6219Txsbf2brL37kYHPwf33WluNfw52wlvbhLezd7PxSb+j/25buGSzLVzyuE07dJFlkzHLpnLWmG2x+Wd92zp7N1pn3wZr737csAi3990fXtg6enDRqV2Xhs7eTXb6Fx+wznMes2O6/rtls7hxpC2VTVpTLm3xxmRYYIL7/5Zbbh7wzW9p8mnJog9EP64oAk54Kwq3F+YITAwCUdLKcr1yUxD5HEor8mHh1WISzN6AhZfZGZjFgSA/36Fk5J+XTPItX3FukJXNMSk/K1LlwjymU+csttO611l79w+Df2BX7wPW0bM5kNwFvQz2edi6etbvtZLVNnFy4lsr7bf/FwU+6bf3PWxd3fdbZ99m61pyt8VzsyyTqbd0MmbT5pxh7X0PWgcEt3uzdYZBag9aW/+6AdLb/UgNE14Giz5gp/dtsOM7/sUaMmnLJRstlW4K8w6nkqy2lrKnnvq3cPvLwtvihDf/cej/K4iAE94Kgu1FOQITgQAEk8CMC7fffntY6veiiy6ye++9195+++0QB6mF/OYHEWLJ2Lp1q7Fq2oUXXjhIggvly5ej/6Rlvl7CmtWrBz5zTm0Jg3xymbil0jGbecjnbfGSh6yj/36b3/eQdfWvtUU999nC7s02v/dBO7XvEWvv3WgLSVPDFjInurVCdKXnlr0uNAOuCG29G62t9xFbxGwhyx6y4zq/ag2ZjGVyaUslYnb4cX9lXWf/xBb0PGBdS/gyca91dD9ibX0MWLvPOnogvJJdzXsRfazRG629B13XW0cffrt3WzIzwzKpmKVYaS6VtVw2bunmlD37/LO67W3NmlUD97q7NAxi4geVR8AJb+Ux9xIdgYohIP/b//iP/xhc5pdpxNgaGxuNFdSee+65oA+kdjjyqrg333wzzM5AJp0bskJw6MCjd2ELts92fhKSPvv805ZtSloyk7UE1t10k2USDZbITreOnnttQc9Pw4h3+Try+bizT6RgoOOtDbIgnX1fi+3VHgZFMjDrEetY8ri19W20+UvvsrbeH1p77w9tfu9GW9B3h3Wc/WM77OjllqqLWXOq2RqTMZtzwt9Y1zlbrI0vEd3I2GBdZz0RLL28qLX3PVDlXyi4zzYPWKjD1GOPWFcg6OvDy2hX/wabPecESybTlklnw4wMU6Y0BWK7atW3wn3OvN6ENWv2vtwGwusrrQVQ/KfiCDjhrTjkXqAjUBkEIKPaWOkMN4TOzk5buXKlMdMCq6dNmTIlkF+mFYu6OQyloQguRFpkeqi0+87DeHfbzp0D/sOvvfaaJZJJiyfilm5KWCZFhxm3hmzOTmj/F1vUf7+19a21jt5Ha8QC5mS2FslsMTq37R1c1tmzwTr77hwYbNbzsHUuudNO715vi/p+ZB1L1lvX2U/Y546/xJLMUJCcZummqdb2hdvDlF1twZ3hYevou8c6mYe3+yHr7LvbOpY8Zh1M6RUGr1XnNbQAwt/9oC3s3mCdvffbgt4twW/59L7NNm1ujzU24IbUFBafyWYHVmdcseKCsIAMzwe5Qu1v4XXCu+/Z6EeVRMAJbyXR9rIcgTIgMJRlVr61t956ayC7V111lX3yySdhYw5dFpBoamoKK6lFfXJHGsxGRzZUmQdWD8suluOB5Yb37N5jS/uXBX2amlssmWm0lkzCEqmYHdvx32zhsiesq/dOW9i90dp6ngjzlhZDTDxNdRKm2m6XDcGi29H9mHWyqEQPC0ZssM/3PWdHHH+Z5aaeZPMX/k/74lkP2ef7f2LT53ZYPNFoieY6SzVNtdOXbLQz+16wRZDEJd+3Nnx4mbe3b10gj11nPb6X8FZr2220U/tZVOJhO617rXX23W8nMy3gsh/aSR1/ZfE4ywZnA9nN5dIWq4sFn3wGohJ27RpYXpxjJ7wHPhn9TOURcMJbecy9REegZAjItzZqcZVVl0L4pHjSSScFgqmpxCC9BObSZaW0+vp6u+yyy4I1BivvcJZeyWavsoevzM5AeEm7a+dOW7F8+QDZzWHVTVk2k7V4MmYzDvmiLex71E7ph+g+ZJ1MPdaNj678JquVFLhetU1qh2u/va4zLHTSzdeGjda25DHr7N5oZ3R/16a0HmWxVMxmzz3FDj/mS5ZIt1gad4Zcg+VyR9uJ8/+LHXnspTZl7onWOO0Iaz/rIWvrv8/aILxYebu5tiljOB0mMm5zuBcH5gveFHyRF/b/yI7v/J8WzyStORm3dCppmWzSGhpjNmvWdNu6dWDmFp5HDAlwC+/wT0ePrSwCTngri7eX5giUDAG5F7z++uuDg8+w6gZyuQvLqoWpw+bOnRtI5qpVq8I5CC0dERZfLLvnnnvuYMd0/fXX27Jly0I6kdvwZ4w/e3Bl2KvLRSsvDOW1tCQsnam3TDZhyXjcps3ptNPCLAyQXUjvFmtbutYWdm8ypj6qXkLguk32tunsXTfghoCv7tI7w3zQC3oftEU9z9pJp/2r1SfrLZ2KWV08bdlki2UzdRbPci4bSGFDY7015BrshLb/aosYrNazxXCTYJYRLL0DPupVeh31bAoDRdv7NtnJfRusq/8ndkrHt6wxmbNMqs6a0qlwD0N4WVTi+ReeCU+JXbsGLLz8ccI7xgenZysLAk54ywKrC3UEyouArKv4w7IYBCT117/+dSiUToZ4pbnkkksskUiEuXNZCphw880D82Lix/uzn/0snHv66adt1qxZgZTedNNN4ZzcIsKfMfx8tncltaefetYa6mOWa4pbKhuzVC5hDamETZ95op3et97a+h60zm62h+3UpffZ/N6HbGFYYIIJ+quUELhek7htsLxy7a21ziWPhrl02/rut/ln32undj9j8/uYW/cRmzXnTEsn6yyXS1pzIm65dJ3Fc/WWC6uKZa0uEbOjjrrc+rpftq6zNljHkh8FNwm+YrT132sdfUytV51WXl42T1uy0dr71wbXhkW9m21G63GWaYxZUyptKaYia8pYfX2dPf30U+HpsGsXX3T2BSe8+7Dwo4lHwAnvxLeBa+AIjAoBWXax1M6bNy/MiwvpZWM1NAIdjVwTvv3tbwcSS/zf/u3f2quvvhqmFmtubraXX355sGxma5g2bVoYzHbMMcfYBx98EOJU3mDCIg9Elp979gVLpzKWYanRbL2lsnGLp1usITnHTl70DVu4bJPN790SFpXo6rvburofHJhz15cNnsSEsjZeYhb0bTQWiOha8ph1BcvsI9bW+1iw9nb0bbKFZz5imaZWi2fqrDnFAMy4NeaylkvlLJGMWcvhC+y0szYMDPrqZtGJtdbe85i1h9kPsPBWJ9kdeMkcGFDX3nennd63zqbNWWiJRMxaUo1h+rFMy8BKaheuXBmeCLgx5AcnvPmI+P+JRMAJ70Si72U7AmNEQNbb3/zmN3b22WeHgSOtra0GiX3hhReCVAgnnRCdDj66EF4ILWmYnYHpxQgMUhM5ZZ5e3ByOPvpoY4EKwlgIr+S98trLlkglLJXMWTaLVShuyWzOGpKH2PzOv7LOZT+0tt77rL1vffhczOISZ5y10U7r3mQn9z/sg9bcijyBpH+zndrHCn/rrKv3Pjute30YTMlsBV09j1lHz3pbuPRxO+L4pRZLMh1Zk6VSaWtIz7JUKmazZiywDtxz+rfYgjB9GbOPbLKO7ieCqw6D4Krj6wWkO6rLwH98d0/p22KLeh+x6XPOsvp4zJoykN0Ga2pJh+fEihUrgssSz6NCzwknvOER6j9VgoAT3ippCFfDERgtAupgILUs+dvQ0GCQ3nQ6bVdeeWUguxBP0r3//vuGLy+klynJZs6caW+88UYoks5K1mAGspFu9uzZxiITBJVTjH6kVee3e/ce6+9fGjrGbHPOsumUNaXj1hhvtuPb/8EWnvugtQ12+hvDYhL7pmmi061m61dtWCirg1DVMla6Bgdca8IywbyE9OwlhX0PWXv3bZZunm2pdL0lmuLWlGy2dCJmJ5z2NVvI0tg95NX0Y5JXHZgsXPKgtfc8ZKf241a00brOeshOW7IpHJ/Ut8nO6P+hndj+91bHANNsnTWl4jalaYDs9i3tD8+GPUOQXZ4XTniLeWp6mkoh4IS3Ukh7OY5AGRCA0EIw2UNyIbv44TLzAr67kGF9anzppZdszpw5YSoyVkuD9GLRfffddwf9fb/zne8EgnrBBRcEbUdDdsmg8ujokIG1uKm5yVKZlGVSM6whHbMZc860z/c+YfN711rH3on9nZhVBwHydhhNO2y2+UuesDOWPWSHH7U0WEBzmRnBujt99ql2OmQ4rEoWtZ6ORn7503Z1s2LaOluAmwYD6Xo3WlffPdbBi2jf43ZSx3+z+uQhgcinM42WS0HmM2FKsldfHfD919ecQo83J7yFUPFzE4WAE96JQt7LdQRKgABkVyQTcS+++GJwWcDSm8lk9hvMRsfEsr6XXnppIKK4N8Tj8eC+gJ/v1VdfHfIyNy8zPxBElotVVVOerV49sJTolOYplk03WC41zerTdTb10HY7PYx8X2+dPb40sBPM8pO68mG82eZ3P2Kn9z5hJ3V81eKprDWlstaYjdnxC//VTu95aq91t1rrCKm9L0yP1tn9aFgkYz6W3p4tdlr/XXb6F++2RHa2NWYaLMnME5mMpVMtlk5n7fnnXyzq+eCEt9gnp6erBAJOeCuBspfhCJQBAcgoJJY9RFZuCQxEw3WBLZvNhk2D2bDYMjfvLbfcYkcddVSYvYF0WISDNbapaXAg23CWm0LVETl+9tlngr8ug9Sy6VyYviiZitmUQ44Ok/Av6Nti7X3328Ilj1pHsIBVKyFwvcpHFmsf23b8cvtZkGKTdfXebZmWEyyVjNmUuR3WvuxJ6+y53zp7q3cWBlyGWAgDHbt6Htjr2vBQ8DM+46wt1jqnI1irs9nEwBeabIvV1TfYM88OzMiwY8dHhR4D+51zwrsfHP5nghFwwjvBDeDFOwLDIQBBhXiyj25YdgnsGXSmoGOmKMsfzIZLA0HEFB9dFqNggBqLU1x33XWDU5SpTMkdaj+gEysqDUxH9Pzzz1kqlbREIm6ZDCsxscBE0hrTaZvfcbN19j9pJy2939p6H7GFS/BtrN7PvU72ap+UlrcNN4YBbe3da+20ZQ/bocdcFdwaTuy63k5d9pS1930/TGdWXh3G00YsLPGEdfattYUs5d39qC3gq0v3Jpsx54sWb4xZczph2VTastmBGRmWXzTg6sRcu3v2HDgrQ/5zwglvPiL+fyIRcMI7keh72Y7AMAhAJkVO2fMfgqtOBLeDr371q/aVr3wlzKsbJbTKix+vBrOlUqmw2ARkFhkizSwzzEYegsrS/2FUDHmk43vvvWszZky3eLwhWHjT6ZSlco3WmEvbKQuuscW9T9qp/WvtlP7NxpymXcG6W12DeKqXnIyH2Hje8rTrZuvowUK62Tp7HrW2L37bTun4Zzuj9zGb3/ugLQhz7FYz9lh4t1gnVt5upl+7285c+rQdftylYdaJpnSTNaWT1pzNhrl2L1hxju3c+WlYMpglwm3gcTHc42HwWeVLCw8Lk0dWCAEnvBUC2otxBEaDgMgmC0Vo+jARVeRAdvG1xRUhmUxaY2NjcF1Yvny5/fKXvwxFKT2D2SC7GszGjA4iuyLPZOBYll1IrNIMp7fS7Ny5w1asGBiklstlw8pLTEMWa6y3ecdeap9f+lOb37PW2sLAmA3WycAY5tv1abccgxq+Blgspb37Eevgusa9oe+HxswHLNgA6a3emUZ40VxvXaz+tuSH1tZ3ry1e+rCd3Pl3lmhKWCadCXMK55pS4dkyMywb/PbAc2XHbsO4u3s3K6oNz3r1fHHCO9xT1OMqhYAT3koh7eU4AkUiILIL6WSAGaukaYEIdSDnnXdeILtMMYZLAqQXQsssDRBhWXshsIT8wWy4O2hltqhFl7LZILLSYyi1B9IN+BEvX35+8AHOMNdumg4zbQ2NMZs5Z6EtPmuDLehbG+bZpXNd2P2gdfXev3eOXbfwOumvZivocLpttIW966wtzMm7yeb3bbATl24MKwSeceaDYaov/Hwntn25v6I66BiL7mbrQv8Q/6wd2/mP1pDJWCqRtlyy2bK5pDUkEpZM7RuktpMvQzuZqnCX7drzDk5VQz0ewnk9r5zwDguTR1YIASe8FQLai3EEikEAEqnBZ3fccUcgkcyLi4X2iiuuCCLee++9ME8uBBciy8wIt956a1g9jUFqzKELSWbWBQivrLAazAYhhhgzS8NoV1MTCUYmA+UIq1bfODDrQzNWoRZL5eLWkK23GYcssoV9662zf4sxiT0rUw10/uqE1fnqvO8nlhw5/qPHn2s48tLGymy9G8PCEvsTzYnAdrMt6H0izG/d1bPOusKc1xusrXdTWPGto/sxO5klkns32ue/cK+lsjMsma4Ls7tksvWWzTL3bs6ee+75cJ/r5Tn8CZbd4a27pHPCO4CW/1YHAk54q6MdXAtHICAAoZQ7AQPQLr/88kAmseQyiwKkl1kWIKvXXnttyKOBar/61a/CNGSQ3cMOOyykx0KMPJFo0px77rkh7qqrrho16nv2DFh+1fk9/+yzlsnkLJVNh6WDm1JJS7G8akvOFnV/zzr7HhkguzX82Xr0JGgiyI2X6e2Ufw0wqO7+4GeMJbezd521L/k3W9AH6X3I2vvusba+Lba45yGbcdhxlkilLZOaFl6GW1qawjNi1apV4RnBS7Vedkfz0HDCOxq0PG25EXDCW26EXb4jMEoE6FhklYXcMpPCjBkzwkIRuC6wnOfUqVNtzZo1QTKEVx0L5JaBanV1dXbEEUeEPaSZoDQsGYz1mIFqhNF0ZOglOT977TXLxBOWSKSD318yk7NsMhlWnDqx7V+to/+HTnad6E/wJ/18Engw/d9o7f33Bvw7w8pwm2x+z6M2v/fRQIRZAY4BdtPmdltdOhZeWJlRJZttCWR3xcrzwr2uF/DRPCfCgyXyzHGXBiHi+4lEwAnvRKLvZTsCBRCgYxHplSUVdwRcEbDsTpkyJfjsMviMQBrSs4eQsmHZZUAb7hCQZPn0Qo7pwAjsR9uJDchnQNsu6+/rs/pYzFqak8E6hJU3kYvbqe3/xc7of9RODp9TDyaC4XV1K2uVXQM9zMKwzjq7H7Y2yO6yu21+3yZr773PFvf92E5Z8FWrT8eC60I23WhNTY2B7C5fscJ27dz/OTHaZwXPGL0cO+ENj1z/mWAEnPBOcAN48Y5AFAERXXUuEEz5yuKvC4Ftbm4Ofrr49T733HMhO58cSStrDOQXyy7kmBXXzj///MFikC2SPHhyiIOoPrgzQHR37vzMNEgt18KSwXXWnE5bXWPMDjvuIjvj7H+z+b13WVsvS5UyUt19dZ0IVhkRPCgs75utgxkkuP96HrIFTJW2dJ3N773XFvc8aSd2/E9rSLeERSWyqYQ1Z+PW2NBoM1un2ntbGZDGTAwjz7U7xKMjnHbCOxw6HldpBJzwVhpxL88RGAYBkVaRUiyyHIvQfvTRR3bZZZcF6+2cOXOspaVl0HpL50J+yCzh7bffDsQY0gtRZqEJAvKKDSK8A3KZhsjswgtXBCtQrjltCQa2ZBKWTMRsRuuZ1tX9iJ3Uv94W9D5iXT1rrYPBatFBPQcF0XBy5wS/Gq6BgXmCBwjvg2EFtQW96+30nh/bKe3fsvpMzpLZOsukc5bL1IVVEdOZpD33vAapbRtx2rGRniNOeEdCyOMriYAT3kqi7WU5AiMgAMFkk9sBx5pJgc6D/xBa/HQZxAaZbW1tDX6++PsSGKCmgWz4++LScPjhh4+J8O7eNTBITR3XM888bXX1MWN+zjREN5WzeDpm02Ydb2cuYSDMFjtl6Xpr637YFgbC69ZdJ3/VQP4OVh2YQWK9dfQwUG2zdfZtsMU962za7BMskYxZJpuydDpuTdmc1dfF7alnngzPEL7i7Nnz6QhPq5Gj9dxwl4aRsfIU5UfACW/5MfYSHIGiEYDQqpP4+c9/bt/4xjfs1FNPDSupidBChjlmKjLILgPYIL9YfrEAY40lYOHt7OwM1mC5NCB/NEEEmzzPP/9MWDYYopvJNlqWZYNTcWtIp+yUzm/Yab1P2oLejdbW+0CY6qjLF5bwAVtu0a/ANZA/zd++adKYcowvLO19d1tH7xY7rftRm3pYmzWkYtaczFkyE7emXKvFYvW24sJl4dGwY/fHtnvPJ2YDH4pG87g4IK2eZU54D4DGT0wAAk54JwB0L9IRGAoBuSO8+uqrwVcXIovPrggt/rwQXllwGYxGPLM4MKjtyCOPtJtuuinM4PC5z30ukF3OszIbQWR4qPL3P7/HPtv5STj1s5+9EqYbS6bilmtKWBjgkkpaQ1OzHd/593ZG35PWftbjwYolr69sAAAgAElEQVTU1rchTIWE36BbNw9Wy6LXu/zX/kbr7NlgHd2PW1vfeluw9C5bwHRj3Y9bZ88m6+reHObenb90nZ3Y/4AtXvqYzW7ttXRjzHKpjMXTaWtuyYVnC1+CWC1xd1gymBfm0b0Y7//c2PfPCe8+LPxo4hFwwjvxbeAaOAIBAZFRLRCB5faEE04I7gjMzpDL5YIvLoPXCEwvRoD0Mk8v/rwzZ84MHRgD2ubNmxfm3GXuXYLIdPhTxA/WXQzCu/fssf7+pUFuSxOLSyQtk5pqDcmkHdf5d/b5Zeut86yHw1LBdLxteyff7+jDh9ddGspPfJxcHpwYc2+tC8sac88x5y5Ld7fzotl3/wAZ7tls83vvt0XLnrbj2v7BGtMxa0o1WTZdb5nmAbLb398XXoR5/oz2C9BIjxEnvCMh5PGVRMAJbyXR9rIcgSEGjclnF0ssFtt4PB5mYJD7AksJM9vC9OnTg9+uSK+mGcOVganImH8Xyy4E+fHHHw94I0Mdz2gagA5w546dtnz5hYHs4rfblG6wXGqK1SXqbMahn7fFvT+0zrMesY6ejdbWtzZYmtqCZXezdfTd54TXP+m7lb9s1wD33P3W1rvFOnq0PWztvHT23xtePBf0bLZFPT+xExZ83RpyaUtkkpbJJCyba7BkKh1WZHzttdfCY2Esz4iRnieS6S4NIyHl8ZVAwAlvJVD2MhyBPASwtkatKbK+Xn/99YFc/u3f/m3IofMQXCy+bBBilhVmQQqILoQWWXQu+PHi/oAbg+beZRDbaK03WpntxtUD+uSmTLdUOmXNmYTFEzGbfmiXLeq71zqW/NA6urcMkN3++2wBy5Z2P24sW9rZvcXJTtnIjlt1D06r7v7tPrBqGrMxbLHO7geDKwPWXSy+p3bjUvSonX7mA5bMTbdkJmbp1FRLZpOWztZbJp2y5wdnZNj/eZT3uBrzXye8Y4bOM5YBASe8ZQDVRToCQyEAOWWFsyjZ1TEuCkcffXSwunzlK18JIuSre9999wUiu3Tp0pAm6tcLmUUuaSHAq1evtldeeSXkJ240AV1Esp9/7nlrzqSDNSiVS1kqPd3iqZhNnzPPzujeHD6fMs0RPrsDrgybrK33QWvveTD48DLZvZOS/QmK4+F4lPIaWNC3JfjNIxN/3s7etdbZu8HamX+358d2et+9NuOwTkulYtaSSVg6k7ZUrsXqGurtmad/HB4Nut9H85woNq0T3mKR8nSVQMAJbyVQ9jIOegREat955x2bP3++3XjjjYMLSigOkM4991zLZrPBfUFuC5DZiy++OBBe/HF//etfhzRYeRsbG40V1yC5V1999aBMkeDRAq/OD8sPfsDJeMpyTQ2WSictnklbXSZtp3bdYIt6fmptobPlsyozMwwMlumA7PbfZx1hSVPm4HWC4xj4NVCua4CXy/beLWHr6FtnXf33hi8rzIe9sPdemzZ3kdUlY5ZLtgy4I+XS4Tmy8sKLw6OBZ0s5gxPecqLrskeLgBPe0SLm6R2BUSIQJbTLly8PZBW3gzVr1gRJuA+oY8ANgcFpxK9atSrEQ3w1S4MstqRjZgZIL9bedHqgI7vjjjtCHhaqGG2Q7K1b37OZM2dYY2PC0s05S6cag99uYy5ux3d+1br6n7YFDJbp5lMqn02ZlYFVnR4bmJ0Bstt/j5NdJ/t+DZT5GsCay0tmW88j1tb/gLX33Rt86r949hY7/IRzLBavs3R6SnBfaOa5Uhez5StW2o6dO23XblyhRvuUGF16Pdfch3d0uHnq8iDghLc8uLpUR2AQARFe9lhqE4lEGHjGPLsEkVNZVy+88EKDGCvfypUrA+G9/fbbQ3rNx8v/+vr6QbLLUsLqYCCvyj+oyJAHA4tdEL1r105jiqJYrM6yuYzFs2lryjRbvD5mRx39/7P3nkFyXde1cPd0983dk4cIBINIgBTSTIcJACkT02kABswAzEGSJdd737Oe/CxTkv3JEiUSgEgxiRJFgkiTB4EgKZIABgNRJJiU7LKrrB/2L1fZ9flZKjEAzAQmYH21Ts8ZDECE6QEm71N1+3bfe27a9/Q+6+67zto346pVP8dCZlLLNqO6nrJIHBG+WQ1QI2dX0RgolaTSme6SLGtjDHjGKnIo+50KUenWXDZD0ouSu1HFNy2ZTbg6+zwWRr+NQNhTWRBtJwg3bCMYCqK8vHQobXBvPx+Kxxbxan8kgPe0zldWjKMFBPCOo7HlUDPbAhqA7tu3D3v37lXGePHFF7Fy5UpFU+AC8nCptcuJ5dChQ7j44osV4GWiCRa97r/+67+wYMECpbv72GOPKW4w1+vjqMpn+Tg2APQPHFXRnr7+PqxualTH8txCOLaBsOmgwPSh5KIq1KzYgRiTSZCykNyR4+oqQEd5pFPJjx0XwBcANRUAlJzjVGunHKgWTzJtMB9Cn0Jt6mksjP4tgkwOY1lwmBzGCyFkBGCaVH7pVh6BD9f5+ImzuJHTrhbAe1rTyIoJsIAA3gkwuhxyZlqAHczwyOt//ud/KpkxSpBRVYH6uyzk1Wlu3XvvvYf58+erqDC5utxer6NKA9MG/8u//Ivajp1Lfp0YI7u9+PSTo2r79T/8ewV2iwoJdgvgWhEYlh8VcxfjqvpOVKuEEm052kJmE2JpAloBtVMNJMn5ThNgn2pFTbIZsfQOLFnJ/2MXlq/YAoOKDLYJ23HhuCE4rgHPs9HdvU/9zzXYZdrwsS4CeMfawrL/fCwggDcfa0ldscA5WoBgVVMYfv/736voLvm3mourB6rpjoL0hQsvvFBRIDiILJvNKoBLOgS1dilT9u///u/qrDQQHvkpHkNvXy6S3NPTDc9jBxmE4xDsFsGyfTC8clz1ha2oTT6LaKoDMXJ1M1sHI7rNp4nsThNAIXQE4eBO6jaQA7yVmS1Y0tCBmtQOlM9JwLF8cJwQDNdCYZEeD3CfcgtHjnwyZkkmTuV3tB8TSsOprCPLxtsCAnjH2+JyvBlpAUZeNSDt7u5WXF7+ZsT2lltuUQkjCHoJfu+44w4lDaY5vZQY48A0glsOaGO9uXPnKv7uXXfdpew5PHI8UgPr8+n5xQu5tMFBF55tw3FMmFYYIdvCwti3UFf/AqLpZlRltuWiuoOZnJTYvUR4BRROalA4nR++qM7ATGqbkKjvQMnca+APMZOaCc/xw/Ec9camsfF69PYeVfx8+gmW0fiLkfqV4fUE8A63hnyfaAsI4J3oOyDHn9YWYMeiJ+38c4PCfGD2NFIWuJ7AlRFcglkORCN9QQNiGoiRX4Jc0h+4nhnVFi1apDi+XJ8PlWE4+D783iGUVRTDCBiIuAZs04LleAiETSyNfh3LG55DNL0R1PusangCseROJJI7VepSau7K6/HpDKjk2iZ7+16S6sIXVj6HS+c3wRfywQ5HYNg2PC+EgM+PpsbVg7rapC+NPYXhZGeufZ5EeE+2jPyeCAsI4J0Iq8sxZ4wFCC6HA8x3331XAVdGamtra4f4tzQIQa3OosZILwezUXeXhdFeavj++Mc/Hhqkxn3p/edjUA3A+/p60dh0M3y+EArDJjzbgB0OwWf6cPGCm3BNw7OIJjcruaOqTBuiqZzsGAXuKUEWzW7OSZJJhE+Av7SBcW8DMXJ4s89hUfzrcN0APNuE6YZghB0UBE3MKi3De4cOK9fA//xEFAG8E2F1OebpLCCA93SWkeVigfNggeFgl+D1P/7jP3DFFVcoasKrr76qjsBOQXcMHLjGxBN6IjAebda0U50+z0dTJdYOyp25bhFczwfH8lBgGiiZG0fNik5UprYjln0KTF/KCG+s/udKBqk61YZYuk1Jk032CJicn0Rpp18baEcs1Yzahl1YkvgBChwLth1A2GLCGgOmVwDLKkRPT04JpvdobjDrRIBe7dckwnsqbyzLxtsCAnjH2+JyvBllAc2T/dWvfqUoC8ykdskll+Ciiy5SdAYagx0RgajuHAiMGd11HEdRHAoLC1X0l3UpW8aJdfW+z2zQE3U29TH27t2naBHU52Rn6TkmDNuHkrJqfCHZhVi2BYspZJ/ciWhmG6KDqUurk62oTm9CLNOKyrTo7E4/MCUAeXLf03bE0tuQSHeiNtuM0vIqBK0AbC8Ix3IQcS0ECnzY0/2icgt8uNX+ZWT+4szeJN+12t8I4M3XclJ/LCwggHcsrCr7FAsMWkBHVZg8gmmAqaxAAEtt3bfeemuI7qCpCTr6ys6Jg9nI173gggvUYLYvfelLedr1GI4OfJKjPfQPoO9on9q++xf7YNo2bNeE40TgWg4cOwC/a2Bh7fcQz76IqswWJDLbhsmOaa1dypBpzV2RJJvc4EjA61S/P4kUAW4r4sk21NZTB7sFSxuexLLMFpTPSiBkFCitXcs2EInkFBmamhrV/5w+hH5lIosA3om0vhz7ZAsI4D3ZIvJbLHCeLMDORkdV9uzZo+TFyNGlzFggEAB1dFkYsdXAWEd6uR0nKjaQ3sBoL1MJf/jhh2qbkXZkfQP9GEAveo/0qu1eeeUVmKYN0wrBdT04Sq/TRMCxsDj6HSxbuQVVmScVXzeRJeBl1jQBTmIDaQPj3wZalbYu0wcn0psRTbcgmmrDVckXUXphDL6QA8fxlMLKcbC7evDtD98aTQxvVzmawQ8BvMOtId8n2gICeCf6Dsjxp50FCEYZqdVzOn1+Z4a02267TVEJZs2ahXnz5oHZ06i1q+tyTvBLsKs7i/3792POnDmj4vKyzxs41qv2OXDsKLINSZU2OBJ24JoePDeEAseHhdH/g6vSLyCRbEc81Yx4plnRFsa/kxdgJTaXNpBrA+2IpjtQnWJyia1Y1LARddkeVFX+b5U5LRgxYdkWImFXyY9ls2kM8AF3UBmGvmSii/ZhQmmY6Dshx6cFBPBKOxALnEcLaMDKXTLBxJEjR9Te9ZxA+Pbbb1cdFCXIfD6fAsE6EqzBsd6Pjvx+8MEHo3o9eaz/GAb6j+Fo/8e4oWm1Ol4kbMAxDYSdEAIhH0rn1KMuuwuV6Q4kUrtQk+pCItWGKDOrDdEXBIQIEJU2ML5toBVKESXdiaWZbUg0PIfPx74D0zLg2hZM14TrWjBNA4YRwsGDryhfM9yHnEfXNqpdCeAdldlkozGygADeMTKs7HZmWICAlOBUA1ReNcHp5s2bccMNNyCTyeB3v/udMgapC6z38ccfKzpDeXm54ueS23vrrbeq5VxP8Dt8f/oYGvyO2LLcV2+Ot9t40/U5sOuVwXV8cL0QCkwfymfV4eoVu1CZacWSlVvVALXq+u1IpHYgmhU6w/gCHAGUYu/hbaAVdfWtWJrsQHTlbixKbEDA8mA7ITiOBdcyFH/Xtk0cOLBfuQX94DxiHzHGFQXwjrGBZfd5WUAAb17mkspigRMtQGCqQSoBKSO45N0yckstXdM0lbbugQMH1IYEvTraSwkycno5kI1z0haGpxbmfnUZ/l0vO9tcd3579u2Gzx+C45bBsxx4TggFlh9FFVW4KrUNNYzmpjtQ2bAR0YanEE9tz3F3U0wsIQPTBIQNB2HyfbzaAwes1dRvRSzTidpMK0pnzYdl+GA7RbCsIhS5Bvx+H/buzcmP0bdMtiKAd7LdkZl9PgJ4Z/b9l6s/RwsQiBLoarBLji7B7vz587FgwQIVwSWgZRa1O++8UwFiAlHydlkIcAl0qdzA1MHhcBgEwixasUH9yPNDg92e/d2w7CAMJwzHiiBihWBbBfCbF2BJzTrEMy8gltkIDowhfaEq1YWqhk0qZWl1skMoDTJgTwYtTlAboDpDVboNtaknUTp7OUIhn3pYtSwbrluo/MyaNWuHfMVoHorzdCt5VxfAm7fJZIMxtIAA3jE0rux6+ltAA15eKQEtwW5jY6MCtASd+/btU0kmZs+erZQZKDWmwSgjvQTKBL8EylRuIPilKoOOCOu6+ViS+2Q5fPiw0vENGAHYEVMNUiu0qc4QxKL4X6I68zwWZjoRzWxFTeopVK/YjWhqJ5ZmWxDNbkVNUsuPSVRvvKJ6cpyZ1tb4BuXEtyiJdLt6AK1KtiNxw7O46IqbEPD7ELapyOCgsDAAf4EP1zXejN7ePuVP+J8XwJuPl5S6M9ECAnhn4l2Xaz5vFtDg8u2331bR3NLSUvzmN79R+9frmpqaFL2B6xjpZVIJzesln5cdFYGtjg4zuxqVGVjyBby64+N2BN4+vw9eYQiOZSLsePAFfbhk/k24qmE/FmWaBwemEWQQ3OqOl3MBuwI+Zxr4HP/rjaY7UZMkdaELVekORDP83oZE+gkkVj2PJfE/R8iZC8v1YDkheJ6LYMBAWXkZ3j307gl+Rv2YZB8S4Z1kN2SGn44A3hneAOTyz80Cmo9LeTEOPmOSCA14CToZvV26dKmKtK5atUoBX0ZwCWo1dYFyZSycb9iwAdTKZRkNpYHH5HaNjTlFBjPCtKNBRExPvRItnVOD2tRWxFR64K3yunqCXlcLmB5/cDkZbc43KdS6rq7vVMooBL1Ls5tRndqJz8e+iaA1G0GrEJZrwPECMEIBWKaD/T2/UD6ivz83KFX9mIQfAngn4U2ZwackgHcG33y59HOzAKOpOgJLCgL5txyoxvTBurz66quK5kDFBpabb74ZoVAIjPZSpeHRRx9Vy55//nm1ntFeHfHN9xXlkSOfqn2sW3evOmZhYRghx4BnO3CMICrmVKImvQ2VmacRTbWiLrUVCYnkCugX0D9BbaAFscwWVKU7kchsRE19OypTnVi0cjuqk4/DMS+A4VB+zIDt+uG6TAFuY393j/qf901ysMuTFMCrbpV8TBILCOCdJDdCTmNqWUCD0TfeeAN//OMf1cmvXp2LqpKH+/7776tlBLrk5r722mvqN0dSk7rAzGmMBlPFgemDL7vsMiVLpiO0GviO1Co60rO/Zy8cdpCOAccNqkxqpm3C8EqxrP4JxDO7sCTNFKVtqEsyk5pE2sQG0gYmpg20I56k/N9mVGWbEU1vRSy9E9WpZ1AybxEcgyDXhOX4UVRsqYfY9evWK5fwKfn/x/pH6h4mrJ4A3gkzvRz4FBYQwHsKo8giscDpLEAgqqkGpB5wkBppCCxacaGnJxeB4W/DMHD55ZerAWR6n4cOHcIVV1yh+LwEu1Rn0HJkmver645krs+np2efSjNqmAUK8NoWtToLEHA8LIj/HeKZLkTJ0021IZHqUEoME9PRC8ASu0sbiKc6UL3iaZXZcGmmA4sy21Fd34ULZl2FYNAH2yUdyUDYy4HdtU1N6Ovtw8CxARwDp8lNZ6DvEsA7Eg8udcbLAgJ4x8vScpxpYQFNYeBgM0ZlqZ/LSC2pCyzvvffekJNft26dAsQEt0xGwW2ZfY3lW9/6FrLZLB577LGhlMEauKoKI/zQ53Po0LsoryhFMOSH67GjtGHbDmzXxqLE/0b1yj1Y3LAZ8fRW1Ca3IZHcjspsGyh9JOBLwJe0gYlpA4lkB6qTnahMt6B2VTcuWnAbrIAPRZaDoFMILxyG31eAtU03or8vF9HNvV2iEotEeEfoJqWaWEBZQACvNASxQB4WYARWA9MHHnhAAVoOQLv22muVxBg7Iz0I7aGHHlID2ZhCWMuM8VCkO1Cm7Ctf+Yo6MvfJSEiuIxv5ybA+t+vtPYqmptVKqsj1CHRtuE4hAgUFuPjKG/CFhn1YmtqGaLYDicwm1KzYkdPczTYPU2aYmA5fgJbYfSa3gViqBbH0JizPdmJR7BuwHBsR04DnMMJbhEAwhLLychw6fHjQVzCqS7B7PCnNyD3G+NeUCO/421yOeHoLCOA9vW1kjVjgBAvQeTOiqoEpv1NXl4PQyMUlN5dFR3EfeeQRBYgZAeYAtYcfflhFgL/85S+r5Xfffbeqr1MO6/2ecNAz/BgYyEV41qxdkwPeYQuWbcKxXYQCBmbP/jwS2c2IprpQne5CPPMk4sndiKW2q8EysSEZMgFdMxl0ybWPdfsfJvmX4bG07F8rKjNPobphNxZV/x1MJpQwgrDsYlhOIWyjQFGU9h/Yl/MTvVRzIeDtz+HdKYB5BfCewYHLqnG3gADecTe5HHAqWYAgVEd1NSAl0KUj529+J9AltYGR3u7ubnV5jAJzIiD2+/2K9kAN3ksvvVQlligrKxsayMZ9jLTwmJx0R7J33wvwFfgVz4/yY5bnwDZMXDA7hnhDG+IZpgluRjzFTpbZ1Jg9TXfwWndX/5b5cduILcQW594GyJUnbSHBNN2ZnAQZ7ZrItCs6UTSzDcvTLSgur4Vh++C5Diw7DJO0pHAY3cP0uLX/GamvmAz1tJ/asCFH74pEKI8YQEVFGd5/Pxe1norXNRlsK+eQvwUE8OZvM9liBllADyIjeCWF4aWXXhq6ekZmuZ683QsvvFDJknEAmlZk0ED5rrvuUhFgRoKp2MCBaoz+smh6xNBOz/KFnYPeZn9PDwybsmMmLLsIluPAtXwww8WoTv4MdQS3qeG0BR1ZOveOXMCQ2FDawNnaQAsS6a2I1z+DeHobYtnNiKmHznbE6ncgkdqOq9LNKJ5bjYAVgGNHYFs2iopc9cZm/YZ1yhtQ65v/+4H+XAbFs7iISbVaAO+kuh0z/mQE8M74JiAGOJMFdPSVKYIJVBnFZQazX//610MRXm5PZQZq61KVgXxebkdgqsEpFR3Wr1+vJp1wQu/7TMc/eZ3uQA4ePAjDDMGyzFxUyHFhW4wOGViQ+Cai2WewbEUzEkPR3LN1zrJeAJy0gfPfBtoRz25CLNOCaLoVsYZtiCefQTzVgrpsG8pmXwO/kh8z4Jo2IoUBBXbX3nAL+no/AeUGCXT58DwVI6HaX0mE92RPLr8nwgICeCfC6nLMKWEB3cFQkeHKK69UgJeglhq6zJbGlMG/+tWvVGfECyKdgYCYUmX333+/ukZGgU8FbLlvvf+RGoP12fGRu5vJpNVxIm4EIceC6wRhGT4siP0VqlfuRSzZikRKFBjOP4ARUCg2HWkbyNGHYtknUZVpQ1WmGbH0DsSTXbg6+yyuqPkqgpYPrh2GZzkoLAyq/3Q2uxKKnn+Mb5BydCcBvCP1klJPLHB6CwjgPb1tZI1YQIFSAs3Dhw+Dqguf+9znVBSX1AVycnXElwkoWKi8QMBLFQatrasjvYx2cDoVAD6dqXMANxfh6e+nQkQvGhtvUMcIhx0Yjg3bdWCEfCifczVi2Z+jMrUTNclWVGU4AnyknbPUEyAnbeD8toEWxduNpnahKsP/Y7NK+HJV6gUsin0Lfs+BwwQxHKzmFcByfAiGIvjly28qd9DXl5MwPJ1vmArLJcI7Fe7SzDlHAbwz517LlY7CAidHYt999108+OCDKnFEUVGRAr064kuqwz/90z/hG9/4hhqodtFFFyl+Lw9L0Evwmm/RkR0NkteubRoEuy4s20IwHIYV9KFiVg0S6R2IKoC7DdFMq5rObwcugEjsKW1g5G2gFfFUp1JFYTa1aKoZy9O7sST+A/hdG0Fy761ClU3NcUJqsNqe7peVizjSl+Pt5usvJlt9AbyT7Y7M7PMRwDuz779c/VksoAEvHTcHj7AQfPI7ebxMJ8woL0FvMBjEvHnzVOa1uXPnqmV33nmn2kbv5yyH+8xqbtc3KDj/4osvoKDAB9el1q6h9u83TZRecDmWpZtRmclxA6m1y1eozOQUl8QSw1QpBKyNHKyJrc7dVh2IJykB2IxoZgsS6VZclWpD0byLEDILEDYLYXoGvLCHAl8I+/bsV///I32fYOAYMMCPKV4E8E7xGzjNTl8A7zS7oXI5598CGqxyzojrcN1cLiPwJZ83HA4rugM1eWfNmoXCwkJQfoxZ1lhYN9+iB7319HSrAWoOs6c5JmxSGewgbCOCz9d9H/FV2xGvb0Us1YVYmjJILYNSZAJczh24iA3FhqdrA5onTwUULfM3fBmlAbcopYbq+k4UzqtEgV2AiGOhKOTAjRSpNzY3rW1UrqGv91MFdPkyaGBg8qcOPps/E8B7NgvJ+vG0gADe8bS2HGtSWuBkQKtpBGcCqFzHSK+mGvA3B7CtWbNmCPiS8kB1BhbWO9P+tGF0ndz+e9Xiw4cOo6K8AiHTB9cpgeUYSo3BMIqxIPF91KxiiuCtKoKUi+rqyK7ueE/XWctyAXLSBkbfBlqRSG9Ub1GiqacR5YC09FZUpzcjkeIbli4saWhFNNmF+swL+Nz8G+EzfXBcD5bpwQ2HFNjlw3Jfb6+iPan/f/7Pxdp9TLq5AN5Jd0tm9AkJ4J3Rt18uXgNMRlKHUxa0xu7ZLMTt6dR1JJb1GfFduXIl9uzZozYn2NUgeiT74z4HCJAxgL6jA2ha0whfgFSGEniWAddyEXB8WBj7GupWkSO4SSWVoJh9DvDqSBMTTQigERtIGxizNpDiw2YroulcIgkCXiabiCV3IJoltegpXJXeh4Wxv0aImRDNCBzbRDici+xmGzKDyivHU5afzUdMpfUCeKfS3Zr+5yqAd/rfY7nCs1hg+IAyqjHo1MAKeJ5loBmBrJ7o3HXEVwNmHdnVoPcsp6JWc3+sT0WGtTfkBqmZ4TBsO4wio1DJj5XOvQa1K7cjltqmMqklNGeXGZ1UVjWCHAG8YwZ05EFCHqbSbYgyTTfbQmZzLslEugNM2R3NtKAy3YJlqZ1YFP8m/K4Fw7bgWC5c24JpFsAIWTh48FX1n9c0qZH4h6lURwDvVLpb0/9cBfBO/3ssV3gGC2iASq3dhx9+GBdffDFuuukmbNy4EW+//bba8kzRWQ2KOWfhnACakwa7J9c5w+mo7T/55BNVZf36+9Qrz8JiD7ZtqoxqthlExexK1KWasYRpgzMtSGSYUW3YNMQlFMArgFeiu2PZBjg4VHHmCXhTLYjVPwMqMlQ1/BTx1B5c/WebEIoUI+iRymCp/3DYtuG5LsjLZ6GvoI/QPuRM/mGqrRPAO9Xu2PQ+XwG80/v+ytWdwQIEsiz//M//jFO8hQwAACAASURBVOuvv16BS2rrcqLiAtMFM4Maiwav6scYfrDzY+nZvx+u5yDkeXBdC4V2AI7ph+GVoja5EfFsB6oYWRoCuozsciJ/V1MahMM7lmBH9i1gulJpXbegOtWCRLJD8XVJb0hkmlGX2YKK2XUImB4sDjR1fSgpjCg/s27dD9T/nJHd6VwE8E7nuzv1rk0A79S7Z3LG58ECOprC+apVq1QnVF1drQadMWkEB5xxouLCF7/4RcXvHesojI42HzhwALZlwTANhLyIegUaNn0wrDCuiP09Yg1dWJppRoLUBUVfGJzr7/K6XV63SxsYhzbQjqp0B+KZTahOtiGebFPR3Vj9s6i7phWlc6oRMIOwrTLYrh+e4yg/09TYhL6+j9E/cATTaHzaKb2yAN5TmkUWTpAFBPBOkOHlsBNrAR1J/dGPfqQ6IerlkrvLiTJid9xxh1JbYJSXmdN+9rOfqRMeK66djjZTkaG8rBwhI5TT27VcOI4J0w5jUexvUJfdjSXZrYhmOlCtUgdLFFcirRJpnZg20D6ozLAN1clmxNMdWJrahquu68LFl9+KADWzPQO2WwAvbMPns9C0+hb09X8IMqCYOXG6FwG80/0OT63rE8A7te6XnO15sICO7pK3u3jxYgVoyd9l0QPW/vCHP+DSSy9FQUEBbr/9dqXEoAHxeTiFYbvIxXgIeAnCm9ZwkJo/l8zCtFBke/CHfLj4iptw9cq9qEw1qzSlFLRPpNjJkqc7fBoGgBW9QcDQxIAhsfv0szv/W8P1dtsQS3WgOtmJ6vRWRFPtSGS7Mb/mf8EIWygyQ7AtE44XQjBgoryiAocPv0umP/r6mUltmBuYpl8F8E7TGztFL0sA7xS9cXLao7eABrzvvfeeyozGCO769evVDjlgjE6aNAYuv+6669Rvrrz33nuV3Jg+sqYg6N/5z4+hH1Rj6FebUnyex7TCZUp6rMj2w2/5UDL3KtQkN6kR4Uuzbaik/Fi6M6f1Ka+ux+HVtYDX6QdeR3JPKTdGnjwHh25VGruJFbuRqN+JRHobEsl21CQ7EUtvx5LMZtSs2ool8XsRtKiV7YPLbIiuA8MwVUIaPR6gr5//9xmAdoEh37lhwzrl2yIRD6FQABUVZXj//cPK72l/nL//lC3EAvlZQABvfvaS2tPMAjfffLPqjBYsWIC33npLXd2DDz6onHNJSQlefTUnG7R3716Ul5er5Q888ICqp6MX52KSI725QSv7XuzOpQ32bJjMomYVw7YDKJmzHH+WeRQ19V2IpTpRmd2GquygFFma85F03FJH7CRtYHRtgOonXYhntuWm5E7ESSXKbEKCg9MUrYgavJ1Ylm5F0dxLEQw6cOwwHJfpv124rovu7lza4JlAYxjuD7WPFMA73CryfaIsIIB3oiwvxx13CzAiS9oA59oRP/roowrEep6Hr371qyozGoEu0wTrLGk8UUZniouLwXUEx+eSLlhfuOYRd3d3w3KC8GwPYdOB6wQQsi0Y4VmoqX8CtcntqK7fhThF7rNbEUuTyiAARmwgbWDM28CQ8gn/cwS2HYg1PIlY9gnEUrsQ40NnaguW1z+H4rkcpOZTb2dsy0OkKJdcQr890nQp/f+fCXPtZwXwzoS7PfmvUQDv5L9HcoYjsIB+LabnwzfhMj0oTC/nby6nQ77ttttUFIZgNhKJqIlpglk4SE0D00ceeQR+vx/z58/H+++/r9af6nj6GGea630efOUgTNOA4QTguRbCBvV2bQTCIVwZ/xskMk8jmmzPRZOUMgPljzoRZ6QpyVSmAnrEBtIGxqwNKB58C2LpFkUpouRYtOFJRLNbEEvuRlWqFcvSO8BEMOTaR6wwPDOIcKRQPUg3Nq4eesg+2QedyT9Ml3UCeKfLnZwe1yGAd3rcxxl7FexE9MTIrZ4IRDUY1R3NwYMH8Z3vfAecs2jQSS4v1RgY5aUkGakLr732mqrDbbVW5h//+EdVb9asWWBGNhZ9DPVjBB+sz3PU59yQTauO0Sm0Yasor4WgWYCFif+Bumt3Ykm6TVEYYpktSti+Otmh9D4pR6b4hQJ4BfRLGxizNpBIMYsa36owq9pOxNJdiKo3LJ2IXbMLVzfsxufjf4kC1wfPdhCxAihSigw+ZFZmMDAsIc0I3MO0qyKAd9rd0il9QQJ4p/Ttk5PXwFYDSIJTTVngMq6n073rrrvgOA4CgYDS1uVvAl7WYXnppZcU2GWEt7S0VIHehx56CO++++5QHUZ4OaissbFRbaOPnc9d0OfJYzc25tIGhyMuLDsMy4nkBqnNuQrLU8+hMtWOymwrqjJ8ndqsIrsUt2ca03j2ScUjHLPIloCoMQNRcs+mTkRacXQV4G0fTCPcod6sJOo7sTzbjkXRv0OBYyuurmcFEXYM2HYIIaMAr5z0YJ2Pn5gudQXwTpc7OT2uQwDv9LiPM/YqdMSUBnjhhRdwyy23KMDL35ozx0FmBKrk5eooLqkJt956K6jKoEEov3MZ65Kvy6QTl112GQh0qdrA7Tm9/vrryt4E1vkWHVVeu3bt0Dk5jA5ZJQgEC1FyYSWWpbYjNhjBjaW6jnN2SWFgcgkFdp86Kava1AERAvjkXk2VNqCSu6RblfxYlHNydlfswvJsFxYt+zoKzFKYdgSuZcB1DFiOrbKq9RzIpQ3uH8ycmK+fmC71BfBOlzs5Pa5DAO/0uI8z9io06Ny/f78Co4zgUkrsN7/5jbIJqQdXXnml4t4yucRXvvIVpcpwwQUXqExqc+bMwS9+8QtVl8D3ww8/BJNREOgS8BIgU4uXIJjR31/+8peqLh05wfbZC+vk6mnnv2fPHhT4/XDDLizHg2eHYVs+lFYswNUcmJbejqoMtXWZTa1VSSDF2dkmd4AcwlhmkxK5j6/Yk5tLNFaisdIGxqQNJAYHrakHUEqTZZ5CbXI3lqc3o/jCKoRsyo8R8NoqyYQv4MMLg4oMvUc/GPrvn91PTM8a2ufJoLXpeX+n2lUJ4J1qd0zO9wQLDAe8tm2jrKxMDUCjFBAlxQhKGa1l+mBNX2DqXgJZ1tED1TSQ1RHYQ4cOKeB7+eWXY9GiRbjnnnuGeL26zgkncrofTB86MIAjg1q7+3u6YdsWHNuB7QbgGR4s24TfM7C47m7UZp5BlRr5Tfkjgt5hiSQ+A2qoxyvRQrGBtIGxaQP877UqKlE1HzgzrahM70AiuRXlc2tgB31wHAu2bSAS9tRD8Zq1TcoT0C8dOzb9M6mdzu3p5QJ4tSVkPhksIIB3MtwFOYdRW2A4pUHzcIuKihTwJdB9/vnnQdC6b98+dYwjR46o+W9/+1sFghnF5SA1Tsy29tFHHylur47eUo2Bk/6tQfOIT7ifSg+5Y5LTFzL9sE0TLrV2zULYjo2A58fiqm/jqswuRDNPIJqkBFk7EuTqCqAVG0gbmLA2kBssSioRk1A8hauz+zHvyhvhC/oQtgphWxbCYVeB3aYmKjL0YqC/b8hfjNhPTNOKAnin6Y2dopclgHeK3jg5baiILSMpmoNLUEpKAnm8pDZQTYFA1rIsbNq0SZmMgFc7YW7LuqQsUJ2BtAVyeHXUWINjbjhcniwf2/cfJc+3F/0DA8g2ZNQxijwXruXBcTz4nAIsjn4N16SfRTzJVKVPq9Hg5OkmVIRXorgC+iWCO/5tgP+7FsSyzahK7UJVZguuyu7G4thfw/As2K4Fy7bAAaf0G+l0Cv39HARLpZgc4M374TgfxzJF6mpfK5SGKXLDpvlpCuCd5jd4ul4eOxMCUy0ZRpoBnStBL+cEsuyICGSpztDU1KSAsV7POtwHtyO3l5Fe8nkJlLkt98u6rMO5nvKxJ7fp6/sUvX39aFxzrTqfQptpgw04VgR+w4eSi+qxPLUb1almRDNbUZVmlJfpTHcMZnE6E6VBgND4AyGx+cyxORNNbEcl9a/Tz+Hzsb9FyA3ADTlwbQdWYUFOQ9sI4ZVXXlauQfsV/vf1g3M+PmO61aU9WATwTrc7OzWvRwDv1LxvM/ascyCyT10/VRkYkf3444+HNHV/97vf4U9/+pMCrJQVI6eXMmOhUGioLkGsBsyaj0teLwelkQahpzfeeEMdh3VHWjQw5lxHiNev+2EO7BZ6uciu7SDg+VA6N4FaDkxLb0M03YKq7FZUZbeogWlMZ5obIS4Aa+YALLnXk+pep9oRS3Yikd6F6uRGBCIlcCwfig0Xrm3C8Dio1UbP/pwigwZ3I/UVM6GetokA3plwtyf/NQrgnfz3SM5wmAU0QGWqXy0zNlxpYcWKFbj++uuHtiCvt7CwUCkycD68LmXLGIXR+2TdefPmKXBK2TDSI1gIXkdadERY77O7u0cNjnPscG6Ai2Mg5PkQLCxCXf0TqM50KtmxaLpL6e1WpboQzbQi3vAY4uTypjvOMnBNQNKkAknCt50wvu35bwfNqE23YHmqDcUXViLoMJOag7DlR1GkVPmJdet+oFwDH27z8RMj9SdTvZ4A3ql+B6fX+QvgnV73c9pfjQaSjMiSm0u1BQLfSy65RCWEoL5uRUWFyoSm61J2bO7cuUMRXAJfglsWOmSCXv368Z133sHjjz+ODz6gpFB+YJf1CXh7e4+qbXt69sOyQjBCHhzXgGNbMCwHBa6Jz8e+h+rM04hTkUFlbmpTg9Wi6Q5Esxys1oI4JZEEQIkNpA1MQBvIUYlqkz9Fydw6FISYSS0M1/HDcyMK7DY2NaK3t0/5Dv2gq/748jFkAQG8Q6aQL5PAAgJ4J8FNkFMYuQUYRdHg9B/+4R/Q0NCggC8Hp2mZMa2rq8EsOyMmlbjtttsUtYEavKxPygNVGVgIjrlfHaXhNpzOXrTObi4KrEE2Zc14jCA7ynAop8jg8jVoCIuWfgfLMi+gklq7yZ2IZ7YgntkG0hjUnFq79c8gpiTJhMMroF+i+OPbBtoRTbZg+XVPY96CO+EzfPAcA2HDhhc24fP7sLrpJvT35x5std/QvuPsPmPm1BDAO3Pu9VS4UgG8U+EuyTl+xgK6k+EKDkhjpJdRXEZv/+Iv/mIo6kKHq50uwajOpEbQy0FtBMEaQOsojQatnznoKRYcO3YEAwNHcQwD6B84plJM9PX1o6mpUXWMbjgCzwii1PRQEPBh9qJG1F63D0uTbahJbT0pcURO9zOeFmWG8QU4Aihnrr2ZPa0D0UwLKrPbUJXpQDS5A8sbnsGV8bth2S5sx4RlGYqvGwwWoKKiDIcOHVbeYGQPxadwHDNkkfa9wuGdITd8kl+mAN5JfoPk9E5tAR1NefrppxWdgYCXYJeD1AhkqbSggSsBrQbIjOgyssvoK6kPwWBQgV46Zu5T7/fUR/3sUtYf6Af6+4+hr78fvb2fYs2a1eocGA1iUomw7SAU8qF8dh1q6tuwNPsUoumdqE6RzsDkEgJwZy7gErA9cfe+HTGlhtKmJABjqU5UpVtQk+nAwtjd8JtlipJEKpLr2jCMECzLBKlKLNq/fNYryBJtAQG82hIynwwWEMA7Ge6CnMOoLMDoCsErpcS+/OUvq8xq5PMSyDLrGrOrUbWBhY6XoFc7YK3KoAEyebss+XZijOoS8B75NPd6c8OG7yiwW8QR3bYNxzURcHwonbcYVye3oSaVA7exJFMEE/AK4BEbSBuYmDbA/2KXUkmpZgrvZBtqU7tQV/8TGIVh2HZA0aUcx1SAl6B3/6AiA/1Evg/HysHMsA/tbyXCO8Nu/CS9XAG8k/TGyGmd3QK6w3nzzTfxxz/+UW3AFMHk8nLS6YP1ADV2Upy0XBi5vpQsu+uuu4aAsN7n2Y/OGiQyHFU6u/y1f/9zCHshuFYhHLMIrkNx+gAC4VJU129BIrMb8dRTqK5vRyLNzE1UYBCwIzaQNjBxbWAzYqQzNDylJMiuvuYZlM1dDMP2wxtMG1xYmBuktm7dfcotHDlyXKN7ZH5i5tYSwDtz7/1kvHIBvJPxrsg5DVlA82oJRIdPermOyPK3dq46bTCjvOTqUl9XD2Tjjt966y28/vrr6hhMG6yTVwwdNI8vR/tyaYMPHnwJlhWAGTLh2WVwyP2j/JhdjCur/h7xzDNYqgamdaA6xUFqW1CZ3iF0BgH88tAzYW2gFTXJZlRmW/D5bAcS2Z+jbM6fwQj64FhhGI6DyGAmtaG0weTp5yFTmIcrmZZVtU+WCO+0vL1T7qIE8E65WzazTpidC8EsJ4JbzcXlnMtYONedkHawXK/TBpPiQAkzRnIZ3eVyJqKgli8Lt9HbqwUj/BgYoGJETjUim00rKkOhVwTbdmC6QRTYfnw++le4umE3KrMbsTTThli6U2VVi6cHE0wIf1cA34QBvpkdWU6k21Gd7EJlqh2JVfswv/qvBrV2mfY7CKvQU//pbDYzNLB1NH5ihO5kWlbT/lgA77S8vVPuogTwTrlbNrNOWANeAliCVYJbDXZP1flwGZ0s6xAgM20wwS65uoz0XnjhhSqTmmEY2LNnjzIm646mKBDe24/Vq29QHWPYKYHt2DDDAfhCNi6YncSyLGXHfoaoojAQYJDG0Kw0dmMK6Ijs2MS9zp7ZgG9m253/u3YsTbdjWbYdi+PfQMAxYFrUzA7AdVxY1M02Qjh48KByDxq8jcZXzNRttM0E8M7UFjC5rlsA7+S6H3I2J1mAAFYD29tvvx3PP/+8qkGQqpcP30TX14CX60hnoIJDUVGR4uwWFBQoZYbh2+X7XYPktWsbFdiNhCODWrsGArYPFXOWY8U1W1CVZua0ZsST7YgnmVVtG6KM9KY6kJDEEhLdlejuuLcB8ucT6TZUpVpRtXI3Ftf+DSzTQMQqUDJkAbsIluMibFk4sD/3FogPz6fyN/n6jZlWXwDvTLvjk/t6BfBO7vsz489OO8yXX35ZSYgRtO7evVvZRYPO0xmJEVi9PUEvs7HNmjULd9xxh4r+cn2+hZ0eUxKz7Nu7D/6AD27EgGO5cO2IeiVaPGsxlqWo7UkKA5UYtOwY5xLRndmRRYkqj9/9b0dVpl1RiKqTbahKd4IpvGuTT6E69RQq089gxYptKLkgjgLHB9c1YVuF8FwP/gIf9u59Uf3P9TiBfH2F1M/RxWgHifBKa5gMFhDAOxnugpzDKS1AcKkVFX7wgx+AkVmqKqxbt26It3u2qAvXs8MiuOUANT1IjctHA3h150dZMw6KC7kuHMdAoeHAtUPwuy4W1dyHmmzXYNpgDXYF6Iwf0BFbi63ZBlqVAkM01YlYphkJSgKm+HalDfHsT7Es3YKKWSvgN1xFQ7IdCxG3VL2xWbOmSfmksz1Un9JxycIhC+iAgwDeIZPIlwm0gADeCTS+HPrsFvjv//5v/Ou//iuefPJJ1RExOstCsHo2sMt6GtgOfyXJTozTSLYffoYa7L7yyiswTUNxgy3Pg2sR8Low3CCurP5rJBqeRzS9DTVKfkwAr4AvAeAT0wYIcNuxNNuiMqnVJlsQT3VgcaYVdZldqJhdD7/pg+UF1UDTiFekfEzj6utz4wD6dNrw4V5AvudjAQG8+VhL6o61BQTwjrWFZf/nZIGbb75ZJZJYs2aN6owefvhhtT8d+R3JzjXo1SCZv/U0ku1ZR4Nj7iObzapz8cI2HNuE5xQhaPuwOPY/cdWqXViabkY0/YwSshcKg4C9iQF7YndSiarS21HF6G66WelfR1MtqFm5Fwuj34ZhBeGEfbApP+bmUo2vbEji2MBR9UDdf6x3pO5B6p3GAgJ4T2MYWTwhFhDAOyFml4OezgIEltpJUiuXagolJSVKWYEZ1UhnYCGPVoPQ0+3rfCznMRgNJtDlfEiRIezCtk1EHAM+04fiC7NYln4G8eRm1blGU08rfU8BvAK8BPBOVBtox5JsLm1w7YodisqQSD+LhVU/QNCx4XgBMIuaZ5fACHowDB8OHjyg3EZvb59KKsPkMlJGbwHty4XSMHobypbnzwICeM+fLWVP58ECGlhyVx988IHSzqWsGLV0CXwvv/xyHD58WB1JO9PzcNjT7oKAVw9SW79+nYrsFhaGYVkGXMdGyPShZE4N4qlnFcBNpFpQu6IL8cwmLMm2IzY0YG2iOn05rgDOmdkGKPtX2bANtUwZvIKqKLtRU78FplcGx/UpJQbHJvc+DM+z0b3/uZxfOdKHY/1A/ygGtZ7WkczQFdpHC+CdoQ1gkl22AN5JdkNm+umQqsDMZ5w0Z5YKC9TQpZZucXExrrvuOjCbGouuM1Z20/vv6elWnSIHtjCy6zqOigiVzP48ltc/jVimE5WZbYilu8AR4dXpzYNgVzi8AjhnJuCc2PvO/12LUmiIJbsQW7kRdalWlM9JwHF88CxbSZAVFrnqIXbd+nuVC/n0yKcY6IeaxuMN0lj5rcmyXwG8k+VOyHnQAgJ4pR1MCguwc2F09+RCGgHLL3/5S7hKEcFRc8/z8NJLL6l1BKVj0TnpYx840APLMhEyQnBcE47NzjIIw3SwqO7vUZfZiXj9LsSy21CVaUM0zdeobahJMsmEgB2xgbSBsW8DBLiU/Dsu+8dMastXNGNpqgtL0u0ouSgBI+RDxCiCY0XguDmw27h6NUhh6O8fQD9TB4OZHY/i2LFc2vCTfZL8HrkFBPCO3FZSc+wtIIB37G0sRziLBTSw/Oijj/Doo4/iwQcfVBO/v/POO0NAmFHdlStXwnEcRXFg1Hc46D0VYD7LoT+zmsCZk47sHj58CGXlJfCHgvDcCDwzBNcxEAg7WBj7f1G7chdiKWrtanB7vMMd+05egJTYeKa3gRYVyVXJJJLtSPC/mNmi/o9RZlJLduALK3+Oz82/GQVBHwr5wGp5cCMmfH4fGpuahv7rxx+atTqD8Hc/4yDzXCCAN0+DSfUxtYAA3jE1r+z8bBbQnQwB5m233aZeL/r9fqW5a5qmSgXc3d09tBvWu+WWW8ABbOT1UgtXJ5LQYHWo8ii+EDTrqa+vH41N16uO0QszsYQLzy6Gz/bh4gW34c9W7URUgd2ZDjrk+gV4T1AbSHXkAG5mMxL1O9SbFqW1y0xq6WYsW7UdVyb+JwyvSCmquAS7roNgyIfy8oqh8QDn42F5FO5m2m8igHfa3+IpdYECeKfU7Zq6J8sORYNbfRX6N0HsrbfeqsAuM6EtWrRIJZhgJJcD1Tho7c4771S8Xm5LJ8rfXH7BBRcocEwQrDstvV99nHzmObBLpYijaGy8QZ2T55mI2EF4Rgn8tg/Fc2tQV78F8Xoml5igjl6OK7af8W2AEd1OJNKM8jLJxDbEkrtBhZRo5nHUZHZiYfQbKHA9GK4PNmkMtg3DLIBp2ujp2a9cA/0JfYb2H/n4C6l7ZgsI4D2zfWTt+FpAAO/42ntGHk13JKQu6O80hKYNPPDAAwpYXnTRRejpyeWuf/PNN7F69WqQq8tILuXJSGf49a9/PWRDPZiNoJfRYNbXZbSgl4PlWNatu1edk1NUCsfxo9g2Ydk+lF64CHWppxFPs2PdKqBrxoMueeCZyIe+RLIDieR2NVg0mmlGlKCXWruZFiSST8J0ZsF0CHZzagx22AfHc7B/3y/V/7yvr1f5JPoLTa3SPkTm524BAbznbkPZw/mzgADe82dL2dMpLKA7EQLYt956S9XIRVFzA9TI2124cKECl/fff79aTyCsAasGtRr0zp49G++9997QkV5++WUUFhaq7ZuaculAuVJvP1TxNF94fqzLc9LOmYoMrmvDcSyYYSPH+bOCsCIO6q7ZiHiyG5WpLkSzmxV/cCI7fDm2AM6Z2wZaUZ1sRTy5HdF0K6KpXYhmNqM6tRnL67tQdGGdekgNU3rMCEMrMtx733rlDY4efR849tmBsqdxFbJ4FBbQPlVkyUZhPNnkvFtAAO95N6nsUFtAR3OpsEB6wooVK/D73/9erdaZ0t5//31ceumlJwBe6t7SUWpnye0Z6WUklwPVSH8gKNb7YKrfDRs24OOPP1b7HinYZWWeI+vryO4rr7wM0wzBMIJKkcFyDRhWGAG7EIuqvoE6Zm4i2M20q2jSzAUbAjTl3k90G2hFdXoTyNmNpvmf3Ib4it34QnIXSudcoxLCUCvbMRwUc5Caz4cbGtfiaC/fNPXi2MAn2lXJfIwsoH24AN4xMrDsNi8LCODNy1xSeaQW0KCTSSLmzZuHUCiEhoaGoUEimt7w4Ycf4oorrlBSY/Pnzx9ar6O8GogykkuwW15efgI4JujVx9LgdaTnqOsdGxyoduwY0wZn1P7DYReObcG1DYS8ElwZ+yaWNTyHaJqZ1LYhkeyU6K7QGYTSMsFtgHrX1Nslb7cq/RSuatiBhVXfRMD2w3NCsKwwIpGc/Fgmk0V/f4660D/waU5sVzsBmY+JBQTwjolZZaejtIAA3lEaTjY7swU0P5fSYuTXEvA+9NBDaqO33377BC4uZcjI0SU1gUoNGgxrZ6nnlCDjoLaioiIsWLAABMssXM9JR5TPfGYnrtVgl1y+xsbVCux6YSeXSc21ESrw4XPzb8LV1z6NJexYKWafbFfJJYZrfkq0b6KjfXL86dsGT5b6O57MJUGVhlQrqlKtqM3sxZU1X4PfC8E1C1FkOrDDfENjwDRMHDx4UP35j/Z+jIFjA8JmONEVjskv7bt1hJdZKvn2rKKiDO+/n8uYqQMWY3ICslOxwDALCOAdZgz5ev4soAHvI488osAuo7OaY7tnzx6VNe0nP/mJOiA5uXPnzlVZ1ILBoJId09xfzbHV9IV163LpfYcD3nwcJuuqSDB5vgMD6D+SE5e//uZGBXaLwxZs1wfHLoQZsFA6ZyXqUo8gkdyKeKoDsUybGg3OqJLqbCc4wjV9QY4AWLm3VGFgeu6tWJppQ2W2FbFUlxqkVp3eqpK7xDItqErtQHV2F5ZWfw8h20XYLoAXqoDl2LAdU6m56MGwVF+hD5BpfGxw9OinyscPB7yhECUly/Dee4fUOv1mTu7J+NyTqW7n0QS2NLIRwKstIfPzagH+qVgIBmVKtQAAIABJREFUZufMmaOitwS9F198MTjwjHy6u+++e+iY5OlyvVZcuPbaa09IH6yjuYwGc1vuRw9e08ca2tkZvrAu/zCcdPRh794X4PMH4YQdOK4fYbMERshGScV8LG94FLWZTeBo8Hhqh8qiFksz0USz6owFlAgwlTYwVm2gFUwoQZBbld2qshjG0h1IpLcgnmKUtyOX1TDdheWpdhTPvQRBw4BnlsF1/GAa8IKCAuzfn5Mf0w/RZ3APsuo8W0D72A0b1iu/zQgvAe8FF5Tjgw8+UEfLx3+f59OT3U1hC4ym3QjgncI3fLKfun4S02C2tLRUcXA5gE1He8nR1U5xeD2mESYApkoDCxs3o8Zar1dLkOXb6HXEWB9zX88BOJaBsOHBssOw7QjcUBhBy8KSur9FXaYD8fp2JJJPI5baiaq0jvAK4BWgN1ZAT/ar21YszQhvG2LU2k11Ip55ErHsRkSTz6Aq04JYuhPL6rejdG4MAcsHxymERVUGLzdIbeXKBuVf3n33XXCALEHWidN7+OADmUZvg5PteeLvd97JKfN8//vfU4A3EvGGKA3/9//+f/jkk48UtWH0x5d7N71td2J70v9h9vv59v3EEQJ4JztqnOLnp6kNBK7k3jKCW1ZWhksuuQQciMbCOnpw2oEDB4YiwqwXDocVxWHr1q1qzogNub6vv/662nY0URsNdl85+AqCVkgB3GLLgWfZsM0yhDw/FsXuRnXDdsQoe8TIbnLnoDpDTuCe/F2hNAgw08BM5mPTFqity7cp1fW7kEhvRZxgN92JaLoDlckdqMt2oWxuGgHDh7DtwrZNGK4JywvBNAOYNesCzJpVgfLyUvUana/SZRpLG5SjooLT8WMwmltUFIFlmer+WJahZB/lnhy30XB7yffhdqlQOvyUJSV2YCKqyy67DO+/P7q3AwJ4pzignMynr5/ACDC/+MUvKmkxglVOBL9sxKQoUIuXhaCXUWHKi33pS19Sg93I6eWANtIYOHFbDl5j0WBa/Rjhh34yHBg4NqTI4IVL4VgOCi0HhufD5+NfR132RSVgz+hSNN2uXp1GM62IMqqUYbSpPRdxEg6vKBVIGxijNtCKaMNGxOufRnX9DlRnfooYZQGTzyKmFBmewcLY1xFwfYg4FiKmoVKNhygl6IZUVjW+Pg8GC1RUkd9lGlsb0Na0MQemcdL2ptQjH0b0RNCr18l8bO/J1LYv21BuMowQCgr8KCkpxnvvjW7AowDeEQIlqTY6C2jQS04ugeurr76Kr371qwq8EvASxDItsAavHJymqRAcVf29731PJaZYvHgx7rnnHrz22mvqRAii9b7zOTNGhHmsxsbcILXCsA3DtWA6xQiZPlTMuRo1meewOLUjx9HNNIOcXTVR51OlMW1TA9jUK1YBO2MEdsYmYiiR2Klk11ZEs+TrdqA6ycxpbYhm2tSblrpUFxbG/xeCTiFMx1acXc+2EAkXwit04IXLEC70ECl0Qd6oTONnA89zhoAtk/dw0kCXc64ntUHuyfjdk+lga74lYEKouXNnj1rhQwBvPmhJ6uZtAQ1KmWVNg1UOQKNEGTV1+ZqCkmWUI2Nkl/UJZjVVgb81507vS/Nw9e+RntTJSg/kCNs2nXMRCiwfSufUoi65UyWVqMowg5PW2s29VlUyZCqy2zEI8loE7AnglzYwhm2A1AVFaUi2IJbajqWZLYhnOrB8xeMw3BI4dgFsKwLDLYDtOfAXFAy9DdJvhWSeezs2XnYIBgOfAbkEugS+1Dfn+vE6FznO+N77sbS33+9X7Yb99mgl7QTwjhQtSb1RW4ARWw1gGV3VHFqdQc22bUVxoDSZHqRGcMq6OvLLg3M7/ub+9DTSk+rv71NVOWKbg+Yc8v0cB6YbhsnIbkUllqXaUZndhao05ZCakchwYFqn4upSHimn+dk5SGVoRpSd7xh29rLvqRSNlHMdi/ZKOlGifheqkx2oangMSzM7UZ1mJrUaWKYPxUYYjh1EMGzCCtu457v34Ef334cNP7wH6354PyiHJdNY22A91q27D+vX34eWlm2or79GARNG4wh0NWfXdS21/Prrr8UjjzyIdevulXsj7TOvNsA289BDP8Knn+osiTk1qJHiAAG8I7WU1DsnCzAaq6kK/K4Hqf32t7/FqlWrFPeOKg7k6BIIswyvPzyaO/z7mU/qGPowgL7eHNg9sH8vTNuE3/Bg2oXwrCAsy4HfNbCo5u9QnXkRlQSwmWZUp/gKtQvx9HGR+7Ho0GWfAhRndBtg4oihh0YmmOBbk8EpxbcsXUqHN5bqRCzVhtr6ZpTM+TMUhHwoskw4pg3Py2VSW3vj2jO7A1k7phZgQGLLls246KILFT9XUxl4f8i9pG+nPNlHH+USBo3cj4/pacvOZ5AFBPDOoJs92S5VR30JbG+++WYEAgEQ9OrBbOdDp7G3f4DQGYcPHUJFeTkCoQBsL6I0OplgwvBcLIn/HyxvaEc0RZkjAtytKn1wPLlDAO8QGBFgehyYiS3GxxZM7rINValORWW4qqEbFy+4Gb6QD67jwbbC8MKeihquWbMG/X05fv7Ro8y8mHuTRBAm09jZ4JNPPhmioTFyy1faWo2B0V3KS3LsRnFxMbq7c3rIDHboSe7N2N2b6Wzb0WIZAbyjtZxs9xkL8ImdlAPNsf1MhVMs0BQFzu+66y4V6SWvl47z8ccfV1tw3WjKMZU+tB99vcfQ2LQW/gIfwo4L1wnAccPwGT5cvLAB12T3IHbNDsSzHJTWnhO2TxP8Do8+CcgZH5Ajdp65dqbyyeDEB0+VNrgFlZktqF71LK5M3A3LcRCx/HAcH4xwCQJBA+XlZTh8ODdqW78VGo2/kG1GbgHt67nFr3/9ayST9cpnc3CUbecGqnFwGv14U9MaaGBMqpoOdEiEd+T2lprnxwICeM+PHWf8Xk7V0RCojsSpcVsNaklnIKd33rx5Q53YSPZx8g3gNgPHcnSGpsYm5XidsI2w7YdnOvDbPpTMSqMm1aZelcaybYgmqczATE5bVaRXDVxL8zWrgDCxgbSBsWkD+v+lAe4gR35Q9q8q2YXqbAcWxL6FgGvCCTkoNAmobPgdUpJMHOg5oP7+jGhJGXsL0Fdrf93dvVfJR5KywAFplB/jnNFdgt2bbroJfX396qR0f6D9uZ6P/RnLEcQCOQsI4JWWcE4WUMBygLQBKID6wAMPKA4unRuBLJ/m9fczOTiu006UA8t0OtBTAekznTDrc19akWHDvRuU4w0XF8K0XXi2CdPxoeTCKJaTH5jcg6qVj6GK8mPJp1GdIn93K2KZVlQxy5qAXbGBtIExbANa6UQDXqbw7kAi06GkAKOZZ1Fb/yRMLwzXCiLsWLDMctiOBzcSHHpNns9bpTP5D1l3ogW0z9Zz7aNp7xtvvDEXSBhUX9Bgl8mBTNMAwTAL6+brx088C/klFjg/FhDAe37sOGP3oqMqzJDG7Gl0dpQbu/LKK3H//fcrqTEaR9c7m6HoHHXRTlb/Hsmc22inTNDseTkeme0asKxCGI6BUGEhln2hEzXpHYimtyGa3Yyq9E6VwjSR3qQGrJHHG03tRFxoDWMIdiRqKg9Ug4BXJ3JRYJdvXbYhkW5DTWYrSucthRMKoMh0YFkRuCURBbTuv++HyiXw4Zb/ewFVI/GQ+dXRPph+mbQEll/96ldIJpPqHlCJgYPTOHmerZaR3kCaAwt9sd6HWiAfYoEJtIAA3gk0/lQ/tAaWjz76qHJ0HJzAdMDUy+MgBb7SYsIJKjGwDAezZ7p27lfv+0z1TrVOb9fT0wPLNhG0Q3CdCFyLkaFC+F0LV0bvQU36aTBtaU16s4ooVTFdKUXumTI4SVoDO2JRaBBAJqB8bNvAiRHeRIb/OSZ72YKalc0on7tCKTKEHQNhsxCuV6T8SlNTI3qPDqB/oB8D/TmZQgFWp/KI57ZMP0jogAX9qmmayscz7TuBLuXGOKe/v/HGNUO+W29zbmcgW4sFzp8FBPCeP1vOqD1p8Pr666+r/NYXXnghnnzySaWj+/3vfx+zZs1SkV5q3pKTywgwi5YjO52x6GCHT6erd+LynBafjvAcOnRY5XMPBEMwIxFYdgEidhC2Y2NR1bexbFUXlmZ/hmh6O2rrO5XGZ7ThCQWA48mnkSCXN7kd8czG45nV5LW2RHqlDYxBGyDgJY83N1iNUd1Yeitqr+3A/Pg9MIIhhG0HlhOEF87JjzU1XY++/qPAsePShZrKdKJfkF/naoHe3qNqF0wWREmxoqJCMMVrJBJW/GlGeJlIglxqTWFg0IFgVx5AztX6M2973XZ04Gq4BYg52K64Tvf1w9eP5LsA3pFYSep8xgLamTU15QaEkb7AogHtG2+8oeTFSkpKwEhAd3e3Ws9GqzsnvY/P7DyPBb39wMAxZmj7EAP9n6K3tx83NN0IX8AHJ+LBtcKIuLb6fdH8O7B85QEszmxSUaRlK6jIoCN4wwbPDEV29TJdR+ZjG+0T+848+7Yikd6MWCY3UDRR347Eyl24Iv638AwHrhMaGvUfDPqVIsOhQ4eUhzhVp5iH65Cqp7CADjbQR2tg8fHHH2LNmlwqdtd14HoGbCeESKGjsmQWF5cM+XcBuqcwqiwalQV0W9Tz4Ts51bLh60/3XQDv6Swjy09rATY2lvfee0+pKfBV1oMPPqiWMRLA8uabbyp6AyXGdHSX83379qn1dIyjfUpTOxj86FdqDHytmeOXrW26Vb1acyJB2FYxXDuMoO1D2exaLK/fgliqFVXpLsQzm1CzYntO+kiUGMYgcifgdeaB13zveesgnWg7EkwyUd+K+KpdWFR9L0K2hxBVGOzcK3NKXfFNUU9P7sH5fPmP4b5Evuci5vTLtC/L/v37UFJShFAoqNQXFF/XNeF6OQrD2rVr8dFHHylfrt/6iR3FAvlYQOMJcsSJI370ox/hkUceUfiC+9Ht6uDBg1i3bh3uu+++zySnGunxBPCO1FJSb8gCuoHS0S1ZskQ95TNxhC6kOWgOL1UbWNiYmVGN4JiDHljOPUJzDMeQE5nn/l58fr/K6OOFC+BYueguwW7RnPm4OtmJapVQYjMSyZ1KfiyXZCLfTlrqC5CTNnC+2gBTB5NaFE+2I55pRXVDC8pmXQHH8CEYdlSCGOq5FhT4sG/fniG/QR90Ph6Y1Q7lY8gCBLpM2sFCe/NBQ4NdSo1RckxRGgrD2PDD+xTYZV39Zm9oR/JFLDBCC2g8weqpVEphBOIEjg1iIeBlcG3u3LlD63TgTIPhER4KAnhHaimpd4IFNFj97ne/q5QZSFvQjZAD1dhg77zzTnz66adqu5/85Ceqnud5uO6669Sy89Fh9Q865+79+2HZHhy3AI5twzXKwExqfjuMxYnvoyb7PCqZVCK1BTX1XYinOlGZlUFp5wu4yH4EBOfbBmLpNlRl2lCT2oxolmopbSibXQPb8MFxIkpGMBIZTBu8do3yGf39uVH/7CSHd5QnOCf5MSoLaPDQ19erBp/5/T4FePnAocGulhwbHmnndnI/RmVy2WjQArrtvfLKK2pMENNQU8NZL2fUl4MlI5EIGhsb1VajwQ8CeKXJndEC2pGx4fHpn0A3FwXIvfJ67bXXVI50NtDLLrsMmtNLsMunfm7Phsntr7/+ehUNvuiii6B5ePl2WtyP2uexAfQezZ3DKwdfQsgIwVIjhkNwbAOWbSBoRrAo/tdYlt2BpdltqEw/qwaj1WQeRzzN39vlVf4Qh1kAW76ATeqfa5tpR3WqHbHkJiRWdaFw7kqYIZ/Syg7ZEURsrciwGhw8Rd+Tr784o3OTlUNAVeuW/+pXbyCVWqECFgS6pDAQ7B6XHFuBN998Q1nuk084diJHbxNTigXO1QK6Ld1www0K3DIt9auvvqrwxqWXXoqioiI1EJ6Yg0WDYYUHBo4rtfC3nk4+JwG8J1tEfp9gATac03U0mufFAWnk11GZwbIspcf7hz/8Qe2HjlTX+93vfqcaLfV6P/jgA7We+8+nEDxzGzb2fjby/n5k0rnXIF7Eg2NGYHtB+D0fFlbdjasyzyGW2grKjlVlKWbfikRmIxKpLsQyHCGuZZHOtfOW7QUAShvIpw2Qt7t8RTMSK1/A/Ni3YRpM+R2A6flRGMlpumazGQxQemxYNsZ8/IXUPbMFdACDtXp69quEEYzikrpgWQZy0d0cX/emm9YO0dBO1yec+WiyVixwegvoiC1BLsf+BINBfPnLX8aPf/xjUPKUkx4rpINpxAF6O71n/taBMb1MzwXwakvI/JQW0ID0nXfeUQ2PDe7ee+/Fyy+/rOrrxnb77berqMCcOXOUKgN/k+OrwSkrE/CS2zt//nzowW16/6c8+GkWEiP39w+gv68PaxpXq+M6hbl0lmHLQzBUgNILl6Muu0OlC2bmpupUp1JmiDb8FFVJguAdqE4/KRFeifBKG5iQNkA60TbUpbfhith6BK1ieJYPphOA7ZlwrACCZhCvHDyovIDu4E7jEmTxKCygI2QMPqxfv25QciyISMRTYJegNxQqGJQcO86fZgCDfjvPWMUozlA2mWkW0G8aSGHgg1dpaakCv4zufu5zn8O7776rTKJBLef0DWzDpE8SV2hfobHJcBsK4B1uDfk+ZAE6NN1gqK4wb9489ZohEAioJy3q665evXooo87hw4fx0EMPKSky8nk5keLAQWtshP/4j/84lJ2H9VgYJci3KAA9uN2atWtyr94iDgw3CMe1YRk+zJqVwPL6DlRmOrG0gRmbOlGXbEF1+ilUpbZjaXqXivRyWT4RKakrEUxpA/m2gZN58vzPUXO3GfHMDlSln4DlVMCxfLDDpCNZSkqQacD3H8gpuuho4mgejvP1LzOlvo6MMSihaWg6axopDAS91NctLi4a0tclkNAgWe7FTGkp43udGnOQ8njFFVcoPi/fHDPaqwfAH3/gyr19Jn2SY4NIq+T8jjvuGMIWJ7dTAbzjez8n/dHY4DjpVwJ0iOTckqrAxsQnLoJeNkKCXi4jINYN9Re/+IUaTcnXD1xHovmCBQuGVBsY+dUdmN7mjEYh40GxHvpxDH3o6z+iqu/d9yJ8BT7YEWb5CSBieTBCLkrmzMfy7EbEUz9HlRKxp5YutT7bkMjwe8eg0D077pM743w7c6kvAFDawJnaAJVQYukWxFKdSKj/4SYkUi2oZpbD7DbMmrMQpmHCYXIJ24AXtsHBUi/uOR5RPKN/kJVntAA7/IGB45xG+lxNMWPq9eLiQqXCQIBLoMusaaQxcNDxmjVr8Omnnwz1B2c8kKwUC5wHC7C96vZ5zz33KKxRXl6uaJLvv/++OgLbsAayBLu6rW7cuBGUyeNvgl4WXU+fmgBebQmZKwuwgQxvdC+99JKK1lIS5PHHHwd/k9JQUVGheLvk2hDUsuHp1xF8OmMU9/LLL1fRYAJk1v/iF7849OSlAfXIzE7ESxCeG6TWc+AAbGZwU5MF28rlcw84FpbE16GuoRXR1DbEUgS0kjziTIBE1glgHbs20IrKhs2IJbejJklK0SZUZShD1oaa+hYUz12OUNCAY0eULyHYYme1dlCRYTRvgEbmT2ZOLdIOCBA00NVgQo+7CAaP83WpiGEYQRQWRrBhw4Yh2pmO6s4cq8mVTpQFdFsjhiD1kYmrCHhJhdSD1XQb/tOf/qRUG4ZTHUi9ZICOgTlKmbEMB70CeCfqzk7S47Jx6Eb3b//2b2CaYHZCBLssurH99re/Vbq6oVAITCvMOtTi1dFb1mXjo5beY489hrffflut4745aWB9djP0K7DLgSsshw8dRnlZBYwQBeldOJYLxy5CgRfAwvjXsSzbhagaiEYKw1ahLEwIP1NA5NiByKljWw4KXbJyE2LJHaipb0Mi3YLFyTbUrdqHeQvWIhDwwXUYWbRzKgB+H1Ta4L5cUhpGJqWcmwXoN+lr9cMDNXZvvPFG5a+pwDBcciwQKFDBC0Z+WShPRqAsRSwwXhbQ+IIcXgbKysrKhgbDU+6U2EHX2bRpE/x+vxpbxPNjwI0gl4CXIPhUA+MF8I7XnZwix9Fgl8kh2BGtXLlSNaC9e/eqK2Cj0pFcOsNbbrlFNbqLL75YzUlZYNHE8eGXrSMNGuyOzJlSiijndPv7+rGmqRF+nw9hz4ZtWSqTWsDxY2Hs/8HyhuewNL1FRZFi6a2oZVRJRXmnDkgQoCT3ajq1gWi6GbFUG+Kp7ahKb0Ptyp9jQexumJ6NQtsH2zLguCaCIT8qKkpx+PA7ymXk9HaHew/5PhoL0NfSF7PQpyeTSQV2teQYQW84nKMw1NdfMzQmgz5+ZP55NGcl24gFPmsBtlUWRndJg2QQ7c///M9V0IwUSYJbzeMlTuEgNY4d0u2b2zLIxvFGfPPMdSx6v/wugFeZRD60BbSTI3+LT1h8ncAorhZ71hFcPmWx0bG+Br2kPZDeoBUcWIf19Tb6GPnM+wf61HG4j6bGJvUnCDNtsFOgOkp/0EDphXVYnu5CZaoLS9PPoCq7BYnMJlTX75IIr0R4pQ1MWBtoRU2SUoDbsTjThkR2JxZWfRshOwzXDsKzyBk1YJhBNfX05AapaepSPn5C6uYsoIMJnA+PhvX09KhxGAUF/qGorga9BBbDJcd00ENsKhYYawuwnRJD6HbL45Eeqd7eOs4JOrxMOkEgTEDMwm30nJlcWShhxvas8Yquo1YK4NVmkLm2gAa8jOiSqsBGRqkxNkCdSY1PVqynJzrI2267TQ1SYz0KR7Pohqz3PZr5J4OZ2tbft0E15KJiG5bjg+UaCNomSubU4ur0FsTST6IyvRuVqd2IZZpBKTLqfE6naJlci0R/p1Ib4EDRuhWdYEa1ymwnqpM/hemVwDP8CFsRWA4zI5KaZKF7vwa7+Su3jMavTNdttM/Vr32pkEM+Lkewq5TAg4PTKDlG/i5TB3d3H1fDYGBBilhgvCzA9kr8oNvdL3/5SzUYngPiNUWS50I5VEZ5GVDTKk98C8HtdFtnoI3cXQ6Wf+ONXHKUkx/eJMI7Xnd2kh+HDY+Nh42IDYhPRh9//LGK3lIPj6CXWngctMbCOsMbKl8fUEaEAJlA+VSvE/I1gW6s3d09cJ0IXMdWwvQK7FoRmO4lqE0+hurMNsTSHYim21GdbkZ1PakMHajKbhPAO2HRPQGnUwmcjs25akWUjViebkbp3Cr1sBqxQrDNMNySiHqIXb9unXINOg15vn5C6h+3AP02ebr05/TffFPHiBejuZQdy0mOUV83qBQa9u/vVhtrf358T/JNLDD2FmB7ZVvlxMJsrKRSEnMwWsvCOozqchA81zFxFccEsRAjkKv78MMPK3xCoEzQzKKBsPox+CGAd7g1Zuh3Nho2quGFDZDLCIJvvfVW5TQ5UpLcGD5hUa6MhfwZOlaWH/zgB6oeG+S5Al4Ndvf37INhMsuKA5dpLp0gDMdBwJqLpfEvoza9C1Upgt2dSKSbUZvchLokAXArKjPscAV4iQ2kDYx9GzjpbQq585kWLM1sRV1qF0pnZRAI+RB2AnAtC04kp8hAmhJ9DP/vutNTzkQ+8rYA/bXu5Pk2jv46F9UND0qOUc0ml8FuzZpGfPLJR8rm2vZi/7xNLhucowXYZnVf//rrr2P27NngeKBFixYNgVrN0SWoZQSX0xNPPKGOzO0pQcaHOnJ3KYvKwm247uQigPdki8yw3+xsWA4ePKjkxvhURdkx/ZTEdQS3BLkEu3SibFykMBDoaif51ltvobKyUj2Z8SmNRa9TP0b4MfwPQEWGivIK1VHargPHCiHs+NWr0Cui30T1tc8gygExSlt3OKg5qfMV0CvAX9rAmLSBBIFtig+WuTTdieQOxNLbEGXSl3QbvtCwGwujfwm/bcN1CxA2gyik/Jjfh9Vrbxjq7E7VOY3QZczoatpu9ONUVWDp7t6rgG0oFBji6+pUwZQcW7/+PpEcm9GtZnJdvG7DVFig1i5pOJz0cn22BLFcz3o64EZFEQ5mo4TZydxevd3wuQDe4daYYd/1kxVpCuR4EcjyVQKzmjDRBHVz2bB0PT49sR6lQsiTofQHR01+97vfVTq7bHhczic1Fg2m8zErQTInbpvLABRCOGzAdky4diF8hg+XXH4T/mzls1ia3oy4SiYxHOzK97GP5omNxca6DQw+XKa6lOa1Arup7YhlnkRddhcWxf8KBeZsGOGQejsTtsMwgxbKyipw6FBuFPVoHozz8SnTuS5BgY7qEvBy8Bn9eE5yLEdhINhlMg/TNNDTc5zCIHafzi1j+l6bBsLEJowGE3P8/Oc/V7iBb5ZJceCkI8PDLSGAd7g1ZtB37ew02CXA5VMS0wHzOyO5bEjk7urXBDQPv3MZubpUcKBzXbFiBb72ta/h/2/vzYPruK5zX0xnHgBwpmVJlm1ZkiWRBAhqsh2TmDRZIjg4HuIMlcp9eXVT9yY3yc17SSxbIkHZsuVRtqyREqk5VuxYJEDZjgZLpO0MlapUvbp/J1VxBlsSJc4kSK5Xv938DpqHBwRBHoA456xd1adPd+/ew7d37/316rXX+qM/+qOTjEMrj6nAKpKM8XnSzmeKls80B/NjLakm67zgGrtm5WZb3vuY9fQ9Hpk8cundtEjvnNSJ1Pm+cl94zLoGHrWe3qdsRe9j1t3/qC0ZfNiW9D1jNww+bUtW/L/Wkuq0RC5hqVxL5Cgm3W7ZbOSdkXFBL9NTGSM8rhA4HkwzcbRz52vW27syjJno6spNMLq7jKN9fatCHOJq0bGIg1LzvSNwvhGgT2orLwvn4RR6weMrNBwFHoL1BtYOodaAIA5dXukAi1OQnhPeclTr6FgdpLxKnCfISDNmxzAFgorCm2++GVZE0mkgtRBfOhQqDbw1cS/x0OtFGkwnu/zyy4P5ENJkAqODEU/5lOc/0bE65gsv/CBIJPKFrGUzrZZP5SydbrL57+62a/uesq4bHzEI46fyAAAgAElEQVTse65Y+bQTPSf73gfOWx/YElQXUGsIC0UHv21XDTxpywaetQ/3PmnzFl1uqRTOJZKWzqQsmytac3Or4RY8GisOTjQU+PlJEMA2ucbL0dHtQVcXk2NIc+UimD1kF6kvdo0JkAWNzVMdnycpkl92BKYdAfqs/ADgnALCi6AOk6iQXbZLLrnECe+0t8QsyUCDGW9CkrAyyOmY63pDwgMaA2K5/gtxsGsHqcUWL52IeHQwAgMtxFaL2bDegDkyjvmMoLcw0pksqLwavPnkhqmcaEsGO53pbLOlcnPsho8+YN0Dz9lVNz5sXf2PBe9NlSVPLpFzXLwPTH8feMy6+p+0nr6tdg269L1PW9fAg3Zt35M2513XWVuiydozKculs1YodIQxZPW628OQcPQoi0rcBNZk42P59fj4HZkc2xBcAadSiZi+btbwmpZOp2z79hdCEoyvGmPL0/RjR6AWEaA/I4STzm987yoNtdiiZ1FmBkR9JmQhmezR0Tl0XoT37rvvDpMQ5j7wUKJ7pfsiUgvpRZK7YMGCklkySC0dDPt4LGbD5zXxcEKhfNiT5ukC15Xfyy+/FMzlpPG+hEWGdMZS2Yy1ZdN2Vdef2XW9z9nSgUdtSf8z1j3wkK3ow+zYFpfwnTcJn5PK6SeVsx3jR215/5PWjQ5v7xP24f6nbd6F11lzpslymQ7Lp5PWns9HZHfNLTZ29JAdPXrMDLfBpx8aTjdsNOQ1xkrGccZe9BfjJsfCeJlJWbGYD2PonDmdNjIifd3DYUzmPg+OQCMj4CoNddb6IpmQWiSuqCVgzgNySuC6CC86LhhzRmdX0ls+F2hgJS6bJL0sWOPTgVZDiqiiB0w+mAtBdwad3n/+538O+U02yGoAx+f74OBAmBj5LJcNUt6UNafydmX3f7cbbnzKugYesq5Vz9ny/ketp39z0OFd3u8WGZx0zXZSWK/le8yu7XvEuvqetKsHHrXrbnrCrlr6Py2ZaQr2sjOpzpLb2v6BXjt6LHJXe/TIcTt+FCsuWBVw1nsmUxBjssZtVqbzVY3FxYVCPnwNg/Cit8uXOIgwX+gYe8fH18jM5Jnk5XEcgVpBgOdioq1SHZzwVkKlhs9Jv+W+++4Lg9+iRYvCPi55VRz0dVFnYPBESiunElxnsITsao8ZMggv+r5SBofwKi3uleoDZsnOxA6viDUD+dDQ7aGcLLJIZ5DwZqy1rdnmXXCdfWTwCVvS95gtufERW973pF2z6jFb0f+Adfc+U8EkWb2SC6+XE/vz0Qf0BYUXS/6zP7H1bbHrep+wZQP3W9ctz9qlPXdYa7rdCqmWINlN5wuWyiJxzNhLL70SRtUj2Mccw5j8UTt6/A2MF9bwaDszRYe0shGQ2qKqgOMI9BexvICAgGNMjg0PbygJN7hHZIBxnP8eHIFGRsAJb521vgY1JLr33ntvWHAGmUUagKRWb/6SzmJWDKkA6gpIaUV6IaEQXg20eDZhIRtx5dpP14hHIA5EG/0ZAoNseSgNwEH1IhrE165dH9JtL2Qtky5YOp+1lkyTzV10g10zgH3P8oleE68m4/LrfnwqZo6JYzLVPrDFlvU9b90sSutDhQiii43dzdY98LAt733Krhp43K4dfN6WLL/L2tJ5S2faLJvlhTVpmUwxeEZCIknQeBGNCZAvJ2CVxkfOaRwXZiw6W7cuMjkWLUrLGKpfhUIhLB7G5eqOHTtCcozdlcbe8rz82BFoNASc8NZRi5fIZGzBGqY7kMxibYF93MwY5mmksgAhxhqDLDJIBQJizOCJRQekwRDeDSdcgYo0A2FcgsD/+HEcYp3XQD6yDYsMCctikSGbsnyqwxLB/Nh77UMD91lP/xPBa5qTlamSFY/vfeZc+wBWGDbb8r7HA9nt4avKqu/ZsuDG+zHrHnjQuvqfsuv7H7WOxZdaItUcvsxkMlnL5VPW0tJkL/wgssgACROJi48H/v9kBIQR4zLCCcLOnTutt7c3jL2RuTE8pqHCEJkc49quXbtCXMZkpXFyyn7kCDgCTnjroA8wwIlAqjpMMCKt2M5F91ZmxiC+kuQysLKh8oDjCFz7QWpRYWDA5RoB6QEOJ9D3jd+r/NhTDlQcVJZKAy+El7KFNEdHrZDGOHrekoWUpTJFy6aSlsom7Oqez1rPjd+3rr5KEt5zncj9fieD3gcm7wObrXvw/qBG1NP/cFBpWNr3rC0dQI3hsSD5vW7lVptz4XJryWJ+LG3ZXLPlcpETm7Xrbg3POWMIYwHPvofTIxDhxDqLwyEi4y7SWxxHyOQYal8QXsbpdevWlcZbjaunz8GvOgKNi4AT3hpv+/hEwspd1AlwvyfdWsgnEw3SXFQakOSi4lAuySU+tngzmUwgtpBiJLpYckCF4aKLLgoD7Kc+9amAGPmylQedr3SNuCLDLHybP3+epVvaLJdvDe6CU9mCteVabWnX/7Drb9xqV/X+tXX3P3FCZ9AJyuQExTFyjKrZB1AZ2mI9Aw9aD/av+562JTd9y5YObLWuvvvtwze+YO95/+9YU6rJ8oW05dJpKxbbgtvg1UMREYPsMv5oKx8v/PhkBERa9+7dE/RxOzraLZlsC9YXUGHI5zNBhQE9XlwIExhTuW+iMffkHPzIEWhcBJzw1ljbM6gxeYhYUnyILlYW8DaCiTHUFm677bbSZy6RTCYfSC+SAUgve44lgSGtF198MSw+Y3EaFhxwLoHkV1Jf0prKwKrykjblRm8PF5hapJYrpiybabNiJmutqSa7Yvnv2/U3PWtL0RXsx7GE6+k6iasmifO0zrw/bQ22dZcPPBL0dbsGttrSwYdtWf9D9uGB79kVy//QErm8pbMFy2VarT2Xsbbmgs1f2Glv7WZBGmNV9IWoxobZGSuuxl7GRkgr+/3799qaNavDmIvaAmoM6O22txfCOTyq4VmNMNXxeMYq5hk5ArMQASe8s7BRTlckBkRJTdgz4KF+ACFlAQMklQVo7N/znveUJL3EJUCOkdgSh02L2fCeFhFSM+z33n///UHNAUkwUl2OkRwTzobwqtx8qhsaigbzfCFjiXzGctjabWuyBe9aZdf2f9euHHwkuCe9hom2HzufTnrPnKQ4oXOsqtgH+rbY8j6+smy2rqC7+7hd2/ecXblkg7VkC5bKN1s2XbRCNmVpTBym8jY6+rdhnBgb2x/2/jMxAoyLbJLs4jVtzpyOYHUhmGdETSRmcgxBQdxr2sQp+xVHwBEoR8AJbzkis/xYElMNkLKygGmxK6+80tavXx/M1UCAZVtXEl7u1X3o4aLTi8MILWZDukvQYjT2mBeTeoSkEVOB6OixSH9PaQxv3BDIeUdnztKs5M52WlumyRZc0GUfWvl0cBt8Vf8z1jXwmF3T95D19G+tYKWhihP6KRYgPG0njN4HxvvAFls+8EDQ413G4rXBzXbtrz1qyfwiy2SbLJVBb7fN8tli8LY4suN7YXgYGztox4Od3amMFo0Xl/GYcXnfvr02PHyXocKAl7R8PnIRjL4uLoMjk2N3hXjE98VpjddXvMbnjoAT3nPHcEZTYLCTtPbVV1817Ozi4QzVBKS0BCwzDA8PB2kux0gQIL1sDJRazAbpRf0BsiziqwVpxFM+3H/WA2ysvKOj24IOWvhExySZw5tawhL5Druh90t2Td93bRnSpBsftuV9W62nF7KLKSQnII6B94Hp6wP6glL+rMne7hPWPfjtYDHlur5nrfOiZZbINlkxHb20trfPDy+xG4Y/G8afA4d323HUl9xzcMBjoh+Nr+xXr47skCPNheSiwsAe+7qdnR2G5JfAFzLGceYBNg+OgCNw5gg44T1zrGZFTL3dU5g77rgjTDSf/vSnS+RU0lyuEzd+HK8A1yCy5YvZUHPAMxuqD0ojft9U/x89FM16f/OjUUtlEpZLNFs+3WGZTMGy6WZrLRTtsp7/btf1/ZV1r3zuxGfTyMEEC2Wmb5J3AuXYNnofwLTYZutZ9Zz1YGN38FvR89f3dDBFdk3v49bT96AtG3zWrhp82K7re8gWLfiQZdtwG5yytlzacoVcGIOGhoaCbv6x4DI40tWf6ljRKPEhuPrShi5ub++qgCE6uhDdiPRG7pjxmoYgg/Fa0uBGwcnr6QhUGwEnvNVGdJrTY+AjIKVdunRpGCghqATMiGlglI1dzuNRDe9oqDjcc8894f8bb7xRkhAwAGsxm8ySISEmaGAOB1P8gVAT3tr9ls2dP89aEq2Wz2WtkGm1bGKxJfJZu+Ka37cP3/SI9ax82pb3PmFdA49aV5DqbrblAw+6hNel2/7SM2194DHrCg4knrYVvVsN02PdfU9aV/+WYGMXRxM9A4/a0t5H7YabXrSLLltnzYkm60gXLZdJWLqQtabmlqCT71LHMxsc9bWN2CMj24PJMVQW0NdNpRJhD+FloTDqaXEp8Jnl4LEcAUdgIgSc8E6EzCw9L8KLWS9s66J/iwc0jglcVxyktBBcLDewOI2FbFhf4D/3Sn2BQZW4eGbD1i4uK195JXIFqgF3qnCoDGNHj9jHh26ztqaUZQu4Gk1YMV0IE+dFH/iEfeTGv7GelU8GiVIXhuwhvH1PRgvV0B10lQYnfNNG+FzCu2zwYevu32orVj0RNrynQYK7Br8dHL4s63/Mrh/4nl217HOWKCYsncOLWltwetDWlgimBd96a3cYHs52rJjq2FKr8YUPLwfr168LwgrILWQ38pqWC/q62N3dvj1SYSCuXiYkQKjV+nu5HYHzjYAT3vPdAlPMHyKpge/2228PC0VyuVywpABp1SKzn/3sZ3bLLbeEQVUkFqIL4UWKi94ui9bQ9yWgo0vAV7tcgSqfcGEKP4F0H4vUKVavuzmUoSNTtHQ6a+ls0ZpTTTbv3V123cottnzl87a8d6sFsjv4gC3rf9y6e5+z5b3PntDhbXRS4vV31Yvp6wNLcSDRjye1iPSiOx8I78BmW8a5wefsqu57rC2TtUy2JXxyT2ZTlsliTjBTcmcLKfNQGQHGQ5FW1BNkcgwd3VNNjvXZ66+/HhLiHsZgNtIQYa6ci591BByByRBwwjsZQrPsenzgg6wiDWDhGVJZnENccsklQaKLK2HOIQEmDioL3/jGN2zjxo3BHBmL1CC9SHohyQSRXvI4F7Iriwy4IMZaRHtHu2UyLVZMFy2RabGOiy+36/uesOt6n7JlfY8G96VBsjvwuHXhSpiFa31PWE+v6/A62Zs+sufYPm7L+p+07v4ttqJvc9h6+lEp4qXzKVvR96xdP/CAdb7rg5ZOo8qQt0yu2TL5juAOfPu274dxw4nY+CShsZO9xmp5TUOQwAI0FqJpYRoSXkgv4yR60MJS+/GU/Z8j4AicKwJOeM8VwRm+XwOqCCkL1hgskeJiM5dFZ7K6gB7YrbfeGhxQaPCluLgaJi4WHpD6ot9LkGWGcxlsJenBJWY+l7d8JmepfIulsjnLZloske+05Su3WHff921F74NBXxcTZF1MvEh2IbuDD9jywe8E259OSpzweR+Yrj7Ac/iULe/bEi1aG3jIugcesuWrnrVrVj1lN/TfZ3MuuMFaMk2WT7VbId0WbH1H5OzjYcw4l7EiJFBnP/HxWesf+PLGmgjGZenrygpDW1tLOL9p03DJeo7G0DqDxqvjCJx3BJzwnvcmmFoBILpMMvrMFdfTxTwZkxHS3csuu8yw0StTZdwDoWVhGwHnE7gRhvCi50uQZDYcnMWPBuqXXnop6AsnEynL5vgUmrRMGrfBObui+3/bit7v2zIkuf2R+TGM2jPposYQEd7v2PLB+1131XVXvQ9Mcx/o6cMSA4R3q3XjRW3gUev+6PP2kYFHbe67V1hLotmymaJl0b0/YZHh9tW32OEjB+3o2HGcqXmIIcC4zKaxkHEXSwuMy9lsqqTCgIQ3mUwEie/27SMhBbfCEAPS/zoC04CAE95pAHU6k5QEgb3+kx+WGFBZ+PznP28QTgZPBl5ILhYb4vH5/4tf/CIsdmMgRs2BIInE2ZQ/GugjPbOBgYEwwBeKeUtmc1bMJS2dbLErl/2RXX/T87a8H+ntQ7ZscGswaB+sMQw8EHR2gxpD3+ZosVrfs+5lbZoJj0tPp0t6Whvpruh7xHp6Hw+S3mUDm23pwGa7vn/Eruz6U2vOJayAp69M0gqdbeGZvvHGm4O74GPHDp212tPZjC+1cs/x4+Nkd+fOnSWTY8VivmRyjEVqkZT89iCAwJSbxutaqaeX0xGoRQSc8NZiq8XKDHmVNCF2OvxFYst1giS8kF8CEl50e+ML186G8JI8A/bY2FE7MnbEbluN2+BmKxSzlk23WT6TtaZ0k829eLld3/8961r1VPDc1NOHhFcG7yEH5UbvORe/XhsEwgmkt1Pt9IEt1tOL62Da7Enr6nvIrh98zK7s/t/Wls0HawwsTsvlk5bOtFkylQwv04wfjBUu3B23isM4yxjLRhgZ2WbpdCqYF5MVBi1Sg+xipUHjtu4JN/qPI+AITBsCTninDdqZTVjEF4kuk5EGU3RpZeJGAys6vFhqQJ3htttuCwVFQqvrUyl5kGgciQb5Nes+FiQXxWI2eFDLZ/PWmkzYvAuW2A2rtljPwHciHUEmWHQFg2MJJ7W1Q5CczNZXW+G++xHr7n/algxsthWDz9iyng3WmspbKt1u6VzKMrm2oJIEedux4+RP72czXkxlbKmFuIybjL0SFrBfv35tGAfjJscgu+jvZjLpQIapG2M093twBByBmUHACe/M4DxjuYj4kiG2dJHgYn/3k5/8pH3zm98Miyew6lAoFIIFB9wTE85u8D1uh49EOsHbt71gzU0tVii2WTbbarn0fEummmzu4g/YR7Dx2YsXtUesa/CREw4lHo/0dv2Tveupeh84T33gMbumFzWGR23J4LN2bd+TNmfhpZZJ4kktb4l80nJ5nCA02bZtPwjjBBYHIvWliOiFkw38AxaHDh0OpLfc5BiEl8VpeFBDqtvbu9J27oxMjkGM/YWhgTuOV/28IOCE97zAPn2ZQni1+IyVwQy0SHOx1SunEzJXJhu8DLzcxzaVMHY0sr354osvWCaTtHwmb7k0n0Kzls7krC2Vs6uv/TO7rvf7wRrDsoEt1t3/lGHcPlhiYLGaqy2cJ7Lj0tr6ktaeTXtute6+LdbVt9l6Vj4TLDK0ppusiAvwTKsVipGu6dq1a8KwMDYWkV0OJNmcynhRb3EZLyXZ5StaR0d7MDkm27rskexKX1df3VD/0ktDvWHi9XEEZjMCTnhnc+ucZdlEXNl/5jOfCSbIsMjQ0tISzJZhqxdVB4IGYd0zWZbEY9NA/9Irf2uJVKulkykr5losly5aOttuLbmELen6X3bDwF9Zd/+3g73PZTc+YN2r/sp6Vj0T9Hi7K+rtns3E7fc4efM+MNU+wPN3dd8W+7XBbfa+Sz9uzckmy+RTlsqkrFhIBqK2evVtNjbGAtiIpE02PtT7dY2TjH/IB/bt22vDwxusvb14wuRYNqgtSIWho6NoGzfeGUyOce9Ux9t6x9Pr5wjMJAJOeGcS7fOQFwPzL3/5y5MsODDoItVFyjDVIMnEsRP39w/cFCbG9mLGcqmcZQot1pRttQ8u/7/tIwPftW5WgA88ZqwA78KZRP+j1oM5MlQcBlioVmmxmpOXqZIXj+99Zqp9oLvvUbv+5qftymV/bPlc2vKZNkvl2izdXgzP9M39N9rxY5ETGhameogWqell/+jRMRsaui1ghTQ3LtlFjQyJ7+ho5CKYe85mvHXMHQFHoHoIOOGtHpazLiUkCpUGWc5LjWGqhRbhZQBfvfp2a2pqsWIBT2ro/XVYc7LV5ly4wq7v+2tb1vt0ILioLeC+tKf3OVsxcJ+t6HvUuvu32rKBra7S4PqrrtJxHvpAd99mu2bwSftg9/+w1iyLTNssn0paLpe1tlSrpZI5e/mll8PwwELYicaSqY4ftRw/LqHF5NiqVb3Ry35nLizsQ2dXKgy4Dz5wYF8Yf8GPcZP7PTgCjsD5Q8AJ7/nDfkZyjhNUBl6kuxp8pzwAx/SD79pwVxjsix05y6Qzls+mLJVtsgULP2ofWfmkdQ08bFcNYtT+GVseHExssRW9W+zaVU/YNX14dHrUlvY/6WTnPJCdqUoCPX6tS4/5ioI1FPZbI53dgSetp/cBS+XmWiqdtHQ2YblsxvLpdstn2m3Hiy+E8QlTgxovGnmRFRio/ujrIsFFRaxQzFgmmwh7CC8L/NavXxPUQAAQwQDjrLYZGfQ9E0fAEaiIgBPeirD4SSEwxoI2PmeOmR09ciScHtmx3TL5gqVzOctlc5ZPJy2TabZEYa5d03ufdQ08b0txDxzInCZakYbyY533vRNL7wPV7gM9fZtt2eAjtmxwsy3vfdKW9D5nS256wq4feMQWLlxh6XTLiUWmSSuesCawccNd4Tk/dPiwhoGG3UN0pXeLLvO6dUPhRX/c5BhS3Xwgv9g1lwlIqY01LHBecUdgFiLghHcWNspsKtLRY1hwOGpjhyOLDDt2jFoqlbZEMm0YpccLUybTam2Zol259P+x6278ti0deNC68JIWDNo7iak2ifH0vE+dWR94LHhQw3Uw7ru7er9rywYesutWPm5zF/dYczJhmUy25PIWawKoKUWmx1CHauxP8Ehlpc6BC/c1ayKyi64uhJeto70jEOC+vj7btWtXGLqR6p7tGonZNPZ7WRyBekPACW+9tWhV63Pc7PhRO3Y0Wty2e/dumz/v3dbWmrFcHi9qKcvmmi1ZyNkV3f/LPjz4XVve9x3r6X/QelY9F/R0fVGak7MzI2eOU/VxwuzYE8HWbg/S3YFv2q/d+H279L2fsNZEkyXbU5bJpq1QiExnYZGBhVhINbVVdTipocQguxBXwujoqHV2dpxicgziy0vCmjWoMEQCAamMgR9peHAEHIHZg4AT3tnTFrOyJMcD2T1uR44esduH8CCUskIuZ5lMixXyCWtubbKLL1tvN9y0zZb0PRKkuitWPWkrereGhWrVn8SdGDmm3gfOrA88ZsuxhNL7pC0d/Kpdd9PjdvXSv7RcOmOFTNoS2cixRFtbq82fP9d2734rjEGQtkbUORVBFXlFqjtucqwpLEhLp5OGq+DW1hbD5NimTcNGPBFk4eaEd1ZOZ16oBkfACW+Dd4Dy6jNgM1ibRZ80jx06bkfGdtvHhiK3wTm8L+VaLJspWEuyyeYvvs6u++gWW9K/1a4efMK6B7bYCjyr9W22bncs4YvyfFHeeesDPVhG6XvKrh581Lpu3mJX9wxbWzpv6UzG0ul5ls2lLZlsM9wGv/jiaBgKtDCrfFyo12PqqzGPvcgu54eGxlUYkOZCdrHCkEwmbM6cDtu+PVrYpxeEesXI6+UI1AsCTnjrpSWrVA8N/pBeeWzbsHFD+HRX6Gi3XAZ7k83Wmk1b57s+Yh/q+45d2/eYLevfbEv7n7Jl/Vtt+cAj1tP/kLsOdrJ33sjemUlA61tS3NO/1Xp6H7dlg1hGed7mLvqgpdJNls4VLJnLWTabtEI+a+jlE0T2qjSU1EQyksRCcKXCgMmx3t4TJsfaCyV93XGTY0OGG2HudbJbE83shXQEAgJOeL0jnISAJB4a/EdHXrBsvsNSBfR1E1ZItVs202JthUW2ovcB6+p73pYPft1W9EYmxiC8Swcftu6BR2wFLoSd9DkG3gdmoA+UO3HB9vWjtnzgIbt+1Vabt+hDlkg1Wy6XtlSu2Yod+fASu3HjxvD8Hzx4sGF1TkVcAWJkZCQsym1ubrZCoRCk3xBdFqihr7tu3ZoSMW7EF4STJgs/cARqDAEnvDXWYDNRXJHdl156yZKJlLVlmiyTy1suOd/y6RZLptN25fL/aT39z9uVA09Yd/8Wu6bvwaDKsGzgMbt6cLMtC3Y+nzhh/5NV4r45Bt4Hqt8HkFJvseV9T9jyvrgjl83W3feYXXvT47bgguss1dYUTAimMzlrL0Tk7fbb1wYJJW6Djx5tzEVWLNIjMOatW7fWILrZbMaKxXGy29LSHIjvyMi2EBeii2DAgyPgCNQWAk54a6u9pr20TH7abhwcDFKNOYWktSezVsgmLFFI2BU9/5ddf9Nf21IcSgw8HEweBecSSJTC9siJvY59H+HiODgO1e0D6OlCeHHT3TX4sHUNPBCkuj0rH7eP3Pi8LVn+29aSnG+ZQt4y2TbLn7DIMDh4ox094VocNaZGCfqChVQXkst+//69hmc0JLhBmptLBmcS7R25cA71BtQcCK7C0Cg9xetZjwg44a3HVj2HOkW6bIfs9tujRWrpQt5S6U7L5JLWlGi2iy/7DfvwLd+1pX3P2NIg3X3KuvvZnj6x17HvI1wcB8dhuvrA07a896+se+Bx67rxO9Y1+Ih19T9rPX3ftetv3mqX9fyFtaUutES201K5NsvlWy2TabNUMmMvvfRKGCUa7bM8BFdkFwBGR7eHBWiJRJvlcxnLZFKWy0cbBJiFa5Lm6svXOQyvfqsj4AicRwSc8J5H8Gdr1pJ2YJ8zkctYMtNhbdkWm7P4MrvuI9+wFR9+yro/ep/1fPR+61r1nTrfqOPptnqvv9dvNvfxa37tfrvmo1+3FSu/aT0fecx6PvScXfvRB+yKaz9jzcW0JbNZS+USlsk1WzbXatlM2l7c8cMw9Bw5YTt2to5D01EuEfx9+/YGk2MdHe3BxBimxiC7SHhbWputvb1gw8N3RSbHjo07oJiOMnmajoAjMDMIOOGdGZxnfS5IPQjbtr0Q/MEz8Gcyacuns5bLNFsu02r5/FzLtC+2VLHT0h05yxYzlit0WK7Q6Ztj4H3gPPSBbGGOZYrtlmkvWqbYaZnCPMsVFlkq1WkpFpjmkpbOsQCrzVpbm2zbtkgP9eChQ3bMGksPVdLdffv2lFQY0NfN5yPPacViPjiXwMkEkl8CUl2pMTSS6keovP84AoLQFX8AACAASURBVHWGgBPeOmvQs6mOBnIMqC9evDjY5mRVMoS3mE5ZMdtkhVTKsm1zLZVutXSuybKprBUT7cE2JfYp63dLWDp9uq2e6+51m+39OsuC0nSbZVI5y6TTlkljI7vJ8pmEFdInpJa5ExYG1qwNw0P0if6YHbdowdbZjBm1dE+kphV5TWPhWWdneyC2kuoy1o17TcPkGI4k0PE93LCWK2qpfb2sjsCZIuCE90yRquN4IrzvvPOOLVy4oER400yguTlW6MhZoZiyYrHDcu1Fy3WmrVhst478AussFq2zWKjLraOQt3wmOeFWyKbqst712p71WK98e87y7UXLFzstX+ywfEfessWkJbMtlsq1WD6P+bFmW7tmvR05zCIt3IWzSA3pbv1LeCWhZfiG7KZSScOznBxJINVNpRLBaxpe1XjpJ0hvt46Hfa+aI9BwCDjhbbgmP7XCIrx79uwJhDeRaLVsNmWZbMZaEtmwUpkFHA23NTdbMpO2VDZz0pbMpi3LRJnLNB4mjdgPaqzOrYlWS+WTls63WSLVZvPmz7c33ngjPPhYYDGLPCmeOhLU1xmRVlQSIpNjTeGrFWQXqW7Q121pDp7TduwYCZUXQWZMlJpXfaHitXEEGhcBJ7yN2/almscJ74IF8w3Cy2QAwe2/acDu/cqXbcOdd9imDRtt08Yv2PDGu21400YbHh62jXW43XnnnXbvvffanXfdFTxRZdLJ8AKQzaSMrViIzBV1dnTY5++804Y3bapLHOqxbeutTps2DtumjZts08a7bcOdG+yr937FbhoYtJamZitk260t1WTzF821t3a/GZ7348dRYzgh2a1Ta2SMZ4cPHw71xZzYqlWrwlgWrUtIBbIrFYbe3lW2a9frIS73SM+XNLBN7MERcATqBwEnvPXTlmddk0qEl1XKEN7h4cgTUyOZ5BEe/+2//V7AIIc+czph2UzSOjsiXHpXrbJdO6OJ0iVBZ931/MYqIqBnlGeWZ7ejvd0SyVZbsGCevfPO7pCT+nYVsz2vSVGfoKZhx4O+bVxfd8eOHZZKpQzHEdLXZYEa1hjAZ926dWFBGhWQNPi8VsYzdwQcgWlFwAnvtMJbG4lrEkSlQRJedNuYFO66a0OoxIH9B8KKZSbVk7cxO3KkdrdDhw6F+uBalY3wgx/8ILgVbW1ttXQG1Y5oUYukQquHVpcmyFquu5e9dvvteNuNP4/79x8I/XfDhjvDs8tLazLZZgsXzrc9e94O1/Ssh4M6+EEdWVLZcZNj+8LXp46OjlB/xjJILqS3ra3FWJuAC2EC9+i+OoDDq+AIOAKnQcAJ72nAaZRLmgTjhHdcwjscYJD0qB4xiU9627dvDxNiIpEIC36CIfpcxlqDbc5isN3JwhYwgyx7cARmCwKQYAKLr3hZbQTCGye7/D9w4ICtWbMm1J8XVDaeYUgv5H/OnI4S2WVM09g3W9rQy+EIOALTh4AT3unDtmZS1qDfiIR3bCzS9RsbO2Lr1kUTJebYcjnsEKfChIkXJibKuG1OJlfhVjMN7QWtawQalfBKQovUFqkuVhikwnCyybHVduDA/iAR5h5/fuv6cfDKOQKnIOCE9xRIGu+EBv5GILzo6lFfCOuhQ1rY8pqxeAWpGAtbIhvEeF2KrDAMDd1u+/fv9Ymy8R6NmqpxIxBeSXR5huNfZiC7mUwmkF2eYewnQ3qR6ra3R19m9u7dG9rT9XVrqlt7YR2BqiHghLdqUNZuQo1EeDVhSkUDqS22OZubIbvR508IL1u0sGVNMEBP60qSVLst7SWvZwQahfCK7NKWPMfr168Pz6qkuXyZgfS2tqKvm7IdO0ZDsxOX59+DI+AINCYCTngbs91PqnUjEV7p7aGHu2nTcJD+YHgeaRBSISZKPokyUWKongDRZaIUTieB5weOwCxBoFEIr3TnX3uNLzO9J32ZEenlZbW3d6Vhlowgk2OzpKm8GI6AI3AeEHDCex5An21ZisjVu0qDPmWyX716dZgo4wtb+H86fV3hNNvaz8vjCIBAvRNeXjr1ZQapLV9mWloib3I4ypE6kr7MoJcf4RLt/fn158QRaGwEnPA2dvuH2msimA7CS9psUiWIHwv6StcVjzi6zn6qQelIKrRz57i+LqvYs7mk5XKR1yUmSvR19+2L9HVFkKeaZzx+vOz6L2nx2dQnnna1/gujSvtq5TGb01G91S60u85Ntdy6r9J+orQqxdW5ie6pdL4eCS840B5SJ+LZ3LRpoxWLkcm1YnvOMpmE5QvpEybHUoalFUJcx7cSXn7OEXAEGgsBJ7yN1d4Va8ukQpgOwku6TDx8UlQ+KoQmJM7HCTHnkeRwj8gHe+JMNSgt7sN9qKRCqDBIlYHPoOjwrl+/xo4ejUw7Kd+p5lcen7qxkR6kW3WoVvrl+U12rPKwJ+gYnCgfmOvzr+JMlmatXxcG1agvadDGwhFMwVZ5lGOl89XAv14JL9iA6b59e2xoaPzLDM8tL6yFYrRYraOjaNu2vRAgdn3d8p7mx46AI+CE1/tAiYhOB+FlsiIwsZP+O++8Y2+//bZpxTTXRP5EFtgriBAw4cXP6/rp9qRLIN+NGzdYR0d7yRC9VnHzSRQSvH37D0JcPoOKoIicni6Pya5RZtWPuDi32L1794QEaLL0qn1d+JZjq/PVzm+2pRdvH9qGvkkf5X85JmdS9kq46Vyl9Ca6pvNnkqfi1BvhBQOpMIyOjlhnZ3vQr5cjiUiNIVpcunbtkB04sC8QYz1v1Xh+ha3vHQFHoPYRcMJb+214zjXQRFxtwqt033rrLfviF79oV1xxhV166aX2/ve/36688kr7i7/4C3v11VdD+ZmcRFB37dpld911l23YsKG06EST2JlWlvikySdQ1BRQV0BHF6kQq7jlWKOvb5W9/vpPQrKQ3WPHovsou8pzpnlWiqc0XnrpJbvnnnvsU5/6lC1evNhYcEOYyUmZOvGiQTuz51hthCTy61//ut199932jW98o2GcalB/6k742te+ZvPmzQsb/wl6YQsHZ/hDemAIlmCq9IV1PBmdqwb+9UR4eW7GxqIX1pGRF8IiUrykyb5usYjJsURYdLppeGN4ztVeYMpzNZPPVrxN/b8j4AjMTgSc8M7OdpnRUmnSrQbhJS02Eb0f/ehH9u53vzssLoF0aksmMQXWHLyZ/e3f/m2or1z73nln5BqVuPwnIOlROePgKD8mN/6zH5cKjQapEAvRJBU6WV933EWwyhtPm/9KV/mUXz/dsdKE1BcKhVB33JpSr8997nPhVpVV6Sgf7uX/ZEHx2U80wSsdSO6SJUvsXe96V9jHpexINdvb20PZ2HNM0L2TlUPXVZ4zLb/uO9u98mM/Uf1Pl3a8v2zatKnUP/lPKG+f0/UHYTURlpXKp3MT3aM0VYfT1bceCC/100sG6kVyBiPrC7Kk0tLSbIwhcgajl1Xh5HtHwBFwBMoRcMJbjkgDHmtSrRbh1ST+5ptv2oUXXhgMwn/gAx8I/u2R9H7zm9+0j3/849bZ2Rm2Cy64oPSZH/i//OUvWzaLA4is3XvvvaFFygmvJn4mR/KDYPFfk+XIyOgJQ/SRVEgqDBiiLxaLtnHjRtu7d09IW/dUanqlLQInrCrFLT8nsgRpR3Vizpw5dsstt9iXvvQle/3110N0YVWpPhPlpbjsuZ+tHJ94WZQOpOqiiy4KuLAXqSUubY/0nTZhLzJM2sovnmal/8SLt4fyrRS3/JzymOgeXS+/j3ZR/VXW8jg6VhrxPLgfd7QEpLpz584N7TSRhJc8uKdSf1C6YBfHEmwJKp/icU7/J8Jf1xWXY+VPevFwJoRXZYjfp/+kHc9P52dqT9566cWc2LjJsXH72Eh4eWHs6+srff1BOk69yvGYqXJ7Po6AI1AbCDjhrY12mtZSapKrFuFlwQ7hq1/9qiHRbGtrC+oLnBMJRM0BUoC0EWIrgkEcPv0nEomwQQ7j91HWShMbJEDx1q1bFyZF0pXXJfaQTtwG/+hHPwxxIWe6L5yI/ZBP5Hb4VCkr9wmz2C2n/BWRhsCT9/z58+2VV14J8UQMOahUH86fjsQqM+Wh40p7lRUi9r73vS8QfvYitdxD219yySVB4v7e97436LKWp0U5lVb8GhhWqoOIWTxutf5H7RPph5enSVkmalfF5f7yMoM39pnZ6MPxuk5UR9JTf1D8ibDUde4RljoXv4d24Jig6xPlH6/rmRBe0mOL1738OGQ8wz+UR2PD6Cgmx1LhmZEKA88vqkiQXZ5vxdVzJDxnuNienSPgCNQQAk54a6ixpquomlSZZBcsmG+JRGtJx3V4eDhkqwlmsjLEJ0+kuBDeBQsWGHq5BKQx+/fvD///8i//svQJ+fOf/3wp6YkIryY1yAhp/Pu//3uQ8iAVQkrHtmbNmpBmPp8PRJpJUlKhW265yV5+OVKf+OUvfxlIRby8pQKc+MM10v7FL34Ryk/ZkYoKr/L45ceqpz6VI+UmX8g+pIqgOpEuGCPZ+rd/+7dQF5Utnh91Jy5tRdlEFH7yk5/Yf/3Xf4U04/E5wTFx/+M//iOQWtQrIFUcQ3ohDewhuuDGNY5Jm7z4z14vMiGTEz/Ki/S5/tOf/jSUn7orvuLE71O52LNQjIV85MNWHh/cqW95GYjHveRD/6KdwJX45YG4pE067Kkb27/+67+WpO3cx/2UPd7fVR7yUb8jP5VL17Unj/jLg9pK7RavB2UgECeOP8cE0lS6YMxG3vT9cowrEV6e5YUL59s77+y2Awf2l+qvNJUHdSNPlTVkPkM/emkDe8YbVGpQV+BLjL7MUA9eVsdVGCJLLqoHOOr/DBXbs3EEHIEaQ8AJb4012HQUVxMFk925El5N4JA6FmfxGZ+FQD/72c9C0ZncJH1j4mZhGgvU+K8QJ7z8J4g8cS8Lv5AMowpB2uxvv/12g1BGLoKRBkXugSHbSIu4h4Vil19+ebiXhXOoW/zwh5G0F4IDDsICUvSFL3yhFL+joyOQGPJALUOEVfFVdvYiS0i4IZCoD/CpnLJyP/9Z1KTw4osvhjhIXckH3C677LJSPuSh+rMIivuJ9+CDD9o//MM/hEWASMS/8pWvhCRFIFQ22pUFg6QLHtyPtJlztM+3v/3tcB94UF7KiF41mBKfsixcuNA+/elPl1RGSFv50La33XZb0NVGJQKdbdL62Mc+Zj//+c9D2rSbyqN6q6+g3gFG3HP11VcHQkqceJ0pJ+Wm/gSILn2DsnIveNAPlC/Em6C+RnuSNhigxwzB/t3f/d3QJhdffHGIS5tQfvLSFweRZ9KjPuTBBimD1Ko/kL4CeHONLwwszvze974Xykg5hSX9EfyECfWpRHiFMfnHMaaeqqueLZV1eHhDeOljYSZEcfHihfYf//EL6+lZHtqGcrz88suhuEr/M5/5TKgX9f/Wt74Vrgl/1asae/UD2p6NY/b79++zNWuGQrm1uBRvh5BedPBp35GRyL6untVqlMfTcAQcgcZBwAlv47T1hDXVpFsNwqsJjcx+/dd/PSzWam1ttT//8z8P+TPBMpHGJ3suUAZNsBMRXq6TJp81M5mMvec97wmf6CEfkAv27e1IhRLBIgPSIQgb+UOqly1bViJG3E98JlSkowTKLgIAqSUfJNQQw7Vr14Y8uYfzXCcofjgoqweEN5fLBWIC2YWwIbni/jvuuCPcMjIyEspEeZjUIeKQeYgn8SBGBGEDCec8Utqbb745ECmO2coXWqldIWMivBBdyqEXAe5Dn5kAUaV+ixYtCulD/DjHCwP3ERfLA/HyQBwhgFyjDcDpgx/8YKgnqiwQTF5+COAbD/HyUW+whsT96le/CtFUZ9qONiSPz372s+Ea5zimvNQHyT4vM5SBfCkTElAF+jZpgzNk9NZbbw33kwYkj4DqCccspgRnAmVGF530UEsBd4gz+VFeMOIevWxQJ/Kib9KevChQRtoULKkHfYF7hCWET4RX0nfSUBDGlIv+BMa0J+3Ciw5pU0bhW054586N6nfPPV8s4YiFFAUWlpIWOED+33jjjXBJ6SleNfbUFYxIWy+GqDCQN8SWrzHBvm42HZ5hcAJrvt6IIFejHJ6GI+AINB4CTngbr81PqbGIRzUIL4lrIoMEMMFDeiAZ6OOK/CgeExnx4xNgJcJLfNJjAoRI/P7v/364r7+/PxARJn1I3Jw5nWGiRLI1f34kyeQ8xBYpFiSIPCGSnIMAIbkjiLwi/YKoQD5+4zd+o0SckMSSDwQL/eNKUl4mZTaCrvOZlnJDJiA5EExJICFS5MMeaTNYcB9lgtyw/fjHPw7p8QOGEC/iQ+6QCrKw74//+I9LkjnVg/i0LeWRSgNETAQMggxxpCzki+SPupEu0lxwoiz8p4wQtfIFbeBDfMgk+BB0D2QQgi9pqQhsiHTiR+fAhLiQSJFHyg1Zh8jS5uSPlJ46cY4y0Y5qU+qIGg0vCxB0TMEp0Lfpg9SPdCB4n/jEJ+w73/lOqB958YJCGbgm3XHuR/IrMr5jx44SseRlhb5FOdavX6+sAuElL+oPNpQR6St9HyLN80B9kA5LMoyaQyUJL4lyP/2A9hHG1Jl2KceY+HHCyyLNefPmBKcNYMCLhfIWsaWv8SzEiT79QeNCqWJV+kP/lNtfvKKBLc+r9O0hvTiFwZtatLg0kp5PBwGvUpU8GUfAEagBBJzw1kAjTXcRNbFVi/CK8EmtAYkbUkP2TPJI6eJkhImMe0R+KhFerkMqICR8FoYEMlFDJCEDSIggMxAQzq1bt9Z++cv/CpI2JnOka0jBFCgb5E3kT/qvXEfNgjRQMUDnliBpIdckpVMdJpqIIQ0EyBPpxcki51EbgJiBi6Ss+iwN6eYaJERSTe4BGwgvpA3Sp3JTBt0bMo39xNsXIgZBY097K0C4dA1iHseK/xBlcGSPNJIAhrwAUDdwIYjkgxvpIYFkkRGBcqgs4URMcg0phmgSX9Jz4kLKIHq0Ey8hkCVIH7iQr8zWiTiCNenQRpB55UtdKQ99hD4EjgT6lco8Ub/jpYq86GPCjPtEUsEFHMCDEMeSsotYco28eAYgnaQnk3xIcSG85W0j6S75q4+oL4Ix94AZz4awjRNeiCQ6vG++GUnNeeECO+5BdeEf//EfAymHmPM8qY20p570Y3Bnz/G5BL2MQXhlcgw9e9QY2EeLS5uDMxg8IxLIV2PEueTt9zoCjkBjI+CEt7HbP9ReE2W1CC+JamJEvxBTXEzYEAOICwQPkjo0NFQyLUQZKhFekZ///M//DKQZkgDx4X6IXy6XDZMjaXMeaRHpkh4kCJKDxA9yKLIiYojklYkfKa+kkEysn/zkJwMpgkyISIm8Uh4IE4RKZEvXyruSzscJL6RI9dSnetLjczpBZROZoux8vob4EETKuEcLCpFsikiESGU/8fYVqWVPWdROYBMnXCK1JKXP7ZSFOCJ2EH5eZCBQkoiqzqRHHiKDKr/KoiIqf9QYINPUCymt6oO0l3PkTbsS+ATPIkc2vXQIU4g38dmEKXmqPBDKOKHnPmEubOkTIsTUnTZHMksdRY4pB4STtEgTyan6l7Ckj8b7ncoIcYWU8xyoD4Ep2FJPcBP+1I9+fTqMeaaQGuvlbONGqXsUgmdBLVqjzOCNOgd5X3XVVcH0F21EvuBKoA3BTG0QTp744TzPCHu2yYLiku+hQ5H1lp07X7Pe3lVhTIDgyhkMpJdxord3pe3aFTlmAbMzyWeycvh1R8ARcASc8HofKE0oTNTnumgtDqcmKsjb/fffH6RQECSkSfrcC7lA1YDJVWQpTjxEeCEESFwlyYVMQDTQ02XCxLEEk35TU3OJrECikKoyiUq/daJ8pE8JaYBgIIFDbYDzkGHIE3VAWqlP4vr0XokYgIPOxwkvGAsX0oT4QNxlpUKkCMIjcgoRlMQ1jo1ImfKJYx//r/wg7yK17EXQiMt/8hPhqnQNvLlPEkvKDBGDcKFniXoAdQIvcIMMIlFFIq/0VBaVT8eUjXgiyNLjJR36CC8yeimJ15f7uRdCjUoCqhXlBJE4E9WPa+p3tBN5xQmv2kPlRc0DgsxiQakCUEewUx3Zq9/ppYQyq9xqQ0i5XhTKCa9eKmTDGewh/HGMIeH0Dfoj+amPVCK8e/ZEUnnqgVSZlzyeQZ4nsGVBHAGCSlBZcZrCixnPIWWRWT3i6WUl3DDBD3HYhDFWFnDlHS0uHbevyzPMOaS+UnfQPRMk7acdAUfAEZgSAk54pwRXfUZm0icwUVeT8DJp8vkVCSQB8gBZghRBECBKqBpASLVIiHhxQqDz//Iv/xImdyZoJmombIgz+n4sdkFPcfHiRYE83n135CULAiDiQZ4EJlFNpPF8RB65R9YSIBIQOsoX3yAqHIukKr2QQexHpGEiwst50kcNQ0RC98QJGiRTBEhljpMy3RPL+qS/at9zJbwiwyK8lB+yzud82iKOEfVCisg5SCwvPQSVRQXkWPghneU+CKskt7xgUFeIndQ3IJwQLvRpWXzFIjn6BFJ37uXFh3REJskjjmecnMbzJ3454SUv8MXkmRym0F68qEBCeYHj5SieZpzwqt+RjupJG9KHyCv+Qkc7C2O1t/oIdaLPxzHmP/gLY70knI7wqq/81m/9ViC6pMszFe9/Ir1IfHlGKSdx2FM+6ZQrntqy0l754eIbVQsWlaKfWyjkw8sqEt62ttbgOhgXwgRwcsluJTT9nCPgCJwLAk54zwW9OrlXJKTahDcODxOYJkjygwCg6oB0CV1ViKk+e4vUQWDuu+++YNoK0gQBJS7/mfyZfJnsf+/3ftc2beIzcaRqIBIBMeNTM3EkwWUyFfGIE5z4PZArJnokvJzHFBbSXCSIlA0SDtGSdYeJJF2a7MmHMlBHMBbeOh//HK60RNAgVZApESBhA/ngfoLyieMd/6/8zpXwUhawEeEFG9pIEt4HHnggLKADJ/ACJz7fs6hOLz0qi8rHsdoDnCHOkFVJ5Glz2hu1DsqvAGGDdBIX8ogJteeffz5Yv6BPxfEhD+EpQskxIZ5/vD+AswJSTkg9daUdIaa87GBdgHLxtYFzSpO9XrTU7+j/qme8DdXveNGqRHiJy4sDGCBFj2MMzqTPiwLEWvjEdXhZtIZKgyS8Y2ORBJevKmDN80T/4osCWOgZ5UWVFz+w1UI5iC73oJcsPWLumShIuosayJo1qwN2qC3I7JheVufM6SjZ1z1yZNyCy+nSnihPP+8IOAKOwEQIOOGdCJkGOq+JhYn6XCW8SguCA4GB9PApWoSHSVD/keLps2olIoVU6cYbB+xd70JVocnmzYtW2DNJQ2ggWpKyQqogBkzQIoKQRBEPnYN0QD4IlI102ERwuAcCKqIpEqF6xbtFpXPx6yKi5C3Ci6RTpFbEhzJLPUJloy0gIhA0iMdsIbyUSYRXBBHcJclUneM48B+sJsJLeKBOwksGWIEN5yGBHOOkREFmtCDDEFGsWyhtYVotwku6qC6QHpLcuNUO2ojy0VcmIrzxfifCS7+jzdmEG5iCrfqd2pv7iRfvoxNhrPRPR3jBEPx4YUQVgzrRfiLmqGwQIPPgzouEAs8CZJdtIok9cSHNKsvIyDbr7OwomRxjYRrqC+jekz4kHkJMW0dkGwI9MYlWWXzvCDgCjsBUEXDCO1XE6jC+yEI1CK/ICxIjCCuTGntJb7lOfmySaklyyDEBQsB9kBkcSCC55dPn3LlzTpgei8w9MSkrMGFDDPjEq4VAUk/gPAuhCOSLdJkQJ0fkSYB08ZkXiRoEhM/ElFkSLUj65z73uWA5QZ+BVeeQQOxHxCROeMFY8ckTsgGZkURTZYPwkD+knvJQLgISQeKziUwpn1jWJ/1V+0JYKhE0IscJNvlyrBC/xv1qJ142wBtJq3RVIS+UB0JE+dD/ZC8ipTQn2rNgEKnthz70oYAJ9URNQVhzHxJNzkPahIEWk4Gp8KF9CdQ/Xod4/bgmckZauleSV3CnH9IO6BiLiELO4v23nPDykkJa2I0mD9pcLzOUS31VL2xKSxJo5RNf2Kg+QjuCMXWCMBOHvdqsEuHF05oC+rpIq1m01tfXF6S2cTUS4mEl5E/+5E9K5vMoP880ZBc1JOVF3eIBLNUfMdvGs4vKAlJd9O3RtUelAaJNn1G7gWd5WvF0/b8j4Ag4AueKgBPec0WwDu7XRMMkdq4S3khKY4HgsmgJKRyTv0gShE6kDjKpVe6sZh/XQdwYSA9Er6MD9YVIKrRo0cLwCRapMJ+ZCUqXCR+iRH4y9STSCHlF11KfbZU/JBiyDWHTgigmdkw8QVYotyZ2SaUhF5BxNknFNMGXdwWdh0gRH2lzXMLLJ2lIG6QXCTUBMkN7kK9IE3qsIslxki6yp3zK89ex2rec8FIWtRf5QQRFuFRv0ii/JjIGzuAN7io/xJb8eMHRCw9k6nQSQfIQ6RS+K1assD/7sz8LxAyCRXqqB20NnpQXF7ucp24EyiHSqpcYrpfXQfXjmvKuRHipK0SX/PQiRV7gRhrxFwjhorzoW/Rh9TsRXvoXahfoAktXWX1V+HMPAWksXzTAmHoT1Be5RxjTv/UsVNLh3b07epnE7i1kk/TwsCezZDwDWrhGXxPW1FPl5qWDZyluP1jxKJf6Ev1x/fq1YRFaJM1lcVq6ZHIsmUwF/WvuEUEmHfXxUEn/cQQcAUegygg44a0yoLWYnCYtJupzJbxMWpq4mECZwJkkkdzFiRn/OceE3dzcUvLE9jd/8zfhHEQKQoDxeSbNaBV3c8nWLg4ICJSdiVY2euNmoCANkCImeEgD5EGBBVCkT/7sORYOEFFIKOelv6g64ayA+mANQJ/2dZ/S1l71FeFFVQLip/hIDyEqkF5ILfVQPizIgigiQRUZJ91zIby0L6ojlJ+9CBLpiryJcHGswH+RYQieyBjEDx1WpJUi5So/EkLUE8BRUkwRJ6Ub3+s+17+FMAAAIABJREFUSDSf2sEejCGGSEkJuh/pK+nGJbxgDa70A+rHdUlpOR+vA3VR/bhWTnipj+4FI17KSBOiJ1JLeVClkEpOPE3lRb+jLrSlAlJP9GDp37SvvnyAKdiW4w/GEG4IKXUDJ2EljCH4wph8yiW8CxbMMxaNIU0FU5lLU/ujsiGrJ3pGwBpchDl54uEN4q8XLeEGhurruIletWpliMdXGVlRyeXS4Vxvb1/JjThpqz6kIcIsrHzvCDgCjkA1EXDCW000azQtJhsCE/W5Et74xIX0igmSiZ0JG1KE1yo2pKucY7V2JLF9xb761a9YPo9r0YzNnz8v6Ox2drYHSRF6gJ///OdOqDlkwmdVPvFiPJ90IQrkJakrkyfkEiJC+iK9SP24h/whwZAmPFYRRCQgAhADLeqBhCEVJj/qgnQMsk4QduGg7EeEAKkjn5DjC690H+lwDcIBoaFsfOrl0zFkj3JQHpEB0qJcbJKqimyUZV86VF4QHqTMkC2IPvqopIGtZNKAkHMeYidCSCL851yla+AN7pRfLzV/93d/Fz6V076oAkgarzqUChb7ozJCACHKIrwQflQYCFIr4QWAPJGeQtxZGPfggw8GfVDy5H7KyqLIf/qnfwr3km6lOtDmInVIUMGVuojUcR+40IeoC22EZJR+xMuKXsxoJ7AkPUgqOFMH+gvlIW1eVriHc+SjfkcB6avl5RMm5RiD489//vOTMNYCStKKE14cT8i18Ne//jXL5fKhz5e7FkYaDamH1BLiRBSJMosEwRyvb+pvxKEsOkbFCPxbWpqD9ZR0OmXFIt4CI+sSPKeKe7q+EArgP46AI+AIVBkBJ7xVBrQWk9PEWi3Cy0RIYKJkMRakAJLIZMikycYx2+WXf8AwRP87vxNNqEyOHR2F4BZ48eIFYXELag3bt28LaSJVY2JWGuy1eh7pKxOq8qc+kkxCQFiAo/uQikGmIKGS1MYnb1akQ3CIzx4CitSQY/LRhC3sKrW7CC+fwrkPaZ8+7auMlJf0uE552LOBDflK4qbP2EjyFEdSPeVTqQw6J6IBUeN+6gIG/JcHL4gex+QrKS73819Y8OKgOlB3cEACy320AzjF40q9hHinw4p8dP3mm28O6al8wkD15AWAdgMj+oJwI98XXnghkE3Kw3bHHXcECFCXoezl9aMdRHgrYcvN9GHuAx9ekMiX4z/4gz8IRJb/bJBGXirYINycQw+2q6sr/KeclEH9ThJW8gDTSuUTxrxMkB4YQ64Vl/rLTJj0pMsJ7wUXLLb/83/+v+B2W2VVu6juSHl1DbUHBb5w8FLBNZFdygRuag/2EGXs6PIlBusLqCGxh/xCfJFsE+iH6ovKw/eOgCPgCMwEAk54ZwLlWZ6HiEY1CC8TociNJkR0/1hlf+WVVwYpFhM2RvSfeeYZYxX3bbfdGiZUiC2fQJkoMVXEJIuL4P370Wsdt+5AerjbXbJkSZD0QrhwCiEiJjIaJ7xI6VBbQLrMJ2KkaXy2RoJHfJWZ8mtCRjJJubHzClllwke6Rz4iIqdrWtIi7Ny5MxAv8hbB4LxwJz3SpR5IA6kX+WqhFuVRWnwyRuLJRroEXQsHE/woL6SPqGxAfNkjtUbCS4DYcYx1DRFszvOfc1zjHl0TzpQf/Ck/ONHOtE+8/OSvMkxQxFI9qBcvCUhZyVc619xPntQX1QIkpug5s/iKhYSSJPNlAV1gJOW7du0K2UEGwV/1U5qkpfYWttzLf4L6BWVavXp1eHmjHyBRRuIMuRWOmNCjz9PG5EUboiP793//96F8lJN+SLkpv+pDPmCqdOL4q2156aCP8HIkjKmzMFa+pBUnvC0tTXbxxRfaj3/8Qxse3hjyltUU8o/XnXrTr/SCASFnwR4vHmBJ3wEPygp+lA0MsLTAs4oKAy+skN329kI4h0e1nTujNqCMk/WBALr/OAKOgCMwDQg44Z0GUGstSU1C1SC8pMVEyJ5NpJf/pA/BZCP89Ke7wqfdaLIcX8WNRIhza9eOe106evQIFLFEikiPCZi04gSMvEUSuI6EF8kbUioRYvZspEHQPRxrE5njmHITX2Q1Hj8kcJofpTdRFKXFddKH2MTLBiGZLI2J0i4/TzrCJn6tUvo6p308fjwNrgsryg9W4M55gsh6vJ7xtMr/c99E6ass8etqG+Wnsihd3aPrlc6T3mTXuQ+SR39TPyCveFmIo/zi+eh8OTbxPE+XDtdUL8pAHyEt3c81/qtcccKLHV50ePfsGXf8QVy1C/9JP56/0kXlhS8Bf/iHfxiqo/OKi9QWSXMyiUOKbCC6EF6pMAwN3V4qt/ITLr53BBwBR2CmEXDCO9OIz8L8NJExiZ6rDm959Ugb0otBeU2UBw7sD1IoPhEzISPRlWSXT6CYMhoZiT6rViIVnGMCVSDduPQoXh8kgHz2hfhCFLim66Sh/0orvq+Uz2T3xO/Xf8rHffEy6xp7ykD5hQ/nOCb/8hBPKx6/PN5Ex+RFOUhfe6Wj40rljF8rx0xpKh3yJr6Oy+NPVDad5z7u16bz8b3y1Lk4fuDGcfwc8eJ10H3xPfkKF5Vd10lT5xSPMqgc5WVVXsRVfKXFtXJMlI7yV1ztdV1l4DzpxI+5lxAnvOjw4nji7beRKI/XT+lqrzKKNKPmg77xokWLg9oGUmEk01/84hfsy1/+km3YcGewr8vzqsVp7Ftbm4NlFaTJSL8JlJNQXudw0n8cAUfAEZghBJzwzhDQszkbTUTTQXiZSOOT9f79416XmCDR+Yt/AmWFNzq9hErEII4j6ars5ec5pj7olKJ3yR7JKUFlit9zuv8T5XO6e8722kzmdbZlPN19M13+85Hf6ep/umvVKutE6Rw5EhHLOOEt97TGvacL46R5OHxlkR41X1ywpoL+MSSXY15SpcLAHhffqCWNjkYvq6Q1WX6nK4tfcwQcAUegmgg44a0mmjWalial6SK8mkS3bdtmHR3twRA9Ul2ZGzv5E2g0aZ/LZKn68GkdvUn0EK+++upAgGkiXa/R5vJiOwIVEagG4dVXBaw+oCOMHjWS3a1btwaPc7yczp+Ph7b28KLKM6znF/fB6NvzQomkmL0HR8ARcARmCwJOeGdLS5zHcogAVpvwMuHpcyZWFtDNbWtrKen74XUJCRS2djdt4hMoup/jTghUrrOFhvupE5Jd9j4Bny2Sfl8tIFANwks9eW707OmZ+dnPfhqILs8rJFcqSPxH2rtu3bi+vV5WdW8tYOdldAQcgfpHwAlv/bfxpDXU5FYNwsskR3qS6o6NHQmTIZMik6PUGNhLX3fHjshkkSbKSQvsERwBR+AUBKpBePX8sjiO5/jw4UO2enVksiy+OI0vNJghQ99++/YXQlnGxsb1nE8pnJ9wBBwBR+A8I+CE9zw3wGzIvtqEV58zg8mitZHtWz57QnhFeiHAmCx67bWfBAhk5qjaeFA3bdVO29NzBGYTAtUivCc9v2tOPL/56PnFRfC4ybGV9tprkYtvXlZdojubeoOXxRFwBMoRcMJbjkgDHleL8JKOJLt4Xero6LREstVy+ZRlstECF30CXb9+bbDcANxanOYTZgN2Pq9y1RA4V8J7Js8vX2Z4WcXkGF9vCP78Vq0JPSFHwBGYRgSc8E4juLWSdDUIrxa7YIoII/UsasErVL6QsXQmEfZtiVZDQoSzCQITJhv5Q3ad8NZKj/FyzkYEzobw6tmXrv3pnl9MjuHiGysQkb599ILrz+9s7A1eJkfAEShHwAlvOSINeKxJ72x0eLlXk+XRo2NB8oMECBUGNkyC5fMsTksGI/XjLkb9E2gDdjWv8jQicCrh5blL2MKFCyewUBK9aE7t+R03OaYXVI0f01g1T9oRcAQcgXNGwAnvOUNY+wlowpoq4eU+eTnD9Wpv78rwuRMdP8wX5XIsUsuFc7gfRaeXSZIJ1iW6td9vvAazC4FTCW8hWEGZiPAePx456KAW0fP70UmfX5556euK8M4uFLw0joAj4AhURsAJb2VcGurs2RBeTXwAhb5uKpUKVhcKhWwwWYSuH6S3ubnZ1q5FX3dc309kV/k2FNheWUdgmhCYmPAuOEXCe+wY3gqjZ5KvLpgMxGqKnl/ZycYSw9q16/z5naY282QdAUdg5hBwwjtzWM/anEQ84xJebOSimoA+LgHCKidN+gQa6fvdZe3txRP2dPMl+5y4NEVfd3Q0MjnGPWzKC9Kr/7MWGC+YI1BDCExMeOefRHilbw/hxX6uVJCKxZNdfEOCeZkl+PNbQx3Bi+oIOAIVEXDCWxGWxjop4hknvO3tEeHdsOGuAAb2OI8fRx0hkgoxaQ4NrS5NllhfwBg9kyZkl0Vr44vTxoluYyHrtXUEZg6BSoSXZ3HBgvklt9oy/4dHNDyjQXbzJ0yO8fzK5Bguvnftej0UPv6iOnO18ZwcAUfAEaguAk54q4tnTaZWifBKwrtxY0R4Dx7cXzIjtnPnayfp68q+btzF6IEDB4KerqRJNQmMF9oRqCEEKhFePKMtWDDPdu9+q2QFBRWGjo6iJRJtlstlg21sLTKFAGNyTM+t9jUEgxfVEXAEHIGKCDjhrQhLY52sRHgl6cEEEeHgwQNhPzLyQtDXRbcPPT8+e6L3l0olgotgCPLevXtDXJ8sAwz+4wjMCALlhLfYng92sOfPn2t79rxjSHc3btxonZ2d1tqKi2+sqLC4NGOYHEM1KW5y7NChwzNSbs/EEXAEHIGZQMAJ70ygPMvzqER4JeG9667Ph9IfOLA/6PtBdJHoQnaZLCMXwS3BxWjcRTBk11dxz/KG9+LVFQLlhBe1pESyJUh433rrTVu/fv0JFaRsILnZbER2E4mEzZnTYaOjJ5sc07hQVyB5ZRwBR6BhEXDC27BNP15xTWx79rwdJkf0/iThlQ7vbbfdekLfL/oECtkVKcZFMGaNCNIRJE3fHAPvAzPXB3AJTECKi2pCsVi0RLLZFi2eZ/0Dq8K5cZOBkZ1s4q1ePWT79+8LL6iurxsg9B9HwBGoQwSc8NZho061SpUIL5JbpLmrVn3U3ve+94b/MjWmz6BMlkiNJMnVfqr5e3xHwBE4dwRk+g/LKjybhULBMtlE2NraWoMKAwvTIpNjmRBn3bqTTY6deyk8BUfAEXAEZicCTnhnZ7vMaKkqEV7UFiC2LGxh4Qtkl8lS1hiYNP/0T//Y3nzzzaCz+6tf/SqsBMfSw8nb24bk2DfHwPvAdPSB8eftrbfeCuPGHXfccULCC+HlmY1Uj3h+0dflRRbd++3b5eI7cgSjcWBGBx/PzBFwBByBGULACe8MAT2bs9FE9/bbb5ZUGkR4tXo7TnY1cV5++Qds4cIFNnfuHFu4cH64lxXhvjkG3gfOTx/gecQCA88oL6zaeJ45j+Q3roIkr2mMARoHZvNY5WVzBBwBR+BsEXDCe7bI1cl9THKoIuB56Z133jmF8Ir4auLUHgkRXtTa2lqC3V30fn1zDLwPnP8+gMUUPafseYZ5cYXsYjsbPV2C9nUylHk1HAFHwBE4LQJOeE8LT/1fZNKT7h+OIlBfiCbLSKWByZLFaagwsI9vLIDxzTHwPjC7+kD8GeU/LoOR7mIyEO+IBCe79T+2ew0dAUfgZASc8J6MR0MdadLDbu7GjRuss7M96OxKqotUCGkRkiHfHAPvA7XXB1paWk54PRw3OYbJQH3ZaagBzyvrCDgCDY2AE94GbX6RXfarV4+7CNYnUCS6GKO/4ILF9rnPfdY2bdoYJEQYpvfNMfA+MPv7wIYNd9o993zB3njjl2GUk74uKkwQXncM06CDv1fbEWhQBJzwNljDM9mJ7GI7lwUsSO7i9jmxyMC5tWvXGC6CfTFLg3USr25dIeDktq6a0yvjCDgCZ4mAE96zBK4Wb4uT3dHRUUun00G/D2kukl326PBGLkaHbc+eyEUwkqFoi/R9x4913veOifeB2doH/IW1FkdrL7Mj4AhUGwEnvNVGdJamp8+XuB/F2DwSXHR042SXxS2pVMogw4SxsSMlpxKztFpeLEfAEXAEHAFHwBFwBCZFwAnvpBDVfgTILtLdgwcP2po1awLZRW0BwotkF3UGCDDqDbt27QoVlovg2q+918ARcAQcAUfAEXAEGh0BJ7x12AP0CROie/jw4VDDkZER6+zsDFYY8vmI6EJ42SC7q1ffXtLtlTS4DqHxKjkCjoAj4Ag4Ao5AAyLghLfOGh2yy4Y+oRanQXbR121raw0qDDiNkBWGjo72YJIM02QE3VNnsHh1HAFHwBFwBBwBR6CBEXDCW2eND9kVaWW/fv36IMHNZNKGGgMuR9knk4lgd3d0dCQgECfIdQaJV8cRcAQcAUfAEXAEGhwBJ7x11AGOHz8WzIhRpddff916e3tP6OtGVhjiLkbXrFltBw7sC7q9qD1IMlxHcHhVHAFHwBFwBBwBR8ARCAg44a3xjiCiijT3yJFIX3fHjlFLpZInmRxDqouUt7m5ydavX1NyJ+z6ujXeAbz4joAj4Ag4Ao6AIzApAk54J4VodkeA8EpCu2/f3uAFrVgsBJWFcZNj2bBYDcK7ffsLoUIQZCe7s7ttvXSOgCPgCDgCjoAjUB0EnPBWB8fzlgq6t4SjR8dsaOj2oMKA5QXUF9ggvYlEm82Z02Gjo9tDXO7BTBmbB0fAEXAEHAFHwBFwBOodASe8NdrC8cVpO3e+Zr29KwPZjbsIzuUiF8Ho6+7fvzcQXCS7EF2pQtRo9b3YjoAj4Ag4Ao6AI+AInDECTnjPGKrZExFVBIgrYWRkm2FmrKWlxbCvixWGYjEfXARjcmx4eIPt3bsnxJU0ePbUxEviCDgCjoAj4Ag4Ao7A9CPghHf6Ma5qDiK6kFe5CEZ1QSbHUGFgYRougnfs2BHyZjHbsWNHg1S3qoXxxBwBR8ARcAQcAUfAEagBBJzw1kAjqYjSu92/f7+tWbP2hMmxbElfd9xFcK/t3Lkz3HbgwIHS4jTUGDw4Ao6AI+AIOAKOgCPQaAg44a2BFoeoSh1h+/btNmfOHEsmcSCRCyoMcfu6Q0OrSwRX0mARXe1roMpeREfAEXAEHAFHwBFwBKqGgBPeqkFZnYQgpbKeIKIr4oq+LqbFEolxF8HFYjGQ3/Z29HWHbd++faEguqc6pfJUHAFHwBFwBBwBR8ARqF0EnPDOsrYT4YX0irTG9XUzmVTQ19WexWro646OjoaaENclubOsUb04joAj4Ag4Ao6AI3BeEXDCe17hPzVz6ekeOnQoXEQXt6+v7yR93YjsZsI53AdLX/fgwYNOdk+F1M84Ao6AI+AIOAKOQIMj4IR3lnQASWUhvNLXxVHEuItgXAOnTE4lmpqabN26NcHhBFVAGqw0ZkmVvBiOgCPgCDgCjoAj4AjMCgSc8J7nZpBEF7IqdQS5CMaObjKZCHZ1sa+L6bG2tpZgd3dkRC6Cj5YWqZ3nqnj2joAj4Ag4Ao6AI+AIzEoEnPCe52aB8EJ2pa87Nnak5CI4X8hYNpcuSXaTyTbr7Gy30dGRUGoR5PNcBc/eEXAEHAFHwBFwBByBWY2AE97z3DwQXunrvvbaT8ZdBHdkLZtLBhu7qDGgwoCL4L173ym5CHYVhvPceJ69I+AIOAKOgCPgCNQEAk54z2MzxfV1d+wYDfq6eEkrFLOWzrRZsT1yKiF9XaS/BKTBuBd2wnseG8+zdgQcAUfAEXAEHIGaQcAJ7ww3FSQVsioVBvR1N23aaMViwVBZwFsa+rqFQsGam5uDyTGcTRC4B5LswRFwBBwBR8ARcAQcAUfgzBFwwnvmWFUlpvR1Ia6QXTyjIcFFbYENSwxxF8GvvfZayBd9XSe7VWkCT8QRcAQcAUfAEXAEGgwBJ7wz2OCQ3XGTYyNhAVpbW2uwwgDRxUUw7oIhwENDQyUpMJJd7nXCO4ON5Vk5Ao6AI+AIOAKOQN0g4IR3hpoSsooqAwEXwel0KpgYKxRyQapbLOaCCbKOjo6Si2ARZJFdJ7wz1FiejSPgCDgCjoAj4AjUFQJOeKe5OSGp0tdlj7MIJLhIc1FhkH3dlpZIXzfuIlgEF8LrwRFwBBwBR8ARcAQcAUfg7BBwwnt2uJ3RXRDVw4cPB3WEffv22Zo1Q4Hs4kBCKgxIeCHAuA+Wi2DMlEF2RXjPKDOP5Ag4Ao6AI+AIOAKOgCNQEQEnvBVhOfeTUkcgJaS2nZ0dlki0lRamifRCdtetW1fS7ZUlBsiuC3bPvR08BUfAEXAEHAFHwBFwBJzwTkMfkAoDUt3h4WFrb2+3lpam4Bo4MjmWs0Si1TKZtI2MRF7TuGfccxoL1I67nd1paBtP0hFwBBwBR8ARcAQaDwEnvOfY5tKv1V5klwVqWFpAgiuTY9LXTSYTNmfOHJN93XGie46F8dsdAUfAEXAEHAFHwBFwBE5BwAnvKZBM7YSILgT3wIED4WZ0cXt7ewPZxaYuC9Qik2PZcA5d3v3797ue7tSg9tiOgCPgCDgCjoAj4AicFQJOeM8KtvGbILzo28q+7o4dO4J3NLyk4S0N82Po62azmUB2sdKguJIGj6fm/xwBR8ARcAQcAUfAEXAEqo2AE95zRPTIkcMhhb1799jw8Abr6GgPLoKLxXyJ7La0tIT/2N8lQHRlk/ccs/fbHQFHwBFwBBwBR8ARcAQmQcAJ7yQAlV9GoiupLsQV6e7+/XttzRq5CM6WLDGMuwheaTt3vh6S4h6pQZSn7ceOgCPgCDgCjoAj4Ag4AtVHwAnvFDGF4MZVGEZHt9ucOZHJMWzqSl+XhWosWBsaut2OHh0LuUiVYYpZenRHwBFwBBwBR8ARcAQcgXNAwAnvFMFDFUG6t1hZwLQY9nXlIpg9VhiKxUJQccA0GRJdOaCYYnYe3RFwBBwBR8ARcAQcAUfgHBFwwjsFAKV3i6R2/fp1xsI0PKbJiQRkF33dVCppO3ZE9nWJKzUGV2WYAtge1RFwBBwBR8ARcAQcgSoh4IR3EiAhqZLQospw4AAugqWvmwkqDBHpjVQYentX2uuv/ySkeuDAftfXnQRfv+wIOAKOgCPgCDgCjsB0I+CEdxKEkc5K9xZ93c5OrDAkSl7TIuluOujrrl+/1sbGjoQUx8YO2/HjRydJ3S87Ao6AI+AIOAKOgCPgCEw3Ak54T4OwdHX37t1rGzdGJsdaW7Gvmwtmxti3tcnk2AshJQjvkSOHAtk9fvzYaVL3S46AI+AIOAKOgCPgCDgCM4GAE94JUJa+LQR29erbggRXLoKlt8titc7ODhsZ2R5SYWFaZJEBNQjI7vEJUvfTjoAj4Ag4Ao6AI+AIOAIzhYAT3jKkIbro6hJefvll6+/vC2QXRxKYHIP0osaAyTF0eQ8ePGjHjh2f0JFEXAcYQhy31qBrUptAdUIL40S4y4rnh46AI+AIOAKOgCPgCDgCU0TACW8ZYHHCe9ttkWS3o6No6XQyqDLIvu66devsyJHIvq5IallS4TCenq6L6Ooae4VK53TN946AI+AIOAKOgCPgCDgCU0fACW8ZZkh3pbv76quvWDabCbZ2I5NjzZZOp210NDI5RjxJg8uSOekQW7z33HOPfeELX7CvfvWr9vbbb4frWgyHJHnjxo1255132o9//ONwDRIdJ8InJegHjoAj4Ag4Ao6AI+AIOAJnjIAT3jKoJGEV6R0Z2WatrS1BhQGTY3EXwZORXdISae3t7Q1poAoB6SVwbffu3XbBBReUrm3bti1cI3/dW1ZEP3QEHAFHwBFwBBwBR8ARmAICTngrgCWiKUJ788032+DgYImAnk6FoTw5EeeXXnrJ5syZY+3t7bZ+/fqSru4Xv/jFIDUuFos2NDQUbid/laE8PT92BBwBR8ARcAQcAUfAEZgaAk54J8EL4nngwEE7eBBTY8dL6g6T3Fa6DDkWQf7Yxz5mqVTKcrmcvfLKKyGtSy65JJDgBQsWhHPcKKKtRJwACwnfOwKOgCPgCDgCjoAjMHUEnPBOghlkFQLKJuI6yS0nXeY+SXkhuQsXLrREImG/+Zu/aV/5ylcsmUyG7Utf+lK4T3q9SgSyW06Adc33joAj4Ag4Ao6AI+AIOAKTI+CEdxKMRDghnfyfapB0VkSWxWstLS02d+5cQ6qLisP73vc+e+utt0LSykP3sT906JDt2bPnrPKfank9viPgCDgCjoAj4Ag4AvWGgBPeGWhRkVeygth+4AMfsM7OTlu0aFEgv1hvIECKFZe9wic+8Ql773vfa1h7IMSvKY7vHQFHwBFwBBwBR8ARcAQqI+CEtzIu03JWqg133HGHtbW12fz58+0973mPvfPOOyE/SZEhtLgzJvzwhz+01tZWu+iii4KUl3NOeAM0/uMIOAKOgCPgCDgCjsAZIeCE94xgOvdIIqlIeC+77LIg4Z03b15QbUC3lyC1B+z0Yqosm82GDWkwEl7UGghKKxz4jyPgCDgCjoAj4Ag4Ao7AaRFwwntaeKp3UWQWM2RIbCG7ixcvDgvYbrnllkBitTgNnd17773XNm3aFDYWul188cVOeKvXHJ6SI+AIOAKOgCPgCDQQAk54Z6CxRWSlv4vzid/+7d8OVhowU8bx3XffHUoitQdJcVFtuPDCC8MmNQddm4GiexaOgCPgCDgCjoAj4AjUPAJOeKe5CWXWjGw+/elPBxu8qCqgxoDUFzu8hULBLr300pMsNWgBG57YnPBOcyN58o6AI+AIOAKOgCNQ1wg44Z3m5pUqw49+9KOgj4vTiXXr1pVs86LigF1eJL38JyDllRTXJbzT3ECevCPgCDgCjoAj4AjUPQJOeKe5iUVcb7311kB40d/92te+FnJF1QEJ7vvf//7gXhg93TfffLN0jT9OeKe5gTx5R8ARcAQcAUfAEah7BJzwTmMTS3f31VdfDQvUMEH2wQ9+0H71q1+FXA8fPhz2OKPAEQXbt771rXDu4MGDYe+EN8DgP46AI+AIOAKOgCPgCJw1Ak6JcizDAAABZUlEQVR4zxq6M78RM2NsmBWTxzTIsDasMmCLlzj79+8P6gxavOaE98xx9piOgCPgCDgCjoAj4AhUQsAJbyVUpvmciC7qDlJ5UJY6J+kwhBenE2z8J5Tfo3t97wg4Ao6AI+AIOAKOgCNwKgJOeE/FpOpnIKgQWO31n4xEcLHmoOvacx2Si71eNie8VW8aT9ARcAQcAUfAEXAEGgABJ7yztJEhvQRI7hVXXBE2J7yztLG8WI6AI+AIOAKOgCMwqxFwwjurmyeSAMd1f2d5cb14joAj4Ag4Ao6AI+AIzDoEnPDOuiY5uUCS9HI2/v/kWH7kCDgCjoAj4Ag4Ao6AIzARAk54J0JmFp2H6DrZnUUN4kVxBBwBR8ARcAQcgZpCwAlvTTWXF9YRcAQcAUfAEXAEHAFHYKoIOOGdKmIe3xFwBBwBR8ARcAQcAUegphBwwltTzeWFdQQcAUfAEXAEHAFHwBGYKgL/P7OQQyg+fpbDAAAAAElFTkSuQmCC)"
      ]
    },
    {
      "cell_type": "markdown",
      "metadata": {
        "id": "sbvV78d--sG2"
      },
      "source": [
        "The multiple linear regression model depicted by x1 and x2 and the residual shown with respect to a sample observation. The **residual** is the difference between actual and predicted values."
      ]
    },
    {
      "cell_type": "markdown",
      "metadata": {
        "id": "cJe0iAql_LFg"
      },
      "source": [
        "***MULTIPLE LINEAR REGRESSION FOR HOUSING*** **DATASET**"
      ]
    },
    {
      "cell_type": "code",
      "metadata": {
        "id": "4M6TI7EzzXky"
      },
      "source": [
        "import pandas as pd\n",
        "import numpy as np\n",
        "import matplotlib.pyplot as plt\n",
        "import seaborn as sns\n",
        "%matplotlib inline\n",
        "import warnings\n",
        "warnings.filterwarnings(action=\"ignore\", module=\"scipy\", message=\"^internal gelsd\")              "
      ],
      "execution_count": 58,
      "outputs": []
    },
    {
      "cell_type": "code",
      "metadata": {
        "id": "tRBpH_txABr9"
      },
      "source": [
        "house_mlr = pd.read_csv('House_data.csv')"
      ],
      "execution_count": 59,
      "outputs": []
    },
    {
      "cell_type": "code",
      "metadata": {
        "colab": {
          "base_uri": "https://localhost:8080/",
          "height": 667
        },
        "id": "avFu2-EwAMgo",
        "outputId": "52a6d001-30ae-4472-d4e5-b37658c32026"
      },
      "source": [
        "house_mlr.head(20)"
      ],
      "execution_count": 60,
      "outputs": [
        {
          "output_type": "execute_result",
          "data": {
            "text/html": [
              "<div>\n",
              "<style scoped>\n",
              "    .dataframe tbody tr th:only-of-type {\n",
              "        vertical-align: middle;\n",
              "    }\n",
              "\n",
              "    .dataframe tbody tr th {\n",
              "        vertical-align: top;\n",
              "    }\n",
              "\n",
              "    .dataframe thead th {\n",
              "        text-align: right;\n",
              "    }\n",
              "</style>\n",
              "<table border=\"1\" class=\"dataframe\">\n",
              "  <thead>\n",
              "    <tr style=\"text-align: right;\">\n",
              "      <th></th>\n",
              "      <th>id</th>\n",
              "      <th>date</th>\n",
              "      <th>price</th>\n",
              "      <th>bedrooms</th>\n",
              "      <th>bathrooms</th>\n",
              "      <th>sqft_living</th>\n",
              "      <th>sqft_lot</th>\n",
              "      <th>floors</th>\n",
              "      <th>waterfront</th>\n",
              "      <th>view</th>\n",
              "      <th>condition</th>\n",
              "      <th>grade</th>\n",
              "      <th>sqft_above</th>\n",
              "      <th>sqft_basement</th>\n",
              "      <th>yr_built</th>\n",
              "      <th>yr_renovated</th>\n",
              "      <th>zipcode</th>\n",
              "      <th>lat</th>\n",
              "      <th>long</th>\n",
              "      <th>sqft_living15</th>\n",
              "      <th>sqft_lot15</th>\n",
              "    </tr>\n",
              "  </thead>\n",
              "  <tbody>\n",
              "    <tr>\n",
              "      <th>0</th>\n",
              "      <td>7129300520</td>\n",
              "      <td>20141013T000000</td>\n",
              "      <td>221900.0</td>\n",
              "      <td>3</td>\n",
              "      <td>1.00</td>\n",
              "      <td>1180</td>\n",
              "      <td>5650</td>\n",
              "      <td>1.0</td>\n",
              "      <td>0</td>\n",
              "      <td>0</td>\n",
              "      <td>3</td>\n",
              "      <td>7</td>\n",
              "      <td>1180</td>\n",
              "      <td>0</td>\n",
              "      <td>1955</td>\n",
              "      <td>0</td>\n",
              "      <td>98178</td>\n",
              "      <td>47.5112</td>\n",
              "      <td>-122.257</td>\n",
              "      <td>1340</td>\n",
              "      <td>5650</td>\n",
              "    </tr>\n",
              "    <tr>\n",
              "      <th>1</th>\n",
              "      <td>6414100192</td>\n",
              "      <td>20141209T000000</td>\n",
              "      <td>538000.0</td>\n",
              "      <td>3</td>\n",
              "      <td>2.25</td>\n",
              "      <td>2570</td>\n",
              "      <td>7242</td>\n",
              "      <td>2.0</td>\n",
              "      <td>0</td>\n",
              "      <td>0</td>\n",
              "      <td>3</td>\n",
              "      <td>7</td>\n",
              "      <td>2170</td>\n",
              "      <td>400</td>\n",
              "      <td>1951</td>\n",
              "      <td>1991</td>\n",
              "      <td>98125</td>\n",
              "      <td>47.7210</td>\n",
              "      <td>-122.319</td>\n",
              "      <td>1690</td>\n",
              "      <td>7639</td>\n",
              "    </tr>\n",
              "    <tr>\n",
              "      <th>2</th>\n",
              "      <td>5631500400</td>\n",
              "      <td>20150225T000000</td>\n",
              "      <td>180000.0</td>\n",
              "      <td>2</td>\n",
              "      <td>1.00</td>\n",
              "      <td>770</td>\n",
              "      <td>10000</td>\n",
              "      <td>1.0</td>\n",
              "      <td>0</td>\n",
              "      <td>0</td>\n",
              "      <td>3</td>\n",
              "      <td>6</td>\n",
              "      <td>770</td>\n",
              "      <td>0</td>\n",
              "      <td>1933</td>\n",
              "      <td>0</td>\n",
              "      <td>98028</td>\n",
              "      <td>47.7379</td>\n",
              "      <td>-122.233</td>\n",
              "      <td>2720</td>\n",
              "      <td>8062</td>\n",
              "    </tr>\n",
              "    <tr>\n",
              "      <th>3</th>\n",
              "      <td>2487200875</td>\n",
              "      <td>20141209T000000</td>\n",
              "      <td>604000.0</td>\n",
              "      <td>4</td>\n",
              "      <td>3.00</td>\n",
              "      <td>1960</td>\n",
              "      <td>5000</td>\n",
              "      <td>1.0</td>\n",
              "      <td>0</td>\n",
              "      <td>0</td>\n",
              "      <td>5</td>\n",
              "      <td>7</td>\n",
              "      <td>1050</td>\n",
              "      <td>910</td>\n",
              "      <td>1965</td>\n",
              "      <td>0</td>\n",
              "      <td>98136</td>\n",
              "      <td>47.5208</td>\n",
              "      <td>-122.393</td>\n",
              "      <td>1360</td>\n",
              "      <td>5000</td>\n",
              "    </tr>\n",
              "    <tr>\n",
              "      <th>4</th>\n",
              "      <td>1954400510</td>\n",
              "      <td>20150218T000000</td>\n",
              "      <td>510000.0</td>\n",
              "      <td>3</td>\n",
              "      <td>2.00</td>\n",
              "      <td>1680</td>\n",
              "      <td>8080</td>\n",
              "      <td>1.0</td>\n",
              "      <td>0</td>\n",
              "      <td>0</td>\n",
              "      <td>3</td>\n",
              "      <td>8</td>\n",
              "      <td>1680</td>\n",
              "      <td>0</td>\n",
              "      <td>1987</td>\n",
              "      <td>0</td>\n",
              "      <td>98074</td>\n",
              "      <td>47.6168</td>\n",
              "      <td>-122.045</td>\n",
              "      <td>1800</td>\n",
              "      <td>7503</td>\n",
              "    </tr>\n",
              "    <tr>\n",
              "      <th>5</th>\n",
              "      <td>7237550310</td>\n",
              "      <td>20140512T000000</td>\n",
              "      <td>1225000.0</td>\n",
              "      <td>4</td>\n",
              "      <td>4.50</td>\n",
              "      <td>5420</td>\n",
              "      <td>101930</td>\n",
              "      <td>1.0</td>\n",
              "      <td>0</td>\n",
              "      <td>0</td>\n",
              "      <td>3</td>\n",
              "      <td>11</td>\n",
              "      <td>3890</td>\n",
              "      <td>1530</td>\n",
              "      <td>2001</td>\n",
              "      <td>0</td>\n",
              "      <td>98053</td>\n",
              "      <td>47.6561</td>\n",
              "      <td>-122.005</td>\n",
              "      <td>4760</td>\n",
              "      <td>101930</td>\n",
              "    </tr>\n",
              "    <tr>\n",
              "      <th>6</th>\n",
              "      <td>1321400060</td>\n",
              "      <td>20140627T000000</td>\n",
              "      <td>257500.0</td>\n",
              "      <td>3</td>\n",
              "      <td>2.25</td>\n",
              "      <td>1715</td>\n",
              "      <td>6819</td>\n",
              "      <td>2.0</td>\n",
              "      <td>0</td>\n",
              "      <td>0</td>\n",
              "      <td>3</td>\n",
              "      <td>7</td>\n",
              "      <td>1715</td>\n",
              "      <td>0</td>\n",
              "      <td>1995</td>\n",
              "      <td>0</td>\n",
              "      <td>98003</td>\n",
              "      <td>47.3097</td>\n",
              "      <td>-122.327</td>\n",
              "      <td>2238</td>\n",
              "      <td>6819</td>\n",
              "    </tr>\n",
              "    <tr>\n",
              "      <th>7</th>\n",
              "      <td>2008000270</td>\n",
              "      <td>20150115T000000</td>\n",
              "      <td>291850.0</td>\n",
              "      <td>3</td>\n",
              "      <td>1.50</td>\n",
              "      <td>1060</td>\n",
              "      <td>9711</td>\n",
              "      <td>1.0</td>\n",
              "      <td>0</td>\n",
              "      <td>0</td>\n",
              "      <td>3</td>\n",
              "      <td>7</td>\n",
              "      <td>1060</td>\n",
              "      <td>0</td>\n",
              "      <td>1963</td>\n",
              "      <td>0</td>\n",
              "      <td>98198</td>\n",
              "      <td>47.4095</td>\n",
              "      <td>-122.315</td>\n",
              "      <td>1650</td>\n",
              "      <td>9711</td>\n",
              "    </tr>\n",
              "    <tr>\n",
              "      <th>8</th>\n",
              "      <td>2414600126</td>\n",
              "      <td>20150415T000000</td>\n",
              "      <td>229500.0</td>\n",
              "      <td>3</td>\n",
              "      <td>1.00</td>\n",
              "      <td>1780</td>\n",
              "      <td>7470</td>\n",
              "      <td>1.0</td>\n",
              "      <td>0</td>\n",
              "      <td>0</td>\n",
              "      <td>3</td>\n",
              "      <td>7</td>\n",
              "      <td>1050</td>\n",
              "      <td>730</td>\n",
              "      <td>1960</td>\n",
              "      <td>0</td>\n",
              "      <td>98146</td>\n",
              "      <td>47.5123</td>\n",
              "      <td>-122.337</td>\n",
              "      <td>1780</td>\n",
              "      <td>8113</td>\n",
              "    </tr>\n",
              "    <tr>\n",
              "      <th>9</th>\n",
              "      <td>3793500160</td>\n",
              "      <td>20150312T000000</td>\n",
              "      <td>323000.0</td>\n",
              "      <td>3</td>\n",
              "      <td>2.50</td>\n",
              "      <td>1890</td>\n",
              "      <td>6560</td>\n",
              "      <td>2.0</td>\n",
              "      <td>0</td>\n",
              "      <td>0</td>\n",
              "      <td>3</td>\n",
              "      <td>7</td>\n",
              "      <td>1890</td>\n",
              "      <td>0</td>\n",
              "      <td>2003</td>\n",
              "      <td>0</td>\n",
              "      <td>98038</td>\n",
              "      <td>47.3684</td>\n",
              "      <td>-122.031</td>\n",
              "      <td>2390</td>\n",
              "      <td>7570</td>\n",
              "    </tr>\n",
              "    <tr>\n",
              "      <th>10</th>\n",
              "      <td>1736800520</td>\n",
              "      <td>20150403T000000</td>\n",
              "      <td>662500.0</td>\n",
              "      <td>3</td>\n",
              "      <td>2.50</td>\n",
              "      <td>3560</td>\n",
              "      <td>9796</td>\n",
              "      <td>1.0</td>\n",
              "      <td>0</td>\n",
              "      <td>0</td>\n",
              "      <td>3</td>\n",
              "      <td>8</td>\n",
              "      <td>1860</td>\n",
              "      <td>1700</td>\n",
              "      <td>1965</td>\n",
              "      <td>0</td>\n",
              "      <td>98007</td>\n",
              "      <td>47.6007</td>\n",
              "      <td>-122.145</td>\n",
              "      <td>2210</td>\n",
              "      <td>8925</td>\n",
              "    </tr>\n",
              "    <tr>\n",
              "      <th>11</th>\n",
              "      <td>9212900260</td>\n",
              "      <td>20140527T000000</td>\n",
              "      <td>468000.0</td>\n",
              "      <td>2</td>\n",
              "      <td>1.00</td>\n",
              "      <td>1160</td>\n",
              "      <td>6000</td>\n",
              "      <td>1.0</td>\n",
              "      <td>0</td>\n",
              "      <td>0</td>\n",
              "      <td>4</td>\n",
              "      <td>7</td>\n",
              "      <td>860</td>\n",
              "      <td>300</td>\n",
              "      <td>1942</td>\n",
              "      <td>0</td>\n",
              "      <td>98115</td>\n",
              "      <td>47.6900</td>\n",
              "      <td>-122.292</td>\n",
              "      <td>1330</td>\n",
              "      <td>6000</td>\n",
              "    </tr>\n",
              "    <tr>\n",
              "      <th>12</th>\n",
              "      <td>114101516</td>\n",
              "      <td>20140528T000000</td>\n",
              "      <td>310000.0</td>\n",
              "      <td>3</td>\n",
              "      <td>1.00</td>\n",
              "      <td>1430</td>\n",
              "      <td>19901</td>\n",
              "      <td>1.5</td>\n",
              "      <td>0</td>\n",
              "      <td>0</td>\n",
              "      <td>4</td>\n",
              "      <td>7</td>\n",
              "      <td>1430</td>\n",
              "      <td>0</td>\n",
              "      <td>1927</td>\n",
              "      <td>0</td>\n",
              "      <td>98028</td>\n",
              "      <td>47.7558</td>\n",
              "      <td>-122.229</td>\n",
              "      <td>1780</td>\n",
              "      <td>12697</td>\n",
              "    </tr>\n",
              "    <tr>\n",
              "      <th>13</th>\n",
              "      <td>6054650070</td>\n",
              "      <td>20141007T000000</td>\n",
              "      <td>400000.0</td>\n",
              "      <td>3</td>\n",
              "      <td>1.75</td>\n",
              "      <td>1370</td>\n",
              "      <td>9680</td>\n",
              "      <td>1.0</td>\n",
              "      <td>0</td>\n",
              "      <td>0</td>\n",
              "      <td>4</td>\n",
              "      <td>7</td>\n",
              "      <td>1370</td>\n",
              "      <td>0</td>\n",
              "      <td>1977</td>\n",
              "      <td>0</td>\n",
              "      <td>98074</td>\n",
              "      <td>47.6127</td>\n",
              "      <td>-122.045</td>\n",
              "      <td>1370</td>\n",
              "      <td>10208</td>\n",
              "    </tr>\n",
              "    <tr>\n",
              "      <th>14</th>\n",
              "      <td>1175000570</td>\n",
              "      <td>20150312T000000</td>\n",
              "      <td>530000.0</td>\n",
              "      <td>5</td>\n",
              "      <td>2.00</td>\n",
              "      <td>1810</td>\n",
              "      <td>4850</td>\n",
              "      <td>1.5</td>\n",
              "      <td>0</td>\n",
              "      <td>0</td>\n",
              "      <td>3</td>\n",
              "      <td>7</td>\n",
              "      <td>1810</td>\n",
              "      <td>0</td>\n",
              "      <td>1900</td>\n",
              "      <td>0</td>\n",
              "      <td>98107</td>\n",
              "      <td>47.6700</td>\n",
              "      <td>-122.394</td>\n",
              "      <td>1360</td>\n",
              "      <td>4850</td>\n",
              "    </tr>\n",
              "    <tr>\n",
              "      <th>15</th>\n",
              "      <td>9297300055</td>\n",
              "      <td>20150124T000000</td>\n",
              "      <td>650000.0</td>\n",
              "      <td>4</td>\n",
              "      <td>3.00</td>\n",
              "      <td>2950</td>\n",
              "      <td>5000</td>\n",
              "      <td>2.0</td>\n",
              "      <td>0</td>\n",
              "      <td>3</td>\n",
              "      <td>3</td>\n",
              "      <td>9</td>\n",
              "      <td>1980</td>\n",
              "      <td>970</td>\n",
              "      <td>1979</td>\n",
              "      <td>0</td>\n",
              "      <td>98126</td>\n",
              "      <td>47.5714</td>\n",
              "      <td>-122.375</td>\n",
              "      <td>2140</td>\n",
              "      <td>4000</td>\n",
              "    </tr>\n",
              "    <tr>\n",
              "      <th>16</th>\n",
              "      <td>1875500060</td>\n",
              "      <td>20140731T000000</td>\n",
              "      <td>395000.0</td>\n",
              "      <td>3</td>\n",
              "      <td>2.00</td>\n",
              "      <td>1890</td>\n",
              "      <td>14040</td>\n",
              "      <td>2.0</td>\n",
              "      <td>0</td>\n",
              "      <td>0</td>\n",
              "      <td>3</td>\n",
              "      <td>7</td>\n",
              "      <td>1890</td>\n",
              "      <td>0</td>\n",
              "      <td>1994</td>\n",
              "      <td>0</td>\n",
              "      <td>98019</td>\n",
              "      <td>47.7277</td>\n",
              "      <td>-121.962</td>\n",
              "      <td>1890</td>\n",
              "      <td>14018</td>\n",
              "    </tr>\n",
              "    <tr>\n",
              "      <th>17</th>\n",
              "      <td>6865200140</td>\n",
              "      <td>20140529T000000</td>\n",
              "      <td>485000.0</td>\n",
              "      <td>4</td>\n",
              "      <td>1.00</td>\n",
              "      <td>1600</td>\n",
              "      <td>4300</td>\n",
              "      <td>1.5</td>\n",
              "      <td>0</td>\n",
              "      <td>0</td>\n",
              "      <td>4</td>\n",
              "      <td>7</td>\n",
              "      <td>1600</td>\n",
              "      <td>0</td>\n",
              "      <td>1916</td>\n",
              "      <td>0</td>\n",
              "      <td>98103</td>\n",
              "      <td>47.6648</td>\n",
              "      <td>-122.343</td>\n",
              "      <td>1610</td>\n",
              "      <td>4300</td>\n",
              "    </tr>\n",
              "    <tr>\n",
              "      <th>18</th>\n",
              "      <td>16000397</td>\n",
              "      <td>20141205T000000</td>\n",
              "      <td>189000.0</td>\n",
              "      <td>2</td>\n",
              "      <td>1.00</td>\n",
              "      <td>1200</td>\n",
              "      <td>9850</td>\n",
              "      <td>1.0</td>\n",
              "      <td>0</td>\n",
              "      <td>0</td>\n",
              "      <td>4</td>\n",
              "      <td>7</td>\n",
              "      <td>1200</td>\n",
              "      <td>0</td>\n",
              "      <td>1921</td>\n",
              "      <td>0</td>\n",
              "      <td>98002</td>\n",
              "      <td>47.3089</td>\n",
              "      <td>-122.210</td>\n",
              "      <td>1060</td>\n",
              "      <td>5095</td>\n",
              "    </tr>\n",
              "    <tr>\n",
              "      <th>19</th>\n",
              "      <td>7983200060</td>\n",
              "      <td>20150424T000000</td>\n",
              "      <td>230000.0</td>\n",
              "      <td>3</td>\n",
              "      <td>1.00</td>\n",
              "      <td>1250</td>\n",
              "      <td>9774</td>\n",
              "      <td>1.0</td>\n",
              "      <td>0</td>\n",
              "      <td>0</td>\n",
              "      <td>4</td>\n",
              "      <td>7</td>\n",
              "      <td>1250</td>\n",
              "      <td>0</td>\n",
              "      <td>1969</td>\n",
              "      <td>0</td>\n",
              "      <td>98003</td>\n",
              "      <td>47.3343</td>\n",
              "      <td>-122.306</td>\n",
              "      <td>1280</td>\n",
              "      <td>8850</td>\n",
              "    </tr>\n",
              "  </tbody>\n",
              "</table>\n",
              "</div>"
            ],
            "text/plain": [
              "            id             date      price  ...     long  sqft_living15  sqft_lot15\n",
              "0   7129300520  20141013T000000   221900.0  ... -122.257           1340        5650\n",
              "1   6414100192  20141209T000000   538000.0  ... -122.319           1690        7639\n",
              "2   5631500400  20150225T000000   180000.0  ... -122.233           2720        8062\n",
              "3   2487200875  20141209T000000   604000.0  ... -122.393           1360        5000\n",
              "4   1954400510  20150218T000000   510000.0  ... -122.045           1800        7503\n",
              "5   7237550310  20140512T000000  1225000.0  ... -122.005           4760      101930\n",
              "6   1321400060  20140627T000000   257500.0  ... -122.327           2238        6819\n",
              "7   2008000270  20150115T000000   291850.0  ... -122.315           1650        9711\n",
              "8   2414600126  20150415T000000   229500.0  ... -122.337           1780        8113\n",
              "9   3793500160  20150312T000000   323000.0  ... -122.031           2390        7570\n",
              "10  1736800520  20150403T000000   662500.0  ... -122.145           2210        8925\n",
              "11  9212900260  20140527T000000   468000.0  ... -122.292           1330        6000\n",
              "12   114101516  20140528T000000   310000.0  ... -122.229           1780       12697\n",
              "13  6054650070  20141007T000000   400000.0  ... -122.045           1370       10208\n",
              "14  1175000570  20150312T000000   530000.0  ... -122.394           1360        4850\n",
              "15  9297300055  20150124T000000   650000.0  ... -122.375           2140        4000\n",
              "16  1875500060  20140731T000000   395000.0  ... -121.962           1890       14018\n",
              "17  6865200140  20140529T000000   485000.0  ... -122.343           1610        4300\n",
              "18    16000397  20141205T000000   189000.0  ... -122.210           1060        5095\n",
              "19  7983200060  20150424T000000   230000.0  ... -122.306           1280        8850\n",
              "\n",
              "[20 rows x 21 columns]"
            ]
          },
          "metadata": {
            "tags": []
          },
          "execution_count": 60
        }
      ]
    },
    {
      "cell_type": "code",
      "metadata": {
        "colab": {
          "base_uri": "https://localhost:8080/"
        },
        "id": "2J83-Oz2AgkI",
        "outputId": "c85b3deb-e27b-4773-b7b8-64aa2fb68829"
      },
      "source": [
        "house_mlr.info()"
      ],
      "execution_count": 61,
      "outputs": [
        {
          "output_type": "stream",
          "text": [
            "<class 'pandas.core.frame.DataFrame'>\n",
            "RangeIndex: 21613 entries, 0 to 21612\n",
            "Data columns (total 21 columns):\n",
            " #   Column         Non-Null Count  Dtype  \n",
            "---  ------         --------------  -----  \n",
            " 0   id             21613 non-null  int64  \n",
            " 1   date           21613 non-null  object \n",
            " 2   price          21613 non-null  float64\n",
            " 3   bedrooms       21613 non-null  int64  \n",
            " 4   bathrooms      21613 non-null  float64\n",
            " 5   sqft_living    21613 non-null  int64  \n",
            " 6   sqft_lot       21613 non-null  int64  \n",
            " 7   floors         21613 non-null  float64\n",
            " 8   waterfront     21613 non-null  int64  \n",
            " 9   view           21613 non-null  int64  \n",
            " 10  condition      21613 non-null  int64  \n",
            " 11  grade          21613 non-null  int64  \n",
            " 12  sqft_above     21613 non-null  int64  \n",
            " 13  sqft_basement  21613 non-null  int64  \n",
            " 14  yr_built       21613 non-null  int64  \n",
            " 15  yr_renovated   21613 non-null  int64  \n",
            " 16  zipcode        21613 non-null  int64  \n",
            " 17  lat            21613 non-null  float64\n",
            " 18  long           21613 non-null  float64\n",
            " 19  sqft_living15  21613 non-null  int64  \n",
            " 20  sqft_lot15     21613 non-null  int64  \n",
            "dtypes: float64(5), int64(15), object(1)\n",
            "memory usage: 3.5+ MB\n"
          ],
          "name": "stdout"
        }
      ]
    },
    {
      "cell_type": "code",
      "metadata": {
        "colab": {
          "base_uri": "https://localhost:8080/",
          "height": 307
        },
        "id": "Zu9yjl4TDOl9",
        "outputId": "c4fe442d-b16c-4509-ce03-540c7fe9a56b"
      },
      "source": [
        "house_mlr.describe()"
      ],
      "execution_count": 62,
      "outputs": [
        {
          "output_type": "execute_result",
          "data": {
            "text/html": [
              "<div>\n",
              "<style scoped>\n",
              "    .dataframe tbody tr th:only-of-type {\n",
              "        vertical-align: middle;\n",
              "    }\n",
              "\n",
              "    .dataframe tbody tr th {\n",
              "        vertical-align: top;\n",
              "    }\n",
              "\n",
              "    .dataframe thead th {\n",
              "        text-align: right;\n",
              "    }\n",
              "</style>\n",
              "<table border=\"1\" class=\"dataframe\">\n",
              "  <thead>\n",
              "    <tr style=\"text-align: right;\">\n",
              "      <th></th>\n",
              "      <th>id</th>\n",
              "      <th>price</th>\n",
              "      <th>bedrooms</th>\n",
              "      <th>bathrooms</th>\n",
              "      <th>sqft_living</th>\n",
              "      <th>sqft_lot</th>\n",
              "      <th>floors</th>\n",
              "      <th>waterfront</th>\n",
              "      <th>view</th>\n",
              "      <th>condition</th>\n",
              "      <th>grade</th>\n",
              "      <th>sqft_above</th>\n",
              "      <th>sqft_basement</th>\n",
              "      <th>yr_built</th>\n",
              "      <th>yr_renovated</th>\n",
              "      <th>zipcode</th>\n",
              "      <th>lat</th>\n",
              "      <th>long</th>\n",
              "      <th>sqft_living15</th>\n",
              "      <th>sqft_lot15</th>\n",
              "    </tr>\n",
              "  </thead>\n",
              "  <tbody>\n",
              "    <tr>\n",
              "      <th>count</th>\n",
              "      <td>2.161300e+04</td>\n",
              "      <td>2.161300e+04</td>\n",
              "      <td>21613.000000</td>\n",
              "      <td>21613.000000</td>\n",
              "      <td>21613.000000</td>\n",
              "      <td>2.161300e+04</td>\n",
              "      <td>21613.000000</td>\n",
              "      <td>21613.000000</td>\n",
              "      <td>21613.000000</td>\n",
              "      <td>21613.000000</td>\n",
              "      <td>21613.000000</td>\n",
              "      <td>21613.000000</td>\n",
              "      <td>21613.000000</td>\n",
              "      <td>21613.000000</td>\n",
              "      <td>21613.000000</td>\n",
              "      <td>21613.000000</td>\n",
              "      <td>21613.000000</td>\n",
              "      <td>21613.000000</td>\n",
              "      <td>21613.000000</td>\n",
              "      <td>21613.000000</td>\n",
              "    </tr>\n",
              "    <tr>\n",
              "      <th>mean</th>\n",
              "      <td>4.580302e+09</td>\n",
              "      <td>5.400881e+05</td>\n",
              "      <td>3.370842</td>\n",
              "      <td>2.114757</td>\n",
              "      <td>2079.899736</td>\n",
              "      <td>1.510697e+04</td>\n",
              "      <td>1.494309</td>\n",
              "      <td>0.007542</td>\n",
              "      <td>0.234303</td>\n",
              "      <td>3.409430</td>\n",
              "      <td>7.656873</td>\n",
              "      <td>1788.390691</td>\n",
              "      <td>291.509045</td>\n",
              "      <td>1971.005136</td>\n",
              "      <td>84.402258</td>\n",
              "      <td>98077.939805</td>\n",
              "      <td>47.560053</td>\n",
              "      <td>-122.213896</td>\n",
              "      <td>1986.552492</td>\n",
              "      <td>12768.455652</td>\n",
              "    </tr>\n",
              "    <tr>\n",
              "      <th>std</th>\n",
              "      <td>2.876566e+09</td>\n",
              "      <td>3.671272e+05</td>\n",
              "      <td>0.930062</td>\n",
              "      <td>0.770163</td>\n",
              "      <td>918.440897</td>\n",
              "      <td>4.142051e+04</td>\n",
              "      <td>0.539989</td>\n",
              "      <td>0.086517</td>\n",
              "      <td>0.766318</td>\n",
              "      <td>0.650743</td>\n",
              "      <td>1.175459</td>\n",
              "      <td>828.090978</td>\n",
              "      <td>442.575043</td>\n",
              "      <td>29.373411</td>\n",
              "      <td>401.679240</td>\n",
              "      <td>53.505026</td>\n",
              "      <td>0.138564</td>\n",
              "      <td>0.140828</td>\n",
              "      <td>685.391304</td>\n",
              "      <td>27304.179631</td>\n",
              "    </tr>\n",
              "    <tr>\n",
              "      <th>min</th>\n",
              "      <td>1.000102e+06</td>\n",
              "      <td>7.500000e+04</td>\n",
              "      <td>0.000000</td>\n",
              "      <td>0.000000</td>\n",
              "      <td>290.000000</td>\n",
              "      <td>5.200000e+02</td>\n",
              "      <td>1.000000</td>\n",
              "      <td>0.000000</td>\n",
              "      <td>0.000000</td>\n",
              "      <td>1.000000</td>\n",
              "      <td>1.000000</td>\n",
              "      <td>290.000000</td>\n",
              "      <td>0.000000</td>\n",
              "      <td>1900.000000</td>\n",
              "      <td>0.000000</td>\n",
              "      <td>98001.000000</td>\n",
              "      <td>47.155900</td>\n",
              "      <td>-122.519000</td>\n",
              "      <td>399.000000</td>\n",
              "      <td>651.000000</td>\n",
              "    </tr>\n",
              "    <tr>\n",
              "      <th>25%</th>\n",
              "      <td>2.123049e+09</td>\n",
              "      <td>3.219500e+05</td>\n",
              "      <td>3.000000</td>\n",
              "      <td>1.750000</td>\n",
              "      <td>1427.000000</td>\n",
              "      <td>5.040000e+03</td>\n",
              "      <td>1.000000</td>\n",
              "      <td>0.000000</td>\n",
              "      <td>0.000000</td>\n",
              "      <td>3.000000</td>\n",
              "      <td>7.000000</td>\n",
              "      <td>1190.000000</td>\n",
              "      <td>0.000000</td>\n",
              "      <td>1951.000000</td>\n",
              "      <td>0.000000</td>\n",
              "      <td>98033.000000</td>\n",
              "      <td>47.471000</td>\n",
              "      <td>-122.328000</td>\n",
              "      <td>1490.000000</td>\n",
              "      <td>5100.000000</td>\n",
              "    </tr>\n",
              "    <tr>\n",
              "      <th>50%</th>\n",
              "      <td>3.904930e+09</td>\n",
              "      <td>4.500000e+05</td>\n",
              "      <td>3.000000</td>\n",
              "      <td>2.250000</td>\n",
              "      <td>1910.000000</td>\n",
              "      <td>7.618000e+03</td>\n",
              "      <td>1.500000</td>\n",
              "      <td>0.000000</td>\n",
              "      <td>0.000000</td>\n",
              "      <td>3.000000</td>\n",
              "      <td>7.000000</td>\n",
              "      <td>1560.000000</td>\n",
              "      <td>0.000000</td>\n",
              "      <td>1975.000000</td>\n",
              "      <td>0.000000</td>\n",
              "      <td>98065.000000</td>\n",
              "      <td>47.571800</td>\n",
              "      <td>-122.230000</td>\n",
              "      <td>1840.000000</td>\n",
              "      <td>7620.000000</td>\n",
              "    </tr>\n",
              "    <tr>\n",
              "      <th>75%</th>\n",
              "      <td>7.308900e+09</td>\n",
              "      <td>6.450000e+05</td>\n",
              "      <td>4.000000</td>\n",
              "      <td>2.500000</td>\n",
              "      <td>2550.000000</td>\n",
              "      <td>1.068800e+04</td>\n",
              "      <td>2.000000</td>\n",
              "      <td>0.000000</td>\n",
              "      <td>0.000000</td>\n",
              "      <td>4.000000</td>\n",
              "      <td>8.000000</td>\n",
              "      <td>2210.000000</td>\n",
              "      <td>560.000000</td>\n",
              "      <td>1997.000000</td>\n",
              "      <td>0.000000</td>\n",
              "      <td>98118.000000</td>\n",
              "      <td>47.678000</td>\n",
              "      <td>-122.125000</td>\n",
              "      <td>2360.000000</td>\n",
              "      <td>10083.000000</td>\n",
              "    </tr>\n",
              "    <tr>\n",
              "      <th>max</th>\n",
              "      <td>9.900000e+09</td>\n",
              "      <td>7.700000e+06</td>\n",
              "      <td>33.000000</td>\n",
              "      <td>8.000000</td>\n",
              "      <td>13540.000000</td>\n",
              "      <td>1.651359e+06</td>\n",
              "      <td>3.500000</td>\n",
              "      <td>1.000000</td>\n",
              "      <td>4.000000</td>\n",
              "      <td>5.000000</td>\n",
              "      <td>13.000000</td>\n",
              "      <td>9410.000000</td>\n",
              "      <td>4820.000000</td>\n",
              "      <td>2015.000000</td>\n",
              "      <td>2015.000000</td>\n",
              "      <td>98199.000000</td>\n",
              "      <td>47.777600</td>\n",
              "      <td>-121.315000</td>\n",
              "      <td>6210.000000</td>\n",
              "      <td>871200.000000</td>\n",
              "    </tr>\n",
              "  </tbody>\n",
              "</table>\n",
              "</div>"
            ],
            "text/plain": [
              "                 id         price  ...  sqft_living15     sqft_lot15\n",
              "count  2.161300e+04  2.161300e+04  ...   21613.000000   21613.000000\n",
              "mean   4.580302e+09  5.400881e+05  ...    1986.552492   12768.455652\n",
              "std    2.876566e+09  3.671272e+05  ...     685.391304   27304.179631\n",
              "min    1.000102e+06  7.500000e+04  ...     399.000000     651.000000\n",
              "25%    2.123049e+09  3.219500e+05  ...    1490.000000    5100.000000\n",
              "50%    3.904930e+09  4.500000e+05  ...    1840.000000    7620.000000\n",
              "75%    7.308900e+09  6.450000e+05  ...    2360.000000   10083.000000\n",
              "max    9.900000e+09  7.700000e+06  ...    6210.000000  871200.000000\n",
              "\n",
              "[8 rows x 20 columns]"
            ]
          },
          "metadata": {
            "tags": []
          },
          "execution_count": 62
        }
      ]
    },
    {
      "cell_type": "markdown",
      "metadata": {
        "id": "vhOXLxHAD6eM"
      },
      "source": [
        "**A very good way to visualize the variables is using a box-and-whisker plot using the following code.**\n"
      ]
    },
    {
      "cell_type": "code",
      "metadata": {
        "colab": {
          "base_uri": "https://localhost:8080/",
          "height": 507
        },
        "id": "gGYdwnxkDWwX",
        "outputId": "dd96ff0a-9dd3-4b9f-d84d-eff900893503"
      },
      "source": [
        "fig = plt.figure(1, figsize=(9, 6))\n",
        "ax = fig.add_subplot(111)\n",
        "ax.boxplot(house_mlr['sqft_living15'])"
      ],
      "execution_count": 63,
      "outputs": [
        {
          "output_type": "execute_result",
          "data": {
            "text/plain": [
              "{'boxes': [<matplotlib.lines.Line2D at 0x7fe82b89a3d0>],\n",
              " 'caps': [<matplotlib.lines.Line2D at 0x7fe82b8a0450>,\n",
              "  <matplotlib.lines.Line2D at 0x7fe82b8a0990>],\n",
              " 'fliers': [<matplotlib.lines.Line2D at 0x7fe82b8a7490>],\n",
              " 'means': [],\n",
              " 'medians': [<matplotlib.lines.Line2D at 0x7fe82b8a0f10>],\n",
              " 'whiskers': [<matplotlib.lines.Line2D at 0x7fe82b8919d0>,\n",
              "  <matplotlib.lines.Line2D at 0x7fe82b89aed0>]}"
            ]
          },
          "metadata": {
            "tags": []
          },
          "execution_count": 63
        },
        {
          "output_type": "display_data",
          "data": {
            "image/png": "[encoded data removed]",
            "text/plain": [
              "<Figure size 648x432 with 1 Axes>"
            ]
          },
          "metadata": {
            "tags": [],
            "needs_background": "light"
          }
        }
      ]
    },
    {
      "cell_type": "markdown",
      "metadata": {
        "id": "v_GfxLCqHYBR"
      },
      "source": [
        ""
      ]
    },
    {
      "cell_type": "markdown",
      "metadata": {
        "id": "M5b4A2OTFQY3"
      },
      "source": [
        "# Step 5: Now we are going to check for the correlations between the variables. This will be done using a correlation matrix which is developed using the following code:\n",
        "\n",
        "# *The* analysis of the correlation matrix shows that there is some correlation between a few variables. For example, between sqft_above and sqft_living there is a correlation of 0.88. And that is quite expected. **For this first simple example, we are not treating the correlated variables.**"
      ]
    },
    {
      "cell_type": "code",
      "metadata": {
        "colab": {
          "base_uri": "https://localhost:8080/",
          "height": 767
        },
        "id": "S5dxtJWNEz5i",
        "outputId": "6eae8944-aa05-422f-eb0c-ac4d6a6fe96a"
      },
      "source": [
        "house_mlr.drop(['id', 'date'], axis = 1, inplace = True)\n",
        "fig, ax = plt.subplots(figsize = (12,12))\n",
        "ax = sns.heatmap(house_mlr.corr(),annot = True)\n"
      ],
      "execution_count": 64,
      "outputs": [
        {
          "output_type": "display_data",
          "data": {
            "image/png": "[encoded data removed]",
            "text/plain": [
              "<Figure size 864x864 with 2 Axes>"
            ]
          },
          "metadata": {
            "tags": [],
            "needs_background": "light"
          }
        }
      ]
    },
    {
      "cell_type": "markdown",
      "metadata": {
        "id": "guV1pr_uIf2A"
      },
      "source": [
        "# Step 6: Now we will clean the data a little. There are a few null values present in the dataset. We are dropping those null values now. We are examining the concepts of missing value treatment in Chapter 5.\n"
      ]
    },
    {
      "cell_type": "code",
      "metadata": {
        "colab": {
          "base_uri": "https://localhost:8080/",
          "height": 217
        },
        "id": "lwYOZ-_QJkkR",
        "outputId": "dd344397-f8a5-41d8-cf83-c5c3a82c1db1"
      },
      "source": [
        "house_mlr.isnull().any()\n",
        "house_mlr ['basement'] = (house_mlr ['sqft_basement'] > 0).astype(int)\n",
        "house_mlr ['renovated'] = (house_mlr ['yr_renovated'] > 0).astype(int)\n",
        "to_drop = ['sqft_basement', 'yr_renovated']\n",
        "house_mlr.drop(to_drop, axis = 1, inplace = True)\n",
        "house_mlr.head()"
      ],
      "execution_count": 65,
      "outputs": [
        {
          "output_type": "execute_result",
          "data": {
            "text/html": [
              "<div>\n",
              "<style scoped>\n",
              "    .dataframe tbody tr th:only-of-type {\n",
              "        vertical-align: middle;\n",
              "    }\n",
              "\n",
              "    .dataframe tbody tr th {\n",
              "        vertical-align: top;\n",
              "    }\n",
              "\n",
              "    .dataframe thead th {\n",
              "        text-align: right;\n",
              "    }\n",
              "</style>\n",
              "<table border=\"1\" class=\"dataframe\">\n",
              "  <thead>\n",
              "    <tr style=\"text-align: right;\">\n",
              "      <th></th>\n",
              "      <th>price</th>\n",
              "      <th>bedrooms</th>\n",
              "      <th>bathrooms</th>\n",
              "      <th>sqft_living</th>\n",
              "      <th>sqft_lot</th>\n",
              "      <th>floors</th>\n",
              "      <th>waterfront</th>\n",
              "      <th>view</th>\n",
              "      <th>condition</th>\n",
              "      <th>grade</th>\n",
              "      <th>sqft_above</th>\n",
              "      <th>yr_built</th>\n",
              "      <th>zipcode</th>\n",
              "      <th>lat</th>\n",
              "      <th>long</th>\n",
              "      <th>sqft_living15</th>\n",
              "      <th>sqft_lot15</th>\n",
              "      <th>basement</th>\n",
              "      <th>renovated</th>\n",
              "    </tr>\n",
              "  </thead>\n",
              "  <tbody>\n",
              "    <tr>\n",
              "      <th>0</th>\n",
              "      <td>221900.0</td>\n",
              "      <td>3</td>\n",
              "      <td>1.00</td>\n",
              "      <td>1180</td>\n",
              "      <td>5650</td>\n",
              "      <td>1.0</td>\n",
              "      <td>0</td>\n",
              "      <td>0</td>\n",
              "      <td>3</td>\n",
              "      <td>7</td>\n",
              "      <td>1180</td>\n",
              "      <td>1955</td>\n",
              "      <td>98178</td>\n",
              "      <td>47.5112</td>\n",
              "      <td>-122.257</td>\n",
              "      <td>1340</td>\n",
              "      <td>5650</td>\n",
              "      <td>0</td>\n",
              "      <td>0</td>\n",
              "    </tr>\n",
              "    <tr>\n",
              "      <th>1</th>\n",
              "      <td>538000.0</td>\n",
              "      <td>3</td>\n",
              "      <td>2.25</td>\n",
              "      <td>2570</td>\n",
              "      <td>7242</td>\n",
              "      <td>2.0</td>\n",
              "      <td>0</td>\n",
              "      <td>0</td>\n",
              "      <td>3</td>\n",
              "      <td>7</td>\n",
              "      <td>2170</td>\n",
              "      <td>1951</td>\n",
              "      <td>98125</td>\n",
              "      <td>47.7210</td>\n",
              "      <td>-122.319</td>\n",
              "      <td>1690</td>\n",
              "      <td>7639</td>\n",
              "      <td>1</td>\n",
              "      <td>1</td>\n",
              "    </tr>\n",
              "    <tr>\n",
              "      <th>2</th>\n",
              "      <td>180000.0</td>\n",
              "      <td>2</td>\n",
              "      <td>1.00</td>\n",
              "      <td>770</td>\n",
              "      <td>10000</td>\n",
              "      <td>1.0</td>\n",
              "      <td>0</td>\n",
              "      <td>0</td>\n",
              "      <td>3</td>\n",
              "      <td>6</td>\n",
              "      <td>770</td>\n",
              "      <td>1933</td>\n",
              "      <td>98028</td>\n",
              "      <td>47.7379</td>\n",
              "      <td>-122.233</td>\n",
              "      <td>2720</td>\n",
              "      <td>8062</td>\n",
              "      <td>0</td>\n",
              "      <td>0</td>\n",
              "    </tr>\n",
              "    <tr>\n",
              "      <th>3</th>\n",
              "      <td>604000.0</td>\n",
              "      <td>4</td>\n",
              "      <td>3.00</td>\n",
              "      <td>1960</td>\n",
              "      <td>5000</td>\n",
              "      <td>1.0</td>\n",
              "      <td>0</td>\n",
              "      <td>0</td>\n",
              "      <td>5</td>\n",
              "      <td>7</td>\n",
              "      <td>1050</td>\n",
              "      <td>1965</td>\n",
              "      <td>98136</td>\n",
              "      <td>47.5208</td>\n",
              "      <td>-122.393</td>\n",
              "      <td>1360</td>\n",
              "      <td>5000</td>\n",
              "      <td>1</td>\n",
              "      <td>0</td>\n",
              "    </tr>\n",
              "    <tr>\n",
              "      <th>4</th>\n",
              "      <td>510000.0</td>\n",
              "      <td>3</td>\n",
              "      <td>2.00</td>\n",
              "      <td>1680</td>\n",
              "      <td>8080</td>\n",
              "      <td>1.0</td>\n",
              "      <td>0</td>\n",
              "      <td>0</td>\n",
              "      <td>3</td>\n",
              "      <td>8</td>\n",
              "      <td>1680</td>\n",
              "      <td>1987</td>\n",
              "      <td>98074</td>\n",
              "      <td>47.6168</td>\n",
              "      <td>-122.045</td>\n",
              "      <td>1800</td>\n",
              "      <td>7503</td>\n",
              "      <td>0</td>\n",
              "      <td>0</td>\n",
              "    </tr>\n",
              "  </tbody>\n",
              "</table>\n",
              "</div>"
            ],
            "text/plain": [
              "      price  bedrooms  bathrooms  ...  sqft_lot15  basement  renovated\n",
              "0  221900.0         3       1.00  ...        5650         0          0\n",
              "1  538000.0         3       2.25  ...        7639         1          1\n",
              "2  180000.0         2       1.00  ...        8062         0          0\n",
              "3  604000.0         4       3.00  ...        5000         1          0\n",
              "4  510000.0         3       2.00  ...        7503         0          0\n",
              "\n",
              "[5 rows x 19 columns]"
            ]
          },
          "metadata": {
            "tags": []
          },
          "execution_count": 65
        }
      ]
    },
    {
      "cell_type": "code",
      "metadata": {
        "colab": {
          "base_uri": "https://localhost:8080/",
          "height": 246
        },
        "id": "KMqIN2IjFsyV",
        "outputId": "bf4b2c07-f57c-47ab-ad23-39f043b2154f"
      },
      "source": [
        "categorical_variables = ['waterfront', 'view', 'condition', 'grade', 'floors','zipcode']\n",
        "house_mlr = pd.get_dummies(house_mlr, columns = categorical_variables, drop_first=True)\n",
        "house_mlr.head()\n"
      ],
      "execution_count": 66,
      "outputs": [
        {
          "output_type": "execute_result",
          "data": {
            "text/html": [
              "<div>\n",
              "<style scoped>\n",
              "    .dataframe tbody tr th:only-of-type {\n",
              "        vertical-align: middle;\n",
              "    }\n",
              "\n",
              "    .dataframe tbody tr th {\n",
              "        vertical-align: top;\n",
              "    }\n",
              "\n",
              "    .dataframe thead th {\n",
              "        text-align: right;\n",
              "    }\n",
              "</style>\n",
              "<table border=\"1\" class=\"dataframe\">\n",
              "  <thead>\n",
              "    <tr style=\"text-align: right;\">\n",
              "      <th></th>\n",
              "      <th>price</th>\n",
              "      <th>bedrooms</th>\n",
              "      <th>bathrooms</th>\n",
              "      <th>sqft_living</th>\n",
              "      <th>sqft_lot</th>\n",
              "      <th>sqft_above</th>\n",
              "      <th>yr_built</th>\n",
              "      <th>lat</th>\n",
              "      <th>long</th>\n",
              "      <th>sqft_living15</th>\n",
              "      <th>sqft_lot15</th>\n",
              "      <th>basement</th>\n",
              "      <th>renovated</th>\n",
              "      <th>waterfront_1</th>\n",
              "      <th>view_1</th>\n",
              "      <th>view_2</th>\n",
              "      <th>view_3</th>\n",
              "      <th>view_4</th>\n",
              "      <th>condition_2</th>\n",
              "      <th>condition_3</th>\n",
              "      <th>condition_4</th>\n",
              "      <th>condition_5</th>\n",
              "      <th>grade_3</th>\n",
              "      <th>grade_4</th>\n",
              "      <th>grade_5</th>\n",
              "      <th>grade_6</th>\n",
              "      <th>grade_7</th>\n",
              "      <th>grade_8</th>\n",
              "      <th>grade_9</th>\n",
              "      <th>grade_10</th>\n",
              "      <th>grade_11</th>\n",
              "      <th>grade_12</th>\n",
              "      <th>grade_13</th>\n",
              "      <th>floors_1.5</th>\n",
              "      <th>floors_2.0</th>\n",
              "      <th>floors_2.5</th>\n",
              "      <th>floors_3.0</th>\n",
              "      <th>floors_3.5</th>\n",
              "      <th>zipcode_98002</th>\n",
              "      <th>zipcode_98003</th>\n",
              "      <th>...</th>\n",
              "      <th>zipcode_98055</th>\n",
              "      <th>zipcode_98056</th>\n",
              "      <th>zipcode_98058</th>\n",
              "      <th>zipcode_98059</th>\n",
              "      <th>zipcode_98065</th>\n",
              "      <th>zipcode_98070</th>\n",
              "      <th>zipcode_98072</th>\n",
              "      <th>zipcode_98074</th>\n",
              "      <th>zipcode_98075</th>\n",
              "      <th>zipcode_98077</th>\n",
              "      <th>zipcode_98092</th>\n",
              "      <th>zipcode_98102</th>\n",
              "      <th>zipcode_98103</th>\n",
              "      <th>zipcode_98105</th>\n",
              "      <th>zipcode_98106</th>\n",
              "      <th>zipcode_98107</th>\n",
              "      <th>zipcode_98108</th>\n",
              "      <th>zipcode_98109</th>\n",
              "      <th>zipcode_98112</th>\n",
              "      <th>zipcode_98115</th>\n",
              "      <th>zipcode_98116</th>\n",
              "      <th>zipcode_98117</th>\n",
              "      <th>zipcode_98118</th>\n",
              "      <th>zipcode_98119</th>\n",
              "      <th>zipcode_98122</th>\n",
              "      <th>zipcode_98125</th>\n",
              "      <th>zipcode_98126</th>\n",
              "      <th>zipcode_98133</th>\n",
              "      <th>zipcode_98136</th>\n",
              "      <th>zipcode_98144</th>\n",
              "      <th>zipcode_98146</th>\n",
              "      <th>zipcode_98148</th>\n",
              "      <th>zipcode_98155</th>\n",
              "      <th>zipcode_98166</th>\n",
              "      <th>zipcode_98168</th>\n",
              "      <th>zipcode_98177</th>\n",
              "      <th>zipcode_98178</th>\n",
              "      <th>zipcode_98188</th>\n",
              "      <th>zipcode_98198</th>\n",
              "      <th>zipcode_98199</th>\n",
              "    </tr>\n",
              "  </thead>\n",
              "  <tbody>\n",
              "    <tr>\n",
              "      <th>0</th>\n",
              "      <td>221900.0</td>\n",
              "      <td>3</td>\n",
              "      <td>1.00</td>\n",
              "      <td>1180</td>\n",
              "      <td>5650</td>\n",
              "      <td>1180</td>\n",
              "      <td>1955</td>\n",
              "      <td>47.5112</td>\n",
              "      <td>-122.257</td>\n",
              "      <td>1340</td>\n",
              "      <td>5650</td>\n",
              "      <td>0</td>\n",
              "      <td>0</td>\n",
              "      <td>0</td>\n",
              "      <td>0</td>\n",
              "      <td>0</td>\n",
              "      <td>0</td>\n",
              "      <td>0</td>\n",
              "      <td>0</td>\n",
              "      <td>1</td>\n",
              "      <td>0</td>\n",
              "      <td>0</td>\n",
              "      <td>0</td>\n",
              "      <td>0</td>\n",
              "      <td>0</td>\n",
              "      <td>0</td>\n",
              "      <td>1</td>\n",
              "      <td>0</td>\n",
              "      <td>0</td>\n",
              "      <td>0</td>\n",
              "      <td>0</td>\n",
              "      <td>0</td>\n",
              "      <td>0</td>\n",
              "      <td>0</td>\n",
              "      <td>0</td>\n",
              "      <td>0</td>\n",
              "      <td>0</td>\n",
              "      <td>0</td>\n",
              "      <td>0</td>\n",
              "      <td>0</td>\n",
              "      <td>...</td>\n",
              "      <td>0</td>\n",
              "      <td>0</td>\n",
              "      <td>0</td>\n",
              "      <td>0</td>\n",
              "      <td>0</td>\n",
              "      <td>0</td>\n",
              "      <td>0</td>\n",
              "      <td>0</td>\n",
              "      <td>0</td>\n",
              "      <td>0</td>\n",
              "      <td>0</td>\n",
              "      <td>0</td>\n",
              "      <td>0</td>\n",
              "      <td>0</td>\n",
              "      <td>0</td>\n",
              "      <td>0</td>\n",
              "      <td>0</td>\n",
              "      <td>0</td>\n",
              "      <td>0</td>\n",
              "      <td>0</td>\n",
              "      <td>0</td>\n",
              "      <td>0</td>\n",
              "      <td>0</td>\n",
              "      <td>0</td>\n",
              "      <td>0</td>\n",
              "      <td>0</td>\n",
              "      <td>0</td>\n",
              "      <td>0</td>\n",
              "      <td>0</td>\n",
              "      <td>0</td>\n",
              "      <td>0</td>\n",
              "      <td>0</td>\n",
              "      <td>0</td>\n",
              "      <td>0</td>\n",
              "      <td>0</td>\n",
              "      <td>0</td>\n",
              "      <td>1</td>\n",
              "      <td>0</td>\n",
              "      <td>0</td>\n",
              "      <td>0</td>\n",
              "    </tr>\n",
              "    <tr>\n",
              "      <th>1</th>\n",
              "      <td>538000.0</td>\n",
              "      <td>3</td>\n",
              "      <td>2.25</td>\n",
              "      <td>2570</td>\n",
              "      <td>7242</td>\n",
              "      <td>2170</td>\n",
              "      <td>1951</td>\n",
              "      <td>47.7210</td>\n",
              "      <td>-122.319</td>\n",
              "      <td>1690</td>\n",
              "      <td>7639</td>\n",
              "      <td>1</td>\n",
              "      <td>1</td>\n",
              "      <td>0</td>\n",
              "      <td>0</td>\n",
              "      <td>0</td>\n",
              "      <td>0</td>\n",
              "      <td>0</td>\n",
              "      <td>0</td>\n",
              "      <td>1</td>\n",
              "      <td>0</td>\n",
              "      <td>0</td>\n",
              "      <td>0</td>\n",
              "      <td>0</td>\n",
              "      <td>0</td>\n",
              "      <td>0</td>\n",
              "      <td>1</td>\n",
              "      <td>0</td>\n",
              "      <td>0</td>\n",
              "      <td>0</td>\n",
              "      <td>0</td>\n",
              "      <td>0</td>\n",
              "      <td>0</td>\n",
              "      <td>0</td>\n",
              "      <td>1</td>\n",
              "      <td>0</td>\n",
              "      <td>0</td>\n",
              "      <td>0</td>\n",
              "      <td>0</td>\n",
              "      <td>0</td>\n",
              "      <td>...</td>\n",
              "      <td>0</td>\n",
              "      <td>0</td>\n",
              "      <td>0</td>\n",
              "      <td>0</td>\n",
              "      <td>0</td>\n",
              "      <td>0</td>\n",
              "      <td>0</td>\n",
              "      <td>0</td>\n",
              "      <td>0</td>\n",
              "      <td>0</td>\n",
              "      <td>0</td>\n",
              "      <td>0</td>\n",
              "      <td>0</td>\n",
              "      <td>0</td>\n",
              "      <td>0</td>\n",
              "      <td>0</td>\n",
              "      <td>0</td>\n",
              "      <td>0</td>\n",
              "      <td>0</td>\n",
              "      <td>0</td>\n",
              "      <td>0</td>\n",
              "      <td>0</td>\n",
              "      <td>0</td>\n",
              "      <td>0</td>\n",
              "      <td>0</td>\n",
              "      <td>1</td>\n",
              "      <td>0</td>\n",
              "      <td>0</td>\n",
              "      <td>0</td>\n",
              "      <td>0</td>\n",
              "      <td>0</td>\n",
              "      <td>0</td>\n",
              "      <td>0</td>\n",
              "      <td>0</td>\n",
              "      <td>0</td>\n",
              "      <td>0</td>\n",
              "      <td>0</td>\n",
              "      <td>0</td>\n",
              "      <td>0</td>\n",
              "      <td>0</td>\n",
              "    </tr>\n",
              "    <tr>\n",
              "      <th>2</th>\n",
              "      <td>180000.0</td>\n",
              "      <td>2</td>\n",
              "      <td>1.00</td>\n",
              "      <td>770</td>\n",
              "      <td>10000</td>\n",
              "      <td>770</td>\n",
              "      <td>1933</td>\n",
              "      <td>47.7379</td>\n",
              "      <td>-122.233</td>\n",
              "      <td>2720</td>\n",
              "      <td>8062</td>\n",
              "      <td>0</td>\n",
              "      <td>0</td>\n",
              "      <td>0</td>\n",
              "      <td>0</td>\n",
              "      <td>0</td>\n",
              "      <td>0</td>\n",
              "      <td>0</td>\n",
              "      <td>0</td>\n",
              "      <td>1</td>\n",
              "      <td>0</td>\n",
              "      <td>0</td>\n",
              "      <td>0</td>\n",
              "      <td>0</td>\n",
              "      <td>0</td>\n",
              "      <td>1</td>\n",
              "      <td>0</td>\n",
              "      <td>0</td>\n",
              "      <td>0</td>\n",
              "      <td>0</td>\n",
              "      <td>0</td>\n",
              "      <td>0</td>\n",
              "      <td>0</td>\n",
              "      <td>0</td>\n",
              "      <td>0</td>\n",
              "      <td>0</td>\n",
              "      <td>0</td>\n",
              "      <td>0</td>\n",
              "      <td>0</td>\n",
              "      <td>0</td>\n",
              "      <td>...</td>\n",
              "      <td>0</td>\n",
              "      <td>0</td>\n",
              "      <td>0</td>\n",
              "      <td>0</td>\n",
              "      <td>0</td>\n",
              "      <td>0</td>\n",
              "      <td>0</td>\n",
              "      <td>0</td>\n",
              "      <td>0</td>\n",
              "      <td>0</td>\n",
              "      <td>0</td>\n",
              "      <td>0</td>\n",
              "      <td>0</td>\n",
              "      <td>0</td>\n",
              "      <td>0</td>\n",
              "      <td>0</td>\n",
              "      <td>0</td>\n",
              "      <td>0</td>\n",
              "      <td>0</td>\n",
              "      <td>0</td>\n",
              "      <td>0</td>\n",
              "      <td>0</td>\n",
              "      <td>0</td>\n",
              "      <td>0</td>\n",
              "      <td>0</td>\n",
              "      <td>0</td>\n",
              "      <td>0</td>\n",
              "      <td>0</td>\n",
              "      <td>0</td>\n",
              "      <td>0</td>\n",
              "      <td>0</td>\n",
              "      <td>0</td>\n",
              "      <td>0</td>\n",
              "      <td>0</td>\n",
              "      <td>0</td>\n",
              "      <td>0</td>\n",
              "      <td>0</td>\n",
              "      <td>0</td>\n",
              "      <td>0</td>\n",
              "      <td>0</td>\n",
              "    </tr>\n",
              "    <tr>\n",
              "      <th>3</th>\n",
              "      <td>604000.0</td>\n",
              "      <td>4</td>\n",
              "      <td>3.00</td>\n",
              "      <td>1960</td>\n",
              "      <td>5000</td>\n",
              "      <td>1050</td>\n",
              "      <td>1965</td>\n",
              "      <td>47.5208</td>\n",
              "      <td>-122.393</td>\n",
              "      <td>1360</td>\n",
              "      <td>5000</td>\n",
              "      <td>1</td>\n",
              "      <td>0</td>\n",
              "      <td>0</td>\n",
              "      <td>0</td>\n",
              "      <td>0</td>\n",
              "      <td>0</td>\n",
              "      <td>0</td>\n",
              "      <td>0</td>\n",
              "      <td>0</td>\n",
              "      <td>0</td>\n",
              "      <td>1</td>\n",
              "      <td>0</td>\n",
              "      <td>0</td>\n",
              "      <td>0</td>\n",
              "      <td>0</td>\n",
              "      <td>1</td>\n",
              "      <td>0</td>\n",
              "      <td>0</td>\n",
              "      <td>0</td>\n",
              "      <td>0</td>\n",
              "      <td>0</td>\n",
              "      <td>0</td>\n",
              "      <td>0</td>\n",
              "      <td>0</td>\n",
              "      <td>0</td>\n",
              "      <td>0</td>\n",
              "      <td>0</td>\n",
              "      <td>0</td>\n",
              "      <td>0</td>\n",
              "      <td>...</td>\n",
              "      <td>0</td>\n",
              "      <td>0</td>\n",
              "      <td>0</td>\n",
              "      <td>0</td>\n",
              "      <td>0</td>\n",
              "      <td>0</td>\n",
              "      <td>0</td>\n",
              "      <td>0</td>\n",
              "      <td>0</td>\n",
              "      <td>0</td>\n",
              "      <td>0</td>\n",
              "      <td>0</td>\n",
              "      <td>0</td>\n",
              "      <td>0</td>\n",
              "      <td>0</td>\n",
              "      <td>0</td>\n",
              "      <td>0</td>\n",
              "      <td>0</td>\n",
              "      <td>0</td>\n",
              "      <td>0</td>\n",
              "      <td>0</td>\n",
              "      <td>0</td>\n",
              "      <td>0</td>\n",
              "      <td>0</td>\n",
              "      <td>0</td>\n",
              "      <td>0</td>\n",
              "      <td>0</td>\n",
              "      <td>0</td>\n",
              "      <td>1</td>\n",
              "      <td>0</td>\n",
              "      <td>0</td>\n",
              "      <td>0</td>\n",
              "      <td>0</td>\n",
              "      <td>0</td>\n",
              "      <td>0</td>\n",
              "      <td>0</td>\n",
              "      <td>0</td>\n",
              "      <td>0</td>\n",
              "      <td>0</td>\n",
              "      <td>0</td>\n",
              "    </tr>\n",
              "    <tr>\n",
              "      <th>4</th>\n",
              "      <td>510000.0</td>\n",
              "      <td>3</td>\n",
              "      <td>2.00</td>\n",
              "      <td>1680</td>\n",
              "      <td>8080</td>\n",
              "      <td>1680</td>\n",
              "      <td>1987</td>\n",
              "      <td>47.6168</td>\n",
              "      <td>-122.045</td>\n",
              "      <td>1800</td>\n",
              "      <td>7503</td>\n",
              "      <td>0</td>\n",
              "      <td>0</td>\n",
              "      <td>0</td>\n",
              "      <td>0</td>\n",
              "      <td>0</td>\n",
              "      <td>0</td>\n",
              "      <td>0</td>\n",
              "      <td>0</td>\n",
              "      <td>1</td>\n",
              "      <td>0</td>\n",
              "      <td>0</td>\n",
              "      <td>0</td>\n",
              "      <td>0</td>\n",
              "      <td>0</td>\n",
              "      <td>0</td>\n",
              "      <td>0</td>\n",
              "      <td>1</td>\n",
              "      <td>0</td>\n",
              "      <td>0</td>\n",
              "      <td>0</td>\n",
              "      <td>0</td>\n",
              "      <td>0</td>\n",
              "      <td>0</td>\n",
              "      <td>0</td>\n",
              "      <td>0</td>\n",
              "      <td>0</td>\n",
              "      <td>0</td>\n",
              "      <td>0</td>\n",
              "      <td>0</td>\n",
              "      <td>...</td>\n",
              "      <td>0</td>\n",
              "      <td>0</td>\n",
              "      <td>0</td>\n",
              "      <td>0</td>\n",
              "      <td>0</td>\n",
              "      <td>0</td>\n",
              "      <td>0</td>\n",
              "      <td>1</td>\n",
              "      <td>0</td>\n",
              "      <td>0</td>\n",
              "      <td>0</td>\n",
              "      <td>0</td>\n",
              "      <td>0</td>\n",
              "      <td>0</td>\n",
              "      <td>0</td>\n",
              "      <td>0</td>\n",
              "      <td>0</td>\n",
              "      <td>0</td>\n",
              "      <td>0</td>\n",
              "      <td>0</td>\n",
              "      <td>0</td>\n",
              "      <td>0</td>\n",
              "      <td>0</td>\n",
              "      <td>0</td>\n",
              "      <td>0</td>\n",
              "      <td>0</td>\n",
              "      <td>0</td>\n",
              "      <td>0</td>\n",
              "      <td>0</td>\n",
              "      <td>0</td>\n",
              "      <td>0</td>\n",
              "      <td>0</td>\n",
              "      <td>0</td>\n",
              "      <td>0</td>\n",
              "      <td>0</td>\n",
              "      <td>0</td>\n",
              "      <td>0</td>\n",
              "      <td>0</td>\n",
              "      <td>0</td>\n",
              "      <td>0</td>\n",
              "    </tr>\n",
              "  </tbody>\n",
              "</table>\n",
              "<p>5 rows × 107 columns</p>\n",
              "</div>"
            ],
            "text/plain": [
              "      price  bedrooms  bathrooms  ...  zipcode_98188  zipcode_98198  zipcode_98199\n",
              "0  221900.0         3       1.00  ...              0              0              0\n",
              "1  538000.0         3       2.25  ...              0              0              0\n",
              "2  180000.0         2       1.00  ...              0              0              0\n",
              "3  604000.0         4       3.00  ...              0              0              0\n",
              "4  510000.0         3       2.00  ...              0              0              0\n",
              "\n",
              "[5 rows x 107 columns]"
            ]
          },
          "metadata": {
            "tags": []
          },
          "execution_count": 66
        }
      ]
    },
    {
      "cell_type": "markdown",
      "metadata": {
        "id": "TrFkt81bLWQn"
      },
      "source": [
        "# The categorical variables are converted to numeric ones using one-hot encoding.\n",
        "\n",
        "One-hot encoding converts categorical variables to numeric ones. Simply put, it adds new columns to the dataset with 0 or assigned depending on the value of the categorical variable, as shown in the following:"
      ]
    },
    {
      "cell_type": "code",
      "metadata": {
        "colab": {
          "base_uri": "https://localhost:8080/"
        },
        "id": "PSLFVDRfI1lh",
        "outputId": "a3a511de-d7c9-4f85-ac6a-7a5b032588e1"
      },
      "source": [
        "X = house_mlr.iloc[:, 1:].values\n",
        "y = house_mlr.iloc[:, 0].values\n",
        "from sklearn.model_selection import train_test_split\n",
        "X_train, X_test, y_train, y_test = train_test_split(X, y, test_size = 0.25, random_state = 5)\n",
        "from sklearn.linear_model import LinearRegression\n",
        "multiple_regression = LinearRegression()\n",
        "multiple_regression.fit(X_train, y_train)"
      ],
      "execution_count": 68,
      "outputs": [
        {
          "output_type": "execute_result",
          "data": {
            "text/plain": [
              "LinearRegression(copy_X=True, fit_intercept=True, n_jobs=None, normalize=False)"
            ]
          },
          "metadata": {
            "tags": []
          },
          "execution_count": 68
        }
      ]
    },
    {
      "cell_type": "code",
      "metadata": {
        "id": "tYze7kLKMDIm"
      },
      "source": [
        "y_pred = multiple_regression.predict(X_test)"
      ],
      "execution_count": 69,
      "outputs": []
    },
    {
      "cell_type": "code",
      "metadata": {
        "colab": {
          "base_uri": "https://localhost:8080/"
        },
        "id": "porDzsCbOKEe",
        "outputId": "8c9c6184-fe21-4549-d043-34cc0bb90ace"
      },
      "source": [
        "from sklearn.metrics import mean_squared_error\n",
        "from math import sqrt\n",
        "rmse = sqrt(mean_squared_error(y_test, y_pred))\n",
        "from sklearn.metrics import r2_score\n",
        "r2 = r2_score(y_test, y_pred)\n",
        "adj_r2 = 1 - float(len(y)-1)/(len(y)-len(multiple_regression.coef_)-1)*(1 - r2)\n",
        "rmse, r2, adj_r2"
      ],
      "execution_count": 70,
      "outputs": [
        {
          "output_type": "execute_result",
          "data": {
            "text/plain": [
              "(147274.98522605025, 0.8366403242153613, 0.8358351477235371)"
            ]
          },
          "metadata": {
            "tags": []
          },
          "execution_count": 70
        }
      ]
    },
    {
      "cell_type": "markdown",
      "metadata": {
        "id": "7l_R5MNHOlsa"
      },
      "source": [
        "# **The steps used in this example can be extended to any example where we want to predict a continuous variable. In this problem, we have predicted the value of a continuous variable but we have not selected the significant variables from the list of available variables. Significant variables are the ones which are more important than other independent variables in making the predictions. There are multiple ways to shortlist the variables.**"
      ]
    },
    {
      "cell_type": "code",
      "metadata": {
        "id": "LocEv3ZkOPhR"
      },
      "source": [
        ""
      ],
      "execution_count": null,
      "outputs": []
    }
  ]
}